{
 "cells": [
  {
   "cell_type": "code",
   "execution_count": null,
   "metadata": {},
   "outputs": [],
   "source": [
    "from io import StringIO\n",
    "import json\n",
    "import numpy as np\n",
    "import pandas as pd\n",
    "import pandasdmx as pdsdmx\n",
    "import re\n",
    "import requests"
   ]
  },
  {
   "cell_type": "code",
   "execution_count": null,
   "metadata": {},
   "outputs": [],
   "source": [
    "# API headers (compress response)\n",
    "comp_head = {\"Accept-Encoding\": \"gzip\"}\n",
    "# call to Unicef WH\n",
    "Unicef = pdsdmx.Request(\"UNICEF\", backend=\"memory\", headers=comp_head)\n",
    "\n",
    "agency = \"BRAZIL_CO\"\n",
    "# dataflow\n",
    "dfd = \"BRAZIL_CO\"\n",
    "dsd_name = f\"DSD_{agency}\"\n",
    "# call to DSD\n",
    "Dsd_db = Unicef.datastructure(dsd_name, provider=agency)\n",
    "\n",
    "# indicators dictionary in DSD response: components position 1\n",
    "db_indicators = (\n",
    "    Dsd_db.structure[dsd_name].dimensions.components[1]\n",
    "    .local_representation.enumerated.items\n",
    ")\n",
    "# code to label access as:\n",
    "# tm_indicators[code].name.localizations[\"en\"]"
   ]
  },
  {
   "cell_type": "code",
   "execution_count": null,
   "metadata": {},
   "outputs": [],
   "source": [
    "unicef_api_url = \"https://sdmx.data.unicef.org/ws/public/sdmxapi/rest/data/\"\n",
    "rest_param = {\n",
    "    \"detail\": \"serieskeysonly\",\n",
    "    \"format\": \"sdmx-csv\",\n",
    "    \"labels\": \"id\",\n",
    "}\n",
    "# rest_head = {\n",
    "#     **comp_head,\n",
    "#     \"Accept\": \"application/vnd.sdmx.data+csv;version=1.0.0\",\n",
    "# }\n",
    "\n",
    "# db dimensions\n",
    "db_dim = [\"AGE\", \"EDUCATION_LEVEL\"]"
   ]
  },
  {
   "cell_type": "code",
   "execution_count": null,
   "metadata": {},
   "outputs": [],
   "source": [
    "# loop on indicators\n",
    "ind_query_dict = {}\n",
    "for key in db_indicators:\n",
    "    ind_keys = requests.get(\n",
    "        url=f\"{unicef_api_url}/{agency},{dfd}/.{key}..\",\n",
    "        params=rest_param,\n",
    "        headers=comp_head,\n",
    "    )\n",
    "    \n",
    "    # requests satisfactory\n",
    "    if ind_keys.status_code == 200:\n",
    "        keys_df = pd.read_csv(StringIO(ind_keys.text))\n",
    "        # disagg\n",
    "        disagg = [dim for dim in db_dim if len(keys_df[dim].unique()) > 1]\n",
    "\n",
    "        if not disagg:\n",
    "            ind_query_dict[key] = {\"TOTAL\": \".\"}\n",
    "\n",
    "        else:\n",
    "            keys_in_disagg = {dim: keys_df[dim].unique() for dim in disagg}\n",
    "            \n",
    "            # total codes if present in disaggregation else first selection\n",
    "            total_not_in_disagg = {\n",
    "                dim: \"_T\" not in keys_in_disagg[dim] for dim in disagg\n",
    "            }\n",
    "            total_codes = {\n",
    "                dim: (keys_in_disagg[dim][0] if total_not_in_disagg[dim] else \"_T\")\n",
    "                for dim in disagg\n",
    "            }\n",
    "\n",
    "            # use actual disaggregation in query\n",
    "            ind_query_dict[key] = {\n",
    "                dim_disagg: \".\".join(\n",
    "                    [\n",
    "                        (\n",
    "                            \"+\".join(keys_in_disagg[dim])\n",
    "                            if dim == dim_disagg\n",
    "                            else total_codes[dim]\n",
    "                        ) if dim in disagg else \"\"\n",
    "                        for dim in db_dim\n",
    "                    ]\n",
    "                )\n",
    "                for dim_disagg in disagg\n",
    "            }\n",
    "\n",
    "            # total if disaggregation query\n",
    "            ind_query_dict[key].update({\n",
    "                \"TOTAL\": \".\".join([\n",
    "                    total_codes[dim] if dim in disagg else \"\" for dim in db_dim\n",
    "                ])\n",
    "            })"
   ]
  },
  {
   "cell_type": "code",
   "execution_count": null,
   "metadata": {},
   "outputs": [],
   "source": [
    "with open('config_query.json', 'w') as file_write:\n",
    "    json.dump(ind_query_dict, indent=4, sort_keys=True, fp=file_write)\n",
    "# print(json.dumps(ind_query_dict, indent=4, sort_keys=True))"
   ]
  },
  {
   "cell_type": "code",
   "execution_count": null,
   "metadata": {},
   "outputs": [],
   "source": [
    "# reshape config query json file\n",
    "config_query_ind = {}\n",
    "for key in ind_query_dict:\n",
    "    if not((\"TOTAL\" in ind_query_dict[key]) and (ind_query_dict[key][\"TOTAL\"] == \".\")):\n",
    "        config_query_ind[key] = {\n",
    "            dim_disagg: {\n",
    "                dim: ind_query_dict[key][dim_disagg].split(\".\")[i].split(\"+\")\n",
    "                for i, dim in enumerate(db_dim)\n",
    "                if ind_query_dict[key][dim_disagg].split(\".\")[i] != \"\"\n",
    "            }\n",
    "            for dim_disagg in ind_query_dict[key]\n",
    "        }"
   ]
  },
  {
   "cell_type": "code",
   "execution_count": null,
   "metadata": {},
   "outputs": [],
   "source": [
    "with open('config_query_ind.json', 'w') as file_write:\n",
    "    json.dump(config_query_ind, indent=4, sort_keys=True, fp=file_write)"
   ]
  }
 ],
 "metadata": {
  "interpreter": {
   "hash": "949777d72b0d2535278d3dc13498b2535136f6dfe0678499012e853ee9abcab1"
  },
  "kernelspec": {
   "display_name": "Python 3.8.5 64-bit",
   "language": "python",
   "name": "python3"
  },
  "language_info": {
   "codemirror_mode": {
    "name": "ipython",
    "version": 3
   },
   "file_extension": ".py",
   "mimetype": "text/x-python",
   "name": "python",
   "nbconvert_exporter": "python",
   "pygments_lexer": "ipython3",
   "version": "3.9.12"
  },
  "orig_nbformat": 4
 },
 "nbformat": 4,
 "nbformat_minor": 2
}
