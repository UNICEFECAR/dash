{
 "cells": [
  {
   "cell_type": "code",
   "execution_count": null,
   "metadata": {},
   "outputs": [],
   "source": [
    "import pandas as pd"
   ]
  },
  {
   "cell_type": "code",
   "execution_count": null,
   "metadata": {},
   "outputs": [],
   "source": [
    "# unicef data WH\n",
    "wh_url = \"https://sdmx.data.unicef.org/ws/public/sdmxapi/rest/data/\"\n",
    "dataflow = \"TRANSMONEE/\""
   ]
  },
  {
   "cell_type": "code",
   "execution_count": null,
   "metadata": {},
   "outputs": [],
   "source": [
    "# indicators pulled\n",
    "ind_list = [\n",
    "    \"EDUNF_OFST_L1T3\",\n",
    "    \"EDUNF_ROFST_L1T3\",\n",
    "    \"EDUNF_SAP_L1T3\",\n",
    "    \"EDUNF_OFST_L1_UNDER1\",\n",
    "    \"EDUNF_OFST_L1\",\n",
    "    \"EDUNF_OFST_L2\",\n",
    "    \"EDUNF_OFST_L3\",\n",
    "    \"EDUNF_NER_L02\",\n",
    "    \"EDUNF_SAP_L02\",\n",
    "    \"EDUNF_CR_L2\",\n",
    "    \"EDUNF_SAP_L2\",\n",
    "    \"EDUNF_ESL_L1\",\n",
    "    \"EDUNF_RPTR_L1\",\n",
    "    \"EDUNF_RPTR_L2\",\n",
    "    \"EDUNF_ADMIN_L1_GLAST_REA\",\n",
    "    \"EDUNF_ADMIN_L1_GLAST_MAT\",\n",
    "    \"EDU_PISA_MAT\",\n",
    "    \"EDU_PISA_REA\",\n",
    "    \"EDU_PISA_SCI\",\n",
    "    \"EDU_SDG_FREE_EDU_L02\",\n",
    "    \"EDUNF_STU_L1_PRV\",\n",
    "    \"EDUNF_STU_L2_PRV\",\n",
    "    \"EDUNF_STU_L3_PRV\",\n",
    "    \"EDUNF_TEACH_L1\",\n",
    "    \"EDUNF_TEACH_L2\",\n",
    "    \"EDUNF_TEACH_L3\",\n",
    "]"
   ]
  },
  {
   "cell_type": "code",
   "execution_count": null,
   "metadata": {},
   "outputs": [],
   "source": [
    "# query SDMX with pandas\n",
    "query_key = \".{}....\".format(\"+\".join(ind_list))\n",
    "data = pd.read_csv(wh_url + dataflow + query_key + \"?format=csv\")"
   ]
  },
  {
   "cell_type": "code",
   "execution_count": null,
   "metadata": {},
   "outputs": [],
   "source": [
    "# set countries and period\n",
    "countries = [\"Armenia\", \"Azerbaijan\", \"Georgia\"]\n",
    "time = list(range(2008,2021))\n",
    "total_code = [\"_T\"]"
   ]
  },
  {
   "cell_type": "code",
   "execution_count": null,
   "metadata": {},
   "outputs": [],
   "source": [
    "# calculation single numerator\n",
    "numerator = [\"EDUNF_OFST_L1T3\"]\n",
    "denominator = [\"EDUNF_SAP_L1T3\"]"
   ]
  },
  {
   "cell_type": "code",
   "execution_count": null,
   "metadata": {},
   "outputs": [],
   "source": [
    "query = (\n",
    "        \"INDICATOR in @ind_to_query & TIME_PERIOD in @time & `Geographic area` in @countries & SEX in @total_code \\\n",
    "& RESIDENCE in @total_code & WEALTH_QUINTILE in @total_code\"\n",
    "    )"
   ]
  },
  {
   "cell_type": "code",
   "execution_count": null,
   "metadata": {
    "scrolled": false
   },
   "outputs": [],
   "source": [
    "ind_to_query = numerator\n",
    "numerators_df = data.query(query).groupby(\n",
    "    [\n",
    "        \"INDICATOR\",\n",
    "        \"Indicator\",\n",
    "        \"Geographic area\"\n",
    "    ]\n",
    ").agg(\n",
    "    {\"TIME_PERIOD\": \"last\", \"OBS_VALUE\": \"last\"}\n",
    ").reset_index().set_index([\"Geographic area\", \"TIME_PERIOD\"])\n",
    "numerators_df"
   ]
  },
  {
   "cell_type": "code",
   "execution_count": null,
   "metadata": {},
   "outputs": [],
   "source": [
    "# select the denominators and set them with numerator compound-index\n",
    "ind_to_query = denominator\n",
    "denominators_df = data.query(query).set_index([\"Geographic area\", \"TIME_PERIOD\"])\n",
    "# match denominators and numerators compound-index\n",
    "den_match_df = denominators_df[\n",
    "    denominators_df.index.isin(numerators_df.index)\n",
    "][[\"INDICATOR\", \"Indicator\", \"OBS_VALUE\"]]\n",
    "den_match_df"
   ]
  },
  {
   "cell_type": "code",
   "execution_count": null,
   "metadata": {},
   "outputs": [],
   "source": [
    "# join numerators denominators with nan drops (missmatches)\n",
    "num_den_not_nan = numerators_df.merge(\n",
    "    den_match_df, on=[\"Geographic area\", \"TIME_PERIOD\"], how=\"left\", sort=False\n",
    ").dropna(subset=[\"OBS_VALUE_y\"])\n",
    "num_den_not_nan"
   ]
  },
  {
   "cell_type": "code",
   "execution_count": null,
   "metadata": {},
   "outputs": [],
   "source": [
    "print((29523.0+32589.0+11266.0) / (413525.0 + 1637373.0 + 574212.0)*100)"
   ]
  },
  {
   "cell_type": "code",
   "execution_count": null,
   "metadata": {},
   "outputs": [],
   "source": [
    "# calculation with join\n",
    "round(num_den_not_nan[\"OBS_VALUE_x\"].sum()/num_den_not_nan[\"OBS_VALUE_y\"].sum()*100,1)"
   ]
  },
  {
   "cell_type": "code",
   "execution_count": null,
   "metadata": {},
   "outputs": [],
   "source": [
    "ind_intersect = denominators_df.index.intersection(numerators_df.index)\n",
    "ind_intersect"
   ]
  },
  {
   "cell_type": "code",
   "execution_count": null,
   "metadata": {},
   "outputs": [],
   "source": [
    "# calculation without join\n",
    "round(numerators_df.loc[ind_intersect][\"OBS_VALUE\"].sum()/denominators_df.loc[ind_intersect][\"OBS_VALUE\"].sum()*100,1)"
   ]
  },
  {
   "cell_type": "code",
   "execution_count": null,
   "metadata": {},
   "outputs": [],
   "source": [
    "# calculation single numerator\n",
    "numerator = [\"EDUNF_OFST_L1_UNDER1\"]\n",
    "ind_to_query = numerator\n",
    "numerators_df = data.query(query).groupby(\n",
    "    [\n",
    "        \"INDICATOR\",\n",
    "        \"Indicator\",\n",
    "        \"Geographic area\"\n",
    "    ]\n",
    ").agg(\n",
    "    {\"TIME_PERIOD\": \"last\", \"OBS_VALUE\": \"last\"}\n",
    ").reset_index().set_index([\"Geographic area\", \"TIME_PERIOD\"])\n",
    "numerators_df"
   ]
  },
  {
   "cell_type": "code",
   "execution_count": null,
   "metadata": {},
   "outputs": [],
   "source": [
    "# calculation single numerator\n",
    "numerator = [\"EDUNF_ESL_L1\"]\n",
    "ind_to_query = numerator\n",
    "numerators_df = data.query(query).groupby(\n",
    "    [\n",
    "        \"INDICATOR\",\n",
    "        \"Indicator\",\n",
    "        \"Geographic area\"\n",
    "    ]\n",
    ").agg(\n",
    "    {\"TIME_PERIOD\": \"last\", \"OBS_VALUE\": \"last\"}\n",
    ").reset_index().set_index([\"Geographic area\", \"TIME_PERIOD\"])\n",
    "numerators_df"
   ]
  },
  {
   "cell_type": "code",
   "execution_count": null,
   "metadata": {},
   "outputs": [],
   "source": [
    "# calculation single numerator\n",
    "numerator = [\"EDUNF_ADMIN_L1_GLAST_REA\"]\n",
    "ind_to_query = numerator\n",
    "numerators_df = data.query(query).groupby(\n",
    "    [\n",
    "        \"INDICATOR\",\n",
    "        \"Indicator\",\n",
    "        \"Geographic area\"\n",
    "    ]\n",
    ").agg(\n",
    "    {\"TIME_PERIOD\": \"last\", \"OBS_VALUE\": \"last\"}\n",
    ").reset_index().set_index([\"Geographic area\", \"TIME_PERIOD\"])\n",
    "numerators_df"
   ]
  },
  {
   "cell_type": "code",
   "execution_count": null,
   "metadata": {},
   "outputs": [],
   "source": [
    "# calculation single numerator\n",
    "numerator = [\"EDUNF_ADMIN_L1_GLAST_MAT\"]\n",
    "ind_to_query = numerator\n",
    "numerators_df = data.query(query).groupby(\n",
    "    [\n",
    "        \"INDICATOR\",\n",
    "        \"Indicator\",\n",
    "        \"Geographic area\"\n",
    "    ]\n",
    ").agg(\n",
    "    {\"TIME_PERIOD\": \"last\", \"OBS_VALUE\": \"last\"}\n",
    ").reset_index().set_index([\"Geographic area\", \"TIME_PERIOD\"])\n",
    "numerators_df"
   ]
  },
  {
   "cell_type": "code",
   "execution_count": null,
   "metadata": {},
   "outputs": [],
   "source": [
    "# calculation single numerator\n",
    "numerator = [\"EDU_SDG_FREE_EDU_L02\"]\n",
    "ind_to_query = numerator\n",
    "numerators_df = data.query(query).groupby(\n",
    "    [\n",
    "        \"INDICATOR\",\n",
    "        \"Indicator\",\n",
    "        \"Geographic area\"\n",
    "    ]\n",
    ").agg(\n",
    "    {\"TIME_PERIOD\": \"last\", \"OBS_VALUE\": \"last\"}\n",
    ").reset_index().set_index([\"Geographic area\", \"TIME_PERIOD\"])\n",
    "numerators_df"
   ]
  },
  {
   "cell_type": "code",
   "execution_count": null,
   "metadata": {},
   "outputs": [],
   "source": [
    "# calculation with a \"pack\" of numerators\n",
    "numerator = [\"EDUNF_OFST_L1\", \"EDUNF_OFST_L2\", \"EDUNF_OFST_L3\"]\n",
    "ind_to_query = numerator\n",
    "numerators_df = data.query(query).groupby(\n",
    "    [\n",
    "        \"Geographic area\",\n",
    "        \"TIME_PERIOD\"\n",
    "    ]\n",
    ").agg(\n",
    "    {\"OBS_VALUE\": \"sum\", \"DATA_SOURCE\": \"count\"}\n",
    ").reset_index()\n",
    "numerator_pairs = numerators_df[numerators_df.DATA_SOURCE == len(ind_to_query)].groupby(\n",
    "    \"Geographic area\", as_index=False\n",
    ").last().set_index([\"Geographic area\", \"TIME_PERIOD\"])\n",
    "numerator_pairs"
   ]
  },
  {
   "cell_type": "code",
   "execution_count": null,
   "metadata": {},
   "outputs": [],
   "source": [
    "# regional average using \"pack\" of numerators and one denominator\n",
    "round(numerator_pairs.loc[ind_intersect][\"OBS_VALUE\"].sum() / \n",
    "      denominators_df.loc[ind_intersect][\"OBS_VALUE\"].sum()*100,1)"
   ]
  },
  {
   "cell_type": "code",
   "execution_count": null,
   "metadata": {},
   "outputs": [],
   "source": [
    "# calculation with a \"pack\" of numerators (REDONE FOR SEX FEMALE)\n",
    "sex_code = [\"F\"]\n",
    "query = (\n",
    "        \"INDICATOR in @ind_to_query & TIME_PERIOD in @time & `Geographic area` in @countries & SEX in @sex_code \\\n",
    "& RESIDENCE in @total_code & WEALTH_QUINTILE in @total_code\"\n",
    "    )\n",
    "numerator = [\"EDUNF_OFST_L1\", \"EDUNF_OFST_L2\", \"EDUNF_OFST_L3\"]\n",
    "ind_to_query = numerator\n",
    "numerators_df = data.query(query).groupby(\n",
    "    [\n",
    "        \"Geographic area\",\n",
    "        \"TIME_PERIOD\"\n",
    "    ]\n",
    ").agg(\n",
    "    {\"OBS_VALUE\": \"sum\", \"DATA_SOURCE\": \"count\"}\n",
    ").reset_index()\n",
    "numerator_pairs = numerators_df[numerators_df.DATA_SOURCE == len(ind_to_query)].groupby(\n",
    "    \"Geographic area\", as_index=False\n",
    ").last().set_index([\"Geographic area\", \"TIME_PERIOD\"])\n",
    "numerator_pairs"
   ]
  },
  {
   "cell_type": "code",
   "execution_count": null,
   "metadata": {},
   "outputs": [],
   "source": [
    "# calculation with a \"pack\" of numerators (repeaters)\n",
    "sex_code = [\"_T\"]\n",
    "numerator = [\"EDUNF_RPTR_L1\",\"EDUNF_RPTR_L2\"]\n",
    "ind_to_query = numerator\n",
    "numerators_df = data.query(query).groupby(\n",
    "    [\n",
    "        \"Geographic area\",\n",
    "        \"TIME_PERIOD\"\n",
    "    ]\n",
    ").agg(\n",
    "    {\"OBS_VALUE\": \"sum\", \"DATA_SOURCE\": \"count\"}\n",
    ").reset_index()\n",
    "numerator_pairs = numerators_df[numerators_df.DATA_SOURCE == len(ind_to_query)].groupby(\n",
    "    \"Geographic area\", as_index=False\n",
    ").last().set_index([\"Geographic area\", \"TIME_PERIOD\"])\n",
    "numerator_pairs"
   ]
  },
  {
   "cell_type": "code",
   "execution_count": null,
   "metadata": {},
   "outputs": [],
   "source": [
    "# calculation with a \"pack\" of numerators (PISA)\n",
    "numerator = [\"EDU_PISA_MAT\",\"EDU_PISA_REA\",\"EDU_PISA_SCI\"]\n",
    "ind_to_query = numerator\n",
    "numerators_df = data.query(query).groupby(\n",
    "    [\n",
    "        \"Geographic area\",\n",
    "        \"TIME_PERIOD\"\n",
    "    ]\n",
    ").agg(\n",
    "    {\"OBS_VALUE\": \"sum\", \"DATA_SOURCE\": \"count\"}\n",
    ").reset_index()\n",
    "# check all PISA not only those appearing for all \"pack\" of numerators\n",
    "numerator_pairs = numerators_df.groupby(\"Geographic area\", as_index=False).last().set_index([\"Geographic area\", \"TIME_PERIOD\"])\n",
    "numerator_pairs"
   ]
  },
  {
   "cell_type": "code",
   "execution_count": null,
   "metadata": {},
   "outputs": [],
   "source": [
    "# calculation with a \"pack\" of numerators (private enrolments)\n",
    "numerator = [\"EDUNF_STU_L1_PRV\",\"EDUNF_STU_L2_PRV\",\"EDUNF_STU_L3_PRV\"]\n",
    "ind_to_query = numerator\n",
    "numerators_df = data.query(query).groupby(\n",
    "    [\n",
    "        \"Geographic area\",\n",
    "        \"TIME_PERIOD\"\n",
    "    ]\n",
    ").agg(\n",
    "    {\"OBS_VALUE\": \"sum\", \"DATA_SOURCE\": \"count\"}\n",
    ").reset_index()\n",
    "# check all PISA not only those appearing for all \"pack\" of numerators\n",
    "numerator_pairs = numerators_df.groupby(\"Geographic area\", as_index=False).last().set_index([\"Geographic area\", \"TIME_PERIOD\"])\n",
    "numerator_pairs"
   ]
  },
  {
   "cell_type": "code",
   "execution_count": null,
   "metadata": {},
   "outputs": [],
   "source": [
    "# calculation with a \"pack\" of numerators (private enrolments)\n",
    "numerator = [\"EDUNF_TEACH_L1\", \"EDUNF_TEACH_L2\", \"EDUNF_TEACH_L3\"]\n",
    "ind_to_query = numerator\n",
    "numerators_df = data.query(query).groupby(\n",
    "    [\n",
    "        \"Geographic area\",\n",
    "        \"TIME_PERIOD\"\n",
    "    ]\n",
    ").agg(\n",
    "    {\"OBS_VALUE\": \"sum\", \"DATA_SOURCE\": \"count\"}\n",
    ").reset_index()\n",
    "# check all PISA not only those appearing for all \"pack\" of numerators\n",
    "numerator_pairs = numerators_df.groupby(\"Geographic area\", as_index=False).last().set_index([\"Geographic area\", \"TIME_PERIOD\"])\n",
    "numerator_pairs"
   ]
  },
  {
   "cell_type": "code",
   "execution_count": null,
   "metadata": {},
   "outputs": [],
   "source": [
    "# check the call with rates! (and only one numerator in the list)\n",
    "numerator = [\"EDUNF_NER_L02\"]\n",
    "ind_to_query = numerator\n",
    "numerators_df = data.query(query).groupby(\n",
    "    [\n",
    "        \"Geographic area\",\n",
    "        \"TIME_PERIOD\"\n",
    "    ]\n",
    ").agg(\n",
    "    {\"OBS_VALUE\": \"sum\", \"DATA_SOURCE\": \"count\"}\n",
    ").reset_index()\n",
    "numerator_pairs = numerators_df[numerators_df.DATA_SOURCE == len(ind_to_query)].groupby(\n",
    "    \"Geographic area\", as_index=False\n",
    ").last().set_index([\"Geographic area\", \"TIME_PERIOD\"])\n",
    "numerator_pairs"
   ]
  },
  {
   "cell_type": "code",
   "execution_count": null,
   "metadata": {},
   "outputs": [],
   "source": [
    "denominator = [\"EDUNF_SAP_L02\"]\n",
    "# select the denominators and set them with numerator compound-index\n",
    "ind_to_query = denominator\n",
    "denominators_df = data.query(query).set_index([\"Geographic area\", \"TIME_PERIOD\"])"
   ]
  },
  {
   "cell_type": "code",
   "execution_count": null,
   "metadata": {},
   "outputs": [],
   "source": [
    "# select only those denominators that match avalible indicators\n",
    "ind_intersect = numerator_pairs.index.intersection(\n",
    "    denominators_df.index)"
   ]
  },
  {
   "cell_type": "code",
   "execution_count": null,
   "metadata": {},
   "outputs": [],
   "source": [
    "absolute = False\n",
    "denominators = denominators_df.loc[ind_intersect][\"OBS_VALUE\"]\n",
    "indicator_sum = (\n",
    "    numerator_pairs.loc[ind_intersect][\"OBS_VALUE\"].to_numpy().sum(\n",
    "    )*100 / denominators.to_numpy().sum()\n",
    "    if absolute\n",
    "    else (\n",
    "        numerator_pairs[\"OBS_VALUE\"] * denominators / denominators.to_numpy().sum()\n",
    "    ).dropna().to_numpy().sum()\n",
    ")\n",
    "# will drop missing countires\n",
    "round(indicator_sum,1)"
   ]
  },
  {
   "cell_type": "code",
   "execution_count": null,
   "metadata": {},
   "outputs": [],
   "source": [
    "# check it out BETO!\n",
    "denominators"
   ]
  },
  {
   "cell_type": "code",
   "execution_count": null,
   "metadata": {},
   "outputs": [],
   "source": [
    "print((35.14269*129438.0 + 35.36377*511204.0) / (129438.0 + 511204.0))\n",
    "print((35.14269*129438.0 + 35.36377*511204.0 + 40.53383*137347.0) / (129438.0 + 511204.0 + 137347.0))"
   ]
  },
  {
   "cell_type": "code",
   "execution_count": null,
   "metadata": {},
   "outputs": [],
   "source": [
    "# check the call with rates! (and only one numerator in the list)\n",
    "numerator = [\"EDUNF_CR_L2\"]\n",
    "ind_to_query = numerator\n",
    "numerators_df = data.query(query).groupby(\n",
    "    [\n",
    "        \"Geographic area\",\n",
    "        \"TIME_PERIOD\"\n",
    "    ]\n",
    ").agg(\n",
    "    {\"OBS_VALUE\": \"sum\", \"DATA_SOURCE\": \"count\"}\n",
    ").reset_index()\n",
    "numerator_pairs = numerators_df[numerators_df.DATA_SOURCE == len(ind_to_query)].groupby(\n",
    "    \"Geographic area\", as_index=False\n",
    ").last().set_index([\"Geographic area\", \"TIME_PERIOD\"])\n",
    "numerator_pairs"
   ]
  },
  {
   "cell_type": "code",
   "execution_count": null,
   "metadata": {},
   "outputs": [],
   "source": [
    "denominator = [\"EDUNF_SAP_L2\"]\n",
    "# select the denominators and set them with numerator compound-index\n",
    "ind_to_query = denominator\n",
    "denominators_df = data.query(query).set_index([\"Geographic area\", \"TIME_PERIOD\"])"
   ]
  },
  {
   "cell_type": "code",
   "execution_count": null,
   "metadata": {},
   "outputs": [],
   "source": [
    "# select only those denominators that match avalible indicators\n",
    "ind_intersect = numerator_pairs.index.intersection(\n",
    "    denominators_df.index)"
   ]
  },
  {
   "cell_type": "code",
   "execution_count": null,
   "metadata": {},
   "outputs": [],
   "source": [
    "absolute = False\n",
    "denominators = denominators_df.loc[ind_intersect][\"OBS_VALUE\"]\n",
    "indicator_sum = (\n",
    "    numerator_pairs.loc[ind_intersect][\"OBS_VALUE\"].to_numpy().sum(\n",
    "    )*100 / denominators.to_numpy().sum()\n",
    "    if absolute\n",
    "    else (\n",
    "        numerator_pairs[\"OBS_VALUE\"] * denominators / denominators.to_numpy().sum()\n",
    "    ).dropna().to_numpy().sum()\n",
    ")\n",
    "# will drop missing countires\n",
    "round(indicator_sum,4)"
   ]
  },
  {
   "cell_type": "code",
   "execution_count": null,
   "metadata": {},
   "outputs": [],
   "source": [
    "# check it out BETO!\n",
    "denominators"
   ]
  },
  {
   "cell_type": "code",
   "execution_count": null,
   "metadata": {},
   "outputs": [],
   "source": [
    "print((96.96779*173593.0 + 98.65000*142350.0) / (173593.0 + 142350.0))\n",
    "print((96.96779*173593.0 + 98.65000*142350.0 + 91.65569*868438.0) / (173593.0 + 142350.0 + 868438.0))"
   ]
  },
  {
   "cell_type": "code",
   "execution_count": null,
   "metadata": {},
   "outputs": [],
   "source": [
    "# actual function implemented in base page DASH\n",
    "def indicator_card(\n",
    "    time,\n",
    "    countries,\n",
    "    numerator,\n",
    "    suffix,\n",
    "    denominator=None,\n",
    "    absolute=False,\n",
    "    sex_code = [\"_T\"]\n",
    "):\n",
    "    # sex_code = [\"_T\"]  # potentially move to this config\n",
    "    total_code = [\"_T\"]  # potentially move to this config\n",
    "    query = \"CODE in @indicator & TIME_PERIOD in @time & `Geographic area` in @countries & SEX in @sex_code \\\n",
    "        & RESIDENCE in @total_code & WEALTH_QUINTILE in @total_code\"\n",
    "    numors = numerator.split(\",\")\n",
    "    indicator = numors\n",
    "    # select last value for each country\n",
    "    indicator_values = (\n",
    "        data.query(query)\n",
    "        .groupby(\n",
    "            [\n",
    "                \"Geographic area\",\n",
    "                \"TIME_PERIOD\",\n",
    "            ]\n",
    "        )\n",
    "        .agg({\"OBS_VALUE\": \"sum\", \"DATA_SOURCE\": \"count\"})\n",
    "    ).reset_index()\n",
    "\n",
    "    numerator_pairs = (\n",
    "        indicator_values[indicator_values.DATA_SOURCE == len(numors)]\n",
    "        .groupby(\"Geographic area\", as_index=False)\n",
    "        .last()\n",
    "        .set_index([\"Geographic area\", \"TIME_PERIOD\"])\n",
    "    )\n",
    "\n",
    "    # check for denominator\n",
    "    if denominator:\n",
    "        # select the avalible denominators for countiries in selected years\n",
    "        indicator = [denominator]\n",
    "        denominator_values = data.query(query).set_index([\"Geographic area\", \"TIME_PERIOD\"])\n",
    "        # select only those denominators that match avalible indicators\n",
    "        index_intersect = numerator_pairs.index.intersection(denominator_values.index)\n",
    "\n",
    "        denominators = denominator_values.loc[index_intersect][\"OBS_VALUE\"]\n",
    "    \n",
    "\n",
    "        indicator_sum = (\n",
    "            numerator_pairs.loc[index_intersect][\"OBS_VALUE\"].to_numpy().sum()\n",
    "            / denominators.to_numpy().sum()\n",
    "            * 100\n",
    "            if absolute\n",
    "            else (\n",
    "                numerator_pairs[\"OBS_VALUE\"] * denominators / denominators.to_numpy().sum()\n",
    "            )\n",
    "            .dropna()  # will drop missing countires\n",
    "            .to_numpy()\n",
    "            .sum()\n",
    "        )\n",
    "        sources = index_intersect.tolist()\n",
    "\n",
    "    elif suffix == \"Countries\":\n",
    "        # this is a hack to accomodate small cases (to discuss with James)\n",
    "        if \"FREE\" in numerator:\n",
    "            # trick to filter number of years of free education\n",
    "            indicator_sum = (numerator_pairs.OBS_VALUE >= 1).to_numpy().sum()\n",
    "            sources = numerator_pairs.index.tolist()\n",
    "        elif absolute:\n",
    "            # trick cards data availability among group of indicators and latest time_period\n",
    "            # doesn't require filtering by count == len(numors)\n",
    "            numerator_pairs = indicator_values.groupby(\"Geographic area\", as_index=False).last()\n",
    "            max_time_filter = numerator_pairs.TIME_PERIOD < numerator_pairs.TIME_PERIOD.max()\n",
    "            numerator_pairs.drop(numerator_pairs[max_time_filter].index, inplace=True)\n",
    "            numerator_pairs.set_index([\"Geographic area\", \"TIME_PERIOD\"], inplace=True)\n",
    "            sources = numerator_pairs.index.tolist()\n",
    "            indicator_sum = len(sources)\n",
    "        else:\n",
    "            # trick to accomodate cards for admin exams (AND for boolean indicators)\n",
    "            # filter exams according to number of indicators\n",
    "            indicator_sum = (numerator_pairs.OBS_VALUE == len(numors)).to_numpy().sum()\n",
    "            sources = numerator_pairs.index.tolist()\n",
    "\n",
    "    else:\n",
    "        indicator_sum = numerator_pairs[\"OBS_VALUE\"].to_numpy().sum()\n",
    "        sources = numerator_pairs.index.tolist()\n",
    "\n",
    "    return (\"{:.0f} {}\".format(indicator_sum, suffix), sources)"
   ]
  },
  {
   "cell_type": "code",
   "execution_count": null,
   "metadata": {},
   "outputs": [],
   "source": [
    "# rename INDICATOR as CODE as in DASH init.py\n",
    "data.rename(columns={\"INDICATOR\": \"CODE\"}, inplace=True)\n",
    "# test and compare function\n",
    "countries = [\"Armenia\", \"Azerbaijan\", \"Georgia\"]\n",
    "time = list(range(2008,2021))\n",
    "numerator = \"EDUNF_OFST_L1,EDUNF_OFST_L2,EDUNF_OFST_L3\"\n",
    "# numerator = \"EDUNF_OFST_L1T3\"\n",
    "denominator = \"EDUNF_SAP_L1T3\"\n",
    "# numerator = \"EDUNF_CR_L2\"\n",
    "# denominator = \"EDUNF_SAP_L2\"\n",
    "# numerator = \"EDUNF_NER_L02\"\n",
    "# denominator = \"EDUNF_SAP_L02\"\n",
    "suffix = \"%\"\n",
    "absolute = True\n",
    "a, b = indicator_card(time,countries,numerator,suffix,denominator,absolute)\n",
    "print(a)\n",
    "print(b)"
   ]
  },
  {
   "cell_type": "code",
   "execution_count": null,
   "metadata": {},
   "outputs": [],
   "source": [
    "# Test of Cards Version 2\n",
    "participation = [\n",
    "    {\n",
    "        \"name\": \"who are out-of-school\",\n",
    "        \"indicator\": \"EDUNF_OFST_L1,EDUNF_OFST_L2,EDUNF_OFST_L3\",\n",
    "        \"suffix\": \"primary-to-upper-secondary-aged children and adolescents\",\n",
    "    },\n",
    "    {\n",
    "        \"name\": \"who are out-of-school\",\n",
    "        \"indicator\": \"EDUNF_OFST_L1,EDUNF_OFST_L2,EDUNF_OFST_L3\",\n",
    "        \"suffix\": \"primary-to-upper-secondary-aged girls\",\n",
    "        \"sex\": \"F\",\n",
    "    },\n",
    "    {\n",
    "        \"name\": \"who are out-of-school\",\n",
    "        \"indicator\": \"EDUNF_OFST_L1_UNDER1\",\n",
    "        \"suffix\": \"children one year younger than the official primary entry age\",\n",
    "    },\n",
    "]"
   ]
  },
  {
   "cell_type": "code",
   "execution_count": null,
   "metadata": {},
   "outputs": [],
   "source": [
    "countries = ['Armenia', 'Azerbaijan', 'Georgia', 'Albania', 'Bosnia and Herzegovina', 'Croatia', 'Kosovo (UN SC resolution 1244)', 'North Macedonia', 'Montenegro', 'Serbia', 'Kazakhstan', 'Kyrgyzstan', 'Tajikistan', 'Turkmenistan', 'Uzbekistan', 'Bulgaria', 'Belarus', 'Republic of Moldova', 'Romania', 'Russian Federation', 'Turkey', 'Ukraine', 'Andorra', 'Austria', 'Belgium', 'Cyprus', 'Czechia', 'Denmark', 'Estonia', 'Finland', 'France', 'Germany', 'Greece', 'Holy See', 'Hungary', 'Iceland', 'Ireland', 'Italy', 'Latvia', 'Liechtenstein', 'Lithuania', 'Luxembourg', 'Malta', 'Monaco', 'Netherlands', 'Norway', 'Poland', 'Portugal', 'San Marino', 'Slovakia', 'Slovenia', 'Spain', 'Sweden', 'Switzerland', 'United Kingdom']\n",
    "numerator = \"EDUNF_OFST_L1,EDUNF_OFST_L2,EDUNF_OFST_L3\"\n",
    "suffix = \"Children, Adolescents and Youth\"\n",
    "a, b= indicator_card(time,countries,numerator,suffix)\n",
    "print(a)\n",
    "print(b)"
   ]
  },
  {
   "cell_type": "code",
   "execution_count": null,
   "metadata": {},
   "outputs": [],
   "source": [
    "29523.0\t+ 32589.0 + 11265.0"
   ]
  },
  {
   "cell_type": "code",
   "execution_count": null,
   "metadata": {},
   "outputs": [],
   "source": [
    "numerator = \"EDUNF_OFST_L1,EDUNF_OFST_L2,EDUNF_OFST_L3\"\n",
    "suffix = \"Children, Adolescents and Youth\"\n",
    "sex = [\"F\"]\n",
    "a, b= indicator_card(time,countries,numerator,suffix,sex_code=sex)\n",
    "print(a)\n",
    "print(b)"
   ]
  },
  {
   "cell_type": "code",
   "execution_count": null,
   "metadata": {},
   "outputs": [],
   "source": [
    "12799.0 + 8205.0"
   ]
  },
  {
   "cell_type": "code",
   "execution_count": null,
   "metadata": {},
   "outputs": [],
   "source": [
    "numerator = \"EDUNF_OFST_L1_UNDER1\"\n",
    "suffix = \"Children\"\n",
    "a, b= indicator_card(time,countries,numerator,suffix)\n",
    "print(a)\n",
    "print(b)"
   ]
  },
  {
   "cell_type": "code",
   "execution_count": null,
   "metadata": {},
   "outputs": [],
   "source": [
    "22591.0 + 53196.0"
   ]
  },
  {
   "cell_type": "code",
   "execution_count": null,
   "metadata": {},
   "outputs": [],
   "source": [
    "quality =  [\n",
    "    {\n",
    "        \"name\": \"(enrolled in the same grade for a second or further year) in primary and lower secondary education\",\n",
    "        \"indicator\": \"EDUNF_RPTR_L1,EDUNF_RPTR_L2\",\n",
    "        \"suffix\": \"children and adolescent repeaters\",\n",
    "    },\n",
    "    {\n",
    "        \"name\": \"from primary education\",\n",
    "        \"indicator\": \"EDUNF_ESL_L1\",\n",
    "        \"suffix\": \"early school leavers\",\n",
    "    },\n",
    "    {\n",
    "        \"name\": \"administering nationally representative learning assessment in both reading and math at the end of primary education\",\n",
    "        \"indicator\": \"EDUNF_ADMIN_L1_GLAST_REA,EDUNF_ADMIN_L1_GLAST_MAT\",\n",
    "        \"suffix\": \"countries\",\n",
    "    },\n",
    "    {\n",
    "        \"name\": \"participating in the latest round of PISA\",\n",
    "        \"indicator\": \"EDU_PISA_MAT,EDU_PISA_REA,EDU_PISA_SCI\",\n",
    "        \"suffix\": \"countries\",\n",
    "        \"absolute\": True,\n",
    "    },\n",
    "]"
   ]
  },
  {
   "cell_type": "code",
   "execution_count": null,
   "metadata": {},
   "outputs": [],
   "source": [
    "numerator = \"EDUNF_RPTR_L1,EDUNF_RPTR_L2\"\n",
    "suffix = \"Children and Adolescents\"\n",
    "a, b= indicator_card(time,countries,numerator,suffix)\n",
    "print(a)\n",
    "print(b)"
   ]
  },
  {
   "cell_type": "code",
   "execution_count": null,
   "metadata": {},
   "outputs": [],
   "source": [
    "763.0 + 2588.0 + 2736.0"
   ]
  },
  {
   "cell_type": "code",
   "execution_count": null,
   "metadata": {},
   "outputs": [],
   "source": [
    "numerator = \"EDUNF_ESL_L1\"\n",
    "suffix = \"Children\"\n",
    "a, b= indicator_card(time,countries,numerator,suffix)\n",
    "print(a)\n",
    "print(b)"
   ]
  },
  {
   "cell_type": "code",
   "execution_count": null,
   "metadata": {},
   "outputs": [],
   "source": [
    "2176.58087 + 9209.62321 + 591.04149"
   ]
  },
  {
   "cell_type": "code",
   "execution_count": null,
   "metadata": {},
   "outputs": [],
   "source": [
    "numerator = \"EDUNF_ADMIN_L1_GLAST_REA,EDUNF_ADMIN_L1_GLAST_MAT\"\n",
    "suffix = \"Countries\"\n",
    "a, b= indicator_card(time,countries,numerator,suffix)\n",
    "print(a)\n",
    "print(b)"
   ]
  },
  {
   "cell_type": "code",
   "execution_count": null,
   "metadata": {},
   "outputs": [],
   "source": [
    "numerator = \"EDU_PISA_MAT,EDU_PISA_REA,EDU_PISA_SCI\"\n",
    "suffix = \"Countries\"\n",
    "absolute = True\n",
    "a, b= indicator_card(time,countries,numerator,suffix,absolute=absolute)\n",
    "print(a)\n",
    "print(b)"
   ]
  },
  {
   "cell_type": "code",
   "execution_count": null,
   "metadata": {},
   "outputs": [],
   "source": [
    "governance = [\n",
    "    {\n",
    "        \"name\": \"guaranteeing at least one year of free pre-primary education in their legal frameworks\",\n",
    "        \"indicator\": \"EDU_SDG_FREE_EDU_L02\",\n",
    "        \"suffix\": \"countries\",\n",
    "    },\n",
    "    {\n",
    "        \"name\": \"enrolled in private institutions (primary, lower secondary and upper secondary education)\",\n",
    "        \"indicator\": \"EDUNF_STU_L1_PRV,EDUNF_STU_L2_PRV,EDUNF_STU_L3_PRV\",\n",
    "        \"suffix\": \"children and adolescents\",\n",
    "    },\n",
    "    {\n",
    "        \"name\": \"total in primary, lower secondary and upper secondary education\",\n",
    "        \"indicator\": \"EDUNF_TEACH_L1,EDUNF_TEACH_L2,EDUNF_TEACH_L3\",\n",
    "        \"suffix\": \"classroom teachers\",\n",
    "    },\n",
    "]"
   ]
  },
  {
   "cell_type": "code",
   "execution_count": null,
   "metadata": {},
   "outputs": [],
   "source": [
    "numerator = \"EDU_SDG_FREE_EDU_L02\"\n",
    "suffix = \"Countries\"\n",
    "a, b= indicator_card(time,countries,numerator,suffix)\n",
    "print(a)\n",
    "print(b)"
   ]
  },
  {
   "cell_type": "code",
   "execution_count": null,
   "metadata": {},
   "outputs": [],
   "source": [
    "numerator = \"EDUNF_STU_L1_PRV,EDUNF_STU_L2_PRV,EDUNF_STU_L3_PRV\"\n",
    "suffix = \"Children, Adolescents and Youth\"\n",
    "a, b= indicator_card(time,countries,numerator,suffix)\n",
    "print(a)\n",
    "print(b)"
   ]
  },
  {
   "cell_type": "code",
   "execution_count": null,
   "metadata": {},
   "outputs": [],
   "source": [
    "9353.0 + 126300.0 + 60062.0"
   ]
  },
  {
   "cell_type": "code",
   "execution_count": null,
   "metadata": {},
   "outputs": [],
   "source": [
    "numerator = \"EDUNF_TEACH_L1,EDUNF_TEACH_L2,EDUNF_TEACH_L3\"\n",
    "suffix = \"Children, Adolescents and Youth\"\n",
    "a, b= indicator_card(time,countries,numerator,suffix)\n",
    "print(a)\n",
    "print(b)"
   ]
  },
  {
   "cell_type": "code",
   "execution_count": null,
   "metadata": {},
   "outputs": [],
   "source": [
    "39261.0 + 165375.0 + 71016.0"
   ]
  }
 ],
 "metadata": {
  "kernelspec": {
   "display_name": "Python 3",
   "language": "python",
   "name": "python3"
  },
  "language_info": {
   "codemirror_mode": {
    "name": "ipython",
    "version": 3
   },
   "file_extension": ".py",
   "mimetype": "text/x-python",
   "name": "python",
   "nbconvert_exporter": "python",
   "pygments_lexer": "ipython3",
   "version": "3.8.5"
  },
  "toc": {
   "base_numbering": 1,
   "nav_menu": {},
   "number_sections": true,
   "sideBar": true,
   "skip_h1_title": false,
   "title_cell": "Table of Contents",
   "title_sidebar": "Contents",
   "toc_cell": false,
   "toc_position": {},
   "toc_section_display": true,
   "toc_window_display": false
  }
 },
 "nbformat": 4,
 "nbformat_minor": 4
}