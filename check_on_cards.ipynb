{
 "cells": [
  {
   "cell_type": "code",
   "execution_count": null,
   "metadata": {},
   "outputs": [],
   "source": [
    "import pandas as pd"
   ]
  },
  {
   "cell_type": "code",
   "execution_count": null,
   "metadata": {},
   "outputs": [],
   "source": [
    "# unicef data WH\n",
    "wh_url = \"https://sdmx.data.unicef.org/ws/public/sdmxapi/rest/data/\"\n",
    "dataflow = \"TRANSMONEE/\""
   ]
  },
  {
   "cell_type": "code",
   "execution_count": null,
   "metadata": {},
   "outputs": [],
   "source": [
    "# indicators pulled\n",
    "ind_list = [\n",
    "    \"EDUNF_OFST_L1T3\",\n",
    "    \"EDUNF_ROFST_L1T3\",\n",
    "    \"EDUNF_SAP_L1T3\",\n",
    "    \"EDUNF_OFST_L1\",\n",
    "    \"EDUNF_OFST_L2\",\n",
    "    \"EDUNF_OFST_L3\",\n",
    "    \"EDUNF_NER_L02\",\n",
    "    \"EDUNF_SAP_L02\",\n",
    "    \"EDUNF_CR_L2\",\n",
    "    \"EDUNF_SAP_L2\",\n",
    "]"
   ]
  },
  {
   "cell_type": "code",
   "execution_count": null,
   "metadata": {},
   "outputs": [],
   "source": [
    "# query SDMX with pandas\n",
    "query_key = \".{}....\".format(\"+\".join(ind_list))\n",
    "df = pd.read_csv(wh_url + dataflow + query_key + \"?format=csv\")"
   ]
  },
  {
   "cell_type": "code",
   "execution_count": null,
   "metadata": {},
   "outputs": [],
   "source": [
    "df.columns"
   ]
  },
  {
   "cell_type": "code",
   "execution_count": null,
   "metadata": {},
   "outputs": [],
   "source": [
    "# set numerator and denominator (OOS children average in selected countries by range of time, sex TOTAL)\n",
    "numerator = [\"EDUNF_OFST_L1T3\"]\n",
    "denominator = [\"EDUNF_SAP_L1T3\"]\n",
    "countries = [\"Armenia\", \"Azerbaijan\", \"Georgia\"]\n",
    "time = list(range(2008,2021))\n",
    "total_code = [\"_T\"]"
   ]
  },
  {
   "cell_type": "code",
   "execution_count": null,
   "metadata": {},
   "outputs": [],
   "source": [
    "query = (\n",
    "        \"INDICATOR in @ind_to_query & TIME_PERIOD in @time & `Geographic area` in @countries & SEX in @total_code \\\n",
    "& RESIDENCE in @total_code & WEALTH_QUINTILE in @total_code\"\n",
    "    )"
   ]
  },
  {
   "cell_type": "code",
   "execution_count": null,
   "metadata": {
    "scrolled": false
   },
   "outputs": [],
   "source": [
    "ind_to_query = numerator\n",
    "numerators_df = df.query(query).groupby(\n",
    "    [\n",
    "        \"INDICATOR\",\n",
    "        \"Indicator\",\n",
    "        \"Geographic area\"\n",
    "    ]\n",
    ").agg(\n",
    "    {\"TIME_PERIOD\": \"last\", \"OBS_VALUE\": \"last\"}\n",
    ").reset_index().set_index([\"Geographic area\", \"TIME_PERIOD\"])\n",
    "numerators_df"
   ]
  },
  {
   "cell_type": "code",
   "execution_count": null,
   "metadata": {},
   "outputs": [],
   "source": [
    "# freaking out with pandas MULTIINDEX =0\n",
    "numerators_df.index"
   ]
  },
  {
   "cell_type": "code",
   "execution_count": null,
   "metadata": {},
   "outputs": [],
   "source": [
    "# select the denominators and set them with numerator compound-index\n",
    "ind_to_query = denominator\n",
    "denominators_df = df.query(query).set_index([\"Geographic area\", \"TIME_PERIOD\"])\n",
    "# freaking out with pandas MULTIINDEX =0\n",
    "denominators_df.index"
   ]
  },
  {
   "cell_type": "code",
   "execution_count": null,
   "metadata": {},
   "outputs": [],
   "source": [
    "# match denominators and numerators compound-index\n",
    "den_match_df = denominators_df[\n",
    "    denominators_df.index.isin(numerators_df.index)\n",
    "][[\"INDICATOR\", \"Indicator\", \"OBS_VALUE\"]]\n",
    "den_match_df"
   ]
  },
  {
   "cell_type": "code",
   "execution_count": null,
   "metadata": {},
   "outputs": [],
   "source": [
    "# join numerators denominators with nan drops (missmatches)\n",
    "num_den_not_nan = numerators_df.merge(\n",
    "    den_match_df, on=[\"Geographic area\", \"TIME_PERIOD\"], how=\"left\", sort=False\n",
    ").dropna(subset=[\"OBS_VALUE_y\"])"
   ]
  },
  {
   "cell_type": "code",
   "execution_count": null,
   "metadata": {},
   "outputs": [],
   "source": [
    "# calculation with join\n",
    "round(num_den_not_nan[\"OBS_VALUE_x\"].sum()/num_den_not_nan[\"OBS_VALUE_y\"].sum()*100,1)"
   ]
  },
  {
   "cell_type": "code",
   "execution_count": null,
   "metadata": {
    "scrolled": true
   },
   "outputs": [],
   "source": [
    "# freaking out with pandas MULTIINDEX =0\n",
    "ind_intersect = denominators_df.index.intersection(numerators_df.index)\n",
    "ind_intersect"
   ]
  },
  {
   "cell_type": "code",
   "execution_count": null,
   "metadata": {},
   "outputs": [],
   "source": [
    "# freaking out with pandas MULTIINDEX =0\n",
    "ind_intersect = numerators_df.index.intersection(denominators_df.index)\n",
    "ind_intersect"
   ]
  },
  {
   "cell_type": "code",
   "execution_count": null,
   "metadata": {},
   "outputs": [],
   "source": [
    "# calculation without join\n",
    "round(numerators_df.loc[ind_intersect][\"OBS_VALUE\"].sum()/denominators_df.loc[ind_intersect][\"OBS_VALUE\"].sum()*100,1)"
   ]
  },
  {
   "cell_type": "code",
   "execution_count": null,
   "metadata": {},
   "outputs": [],
   "source": [
    "# calculation with a \"pack\" of numerators\n",
    "numerator = [\"EDUNF_OFST_L1\", \"EDUNF_OFST_L2\", \"EDUNF_OFST_L3\"]\n",
    "# what about same algorithm without a pack? --> works SUPERB\n",
    "numerator = [\"EDUNF_OFST_L1T3\"]\n",
    "ind_to_query = numerator\n",
    "numerators_df = df.query(query).groupby(\n",
    "    [\n",
    "        \"Geographic area\",\n",
    "        \"TIME_PERIOD\"\n",
    "    ]\n",
    ").agg(\n",
    "    {\"OBS_VALUE\": \"sum\", \"DATA_SOURCE\": \"count\"}\n",
    ").reset_index()\n",
    "numerator_pairs = numerators_df[numerators_df.DATA_SOURCE == len(ind_to_query)].groupby(\n",
    "    \"Geographic area\", as_index=False\n",
    ").last().set_index([\"Geographic area\", \"TIME_PERIOD\"])\n",
    "numerator_pairs"
   ]
  },
  {
   "cell_type": "code",
   "execution_count": null,
   "metadata": {},
   "outputs": [],
   "source": [
    "# freaking out with pandas MULTIINDEX =0\n",
    "numerator_pairs.index"
   ]
  },
  {
   "cell_type": "code",
   "execution_count": null,
   "metadata": {},
   "outputs": [],
   "source": [
    "# order in intersection should be conmutative\n",
    "ind_intersect = numerator_pairs.index.intersection(denominators_df.index)\n",
    "ind_intersect"
   ]
  },
  {
   "cell_type": "code",
   "execution_count": null,
   "metadata": {},
   "outputs": [],
   "source": [
    "# regional average using \"pack\" of numerators\n",
    "# BTW: does this work for a pack of denominators?\n",
    "# do we have \"pack\" of denominators case?\n",
    "round(numerator_pairs.loc[ind_intersect][\"OBS_VALUE\"].sum() / \n",
    "      denominators_df.loc[ind_intersect][\"OBS_VALUE\"].sum()*100,1)"
   ]
  },
  {
   "cell_type": "code",
   "execution_count": null,
   "metadata": {},
   "outputs": [],
   "source": [
    "absolute = True\n",
    "denominators = denominators_df.loc[ind_intersect][\"OBS_VALUE\"]\n",
    "indicator_sum = (\n",
    "    numerator_pairs.loc[ind_intersect][\"OBS_VALUE\"].to_numpy().sum(\n",
    "    ) / denominators.to_numpy().sum()\n",
    "    if absolute\n",
    "    else (\n",
    "        numerator_pairs[\"OBS_VALUE\"] * denominators / denominators.to_numpy().sum()\n",
    "    ).dropna().to_numpy().sum()\n",
    ")\n",
    "# will drop missing countires\n",
    "round(indicator_sum*100,1)"
   ]
  },
  {
   "cell_type": "code",
   "execution_count": null,
   "metadata": {},
   "outputs": [],
   "source": [
    "# check the call with rates! (and only one numerator in the list)\n",
    "numerator = [\"EDUNF_NER_L02\"]\n",
    "ind_to_query = numerator\n",
    "numerators_df = df.query(query).groupby(\n",
    "    [\n",
    "        \"Geographic area\",\n",
    "        \"TIME_PERIOD\"\n",
    "    ]\n",
    ").agg(\n",
    "    {\"OBS_VALUE\": \"sum\", \"DATA_SOURCE\": \"count\"}\n",
    ").reset_index()\n",
    "numerator_pairs = numerators_df[numerators_df.DATA_SOURCE == len(ind_to_query)].groupby(\n",
    "    \"Geographic area\", as_index=False\n",
    ").last().set_index([\"Geographic area\", \"TIME_PERIOD\"])\n",
    "numerator_pairs"
   ]
  },
  {
   "cell_type": "code",
   "execution_count": null,
   "metadata": {},
   "outputs": [],
   "source": [
    "denominator = [\"EDUNF_SAP_L02\"]\n",
    "# select the denominators and set them with numerator compound-index\n",
    "ind_to_query = denominator\n",
    "denominators_df = df.query(query).set_index([\"Geographic area\", \"TIME_PERIOD\"])"
   ]
  },
  {
   "cell_type": "code",
   "execution_count": null,
   "metadata": {},
   "outputs": [],
   "source": [
    "# select only those denominators that match avalible indicators\n",
    "ind_intersect = numerator_pairs.index.intersection(\n",
    "    denominators_df.index)"
   ]
  },
  {
   "cell_type": "code",
   "execution_count": null,
   "metadata": {},
   "outputs": [],
   "source": [
    "absolute = False\n",
    "denominators = denominators_df.loc[ind_intersect][\"OBS_VALUE\"]\n",
    "indicator_sum = (\n",
    "    numerator_pairs.loc[ind_intersect][\"OBS_VALUE\"].to_numpy().sum(\n",
    "    ) / denominators.to_numpy().sum()\n",
    "    if absolute\n",
    "    else (\n",
    "        numerator_pairs[\"OBS_VALUE\"] / 100 * denominators / denominators.to_numpy().sum()\n",
    "    ).dropna().to_numpy().sum()\n",
    ")\n",
    "# will drop missing countires\n",
    "round(indicator_sum*100,1)"
   ]
  },
  {
   "cell_type": "code",
   "execution_count": null,
   "metadata": {},
   "outputs": [],
   "source": [
    "# check it out BETO!\n",
    "denominators"
   ]
  },
  {
   "cell_type": "code",
   "execution_count": null,
   "metadata": {},
   "outputs": [],
   "source": [
    "(35.14269/100*129438.0 + 35.36377/100*511204.0 + 40.53383/100*137347.0) / (129438.0 + 511204.0 + 137347.0) * 100"
   ]
  },
  {
   "cell_type": "code",
   "execution_count": null,
   "metadata": {},
   "outputs": [],
   "source": [
    "# check the call with rates! (and only one numerator in the list)\n",
    "numerator = [\"EDUNF_CR_L2\"]\n",
    "ind_to_query = numerator\n",
    "numerators_df = df.query(query).groupby(\n",
    "    [\n",
    "        \"Geographic area\",\n",
    "        \"TIME_PERIOD\"\n",
    "    ]\n",
    ").agg(\n",
    "    {\"OBS_VALUE\": \"sum\", \"DATA_SOURCE\": \"count\"}\n",
    ").reset_index()\n",
    "numerator_pairs = numerators_df[numerators_df.DATA_SOURCE == len(ind_to_query)].groupby(\n",
    "    \"Geographic area\", as_index=False\n",
    ").last().set_index([\"Geographic area\", \"TIME_PERIOD\"])\n",
    "numerator_pairs"
   ]
  },
  {
   "cell_type": "code",
   "execution_count": null,
   "metadata": {},
   "outputs": [],
   "source": [
    "denominator = [\"EDUNF_SAP_L2\"]\n",
    "# select the denominators and set them with numerator compound-index\n",
    "ind_to_query = denominator\n",
    "denominators_df = df.query(query).set_index([\"Geographic area\", \"TIME_PERIOD\"])"
   ]
  },
  {
   "cell_type": "code",
   "execution_count": null,
   "metadata": {},
   "outputs": [],
   "source": [
    "# select only those denominators that match avalible indicators\n",
    "ind_intersect = numerator_pairs.index.intersection(\n",
    "    denominators_df.index)"
   ]
  },
  {
   "cell_type": "code",
   "execution_count": null,
   "metadata": {},
   "outputs": [],
   "source": [
    "absolute = False\n",
    "denominators = denominators_df.loc[ind_intersect][\"OBS_VALUE\"]\n",
    "indicator_sum = (\n",
    "    numerator_pairs.loc[ind_intersect][\"OBS_VALUE\"].to_numpy().sum(\n",
    "    ) / denominators.to_numpy().sum()\n",
    "    if absolute\n",
    "    else (\n",
    "        numerator_pairs[\"OBS_VALUE\"] / 100 * denominators / denominators.to_numpy().sum()\n",
    "    ).dropna().to_numpy().sum()\n",
    ")\n",
    "# will drop missing countires\n",
    "round(indicator_sum*100,4)"
   ]
  },
  {
   "cell_type": "code",
   "execution_count": null,
   "metadata": {},
   "outputs": [],
   "source": [
    "# check it out BETO!\n",
    "denominators"
   ]
  },
  {
   "cell_type": "code",
   "execution_count": null,
   "metadata": {},
   "outputs": [],
   "source": [
    "(96.96779*173593.0 + 98.65000*142350.0) / (173593.0 + 142350.0)"
   ]
  }
 ],
 "metadata": {
  "kernelspec": {
   "display_name": "Python 3",
   "language": "python",
   "name": "python3"
  },
  "language_info": {
   "codemirror_mode": {
    "name": "ipython",
    "version": 3
   },
   "file_extension": ".py",
   "mimetype": "text/x-python",
   "name": "python",
   "nbconvert_exporter": "python",
   "pygments_lexer": "ipython3",
   "version": "3.8.5"
  },
  "toc": {
   "base_numbering": 1,
   "nav_menu": {},
   "number_sections": true,
   "sideBar": true,
   "skip_h1_title": false,
   "title_cell": "Table of Contents",
   "title_sidebar": "Contents",
   "toc_cell": false,
   "toc_position": {},
   "toc_section_display": true,
   "toc_window_display": false
  }
 },
 "nbformat": 4,
 "nbformat_minor": 4
}