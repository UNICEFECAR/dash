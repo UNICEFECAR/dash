{
 "cells": [
  {
   "cell_type": "code",
   "execution_count": 1,
   "metadata": {},
   "outputs": [],
   "source": [
    "import pandas as pd"
   ]
  },
  {
   "cell_type": "code",
   "execution_count": 2,
   "metadata": {},
   "outputs": [],
   "source": [
    "# unicef data WH\n",
    "wh_url = \"https://sdmx.data.unicef.org/ws/public/sdmxapi/rest/data/\"\n",
    "dataflow = \"TRANSMONEE/\""
   ]
  },
  {
   "cell_type": "code",
   "execution_count": 3,
   "metadata": {},
   "outputs": [],
   "source": [
    "# indicators pulled\n",
    "ind_list = [\n",
    "    \"EDUNF_OFST_L1T3\",\n",
    "    \"EDUNF_ROFST_L1T3\",\n",
    "    \"EDUNF_SAP_L1T3\",\n",
    "    \"EDUNF_OFST_L1_UNDER1\",\n",
    "    \"EDUNF_OFST_L1\",\n",
    "    \"EDUNF_OFST_L2\",\n",
    "    \"EDUNF_OFST_L3\",\n",
    "    \"EDUNF_NER_L02\",\n",
    "    \"EDUNF_SAP_L02\",\n",
    "    \"EDUNF_CR_L2\",\n",
    "    \"EDUNF_SAP_L2\",\n",
    "    \"EDUNF_ESL_L1\",\n",
    "    \"EDUNF_RPTR_L1\",\n",
    "    \"EDUNF_RPTR_L2\",\n",
    "    \"EDUNF_ADMIN_L1_GLAST_REA\",\n",
    "    \"EDUNF_ADMIN_L1_GLAST_MAT\",\n",
    "    \"EDU_PISA_MAT\",\n",
    "    \"EDU_PISA_REA\",\n",
    "    \"EDU_PISA_SCI\",\n",
    "    \"EDU_SDG_FREE_EDU_L02\",\n",
    "    \"EDUNF_STU_L1_PRV\",\n",
    "    \"EDUNF_STU_L2_PRV\",\n",
    "    \"EDUNF_STU_L3_PRV\",\n",
    "    \"EDUNF_TEACH_L1\",\n",
    "    \"EDUNF_TEACH_L2\",\n",
    "    \"EDUNF_TEACH_L3\",\n",
    "]"
   ]
  },
  {
   "cell_type": "code",
   "execution_count": 4,
   "metadata": {},
   "outputs": [],
   "source": [
    "# query SDMX with pandas\n",
    "query_key = \".{}....\".format(\"+\".join(ind_list))\n",
    "data = pd.read_csv(wh_url + dataflow + query_key + \"?format=csv\")"
   ]
  },
  {
   "cell_type": "code",
   "execution_count": 5,
   "metadata": {},
   "outputs": [],
   "source": [
    "# set countries and period\n",
    "countries = [\"Armenia\", \"Azerbaijan\", \"Georgia\"]\n",
    "time = list(range(2008,2021))\n",
    "total_code = [\"_T\"]"
   ]
  },
  {
   "cell_type": "code",
   "execution_count": 6,
   "metadata": {},
   "outputs": [],
   "source": [
    "# calculation single numerator\n",
    "numerator = [\"EDUNF_OFST_L1T3\"]\n",
    "denominator = [\"EDUNF_SAP_L1T3\"]"
   ]
  },
  {
   "cell_type": "code",
   "execution_count": 7,
   "metadata": {},
   "outputs": [],
   "source": [
    "query = (\n",
    "        \"INDICATOR in @ind_to_query & TIME_PERIOD in @time & `Geographic area` in @countries & SEX in @total_code \\\n",
    "& RESIDENCE in @total_code & WEALTH_QUINTILE in @total_code\"\n",
    "    )"
   ]
  },
  {
   "cell_type": "code",
   "execution_count": 8,
   "metadata": {
    "scrolled": false
   },
   "outputs": [
    {
     "output_type": "execute_result",
     "data": {
      "text/plain": [
       "                                   INDICATOR  \\\n",
       "Geographic area TIME_PERIOD                    \n",
       "Armenia         2011         EDUNF_OFST_L1T3   \n",
       "Azerbaijan      2018         EDUNF_OFST_L1T3   \n",
       "Georgia         2018         EDUNF_OFST_L1T3   \n",
       "\n",
       "                                                                     Indicator  \\\n",
       "Geographic area TIME_PERIOD                                                      \n",
       "Armenia         2011         Number of out-of-school children, adolescents ...   \n",
       "Azerbaijan      2018         Number of out-of-school children, adolescents ...   \n",
       "Georgia         2018         Number of out-of-school children, adolescents ...   \n",
       "\n",
       "                             OBS_VALUE  \n",
       "Geographic area TIME_PERIOD             \n",
       "Armenia         2011           29523.0  \n",
       "Azerbaijan      2018           32589.0  \n",
       "Georgia         2018           11266.0  "
      ],
      "text/html": "<div>\n<style scoped>\n    .dataframe tbody tr th:only-of-type {\n        vertical-align: middle;\n    }\n\n    .dataframe tbody tr th {\n        vertical-align: top;\n    }\n\n    .dataframe thead th {\n        text-align: right;\n    }\n</style>\n<table border=\"1\" class=\"dataframe\">\n  <thead>\n    <tr style=\"text-align: right;\">\n      <th></th>\n      <th></th>\n      <th>INDICATOR</th>\n      <th>Indicator</th>\n      <th>OBS_VALUE</th>\n    </tr>\n    <tr>\n      <th>Geographic area</th>\n      <th>TIME_PERIOD</th>\n      <th></th>\n      <th></th>\n      <th></th>\n    </tr>\n  </thead>\n  <tbody>\n    <tr>\n      <th>Armenia</th>\n      <th>2011</th>\n      <td>EDUNF_OFST_L1T3</td>\n      <td>Number of out-of-school children, adolescents ...</td>\n      <td>29523.0</td>\n    </tr>\n    <tr>\n      <th>Azerbaijan</th>\n      <th>2018</th>\n      <td>EDUNF_OFST_L1T3</td>\n      <td>Number of out-of-school children, adolescents ...</td>\n      <td>32589.0</td>\n    </tr>\n    <tr>\n      <th>Georgia</th>\n      <th>2018</th>\n      <td>EDUNF_OFST_L1T3</td>\n      <td>Number of out-of-school children, adolescents ...</td>\n      <td>11266.0</td>\n    </tr>\n  </tbody>\n</table>\n</div>"
     },
     "metadata": {},
     "execution_count": 8
    }
   ],
   "source": [
    "ind_to_query = numerator\n",
    "numerators_df = data.query(query).groupby(\n",
    "    [\n",
    "        \"INDICATOR\",\n",
    "        \"Indicator\",\n",
    "        \"Geographic area\"\n",
    "    ]\n",
    ").agg(\n",
    "    {\"TIME_PERIOD\": \"last\", \"OBS_VALUE\": \"last\"}\n",
    ").reset_index().set_index([\"Geographic area\", \"TIME_PERIOD\"])\n",
    "numerators_df"
   ]
  },
  {
   "cell_type": "code",
   "execution_count": 9,
   "metadata": {},
   "outputs": [
    {
     "output_type": "execute_result",
     "data": {
      "text/plain": [
       "                                  INDICATOR  \\\n",
       "Geographic area TIME_PERIOD                   \n",
       "Armenia         2011         EDUNF_SAP_L1T3   \n",
       "Azerbaijan      2018         EDUNF_SAP_L1T3   \n",
       "Georgia         2018         EDUNF_SAP_L1T3   \n",
       "\n",
       "                                                                     Indicator  \\\n",
       "Geographic area TIME_PERIOD                                                      \n",
       "Armenia         2011         Population of the official age for primary and...   \n",
       "Azerbaijan      2018         Population of the official age for primary and...   \n",
       "Georgia         2018         Population of the official age for primary and...   \n",
       "\n",
       "                             OBS_VALUE  \n",
       "Geographic area TIME_PERIOD             \n",
       "Armenia         2011          413525.0  \n",
       "Azerbaijan      2018         1637373.0  \n",
       "Georgia         2018          574212.0  "
      ],
      "text/html": "<div>\n<style scoped>\n    .dataframe tbody tr th:only-of-type {\n        vertical-align: middle;\n    }\n\n    .dataframe tbody tr th {\n        vertical-align: top;\n    }\n\n    .dataframe thead th {\n        text-align: right;\n    }\n</style>\n<table border=\"1\" class=\"dataframe\">\n  <thead>\n    <tr style=\"text-align: right;\">\n      <th></th>\n      <th></th>\n      <th>INDICATOR</th>\n      <th>Indicator</th>\n      <th>OBS_VALUE</th>\n    </tr>\n    <tr>\n      <th>Geographic area</th>\n      <th>TIME_PERIOD</th>\n      <th></th>\n      <th></th>\n      <th></th>\n    </tr>\n  </thead>\n  <tbody>\n    <tr>\n      <th>Armenia</th>\n      <th>2011</th>\n      <td>EDUNF_SAP_L1T3</td>\n      <td>Population of the official age for primary and...</td>\n      <td>413525.0</td>\n    </tr>\n    <tr>\n      <th>Azerbaijan</th>\n      <th>2018</th>\n      <td>EDUNF_SAP_L1T3</td>\n      <td>Population of the official age for primary and...</td>\n      <td>1637373.0</td>\n    </tr>\n    <tr>\n      <th>Georgia</th>\n      <th>2018</th>\n      <td>EDUNF_SAP_L1T3</td>\n      <td>Population of the official age for primary and...</td>\n      <td>574212.0</td>\n    </tr>\n  </tbody>\n</table>\n</div>"
     },
     "metadata": {},
     "execution_count": 9
    }
   ],
   "source": [
    "# select the denominators and set them with numerator compound-index\n",
    "ind_to_query = denominator\n",
    "denominators_df = data.query(query).set_index([\"Geographic area\", \"TIME_PERIOD\"])\n",
    "# match denominators and numerators compound-index\n",
    "den_match_df = denominators_df[\n",
    "    denominators_df.index.isin(numerators_df.index)\n",
    "][[\"INDICATOR\", \"Indicator\", \"OBS_VALUE\"]]\n",
    "den_match_df"
   ]
  },
  {
   "cell_type": "code",
   "execution_count": 10,
   "metadata": {},
   "outputs": [
    {
     "output_type": "execute_result",
     "data": {
      "text/plain": [
       "                                 INDICATOR_x  \\\n",
       "Geographic area TIME_PERIOD                    \n",
       "Armenia         2011         EDUNF_OFST_L1T3   \n",
       "Azerbaijan      2018         EDUNF_OFST_L1T3   \n",
       "Georgia         2018         EDUNF_OFST_L1T3   \n",
       "\n",
       "                                                                   Indicator_x  \\\n",
       "Geographic area TIME_PERIOD                                                      \n",
       "Armenia         2011         Number of out-of-school children, adolescents ...   \n",
       "Azerbaijan      2018         Number of out-of-school children, adolescents ...   \n",
       "Georgia         2018         Number of out-of-school children, adolescents ...   \n",
       "\n",
       "                             OBS_VALUE_x     INDICATOR_y  \\\n",
       "Geographic area TIME_PERIOD                                \n",
       "Armenia         2011             29523.0  EDUNF_SAP_L1T3   \n",
       "Azerbaijan      2018             32589.0  EDUNF_SAP_L1T3   \n",
       "Georgia         2018             11266.0  EDUNF_SAP_L1T3   \n",
       "\n",
       "                                                                   Indicator_y  \\\n",
       "Geographic area TIME_PERIOD                                                      \n",
       "Armenia         2011         Population of the official age for primary and...   \n",
       "Azerbaijan      2018         Population of the official age for primary and...   \n",
       "Georgia         2018         Population of the official age for primary and...   \n",
       "\n",
       "                             OBS_VALUE_y  \n",
       "Geographic area TIME_PERIOD               \n",
       "Armenia         2011            413525.0  \n",
       "Azerbaijan      2018           1637373.0  \n",
       "Georgia         2018            574212.0  "
      ],
      "text/html": "<div>\n<style scoped>\n    .dataframe tbody tr th:only-of-type {\n        vertical-align: middle;\n    }\n\n    .dataframe tbody tr th {\n        vertical-align: top;\n    }\n\n    .dataframe thead th {\n        text-align: right;\n    }\n</style>\n<table border=\"1\" class=\"dataframe\">\n  <thead>\n    <tr style=\"text-align: right;\">\n      <th></th>\n      <th></th>\n      <th>INDICATOR_x</th>\n      <th>Indicator_x</th>\n      <th>OBS_VALUE_x</th>\n      <th>INDICATOR_y</th>\n      <th>Indicator_y</th>\n      <th>OBS_VALUE_y</th>\n    </tr>\n    <tr>\n      <th>Geographic area</th>\n      <th>TIME_PERIOD</th>\n      <th></th>\n      <th></th>\n      <th></th>\n      <th></th>\n      <th></th>\n      <th></th>\n    </tr>\n  </thead>\n  <tbody>\n    <tr>\n      <th>Armenia</th>\n      <th>2011</th>\n      <td>EDUNF_OFST_L1T3</td>\n      <td>Number of out-of-school children, adolescents ...</td>\n      <td>29523.0</td>\n      <td>EDUNF_SAP_L1T3</td>\n      <td>Population of the official age for primary and...</td>\n      <td>413525.0</td>\n    </tr>\n    <tr>\n      <th>Azerbaijan</th>\n      <th>2018</th>\n      <td>EDUNF_OFST_L1T3</td>\n      <td>Number of out-of-school children, adolescents ...</td>\n      <td>32589.0</td>\n      <td>EDUNF_SAP_L1T3</td>\n      <td>Population of the official age for primary and...</td>\n      <td>1637373.0</td>\n    </tr>\n    <tr>\n      <th>Georgia</th>\n      <th>2018</th>\n      <td>EDUNF_OFST_L1T3</td>\n      <td>Number of out-of-school children, adolescents ...</td>\n      <td>11266.0</td>\n      <td>EDUNF_SAP_L1T3</td>\n      <td>Population of the official age for primary and...</td>\n      <td>574212.0</td>\n    </tr>\n  </tbody>\n</table>\n</div>"
     },
     "metadata": {},
     "execution_count": 10
    }
   ],
   "source": [
    "# join numerators denominators with nan drops (missmatches)\n",
    "num_den_not_nan = numerators_df.merge(\n",
    "    den_match_df, on=[\"Geographic area\", \"TIME_PERIOD\"], how=\"left\", sort=False\n",
    ").dropna(subset=[\"OBS_VALUE_y\"])\n",
    "num_den_not_nan"
   ]
  },
  {
   "cell_type": "code",
   "execution_count": 11,
   "metadata": {},
   "outputs": [
    {
     "output_type": "stream",
     "name": "stdout",
     "text": [
      "2.7952352472848756\n"
     ]
    }
   ],
   "source": [
    "print((29523.0+32589.0+11266.0) / (413525.0 + 1637373.0 + 574212.0)*100)"
   ]
  },
  {
   "cell_type": "code",
   "execution_count": 12,
   "metadata": {},
   "outputs": [
    {
     "output_type": "execute_result",
     "data": {
      "text/plain": [
       "2.8"
      ]
     },
     "metadata": {},
     "execution_count": 12
    }
   ],
   "source": [
    "# calculation with join\n",
    "round(num_den_not_nan[\"OBS_VALUE_x\"].sum()/num_den_not_nan[\"OBS_VALUE_y\"].sum()*100,1)"
   ]
  },
  {
   "cell_type": "code",
   "execution_count": 13,
   "metadata": {},
   "outputs": [
    {
     "output_type": "execute_result",
     "data": {
      "text/plain": [
       "MultiIndex([(   'Armenia', 2011),\n",
       "            ('Azerbaijan', 2018),\n",
       "            (   'Georgia', 2018)],\n",
       "           names=['Geographic area', 'TIME_PERIOD'])"
      ]
     },
     "metadata": {},
     "execution_count": 13
    }
   ],
   "source": [
    "ind_intersect = denominators_df.index.intersection(numerators_df.index)\n",
    "ind_intersect"
   ]
  },
  {
   "cell_type": "code",
   "execution_count": 14,
   "metadata": {},
   "outputs": [
    {
     "output_type": "execute_result",
     "data": {
      "text/plain": [
       "2.8"
      ]
     },
     "metadata": {},
     "execution_count": 14
    }
   ],
   "source": [
    "# calculation without join\n",
    "round(numerators_df.loc[ind_intersect][\"OBS_VALUE\"].sum()/denominators_df.loc[ind_intersect][\"OBS_VALUE\"].sum()*100,1)"
   ]
  },
  {
   "cell_type": "code",
   "execution_count": 15,
   "metadata": {},
   "outputs": [
    {
     "output_type": "execute_result",
     "data": {
      "text/plain": [
       "                                        INDICATOR  \\\n",
       "Geographic area TIME_PERIOD                         \n",
       "Armenia         2018         EDUNF_OFST_L1_UNDER1   \n",
       "Azerbaijan      2018         EDUNF_OFST_L1_UNDER1   \n",
       "\n",
       "                                                                     Indicator  \\\n",
       "Geographic area TIME_PERIOD                                                      \n",
       "Armenia         2018         Number of out-of-school children one year youn...   \n",
       "Azerbaijan      2018         Number of out-of-school children one year youn...   \n",
       "\n",
       "                             OBS_VALUE  \n",
       "Geographic area TIME_PERIOD             \n",
       "Armenia         2018           22591.0  \n",
       "Azerbaijan      2018           53196.0  "
      ],
      "text/html": "<div>\n<style scoped>\n    .dataframe tbody tr th:only-of-type {\n        vertical-align: middle;\n    }\n\n    .dataframe tbody tr th {\n        vertical-align: top;\n    }\n\n    .dataframe thead th {\n        text-align: right;\n    }\n</style>\n<table border=\"1\" class=\"dataframe\">\n  <thead>\n    <tr style=\"text-align: right;\">\n      <th></th>\n      <th></th>\n      <th>INDICATOR</th>\n      <th>Indicator</th>\n      <th>OBS_VALUE</th>\n    </tr>\n    <tr>\n      <th>Geographic area</th>\n      <th>TIME_PERIOD</th>\n      <th></th>\n      <th></th>\n      <th></th>\n    </tr>\n  </thead>\n  <tbody>\n    <tr>\n      <th>Armenia</th>\n      <th>2018</th>\n      <td>EDUNF_OFST_L1_UNDER1</td>\n      <td>Number of out-of-school children one year youn...</td>\n      <td>22591.0</td>\n    </tr>\n    <tr>\n      <th>Azerbaijan</th>\n      <th>2018</th>\n      <td>EDUNF_OFST_L1_UNDER1</td>\n      <td>Number of out-of-school children one year youn...</td>\n      <td>53196.0</td>\n    </tr>\n  </tbody>\n</table>\n</div>"
     },
     "metadata": {},
     "execution_count": 15
    }
   ],
   "source": [
    "# calculation single numerator\n",
    "numerator = [\"EDUNF_OFST_L1_UNDER1\"]\n",
    "ind_to_query = numerator\n",
    "numerators_df = data.query(query).groupby(\n",
    "    [\n",
    "        \"INDICATOR\",\n",
    "        \"Indicator\",\n",
    "        \"Geographic area\"\n",
    "    ]\n",
    ").agg(\n",
    "    {\"TIME_PERIOD\": \"last\", \"OBS_VALUE\": \"last\"}\n",
    ").reset_index().set_index([\"Geographic area\", \"TIME_PERIOD\"])\n",
    "numerators_df"
   ]
  },
  {
   "cell_type": "code",
   "execution_count": 16,
   "metadata": {},
   "outputs": [
    {
     "output_type": "execute_result",
     "data": {
      "text/plain": [
       "                                INDICATOR  \\\n",
       "Geographic area TIME_PERIOD                 \n",
       "Armenia         2018         EDUNF_ESL_L1   \n",
       "Azerbaijan      2018         EDUNF_ESL_L1   \n",
       "Georgia         2018         EDUNF_ESL_L1   \n",
       "\n",
       "                                                                     Indicator  \\\n",
       "Geographic area TIME_PERIOD                                                      \n",
       "Armenia         2018         Number of early school leavers from primary ed...   \n",
       "Azerbaijan      2018         Number of early school leavers from primary ed...   \n",
       "Georgia         2018         Number of early school leavers from primary ed...   \n",
       "\n",
       "                              OBS_VALUE  \n",
       "Geographic area TIME_PERIOD              \n",
       "Armenia         2018         2176.58087  \n",
       "Azerbaijan      2018         9209.62321  \n",
       "Georgia         2018          591.04149  "
      ],
      "text/html": "<div>\n<style scoped>\n    .dataframe tbody tr th:only-of-type {\n        vertical-align: middle;\n    }\n\n    .dataframe tbody tr th {\n        vertical-align: top;\n    }\n\n    .dataframe thead th {\n        text-align: right;\n    }\n</style>\n<table border=\"1\" class=\"dataframe\">\n  <thead>\n    <tr style=\"text-align: right;\">\n      <th></th>\n      <th></th>\n      <th>INDICATOR</th>\n      <th>Indicator</th>\n      <th>OBS_VALUE</th>\n    </tr>\n    <tr>\n      <th>Geographic area</th>\n      <th>TIME_PERIOD</th>\n      <th></th>\n      <th></th>\n      <th></th>\n    </tr>\n  </thead>\n  <tbody>\n    <tr>\n      <th>Armenia</th>\n      <th>2018</th>\n      <td>EDUNF_ESL_L1</td>\n      <td>Number of early school leavers from primary ed...</td>\n      <td>2176.58087</td>\n    </tr>\n    <tr>\n      <th>Azerbaijan</th>\n      <th>2018</th>\n      <td>EDUNF_ESL_L1</td>\n      <td>Number of early school leavers from primary ed...</td>\n      <td>9209.62321</td>\n    </tr>\n    <tr>\n      <th>Georgia</th>\n      <th>2018</th>\n      <td>EDUNF_ESL_L1</td>\n      <td>Number of early school leavers from primary ed...</td>\n      <td>591.04149</td>\n    </tr>\n  </tbody>\n</table>\n</div>"
     },
     "metadata": {},
     "execution_count": 16
    }
   ],
   "source": [
    "# calculation single numerator\n",
    "numerator = [\"EDUNF_ESL_L1\"]\n",
    "ind_to_query = numerator\n",
    "numerators_df = data.query(query).groupby(\n",
    "    [\n",
    "        \"INDICATOR\",\n",
    "        \"Indicator\",\n",
    "        \"Geographic area\"\n",
    "    ]\n",
    ").agg(\n",
    "    {\"TIME_PERIOD\": \"last\", \"OBS_VALUE\": \"last\"}\n",
    ").reset_index().set_index([\"Geographic area\", \"TIME_PERIOD\"])\n",
    "numerators_df"
   ]
  },
  {
   "cell_type": "code",
   "execution_count": 17,
   "metadata": {},
   "outputs": [
    {
     "output_type": "execute_result",
     "data": {
      "text/plain": [
       "                                            INDICATOR  \\\n",
       "Geographic area TIME_PERIOD                             \n",
       "Armenia         2018         EDUNF_ADMIN_L1_GLAST_REA   \n",
       "Azerbaijan      2018         EDUNF_ADMIN_L1_GLAST_REA   \n",
       "Georgia         2018         EDUNF_ADMIN_L1_GLAST_REA   \n",
       "\n",
       "                                                                     Indicator  \\\n",
       "Geographic area TIME_PERIOD                                                      \n",
       "Armenia         2018         Administration of nationally representative le...   \n",
       "Azerbaijan      2018         Administration of nationally representative le...   \n",
       "Georgia         2018         Administration of nationally representative le...   \n",
       "\n",
       "                             OBS_VALUE  \n",
       "Geographic area TIME_PERIOD             \n",
       "Armenia         2018               0.0  \n",
       "Azerbaijan      2018               1.0  \n",
       "Georgia         2018               0.0  "
      ],
      "text/html": "<div>\n<style scoped>\n    .dataframe tbody tr th:only-of-type {\n        vertical-align: middle;\n    }\n\n    .dataframe tbody tr th {\n        vertical-align: top;\n    }\n\n    .dataframe thead th {\n        text-align: right;\n    }\n</style>\n<table border=\"1\" class=\"dataframe\">\n  <thead>\n    <tr style=\"text-align: right;\">\n      <th></th>\n      <th></th>\n      <th>INDICATOR</th>\n      <th>Indicator</th>\n      <th>OBS_VALUE</th>\n    </tr>\n    <tr>\n      <th>Geographic area</th>\n      <th>TIME_PERIOD</th>\n      <th></th>\n      <th></th>\n      <th></th>\n    </tr>\n  </thead>\n  <tbody>\n    <tr>\n      <th>Armenia</th>\n      <th>2018</th>\n      <td>EDUNF_ADMIN_L1_GLAST_REA</td>\n      <td>Administration of nationally representative le...</td>\n      <td>0.0</td>\n    </tr>\n    <tr>\n      <th>Azerbaijan</th>\n      <th>2018</th>\n      <td>EDUNF_ADMIN_L1_GLAST_REA</td>\n      <td>Administration of nationally representative le...</td>\n      <td>1.0</td>\n    </tr>\n    <tr>\n      <th>Georgia</th>\n      <th>2018</th>\n      <td>EDUNF_ADMIN_L1_GLAST_REA</td>\n      <td>Administration of nationally representative le...</td>\n      <td>0.0</td>\n    </tr>\n  </tbody>\n</table>\n</div>"
     },
     "metadata": {},
     "execution_count": 17
    }
   ],
   "source": [
    "# calculation single numerator\n",
    "numerator = [\"EDUNF_ADMIN_L1_GLAST_REA\"]\n",
    "ind_to_query = numerator\n",
    "numerators_df = data.query(query).groupby(\n",
    "    [\n",
    "        \"INDICATOR\",\n",
    "        \"Indicator\",\n",
    "        \"Geographic area\"\n",
    "    ]\n",
    ").agg(\n",
    "    {\"TIME_PERIOD\": \"last\", \"OBS_VALUE\": \"last\"}\n",
    ").reset_index().set_index([\"Geographic area\", \"TIME_PERIOD\"])\n",
    "numerators_df"
   ]
  },
  {
   "cell_type": "code",
   "execution_count": 18,
   "metadata": {},
   "outputs": [
    {
     "output_type": "execute_result",
     "data": {
      "text/plain": [
       "                                            INDICATOR  \\\n",
       "Geographic area TIME_PERIOD                             \n",
       "Armenia         2018         EDUNF_ADMIN_L1_GLAST_MAT   \n",
       "Azerbaijan      2018         EDUNF_ADMIN_L1_GLAST_MAT   \n",
       "Georgia         2018         EDUNF_ADMIN_L1_GLAST_MAT   \n",
       "\n",
       "                                                                     Indicator  \\\n",
       "Geographic area TIME_PERIOD                                                      \n",
       "Armenia         2018         Administration of nationally representative le...   \n",
       "Azerbaijan      2018         Administration of nationally representative le...   \n",
       "Georgia         2018         Administration of nationally representative le...   \n",
       "\n",
       "                             OBS_VALUE  \n",
       "Geographic area TIME_PERIOD             \n",
       "Armenia         2018               1.0  \n",
       "Azerbaijan      2018               0.0  \n",
       "Georgia         2018               0.0  "
      ],
      "text/html": "<div>\n<style scoped>\n    .dataframe tbody tr th:only-of-type {\n        vertical-align: middle;\n    }\n\n    .dataframe tbody tr th {\n        vertical-align: top;\n    }\n\n    .dataframe thead th {\n        text-align: right;\n    }\n</style>\n<table border=\"1\" class=\"dataframe\">\n  <thead>\n    <tr style=\"text-align: right;\">\n      <th></th>\n      <th></th>\n      <th>INDICATOR</th>\n      <th>Indicator</th>\n      <th>OBS_VALUE</th>\n    </tr>\n    <tr>\n      <th>Geographic area</th>\n      <th>TIME_PERIOD</th>\n      <th></th>\n      <th></th>\n      <th></th>\n    </tr>\n  </thead>\n  <tbody>\n    <tr>\n      <th>Armenia</th>\n      <th>2018</th>\n      <td>EDUNF_ADMIN_L1_GLAST_MAT</td>\n      <td>Administration of nationally representative le...</td>\n      <td>1.0</td>\n    </tr>\n    <tr>\n      <th>Azerbaijan</th>\n      <th>2018</th>\n      <td>EDUNF_ADMIN_L1_GLAST_MAT</td>\n      <td>Administration of nationally representative le...</td>\n      <td>0.0</td>\n    </tr>\n    <tr>\n      <th>Georgia</th>\n      <th>2018</th>\n      <td>EDUNF_ADMIN_L1_GLAST_MAT</td>\n      <td>Administration of nationally representative le...</td>\n      <td>0.0</td>\n    </tr>\n  </tbody>\n</table>\n</div>"
     },
     "metadata": {},
     "execution_count": 18
    }
   ],
   "source": [
    "# calculation single numerator\n",
    "numerator = [\"EDUNF_ADMIN_L1_GLAST_MAT\"]\n",
    "ind_to_query = numerator\n",
    "numerators_df = data.query(query).groupby(\n",
    "    [\n",
    "        \"INDICATOR\",\n",
    "        \"Indicator\",\n",
    "        \"Geographic area\"\n",
    "    ]\n",
    ").agg(\n",
    "    {\"TIME_PERIOD\": \"last\", \"OBS_VALUE\": \"last\"}\n",
    ").reset_index().set_index([\"Geographic area\", \"TIME_PERIOD\"])\n",
    "numerators_df"
   ]
  },
  {
   "cell_type": "code",
   "execution_count": 19,
   "metadata": {},
   "outputs": [
    {
     "output_type": "execute_result",
     "data": {
      "text/plain": [
       "                                        INDICATOR  \\\n",
       "Geographic area TIME_PERIOD                         \n",
       "Armenia         2018         EDU_SDG_FREE_EDU_L02   \n",
       "Azerbaijan      2018         EDU_SDG_FREE_EDU_L02   \n",
       "Georgia         2018         EDU_SDG_FREE_EDU_L02   \n",
       "\n",
       "                                                                     Indicator  \\\n",
       "Geographic area TIME_PERIOD                                                      \n",
       "Armenia         2018         Number of years of free pre-primary education ...   \n",
       "Azerbaijan      2018         Number of years of free pre-primary education ...   \n",
       "Georgia         2018         Number of years of free pre-primary education ...   \n",
       "\n",
       "                             OBS_VALUE  \n",
       "Geographic area TIME_PERIOD             \n",
       "Armenia         2018               3.0  \n",
       "Azerbaijan      2018               5.0  \n",
       "Georgia         2018               0.0  "
      ],
      "text/html": "<div>\n<style scoped>\n    .dataframe tbody tr th:only-of-type {\n        vertical-align: middle;\n    }\n\n    .dataframe tbody tr th {\n        vertical-align: top;\n    }\n\n    .dataframe thead th {\n        text-align: right;\n    }\n</style>\n<table border=\"1\" class=\"dataframe\">\n  <thead>\n    <tr style=\"text-align: right;\">\n      <th></th>\n      <th></th>\n      <th>INDICATOR</th>\n      <th>Indicator</th>\n      <th>OBS_VALUE</th>\n    </tr>\n    <tr>\n      <th>Geographic area</th>\n      <th>TIME_PERIOD</th>\n      <th></th>\n      <th></th>\n      <th></th>\n    </tr>\n  </thead>\n  <tbody>\n    <tr>\n      <th>Armenia</th>\n      <th>2018</th>\n      <td>EDU_SDG_FREE_EDU_L02</td>\n      <td>Number of years of free pre-primary education ...</td>\n      <td>3.0</td>\n    </tr>\n    <tr>\n      <th>Azerbaijan</th>\n      <th>2018</th>\n      <td>EDU_SDG_FREE_EDU_L02</td>\n      <td>Number of years of free pre-primary education ...</td>\n      <td>5.0</td>\n    </tr>\n    <tr>\n      <th>Georgia</th>\n      <th>2018</th>\n      <td>EDU_SDG_FREE_EDU_L02</td>\n      <td>Number of years of free pre-primary education ...</td>\n      <td>0.0</td>\n    </tr>\n  </tbody>\n</table>\n</div>"
     },
     "metadata": {},
     "execution_count": 19
    }
   ],
   "source": [
    "# calculation single numerator\n",
    "numerator = [\"EDU_SDG_FREE_EDU_L02\"]\n",
    "ind_to_query = numerator\n",
    "numerators_df = data.query(query).groupby(\n",
    "    [\n",
    "        \"INDICATOR\",\n",
    "        \"Indicator\",\n",
    "        \"Geographic area\"\n",
    "    ]\n",
    ").agg(\n",
    "    {\"TIME_PERIOD\": \"last\", \"OBS_VALUE\": \"last\"}\n",
    ").reset_index().set_index([\"Geographic area\", \"TIME_PERIOD\"])\n",
    "numerators_df"
   ]
  },
  {
   "cell_type": "code",
   "execution_count": 20,
   "metadata": {},
   "outputs": [
    {
     "output_type": "execute_result",
     "data": {
      "text/plain": [
       "                             OBS_VALUE  DATA_SOURCE\n",
       "Geographic area TIME_PERIOD                        \n",
       "Armenia         2011           29523.0            3\n",
       "Azerbaijan      2018           32589.0            3\n",
       "Georgia         2018           11265.0            3"
      ],
      "text/html": "<div>\n<style scoped>\n    .dataframe tbody tr th:only-of-type {\n        vertical-align: middle;\n    }\n\n    .dataframe tbody tr th {\n        vertical-align: top;\n    }\n\n    .dataframe thead th {\n        text-align: right;\n    }\n</style>\n<table border=\"1\" class=\"dataframe\">\n  <thead>\n    <tr style=\"text-align: right;\">\n      <th></th>\n      <th></th>\n      <th>OBS_VALUE</th>\n      <th>DATA_SOURCE</th>\n    </tr>\n    <tr>\n      <th>Geographic area</th>\n      <th>TIME_PERIOD</th>\n      <th></th>\n      <th></th>\n    </tr>\n  </thead>\n  <tbody>\n    <tr>\n      <th>Armenia</th>\n      <th>2011</th>\n      <td>29523.0</td>\n      <td>3</td>\n    </tr>\n    <tr>\n      <th>Azerbaijan</th>\n      <th>2018</th>\n      <td>32589.0</td>\n      <td>3</td>\n    </tr>\n    <tr>\n      <th>Georgia</th>\n      <th>2018</th>\n      <td>11265.0</td>\n      <td>3</td>\n    </tr>\n  </tbody>\n</table>\n</div>"
     },
     "metadata": {},
     "execution_count": 20
    }
   ],
   "source": [
    "# calculation with a \"pack\" of numerators\n",
    "numerator = [\"EDUNF_OFST_L1\", \"EDUNF_OFST_L2\", \"EDUNF_OFST_L3\"]\n",
    "ind_to_query = numerator\n",
    "numerators_df = data.query(query).groupby(\n",
    "    [\n",
    "        \"Geographic area\",\n",
    "        \"TIME_PERIOD\"\n",
    "    ]\n",
    ").agg(\n",
    "    {\"OBS_VALUE\": \"sum\", \"DATA_SOURCE\": \"count\"}\n",
    ").reset_index()\n",
    "numerator_pairs = numerators_df[numerators_df.DATA_SOURCE == len(ind_to_query)].groupby(\n",
    "    \"Geographic area\", as_index=False\n",
    ").last().set_index([\"Geographic area\", \"TIME_PERIOD\"])\n",
    "numerator_pairs"
   ]
  },
  {
   "cell_type": "code",
   "execution_count": 21,
   "metadata": {},
   "outputs": [
    {
     "output_type": "execute_result",
     "data": {
      "text/plain": [
       "2.8"
      ]
     },
     "metadata": {},
     "execution_count": 21
    }
   ],
   "source": [
    "# regional average using \"pack\" of numerators and one denominator\n",
    "round(numerator_pairs.loc[ind_intersect][\"OBS_VALUE\"].sum() / \n",
    "      denominators_df.loc[ind_intersect][\"OBS_VALUE\"].sum()*100,1)"
   ]
  },
  {
   "cell_type": "code",
   "execution_count": 22,
   "metadata": {},
   "outputs": [
    {
     "output_type": "execute_result",
     "data": {
      "text/plain": [
       "                             OBS_VALUE  DATA_SOURCE\n",
       "Geographic area TIME_PERIOD                        \n",
       "Armenia         2011           12799.0            3\n",
       "Georgia         2014            8205.0            3"
      ],
      "text/html": "<div>\n<style scoped>\n    .dataframe tbody tr th:only-of-type {\n        vertical-align: middle;\n    }\n\n    .dataframe tbody tr th {\n        vertical-align: top;\n    }\n\n    .dataframe thead th {\n        text-align: right;\n    }\n</style>\n<table border=\"1\" class=\"dataframe\">\n  <thead>\n    <tr style=\"text-align: right;\">\n      <th></th>\n      <th></th>\n      <th>OBS_VALUE</th>\n      <th>DATA_SOURCE</th>\n    </tr>\n    <tr>\n      <th>Geographic area</th>\n      <th>TIME_PERIOD</th>\n      <th></th>\n      <th></th>\n    </tr>\n  </thead>\n  <tbody>\n    <tr>\n      <th>Armenia</th>\n      <th>2011</th>\n      <td>12799.0</td>\n      <td>3</td>\n    </tr>\n    <tr>\n      <th>Georgia</th>\n      <th>2014</th>\n      <td>8205.0</td>\n      <td>3</td>\n    </tr>\n  </tbody>\n</table>\n</div>"
     },
     "metadata": {},
     "execution_count": 22
    }
   ],
   "source": [
    "# calculation with a \"pack\" of numerators (REDONE FOR SEX FEMALE)\n",
    "sex_code = [\"F\"]\n",
    "query = (\n",
    "        \"INDICATOR in @ind_to_query & TIME_PERIOD in @time & `Geographic area` in @countries & SEX in @sex_code \\\n",
    "& RESIDENCE in @total_code & WEALTH_QUINTILE in @total_code\"\n",
    "    )\n",
    "numerator = [\"EDUNF_OFST_L1\", \"EDUNF_OFST_L2\", \"EDUNF_OFST_L3\"]\n",
    "ind_to_query = numerator\n",
    "numerators_df = data.query(query).groupby(\n",
    "    [\n",
    "        \"Geographic area\",\n",
    "        \"TIME_PERIOD\"\n",
    "    ]\n",
    ").agg(\n",
    "    {\"OBS_VALUE\": \"sum\", \"DATA_SOURCE\": \"count\"}\n",
    ").reset_index()\n",
    "numerator_pairs = numerators_df[numerators_df.DATA_SOURCE == len(ind_to_query)].groupby(\n",
    "    \"Geographic area\", as_index=False\n",
    ").last().set_index([\"Geographic area\", \"TIME_PERIOD\"])\n",
    "numerator_pairs"
   ]
  },
  {
   "cell_type": "code",
   "execution_count": 23,
   "metadata": {},
   "outputs": [
    {
     "output_type": "execute_result",
     "data": {
      "text/plain": [
       "                             OBS_VALUE  DATA_SOURCE\n",
       "Geographic area TIME_PERIOD                        \n",
       "Armenia         2018             763.0            2\n",
       "Azerbaijan      2018            2588.0            2\n",
       "Georgia         2018            2736.0            2"
      ],
      "text/html": "<div>\n<style scoped>\n    .dataframe tbody tr th:only-of-type {\n        vertical-align: middle;\n    }\n\n    .dataframe tbody tr th {\n        vertical-align: top;\n    }\n\n    .dataframe thead th {\n        text-align: right;\n    }\n</style>\n<table border=\"1\" class=\"dataframe\">\n  <thead>\n    <tr style=\"text-align: right;\">\n      <th></th>\n      <th></th>\n      <th>OBS_VALUE</th>\n      <th>DATA_SOURCE</th>\n    </tr>\n    <tr>\n      <th>Geographic area</th>\n      <th>TIME_PERIOD</th>\n      <th></th>\n      <th></th>\n    </tr>\n  </thead>\n  <tbody>\n    <tr>\n      <th>Armenia</th>\n      <th>2018</th>\n      <td>763.0</td>\n      <td>2</td>\n    </tr>\n    <tr>\n      <th>Azerbaijan</th>\n      <th>2018</th>\n      <td>2588.0</td>\n      <td>2</td>\n    </tr>\n    <tr>\n      <th>Georgia</th>\n      <th>2018</th>\n      <td>2736.0</td>\n      <td>2</td>\n    </tr>\n  </tbody>\n</table>\n</div>"
     },
     "metadata": {},
     "execution_count": 23
    }
   ],
   "source": [
    "# calculation with a \"pack\" of numerators (repeaters)\n",
    "sex_code = [\"_T\"]\n",
    "numerator = [\"EDUNF_RPTR_L1\",\"EDUNF_RPTR_L2\"]\n",
    "ind_to_query = numerator\n",
    "numerators_df = data.query(query).groupby(\n",
    "    [\n",
    "        \"Geographic area\",\n",
    "        \"TIME_PERIOD\"\n",
    "    ]\n",
    ").agg(\n",
    "    {\"OBS_VALUE\": \"sum\", \"DATA_SOURCE\": \"count\"}\n",
    ").reset_index()\n",
    "numerator_pairs = numerators_df[numerators_df.DATA_SOURCE == len(ind_to_query)].groupby(\n",
    "    \"Geographic area\", as_index=False\n",
    ").last().set_index([\"Geographic area\", \"TIME_PERIOD\"])\n",
    "numerator_pairs"
   ]
  },
  {
   "cell_type": "code",
   "execution_count": 24,
   "metadata": {},
   "outputs": [
    {
     "output_type": "execute_result",
     "data": {
      "text/plain": [
       "                               OBS_VALUE  DATA_SOURCE\n",
       "Geographic area TIME_PERIOD                          \n",
       "Azerbaijan      2009         1165.674206            3\n",
       "Georgia         2018         1160.002502            3"
      ],
      "text/html": "<div>\n<style scoped>\n    .dataframe tbody tr th:only-of-type {\n        vertical-align: middle;\n    }\n\n    .dataframe tbody tr th {\n        vertical-align: top;\n    }\n\n    .dataframe thead th {\n        text-align: right;\n    }\n</style>\n<table border=\"1\" class=\"dataframe\">\n  <thead>\n    <tr style=\"text-align: right;\">\n      <th></th>\n      <th></th>\n      <th>OBS_VALUE</th>\n      <th>DATA_SOURCE</th>\n    </tr>\n    <tr>\n      <th>Geographic area</th>\n      <th>TIME_PERIOD</th>\n      <th></th>\n      <th></th>\n    </tr>\n  </thead>\n  <tbody>\n    <tr>\n      <th>Azerbaijan</th>\n      <th>2009</th>\n      <td>1165.674206</td>\n      <td>3</td>\n    </tr>\n    <tr>\n      <th>Georgia</th>\n      <th>2018</th>\n      <td>1160.002502</td>\n      <td>3</td>\n    </tr>\n  </tbody>\n</table>\n</div>"
     },
     "metadata": {},
     "execution_count": 24
    }
   ],
   "source": [
    "# calculation with a \"pack\" of numerators (PISA)\n",
    "numerator = [\"EDU_PISA_MAT\",\"EDU_PISA_REA\",\"EDU_PISA_SCI\"]\n",
    "ind_to_query = numerator\n",
    "numerators_df = data.query(query).groupby(\n",
    "    [\n",
    "        \"Geographic area\",\n",
    "        \"TIME_PERIOD\"\n",
    "    ]\n",
    ").agg(\n",
    "    {\"OBS_VALUE\": \"sum\", \"DATA_SOURCE\": \"count\"}\n",
    ").reset_index()\n",
    "# check all PISA not only those appearing for all \"pack\" of numerators\n",
    "numerator_pairs = numerators_df.groupby(\"Geographic area\", as_index=False).last().set_index([\"Geographic area\", \"TIME_PERIOD\"])\n",
    "numerator_pairs"
   ]
  },
  {
   "cell_type": "code",
   "execution_count": 25,
   "metadata": {},
   "outputs": [
    {
     "output_type": "execute_result",
     "data": {
      "text/plain": [
       "                             OBS_VALUE  DATA_SOURCE\n",
       "Geographic area TIME_PERIOD                        \n",
       "Armenia         2018            9353.0            3\n",
       "Azerbaijan      2018          126300.0            3\n",
       "Georgia         2018           60062.0            3"
      ],
      "text/html": "<div>\n<style scoped>\n    .dataframe tbody tr th:only-of-type {\n        vertical-align: middle;\n    }\n\n    .dataframe tbody tr th {\n        vertical-align: top;\n    }\n\n    .dataframe thead th {\n        text-align: right;\n    }\n</style>\n<table border=\"1\" class=\"dataframe\">\n  <thead>\n    <tr style=\"text-align: right;\">\n      <th></th>\n      <th></th>\n      <th>OBS_VALUE</th>\n      <th>DATA_SOURCE</th>\n    </tr>\n    <tr>\n      <th>Geographic area</th>\n      <th>TIME_PERIOD</th>\n      <th></th>\n      <th></th>\n    </tr>\n  </thead>\n  <tbody>\n    <tr>\n      <th>Armenia</th>\n      <th>2018</th>\n      <td>9353.0</td>\n      <td>3</td>\n    </tr>\n    <tr>\n      <th>Azerbaijan</th>\n      <th>2018</th>\n      <td>126300.0</td>\n      <td>3</td>\n    </tr>\n    <tr>\n      <th>Georgia</th>\n      <th>2018</th>\n      <td>60062.0</td>\n      <td>3</td>\n    </tr>\n  </tbody>\n</table>\n</div>"
     },
     "metadata": {},
     "execution_count": 25
    }
   ],
   "source": [
    "# calculation with a \"pack\" of numerators (private enrolments)\n",
    "numerator = [\"EDUNF_STU_L1_PRV\",\"EDUNF_STU_L2_PRV\",\"EDUNF_STU_L3_PRV\"]\n",
    "ind_to_query = numerator\n",
    "numerators_df = data.query(query).groupby(\n",
    "    [\n",
    "        \"Geographic area\",\n",
    "        \"TIME_PERIOD\"\n",
    "    ]\n",
    ").agg(\n",
    "    {\"OBS_VALUE\": \"sum\", \"DATA_SOURCE\": \"count\"}\n",
    ").reset_index()\n",
    "# check all PISA not only those appearing for all \"pack\" of numerators\n",
    "numerator_pairs = numerators_df.groupby(\"Geographic area\", as_index=False).last().set_index([\"Geographic area\", \"TIME_PERIOD\"])\n",
    "numerator_pairs"
   ]
  },
  {
   "cell_type": "code",
   "execution_count": 26,
   "metadata": {},
   "outputs": [
    {
     "output_type": "execute_result",
     "data": {
      "text/plain": [
       "                             OBS_VALUE  DATA_SOURCE\n",
       "Geographic area TIME_PERIOD                        \n",
       "Armenia         2018           39261.0            3\n",
       "Azerbaijan      2018          165375.0            3\n",
       "Georgia         2018           71016.0            3"
      ],
      "text/html": "<div>\n<style scoped>\n    .dataframe tbody tr th:only-of-type {\n        vertical-align: middle;\n    }\n\n    .dataframe tbody tr th {\n        vertical-align: top;\n    }\n\n    .dataframe thead th {\n        text-align: right;\n    }\n</style>\n<table border=\"1\" class=\"dataframe\">\n  <thead>\n    <tr style=\"text-align: right;\">\n      <th></th>\n      <th></th>\n      <th>OBS_VALUE</th>\n      <th>DATA_SOURCE</th>\n    </tr>\n    <tr>\n      <th>Geographic area</th>\n      <th>TIME_PERIOD</th>\n      <th></th>\n      <th></th>\n    </tr>\n  </thead>\n  <tbody>\n    <tr>\n      <th>Armenia</th>\n      <th>2018</th>\n      <td>39261.0</td>\n      <td>3</td>\n    </tr>\n    <tr>\n      <th>Azerbaijan</th>\n      <th>2018</th>\n      <td>165375.0</td>\n      <td>3</td>\n    </tr>\n    <tr>\n      <th>Georgia</th>\n      <th>2018</th>\n      <td>71016.0</td>\n      <td>3</td>\n    </tr>\n  </tbody>\n</table>\n</div>"
     },
     "metadata": {},
     "execution_count": 26
    }
   ],
   "source": [
    "# calculation with a \"pack\" of numerators (private enrolments)\n",
    "numerator = [\"EDUNF_TEACH_L1\", \"EDUNF_TEACH_L2\", \"EDUNF_TEACH_L3\"]\n",
    "ind_to_query = numerator\n",
    "numerators_df = data.query(query).groupby(\n",
    "    [\n",
    "        \"Geographic area\",\n",
    "        \"TIME_PERIOD\"\n",
    "    ]\n",
    ").agg(\n",
    "    {\"OBS_VALUE\": \"sum\", \"DATA_SOURCE\": \"count\"}\n",
    ").reset_index()\n",
    "# check all PISA not only those appearing for all \"pack\" of numerators\n",
    "numerator_pairs = numerators_df.groupby(\"Geographic area\", as_index=False).last().set_index([\"Geographic area\", \"TIME_PERIOD\"])\n",
    "numerator_pairs"
   ]
  },
  {
   "cell_type": "code",
   "execution_count": 27,
   "metadata": {},
   "outputs": [
    {
     "output_type": "execute_result",
     "data": {
      "text/plain": [
       "                             OBS_VALUE  DATA_SOURCE\n",
       "Geographic area TIME_PERIOD                        \n",
       "Armenia         2018          35.14269            1\n",
       "Azerbaijan      2018          35.36377            1"
      ],
      "text/html": "<div>\n<style scoped>\n    .dataframe tbody tr th:only-of-type {\n        vertical-align: middle;\n    }\n\n    .dataframe tbody tr th {\n        vertical-align: top;\n    }\n\n    .dataframe thead th {\n        text-align: right;\n    }\n</style>\n<table border=\"1\" class=\"dataframe\">\n  <thead>\n    <tr style=\"text-align: right;\">\n      <th></th>\n      <th></th>\n      <th>OBS_VALUE</th>\n      <th>DATA_SOURCE</th>\n    </tr>\n    <tr>\n      <th>Geographic area</th>\n      <th>TIME_PERIOD</th>\n      <th></th>\n      <th></th>\n    </tr>\n  </thead>\n  <tbody>\n    <tr>\n      <th>Armenia</th>\n      <th>2018</th>\n      <td>35.14269</td>\n      <td>1</td>\n    </tr>\n    <tr>\n      <th>Azerbaijan</th>\n      <th>2018</th>\n      <td>35.36377</td>\n      <td>1</td>\n    </tr>\n  </tbody>\n</table>\n</div>"
     },
     "metadata": {},
     "execution_count": 27
    }
   ],
   "source": [
    "# check the call with rates! (and only one numerator in the list)\n",
    "numerator = [\"EDUNF_NER_L02\"]\n",
    "ind_to_query = numerator\n",
    "numerators_df = data.query(query).groupby(\n",
    "    [\n",
    "        \"Geographic area\",\n",
    "        \"TIME_PERIOD\"\n",
    "    ]\n",
    ").agg(\n",
    "    {\"OBS_VALUE\": \"sum\", \"DATA_SOURCE\": \"count\"}\n",
    ").reset_index()\n",
    "numerator_pairs = numerators_df[numerators_df.DATA_SOURCE == len(ind_to_query)].groupby(\n",
    "    \"Geographic area\", as_index=False\n",
    ").last().set_index([\"Geographic area\", \"TIME_PERIOD\"])\n",
    "numerator_pairs"
   ]
  },
  {
   "cell_type": "code",
   "execution_count": 28,
   "metadata": {},
   "outputs": [],
   "source": [
    "denominator = [\"EDUNF_SAP_L02\"]\n",
    "# select the denominators and set them with numerator compound-index\n",
    "ind_to_query = denominator\n",
    "denominators_df = data.query(query).set_index([\"Geographic area\", \"TIME_PERIOD\"])"
   ]
  },
  {
   "cell_type": "code",
   "execution_count": 29,
   "metadata": {},
   "outputs": [],
   "source": [
    "# select only those denominators that match avalible indicators\n",
    "ind_intersect = numerator_pairs.index.intersection(\n",
    "    denominators_df.index)"
   ]
  },
  {
   "cell_type": "code",
   "execution_count": 30,
   "metadata": {},
   "outputs": [
    {
     "output_type": "execute_result",
     "data": {
      "text/plain": [
       "35.3"
      ]
     },
     "metadata": {},
     "execution_count": 30
    }
   ],
   "source": [
    "absolute = False\n",
    "denominators = denominators_df.loc[ind_intersect][\"OBS_VALUE\"]\n",
    "indicator_sum = (\n",
    "    numerator_pairs.loc[ind_intersect][\"OBS_VALUE\"].to_numpy().sum(\n",
    "    )*100 / denominators.to_numpy().sum()\n",
    "    if absolute\n",
    "    else (\n",
    "        numerator_pairs[\"OBS_VALUE\"] * denominators / denominators.to_numpy().sum()\n",
    "    ).dropna().to_numpy().sum()\n",
    ")\n",
    "# will drop missing countires\n",
    "round(indicator_sum,1)"
   ]
  },
  {
   "cell_type": "code",
   "execution_count": 31,
   "metadata": {},
   "outputs": [
    {
     "output_type": "execute_result",
     "data": {
      "text/plain": [
       "Geographic area  TIME_PERIOD\n",
       "Armenia          2018           129438.0\n",
       "Azerbaijan       2018           511204.0\n",
       "Name: OBS_VALUE, dtype: float64"
      ]
     },
     "metadata": {},
     "execution_count": 31
    }
   ],
   "source": [
    "# check it out BETO!\n",
    "denominators"
   ]
  },
  {
   "cell_type": "code",
   "execution_count": 32,
   "metadata": {},
   "outputs": [
    {
     "output_type": "stream",
     "name": "stdout",
     "text": [
      "35.319102068393896\n36.23971564676365\n"
     ]
    }
   ],
   "source": [
    "print((35.14269*129438.0 + 35.36377*511204.0) / (129438.0 + 511204.0))\n",
    "print((35.14269*129438.0 + 35.36377*511204.0 + 40.53383*137347.0) / (129438.0 + 511204.0 + 137347.0))"
   ]
  },
  {
   "cell_type": "code",
   "execution_count": 33,
   "metadata": {},
   "outputs": [
    {
     "output_type": "execute_result",
     "data": {
      "text/plain": [
       "                             OBS_VALUE  DATA_SOURCE\n",
       "Geographic area TIME_PERIOD                        \n",
       "Armenia         2016          96.96779            1\n",
       "Georgia         2013          98.65000            1"
      ],
      "text/html": "<div>\n<style scoped>\n    .dataframe tbody tr th:only-of-type {\n        vertical-align: middle;\n    }\n\n    .dataframe tbody tr th {\n        vertical-align: top;\n    }\n\n    .dataframe thead th {\n        text-align: right;\n    }\n</style>\n<table border=\"1\" class=\"dataframe\">\n  <thead>\n    <tr style=\"text-align: right;\">\n      <th></th>\n      <th></th>\n      <th>OBS_VALUE</th>\n      <th>DATA_SOURCE</th>\n    </tr>\n    <tr>\n      <th>Geographic area</th>\n      <th>TIME_PERIOD</th>\n      <th></th>\n      <th></th>\n    </tr>\n  </thead>\n  <tbody>\n    <tr>\n      <th>Armenia</th>\n      <th>2016</th>\n      <td>96.96779</td>\n      <td>1</td>\n    </tr>\n    <tr>\n      <th>Georgia</th>\n      <th>2013</th>\n      <td>98.65000</td>\n      <td>1</td>\n    </tr>\n  </tbody>\n</table>\n</div>"
     },
     "metadata": {},
     "execution_count": 33
    }
   ],
   "source": [
    "# check the call with rates! (and only one numerator in the list)\n",
    "numerator = [\"EDUNF_CR_L2\"]\n",
    "ind_to_query = numerator\n",
    "numerators_df = data.query(query).groupby(\n",
    "    [\n",
    "        \"Geographic area\",\n",
    "        \"TIME_PERIOD\"\n",
    "    ]\n",
    ").agg(\n",
    "    {\"OBS_VALUE\": \"sum\", \"DATA_SOURCE\": \"count\"}\n",
    ").reset_index()\n",
    "numerator_pairs = numerators_df[numerators_df.DATA_SOURCE == len(ind_to_query)].groupby(\n",
    "    \"Geographic area\", as_index=False\n",
    ").last().set_index([\"Geographic area\", \"TIME_PERIOD\"])\n",
    "numerator_pairs"
   ]
  },
  {
   "cell_type": "code",
   "execution_count": 34,
   "metadata": {},
   "outputs": [],
   "source": [
    "denominator = [\"EDUNF_SAP_L2\"]\n",
    "# select the denominators and set them with numerator compound-index\n",
    "ind_to_query = denominator\n",
    "denominators_df = data.query(query).set_index([\"Geographic area\", \"TIME_PERIOD\"])"
   ]
  },
  {
   "cell_type": "code",
   "execution_count": 35,
   "metadata": {},
   "outputs": [],
   "source": [
    "# select only those denominators that match avalible indicators\n",
    "ind_intersect = numerator_pairs.index.intersection(\n",
    "    denominators_df.index)"
   ]
  },
  {
   "cell_type": "code",
   "execution_count": 36,
   "metadata": {},
   "outputs": [
    {
     "output_type": "execute_result",
     "data": {
      "text/plain": [
       "97.7257"
      ]
     },
     "metadata": {},
     "execution_count": 36
    }
   ],
   "source": [
    "absolute = False\n",
    "denominators = denominators_df.loc[ind_intersect][\"OBS_VALUE\"]\n",
    "indicator_sum = (\n",
    "    numerator_pairs.loc[ind_intersect][\"OBS_VALUE\"].to_numpy().sum(\n",
    "    )*100 / denominators.to_numpy().sum()\n",
    "    if absolute\n",
    "    else (\n",
    "        numerator_pairs[\"OBS_VALUE\"] * denominators / denominators.to_numpy().sum()\n",
    "    ).dropna().to_numpy().sum()\n",
    ")\n",
    "# will drop missing countires\n",
    "round(indicator_sum,4)"
   ]
  },
  {
   "cell_type": "code",
   "execution_count": 37,
   "metadata": {},
   "outputs": [
    {
     "output_type": "execute_result",
     "data": {
      "text/plain": [
       "Geographic area  TIME_PERIOD\n",
       "Armenia          2016           173593.0\n",
       "Georgia          2013           142350.0\n",
       "Name: OBS_VALUE, dtype: float64"
      ]
     },
     "metadata": {},
     "execution_count": 37
    }
   ],
   "source": [
    "# check it out BETO!\n",
    "denominators"
   ]
  },
  {
   "cell_type": "code",
   "execution_count": 38,
   "metadata": {},
   "outputs": [
    {
     "output_type": "stream",
     "name": "stdout",
     "text": [
      "97.72571973257834\n93.27491844405644\n"
     ]
    }
   ],
   "source": [
    "print((96.96779*173593.0 + 98.65000*142350.0) / (173593.0 + 142350.0))\n",
    "print((96.96779*173593.0 + 98.65000*142350.0 + 91.65569*868438.0) / (173593.0 + 142350.0 + 868438.0))"
   ]
  },
  {
   "cell_type": "code",
   "execution_count": 39,
   "metadata": {},
   "outputs": [],
   "source": [
    "# actual function implemented in base page DASH\n",
    "def indicator_card(\n",
    "    time,\n",
    "    countries,\n",
    "    numerator,\n",
    "    suffix,\n",
    "    denominator=None,\n",
    "    absolute=False,\n",
    "    sex_code = [\"_T\"]\n",
    "):\n",
    "    # sex_code = [\"_T\"]  # potentially move to this config\n",
    "    total_code = [\"_T\"]  # potentially move to this config\n",
    "    query = \"CODE in @indicator & TIME_PERIOD in @time & `Geographic area` in @countries & SEX in @sex_code \\\n",
    "        & RESIDENCE in @total_code & WEALTH_QUINTILE in @total_code\"\n",
    "    numors = numerator.split(\",\")\n",
    "    indicator = numors\n",
    "    # select last value for each country\n",
    "    indicator_values = (\n",
    "        data.query(query)\n",
    "        .groupby(\n",
    "            [\n",
    "                \"Geographic area\",\n",
    "                \"TIME_PERIOD\",\n",
    "            ]\n",
    "        )\n",
    "        .agg({\"OBS_VALUE\": \"sum\", \"DATA_SOURCE\": \"count\"})\n",
    "    ).reset_index()\n",
    "\n",
    "    numerator_pairs = (\n",
    "        indicator_values[indicator_values.DATA_SOURCE == len(numors)]\n",
    "        .groupby(\"Geographic area\", as_index=False)\n",
    "        .last()\n",
    "        .set_index([\"Geographic area\", \"TIME_PERIOD\"])\n",
    "    )\n",
    "\n",
    "    # check for denominator\n",
    "    if denominator:\n",
    "        # select the avalible denominators for countiries in selected years\n",
    "        indicator = [denominator]\n",
    "        denominator_values = data.query(query).set_index([\"Geographic area\", \"TIME_PERIOD\"])\n",
    "        # select only those denominators that match avalible indicators\n",
    "        index_intersect = numerator_pairs.index.intersection(denominator_values.index)\n",
    "\n",
    "        denominators = denominator_values.loc[index_intersect][\"OBS_VALUE\"]\n",
    "    \n",
    "\n",
    "        indicator_sum = (\n",
    "            numerator_pairs.loc[index_intersect][\"OBS_VALUE\"].to_numpy().sum()\n",
    "            / denominators.to_numpy().sum()\n",
    "            * 100\n",
    "            if absolute\n",
    "            else (\n",
    "                numerator_pairs[\"OBS_VALUE\"] * denominators / denominators.to_numpy().sum()\n",
    "            )\n",
    "            .dropna()  # will drop missing countires\n",
    "            .to_numpy()\n",
    "            .sum()\n",
    "        )\n",
    "        sources = index_intersect.tolist()\n",
    "\n",
    "    elif suffix == \"Countries\":\n",
    "        # this is a hack to accomodate small cases (to discuss with James)\n",
    "        if \"FREE\" in numerator:\n",
    "            # trick to filter number of years of free education\n",
    "            indicator_sum = (numerator_pairs.OBS_VALUE >= 1).to_numpy().sum()\n",
    "            sources = numerator_pairs.index.tolist()\n",
    "        elif absolute:\n",
    "            # trick to accomodate cards for data availability among group of indicators\n",
    "            # doesn't require filtering by count == len(numors)\n",
    "            numerator_pairs = indicator_values.groupby(\"Geographic area\", as_index=False).last().set_index([\"Geographic area\", \"TIME_PERIOD\"])\n",
    "            sources = numerator_pairs.index.tolist()\n",
    "            indicator_sum = len(sources)\n",
    "        else:\n",
    "            # trick to accomodate cards for admin exams (AND for boolean indicators)\n",
    "            # filter exams according to number of indicators\n",
    "            indicator_sum = (numerator_pairs.OBS_VALUE == len(numors)).to_numpy().sum()\n",
    "            sources = numerator_pairs.index.tolist()\n",
    "\n",
    "    else:\n",
    "        indicator_sum = numerator_pairs[\"OBS_VALUE\"].to_numpy().sum()\n",
    "        sources = numerator_pairs.index.tolist()\n",
    "\n",
    "    return (\"{:.0f} {}\".format(indicator_sum, suffix), sources)"
   ]
  },
  {
   "cell_type": "code",
   "execution_count": 40,
   "metadata": {},
   "outputs": [
    {
     "output_type": "stream",
     "name": "stdout",
     "text": [
      "3 %\n[('Armenia', 2011), ('Azerbaijan', 2018), ('Georgia', 2018)]\n"
     ]
    }
   ],
   "source": [
    "# rename INDICATOR as CODE as in DASH init.py\n",
    "data.rename(columns={\"INDICATOR\": \"CODE\"}, inplace=True)\n",
    "# test and compare function\n",
    "countries = [\"Armenia\", \"Azerbaijan\", \"Georgia\"]\n",
    "time = list(range(2008,2021))\n",
    "numerator = \"EDUNF_OFST_L1,EDUNF_OFST_L2,EDUNF_OFST_L3\"\n",
    "# numerator = \"EDUNF_OFST_L1T3\"\n",
    "denominator = \"EDUNF_SAP_L1T3\"\n",
    "# numerator = \"EDUNF_CR_L2\"\n",
    "# denominator = \"EDUNF_SAP_L2\"\n",
    "# numerator = \"EDUNF_NER_L02\"\n",
    "# denominator = \"EDUNF_SAP_L02\"\n",
    "suffix = \"%\"\n",
    "absolute = True\n",
    "a, b = indicator_card(time,countries,numerator,suffix,denominator,absolute)\n",
    "print(a)\n",
    "print(b)"
   ]
  },
  {
   "cell_type": "code",
   "execution_count": 41,
   "metadata": {},
   "outputs": [],
   "source": [
    "# Test of Cards Version 2\n",
    "participation = [\n",
    "    {\n",
    "        \"name\": \"Total Number OOS (P+LS+US)\",\n",
    "        \"indicator\": \"EDUNF_OFST_L1,EDUNF_OFST_L2,EDUNF_OFST_L3\",\n",
    "        \"suffix\": \"Children, Adolescents and Youth\",\n",
    "    },\n",
    "    {\n",
    "        \"name\": \"Number of Girls OOS (P+LS+US)\",\n",
    "        \"indicator\": \"EDUNF_OFST_L1,EDUNF_OFST_L2,EDUNF_OFST_L3\",\n",
    "        \"suffix\": \"Female Children, Adolescents and Youth\",\n",
    "        \"sex\": \"F\",\n",
    "    },\n",
    "    {\n",
    "        \"name\": \"Total Number OOS Under-1 Year (P)\",\n",
    "        \"indicator\": \"EDUNF_OFST_L1_UNDER1\",\n",
    "        \"suffix\": \"Children under-1 year of the primary official entry age\",\n",
    "    },\n",
    "]"
   ]
  },
  {
   "cell_type": "code",
   "execution_count": 42,
   "metadata": {},
   "outputs": [
    {
     "output_type": "stream",
     "name": "stdout",
     "text": [
      "73377 Children, Adolescents and Youth\n[('Armenia', 2011), ('Azerbaijan', 2018), ('Georgia', 2018)]\n"
     ]
    }
   ],
   "source": [
    "numerator = \"EDUNF_OFST_L1,EDUNF_OFST_L2,EDUNF_OFST_L3\"\n",
    "suffix = \"Children, Adolescents and Youth\"\n",
    "a, b= indicator_card(time,countries,numerator,suffix)\n",
    "print(a)\n",
    "print(b)"
   ]
  },
  {
   "cell_type": "code",
   "execution_count": 43,
   "metadata": {},
   "outputs": [
    {
     "output_type": "execute_result",
     "data": {
      "text/plain": [
       "73377.0"
      ]
     },
     "metadata": {},
     "execution_count": 43
    }
   ],
   "source": [
    "29523.0\t+ 32589.0 + 11265.0"
   ]
  },
  {
   "cell_type": "code",
   "execution_count": 44,
   "metadata": {},
   "outputs": [
    {
     "output_type": "stream",
     "name": "stdout",
     "text": [
      "21004 Children, Adolescents and Youth\n[('Armenia', 2011), ('Georgia', 2014)]\n"
     ]
    }
   ],
   "source": [
    "numerator = \"EDUNF_OFST_L1,EDUNF_OFST_L2,EDUNF_OFST_L3\"\n",
    "suffix = \"Children, Adolescents and Youth\"\n",
    "sex = [\"F\"]\n",
    "a, b= indicator_card(time,countries,numerator,suffix,sex_code=sex)\n",
    "print(a)\n",
    "print(b)"
   ]
  },
  {
   "cell_type": "code",
   "execution_count": 45,
   "metadata": {},
   "outputs": [
    {
     "output_type": "execute_result",
     "data": {
      "text/plain": [
       "21004.0"
      ]
     },
     "metadata": {},
     "execution_count": 45
    }
   ],
   "source": [
    "12799.0 + 8205.0"
   ]
  },
  {
   "cell_type": "code",
   "execution_count": 46,
   "metadata": {},
   "outputs": [
    {
     "output_type": "stream",
     "name": "stdout",
     "text": [
      "75787 Children\n[('Armenia', 2018), ('Azerbaijan', 2018)]\n"
     ]
    }
   ],
   "source": [
    "numerator = \"EDUNF_OFST_L1_UNDER1\"\n",
    "suffix = \"Children\"\n",
    "a, b= indicator_card(time,countries,numerator,suffix)\n",
    "print(a)\n",
    "print(b)"
   ]
  },
  {
   "cell_type": "code",
   "execution_count": 47,
   "metadata": {},
   "outputs": [
    {
     "output_type": "execute_result",
     "data": {
      "text/plain": [
       "75787.0"
      ]
     },
     "metadata": {},
     "execution_count": 47
    }
   ],
   "source": [
    "22591.0 + 53196.0"
   ]
  },
  {
   "cell_type": "code",
   "execution_count": 48,
   "metadata": {},
   "outputs": [],
   "source": [
    "quality =  [\n",
    "    {\n",
    "        \"name\": \"Total Number of Repeaters (P+LS)\",\n",
    "        \"indicator\": \"EDUNF_RPTR_L1,EDUNF_RPTR_L2\",\n",
    "        \"suffix\": \"Children and Adolescents\",\n",
    "    },\n",
    "    {\n",
    "        \"name\": \"Total Number of Early School Leavers (P)\",\n",
    "        \"indicator\": \"EDUNF_ESL_L1\",\n",
    "        \"suffix\": \"Children\",\n",
    "    },\n",
    "    {\n",
    "        \"name\": \"Number of Countries assessing both Math and Reading learning (End Primary)\",\n",
    "        \"indicator\": \"EDUNF_ADMIN_L1_GLAST_REA,EDUNF_ADMIN_L1_GLAST_MAT\",\n",
    "        \"suffix\": \"Countries\",\n",
    "    },\n",
    "    {\n",
    "        \"name\": \"Number of Countries participating in PISA\",\n",
    "        \"indicator\": \"EDU_PISA_MAT,EDU_PISA_REA,EDU_PISA_SCI\",\n",
    "        \"suffix\": \"Countries\",\n",
    "        \"absolute\": True,\n",
    "    },\n",
    "]"
   ]
  },
  {
   "cell_type": "code",
   "execution_count": 49,
   "metadata": {},
   "outputs": [
    {
     "output_type": "stream",
     "name": "stdout",
     "text": [
      "6087 Children and Adolescents\n[('Armenia', 2018), ('Azerbaijan', 2018), ('Georgia', 2018)]\n"
     ]
    }
   ],
   "source": [
    "numerator = \"EDUNF_RPTR_L1,EDUNF_RPTR_L2\"\n",
    "suffix = \"Children and Adolescents\"\n",
    "a, b= indicator_card(time,countries,numerator,suffix)\n",
    "print(a)\n",
    "print(b)"
   ]
  },
  {
   "cell_type": "code",
   "execution_count": 50,
   "metadata": {},
   "outputs": [
    {
     "output_type": "execute_result",
     "data": {
      "text/plain": [
       "6087.0"
      ]
     },
     "metadata": {},
     "execution_count": 50
    }
   ],
   "source": [
    "763.0 + 2588.0 + 2736.0"
   ]
  },
  {
   "cell_type": "code",
   "execution_count": 51,
   "metadata": {},
   "outputs": [
    {
     "output_type": "stream",
     "name": "stdout",
     "text": [
      "11977 Children\n[('Armenia', 2018), ('Azerbaijan', 2018), ('Georgia', 2018)]\n"
     ]
    }
   ],
   "source": [
    "numerator = \"EDUNF_ESL_L1\"\n",
    "suffix = \"Children\"\n",
    "a, b= indicator_card(time,countries,numerator,suffix)\n",
    "print(a)\n",
    "print(b)"
   ]
  },
  {
   "cell_type": "code",
   "execution_count": 52,
   "metadata": {},
   "outputs": [
    {
     "output_type": "execute_result",
     "data": {
      "text/plain": [
       "11977.24557"
      ]
     },
     "metadata": {},
     "execution_count": 52
    }
   ],
   "source": [
    "2176.58087 + 9209.62321 + 591.04149"
   ]
  },
  {
   "cell_type": "code",
   "execution_count": 53,
   "metadata": {},
   "outputs": [
    {
     "output_type": "stream",
     "name": "stdout",
     "text": [
      "0 Countries\n[('Armenia', 2018), ('Azerbaijan', 2018), ('Georgia', 2018)]\n"
     ]
    }
   ],
   "source": [
    "numerator = \"EDUNF_ADMIN_L1_GLAST_REA,EDUNF_ADMIN_L1_GLAST_MAT\"\n",
    "suffix = \"Countries\"\n",
    "a, b= indicator_card(time,countries,numerator,suffix)\n",
    "print(a)\n",
    "print(b)"
   ]
  },
  {
   "cell_type": "code",
   "execution_count": 54,
   "metadata": {},
   "outputs": [
    {
     "output_type": "stream",
     "name": "stdout",
     "text": [
      "2 Countries\n[('Azerbaijan', 2009), ('Georgia', 2018)]\n"
     ]
    }
   ],
   "source": [
    "numerator = \"EDU_PISA_MAT,EDU_PISA_REA,EDU_PISA_SCI\"\n",
    "suffix = \"Countries\"\n",
    "absolute = True\n",
    "a, b= indicator_card(time,countries,numerator,suffix,absolute=absolute)\n",
    "print(a)\n",
    "print(b)"
   ]
  },
  {
   "cell_type": "code",
   "execution_count": 55,
   "metadata": {},
   "outputs": [],
   "source": [
    "governance = [\n",
    "    {\n",
    "        \"name\": \"Number of Countries guaranteeing free education (Pre-Primary 1+ years)\",\n",
    "        \"indicator\": \"EDU_SDG_FREE_EDU_L02\",\n",
    "        \"suffix\": \"Countries\",\n",
    "    },\n",
    "    {\n",
    "        \"name\": \"Enrolments in Private Institutions (P+LS+US)\",\n",
    "        \"indicator\": \"EDUNF_STU_L1_PRV,EDUNF_STU_L2_PRV,EDUNF_STU_L3_PRV\",\n",
    "        \"suffix\": \"Children, Adolescents and Youth\",\n",
    "    },\n",
    "    {\n",
    "        \"name\": \"Total Number of classroom teachers (P+LS+US)\",\n",
    "        \"indicator\": \"EDUNF_TEACH_L1,EDUNF_TEACH_L2,EDUNF_TEACH_L3\",\n",
    "        \"suffix\": \"Persons\",\n",
    "    },\n",
    "]"
   ]
  },
  {
   "cell_type": "code",
   "execution_count": 56,
   "metadata": {},
   "outputs": [
    {
     "output_type": "stream",
     "name": "stdout",
     "text": [
      "2 Countries\n[('Armenia', 2018), ('Azerbaijan', 2018), ('Georgia', 2018)]\n"
     ]
    }
   ],
   "source": [
    "numerator = \"EDU_SDG_FREE_EDU_L02\"\n",
    "suffix = \"Countries\"\n",
    "a, b= indicator_card(time,countries,numerator,suffix)\n",
    "print(a)\n",
    "print(b)"
   ]
  },
  {
   "cell_type": "code",
   "execution_count": 57,
   "metadata": {},
   "outputs": [
    {
     "output_type": "stream",
     "name": "stdout",
     "text": [
      "195715 Children, Adolescents and Youth\n[('Armenia', 2018), ('Azerbaijan', 2018), ('Georgia', 2018)]\n"
     ]
    }
   ],
   "source": [
    "numerator = \"EDUNF_STU_L1_PRV,EDUNF_STU_L2_PRV,EDUNF_STU_L3_PRV\"\n",
    "suffix = \"Children, Adolescents and Youth\"\n",
    "a, b= indicator_card(time,countries,numerator,suffix)\n",
    "print(a)\n",
    "print(b)"
   ]
  },
  {
   "cell_type": "code",
   "execution_count": 58,
   "metadata": {},
   "outputs": [
    {
     "output_type": "execute_result",
     "data": {
      "text/plain": [
       "195715.0"
      ]
     },
     "metadata": {},
     "execution_count": 58
    }
   ],
   "source": [
    "9353.0 + 126300.0 + 60062.0"
   ]
  },
  {
   "cell_type": "code",
   "execution_count": 59,
   "metadata": {},
   "outputs": [
    {
     "output_type": "stream",
     "name": "stdout",
     "text": [
      "275652 Children, Adolescents and Youth\n[('Armenia', 2018), ('Azerbaijan', 2018), ('Georgia', 2018)]\n"
     ]
    }
   ],
   "source": [
    "numerator = \"EDUNF_TEACH_L1,EDUNF_TEACH_L2,EDUNF_TEACH_L3\"\n",
    "suffix = \"Children, Adolescents and Youth\"\n",
    "a, b= indicator_card(time,countries,numerator,suffix)\n",
    "print(a)\n",
    "print(b)"
   ]
  },
  {
   "cell_type": "code",
   "execution_count": 60,
   "metadata": {},
   "outputs": [
    {
     "output_type": "execute_result",
     "data": {
      "text/plain": [
       "275652.0"
      ]
     },
     "metadata": {},
     "execution_count": 60
    }
   ],
   "source": [
    "39261.0 + 165375.0 + 71016.0"
   ]
  }
 ],
 "metadata": {
  "kernelspec": {
   "display_name": "Python 3",
   "language": "python",
   "name": "python3"
  },
  "language_info": {
   "codemirror_mode": {
    "name": "ipython",
    "version": 3
   },
   "file_extension": ".py",
   "mimetype": "text/x-python",
   "name": "python",
   "nbconvert_exporter": "python",
   "pygments_lexer": "ipython3",
   "version": "3.8.5"
  },
  "toc": {
   "base_numbering": 1,
   "nav_menu": {},
   "number_sections": true,
   "sideBar": true,
   "skip_h1_title": false,
   "title_cell": "Table of Contents",
   "title_sidebar": "Contents",
   "toc_cell": false,
   "toc_position": {},
   "toc_section_display": true,
   "toc_window_display": false
  }
 },
 "nbformat": 4,
 "nbformat_minor": 4
}