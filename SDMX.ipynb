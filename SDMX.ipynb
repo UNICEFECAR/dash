{
 "cells": [
  {
   "cell_type": "code",
   "execution_count": 233,
   "metadata": {},
   "outputs": [
    {
     "ename": "ModuleNotFoundError",
     "evalue": "No module named 'dash'",
     "output_type": "error",
     "traceback": [
      "\u001b[0;31m---------------------------------------------------------------------------\u001b[0m",
      "\u001b[0;31mModuleNotFoundError\u001b[0m                       Traceback (most recent call last)",
      "Input \u001b[0;32mIn [233]\u001b[0m, in \u001b[0;36m<module>\u001b[0;34m\u001b[0m\n\u001b[1;32m      1\u001b[0m \u001b[38;5;28;01mimport\u001b[39;00m \u001b[38;5;21;01mpandasdmx\u001b[39;00m \u001b[38;5;28;01mas\u001b[39;00m \u001b[38;5;21;01msdmx\u001b[39;00m\n\u001b[1;32m      2\u001b[0m \u001b[38;5;28;01mimport\u001b[39;00m \u001b[38;5;21;01mpandas\u001b[39;00m \u001b[38;5;28;01mas\u001b[39;00m \u001b[38;5;21;01mpd\u001b[39;00m\n\u001b[0;32m----> 3\u001b[0m \u001b[38;5;28;01mfrom\u001b[39;00m \u001b[38;5;21;01mdash\u001b[39;00m \u001b[38;5;28;01mimport\u001b[39;00m dcc\n\u001b[1;32m      4\u001b[0m \u001b[38;5;28;01mimport\u001b[39;00m \u001b[38;5;21;01mdash_html_components\u001b[39;00m \u001b[38;5;28;01mas\u001b[39;00m \u001b[38;5;21;01mhtml\u001b[39;00m\n\u001b[1;32m      5\u001b[0m \u001b[38;5;28;01mimport\u001b[39;00m \u001b[38;5;21;01mplotly\u001b[39;00m\u001b[38;5;21;01m.\u001b[39;00m\u001b[38;5;21;01mgraph_objects\u001b[39;00m \u001b[38;5;28;01mas\u001b[39;00m \u001b[38;5;21;01mgo\u001b[39;00m\n",
      "\u001b[0;31mModuleNotFoundError\u001b[0m: No module named 'dash'"
     ]
    }
   ],
   "source": [
    "import pandasdmx as sdmx\n",
    "import pandas as pd\n",
    "from dash import dcc\n",
    "import dash_html_components as html\n",
    "import plotly.graph_objects as go"
   ]
  },
  {
   "cell_type": "code",
   "execution_count": 19,
   "metadata": {},
   "outputs": [],
   "source": [
    "ind_code = \"HT_ADOL_UNMETMED_NOUNMET\"\n",
    "\n",
    "unicef = sdmx.Request(\"UNICEF\")\n",
    "\n",
    "metadata = unicef.dataflow(\"TRANSMONEE\", provider=\"ECARO\", version=\"1.0\")\n"
   ]
  },
  {
   "cell_type": "code",
   "execution_count": 20,
   "metadata": {},
   "outputs": [
    {
     "data": {
      "text/plain": [
       "<pandasdmx.StructureMessage>\n",
       "  <Header>\n",
       "    id: 'IREF330476'\n",
       "    prepared: '2022-02-09T18:57:22+00:00'\n",
       "    receiver: <Agency not_supplied>\n",
       "    sender: <Agency UNICEF>\n",
       "    source: \n",
       "    test: False\n",
       "  response: <Response [200]>\n",
       "  Codelist (48): CL_INDICATORS_TRANSMONEE CL_CONF_STATUS CL_DECIMALS CL...\n",
       "  ConceptScheme (3): CROSS_DOMAIN_CONCEPTS CS_SDG UNICEF_CONCEPTS\n",
       "  DataflowDefinition (1): TRANSMONEE\n",
       "  DataStructureDefinition (1): DSD_ECARO_TRANSMONEE\n",
       "  AgencyScheme (2): AGENCIES DATA_PROVIDERS\n",
       "  ProvisionAgreement (1): TRANSMONEE_ECARO_ECARO"
      ]
     },
     "execution_count": 20,
     "metadata": {},
     "output_type": "execute_result"
    }
   ],
   "source": [
    "metadata"
   ]
  },
  {
   "cell_type": "code",
   "execution_count": 21,
   "metadata": {},
   "outputs": [
    {
     "data": {
      "text/plain": [
       "'https://sdmx.data.unicef.org/ws/public/sdmxapi/rest/dataflow/ECARO/TRANSMONEE/1.0?references=all'"
      ]
     },
     "execution_count": 21,
     "metadata": {},
     "output_type": "execute_result"
    }
   ],
   "source": [
    "metadata.response.url"
   ]
  },
  {
   "cell_type": "code",
   "execution_count": 25,
   "metadata": {},
   "outputs": [
    {
     "data": {
      "text/plain": [
       "TRANSMONEE    ECARO for TransMonEE\n",
       "dtype: object"
      ]
     },
     "execution_count": 25,
     "metadata": {},
     "output_type": "execute_result"
    }
   ],
   "source": [
    "dataflows = sdmx.to_pandas(metadata.dataflow)\n",
    "dataflows"
   ]
  },
  {
   "cell_type": "code",
   "execution_count": 38,
   "metadata": {},
   "outputs": [],
   "source": [
    "dsd = metadata.structure['DSD_ECARO_TRANSMONEE']\n"
   ]
  },
  {
   "cell_type": "code",
   "execution_count": 39,
   "metadata": {},
   "outputs": [
    {
     "data": {
      "text/plain": [
       "[<Dimension REF_AREA>,\n",
       " <Dimension INDICATOR>,\n",
       " <Dimension SEX>,\n",
       " <Dimension AGE>,\n",
       " <Dimension RESIDENCE>,\n",
       " <Dimension WEALTH_QUINTILE>,\n",
       " <TimeDimension TIME_PERIOD>]"
      ]
     },
     "execution_count": 39,
     "metadata": {},
     "output_type": "execute_result"
    }
   ],
   "source": [
    "dsd.dimensions.components"
   ]
  },
  {
   "cell_type": "code",
   "execution_count": 40,
   "metadata": {},
   "outputs": [
    {
     "data": {
      "text/plain": [
       "[<DataAttribute COVERAGE_TIME>,\n",
       " <DataAttribute UNIT_MEASURE>,\n",
       " <DataAttribute OBS_FOOTNOTE>,\n",
       " <DataAttribute FREQ>,\n",
       " <DataAttribute DATA_SOURCE>,\n",
       " <DataAttribute UNIT_MULTIPLIER>,\n",
       " <DataAttribute OBS_STATUS>]"
      ]
     },
     "execution_count": 40,
     "metadata": {},
     "output_type": "execute_result"
    }
   ],
   "source": [
    "dsd.attributes.components"
   ]
  },
  {
   "cell_type": "code",
   "execution_count": 41,
   "metadata": {},
   "outputs": [
    {
     "data": {
      "text/plain": [
       "[<PrimaryMeasure OBS_VALUE>]"
      ]
     },
     "execution_count": 41,
     "metadata": {},
     "output_type": "execute_result"
    }
   ],
   "source": [
    "dsd.measures.components"
   ]
  },
  {
   "cell_type": "code",
   "execution_count": 225,
   "metadata": {},
   "outputs": [
    {
     "name": "stderr",
     "output_type": "stream",
     "text": [
      "/opt/homebrew/Caskroom/miniforge/base/envs/azure/lib/python3.9/site-packages/pandasdmx/api.py:260: UserWarning: 'provider' argument is redundant for <Resource.data: 'data'>\n",
      "  warn(f\"'provider' argument is redundant for {resource_type!r}\")\n"
     ]
    }
   ],
   "source": [
    "message = unicef.data(\"TRANSMONEE\", provider=\"ECARO\", key=dict(INDICATOR=[ind_code], SEX=['M', 'F']), params = dict(startPeriod='2010', endPeriod='2011'), dsd=dsd)"
   ]
  },
  {
   "cell_type": "code",
   "execution_count": 226,
   "metadata": {},
   "outputs": [
    {
     "data": {
      "text/plain": [
       "'https://sdmx.data.unicef.org/ws/public/sdmxapi/rest/data/TRANSMONEE/.HT_ADOL_UNMETMED_NOUNMET.F+M...?startPeriod=2010&endPeriod=2011'"
      ]
     },
     "execution_count": 226,
     "metadata": {},
     "output_type": "execute_result"
    }
   ],
   "source": [
    "message.response.url"
   ]
  },
  {
   "cell_type": "code",
   "execution_count": 227,
   "metadata": {},
   "outputs": [],
   "source": [
    "df = message.to_pandas(attributes=\"o\", rtype=\"compat\")"
   ]
  },
  {
   "cell_type": "code",
   "execution_count": 228,
   "metadata": {},
   "outputs": [
    {
     "data": {
      "text/html": [
       "<div>\n",
       "<style scoped>\n",
       "    .dataframe tbody tr th:only-of-type {\n",
       "        vertical-align: middle;\n",
       "    }\n",
       "\n",
       "    .dataframe tbody tr th {\n",
       "        vertical-align: top;\n",
       "    }\n",
       "\n",
       "    .dataframe thead tr th {\n",
       "        text-align: left;\n",
       "    }\n",
       "\n",
       "    .dataframe thead tr:last-of-type th {\n",
       "        text-align: right;\n",
       "    }\n",
       "</style>\n",
       "<table border=\"1\" class=\"dataframe\">\n",
       "  <thead>\n",
       "    <tr>\n",
       "      <th>REF_AREA</th>\n",
       "      <th colspan=\"10\" halign=\"left\">AUT</th>\n",
       "      <th>...</th>\n",
       "      <th colspan=\"10\" halign=\"left\">TUR</th>\n",
       "    </tr>\n",
       "    <tr>\n",
       "      <th>INDICATOR</th>\n",
       "      <th colspan=\"10\" halign=\"left\">HT_ADOL_UNMETMED_NOUNMET</th>\n",
       "      <th>...</th>\n",
       "      <th colspan=\"10\" halign=\"left\">HT_ADOL_UNMETMED_NOUNMET</th>\n",
       "    </tr>\n",
       "    <tr>\n",
       "      <th>SEX</th>\n",
       "      <th colspan=\"10\" halign=\"left\">F</th>\n",
       "      <th>...</th>\n",
       "      <th colspan=\"10\" halign=\"left\">M</th>\n",
       "    </tr>\n",
       "    <tr>\n",
       "      <th>AGE</th>\n",
       "      <th colspan=\"6\" halign=\"left\">Y16T19</th>\n",
       "      <th colspan=\"4\" halign=\"left\">Y16T24</th>\n",
       "      <th>...</th>\n",
       "      <th>Y_GE65</th>\n",
       "      <th colspan=\"6\" halign=\"left\">Y_GE75</th>\n",
       "      <th colspan=\"3\" halign=\"left\">Y_GE85</th>\n",
       "    </tr>\n",
       "    <tr>\n",
       "      <th>RESIDENCE</th>\n",
       "      <th colspan=\"6\" halign=\"left\">_T</th>\n",
       "      <th colspan=\"4\" halign=\"left\">_T</th>\n",
       "      <th>...</th>\n",
       "      <th>_T</th>\n",
       "      <th colspan=\"6\" halign=\"left\">_T</th>\n",
       "      <th colspan=\"3\" halign=\"left\">_T</th>\n",
       "    </tr>\n",
       "    <tr>\n",
       "      <th>WEALTH_QUINTILE</th>\n",
       "      <th>Q1</th>\n",
       "      <th>Q2</th>\n",
       "      <th>Q3</th>\n",
       "      <th>Q4</th>\n",
       "      <th>Q5</th>\n",
       "      <th>_T</th>\n",
       "      <th>Q1</th>\n",
       "      <th>Q2</th>\n",
       "      <th>Q3</th>\n",
       "      <th>Q4</th>\n",
       "      <th>...</th>\n",
       "      <th>_T</th>\n",
       "      <th>Q1</th>\n",
       "      <th>Q2</th>\n",
       "      <th>Q3</th>\n",
       "      <th>Q4</th>\n",
       "      <th>Q5</th>\n",
       "      <th>_T</th>\n",
       "      <th>Q1</th>\n",
       "      <th>Q3</th>\n",
       "      <th>_T</th>\n",
       "    </tr>\n",
       "    <tr>\n",
       "      <th>TIME_PERIOD</th>\n",
       "      <th></th>\n",
       "      <th></th>\n",
       "      <th></th>\n",
       "      <th></th>\n",
       "      <th></th>\n",
       "      <th></th>\n",
       "      <th></th>\n",
       "      <th></th>\n",
       "      <th></th>\n",
       "      <th></th>\n",
       "      <th></th>\n",
       "      <th></th>\n",
       "      <th></th>\n",
       "      <th></th>\n",
       "      <th></th>\n",
       "      <th></th>\n",
       "      <th></th>\n",
       "      <th></th>\n",
       "      <th></th>\n",
       "      <th></th>\n",
       "      <th></th>\n",
       "    </tr>\n",
       "  </thead>\n",
       "  <tbody>\n",
       "    <tr>\n",
       "      <th>2010-01-01</th>\n",
       "      <td>100.0</td>\n",
       "      <td>95.7</td>\n",
       "      <td>96.9</td>\n",
       "      <td>96.9</td>\n",
       "      <td>100.0</td>\n",
       "      <td>97.6</td>\n",
       "      <td>96.9</td>\n",
       "      <td>97.6</td>\n",
       "      <td>98.2</td>\n",
       "      <td>97.7</td>\n",
       "      <td>...</td>\n",
       "      <td>78.7</td>\n",
       "      <td>62.4</td>\n",
       "      <td>76.9</td>\n",
       "      <td>80.7</td>\n",
       "      <td>80.6</td>\n",
       "      <td>86.9</td>\n",
       "      <td>77.9</td>\n",
       "      <td>NaN</td>\n",
       "      <td>NaN</td>\n",
       "      <td>66.1</td>\n",
       "    </tr>\n",
       "    <tr>\n",
       "      <th>2011-01-01</th>\n",
       "      <td>100.0</td>\n",
       "      <td>92.2</td>\n",
       "      <td>99.5</td>\n",
       "      <td>100.0</td>\n",
       "      <td>100.0</td>\n",
       "      <td>98.1</td>\n",
       "      <td>98.5</td>\n",
       "      <td>95.2</td>\n",
       "      <td>98.3</td>\n",
       "      <td>100.0</td>\n",
       "      <td>...</td>\n",
       "      <td>82.0</td>\n",
       "      <td>55.7</td>\n",
       "      <td>75.3</td>\n",
       "      <td>84.3</td>\n",
       "      <td>90.2</td>\n",
       "      <td>96.7</td>\n",
       "      <td>81.2</td>\n",
       "      <td>45.9</td>\n",
       "      <td>65.0</td>\n",
       "      <td>70.9</td>\n",
       "    </tr>\n",
       "  </tbody>\n",
       "</table>\n",
       "<p>2 rows × 7671 columns</p>\n",
       "</div>"
      ],
      "text/plain": [
       "REF_AREA                             AUT                                  \\\n",
       "INDICATOR       HT_ADOL_UNMETMED_NOUNMET                                   \n",
       "SEX                                    F                                   \n",
       "AGE                               Y16T19                                   \n",
       "RESIDENCE                             _T                                   \n",
       "WEALTH_QUINTILE                       Q1    Q2    Q3     Q4     Q5    _T   \n",
       "TIME_PERIOD                                                                \n",
       "2010-01-01                         100.0  95.7  96.9   96.9  100.0  97.6   \n",
       "2011-01-01                         100.0  92.2  99.5  100.0  100.0  98.1   \n",
       "\n",
       "REF_AREA                                   ...                      TUR  \\\n",
       "INDICATOR                                  ... HT_ADOL_UNMETMED_NOUNMET   \n",
       "SEX                                        ...                        M   \n",
       "AGE             Y16T24                     ...                   Y_GE65   \n",
       "RESIDENCE           _T                     ...                       _T   \n",
       "WEALTH_QUINTILE     Q1    Q2    Q3     Q4  ...                       _T   \n",
       "TIME_PERIOD                                ...                            \n",
       "2010-01-01        96.9  97.6  98.2   97.7  ...                     78.7   \n",
       "2011-01-01        98.5  95.2  98.3  100.0  ...                     82.0   \n",
       "\n",
       "REF_AREA                                                                 \n",
       "INDICATOR                                                                \n",
       "SEX                                                                      \n",
       "AGE             Y_GE75                               Y_GE85              \n",
       "RESIDENCE           _T                                   _T              \n",
       "WEALTH_QUINTILE     Q1    Q2    Q3    Q4    Q5    _T     Q1    Q3    _T  \n",
       "TIME_PERIOD                                                              \n",
       "2010-01-01        62.4  76.9  80.7  80.6  86.9  77.9    NaN   NaN  66.1  \n",
       "2011-01-01        55.7  75.3  84.3  90.2  96.7  81.2   45.9  65.0  70.9  \n",
       "\n",
       "[2 rows x 7671 columns]"
      ]
     },
     "execution_count": 228,
     "metadata": {},
     "output_type": "execute_result"
    }
   ],
   "source": [
    "df"
   ]
  },
  {
   "cell_type": "code",
   "execution_count": 229,
   "metadata": {},
   "outputs": [
    {
     "data": {
      "text/plain": [
       "FrozenList(['REF_AREA', 'INDICATOR', 'SEX', 'AGE', 'RESIDENCE', 'WEALTH_QUINTILE'])"
      ]
     },
     "execution_count": 229,
     "metadata": {},
     "output_type": "execute_result"
    }
   ],
   "source": [
    "df.columns.names"
   ]
  },
  {
   "cell_type": "code",
   "execution_count": 230,
   "metadata": {},
   "outputs": [
    {
     "data": {
      "text/plain": [
       "DatetimeIndex(['2010-01-01', '2011-01-01'], dtype='datetime64[ns]', name='TIME_PERIOD', freq=None)"
      ]
     },
     "execution_count": 230,
     "metadata": {},
     "output_type": "execute_result"
    }
   ],
   "source": [
    "df.index"
   ]
  },
  {
   "cell_type": "code",
   "execution_count": 231,
   "metadata": {},
   "outputs": [
    {
     "data": {
      "text/plain": [
       "FrozenList([['AUT', 'BEL', 'BGR', 'CHE', 'CYP', 'CZE', 'DEU', 'DNK', 'ESP', 'EST', 'FIN', 'FRA', 'GBR', 'GRC', 'HRV', 'HUN', 'IRL', 'ISL', 'ITA', 'LTU', 'LUX', 'LVA', 'MKD', 'MLT', 'NLD', 'NOR', 'POL', 'PRT', 'ROU', 'SVK', 'SVN', 'SWE', 'TUR'], ['HT_ADOL_UNMETMED_NOUNMET'], ['F', 'M'], ['Y16T19', 'Y16T24', 'Y16T29', 'Y16T44', 'Y16T64', 'Y18T44', 'Y20T24', 'Y20T29', 'Y25T29', 'Y25T34', 'Y35T44', 'Y45T54', 'Y45T64', 'Y55T64', 'Y65T74', 'Y75T84', 'Y_GE16', 'Y_GE65', 'Y_GE75', 'Y_GE85'], ['_T'], ['Q1', 'Q2', 'Q3', 'Q4', 'Q5', '_T']])"
      ]
     },
     "execution_count": 231,
     "metadata": {},
     "output_type": "execute_result"
    }
   ],
   "source": [
    "df.columns.levels"
   ]
  },
  {
   "cell_type": "code",
   "execution_count": null,
   "metadata": {},
   "outputs": [],
   "source": [
    "# Import required libraries\n",
    "\n"
   ]
  }
 ],
 "metadata": {
  "interpreter": {
   "hash": "0aa7b01207476ce8330e11dbd19b34c75771f5f59308d9cb7bdeaaa98916ea6b"
  },
  "kernelspec": {
   "display_name": "Python 3.9.7 ('azure')",
   "language": "python",
   "name": "python3"
  },
  "language_info": {
   "codemirror_mode": {
    "name": "ipython",
    "version": 3
   },
   "file_extension": ".py",
   "mimetype": "text/x-python",
   "name": "python",
   "nbconvert_exporter": "python",
   "pygments_lexer": "ipython3",
   "version": "3.9.7"
  },
  "orig_nbformat": 4
 },
 "nbformat": 4,
 "nbformat_minor": 2
}
