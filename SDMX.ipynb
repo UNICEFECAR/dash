{
 "cells": [
  {
   "cell_type": "code",
   "execution_count": 3,
   "metadata": {},
   "outputs": [],
   "source": [
    "import pandasdmx as sdmx\n",
    "import pandas as pd\n",
    "import dash_core_components as dcc\n",
    "import dash_html_components as html\n",
    "from dash.dependencies import Input, Output\n",
    "import plotly.graph_objects as go\n",
    "import plotly.express as px\n",
    "from jupyter_dash import JupyterDash"
   ]
  },
  {
   "cell_type": "code",
   "execution_count": 4,
   "metadata": {},
   "outputs": [],
   "source": [
    "ind_code = \"HT_ADOL_UNMETMED_NOUNMET\"\n",
    "\n",
    "unicef = sdmx.Request(\"UNICEF\")\n",
    "\n",
    "metadata = unicef.dataflow(\"TRANSMONEE\", provider=\"ECARO\", version=\"1.0\")\n"
   ]
  },
  {
   "cell_type": "code",
   "execution_count": 119,
   "metadata": {},
   "outputs": [
    {
     "data": {
      "text/plain": [
       "'https://sdmx.data.unicef.org/ws/public/sdmxapi/rest/dataflow/ECARO/TRANSMONEE/1.0?references=all'"
      ]
     },
     "execution_count": 119,
     "metadata": {},
     "output_type": "execute_result"
    }
   ],
   "source": [
    "metadata.response.url"
   ]
  },
  {
   "cell_type": "code",
   "execution_count": 5,
   "metadata": {},
   "outputs": [
    {
     "data": {
      "text/plain": [
       "False"
      ]
     },
     "execution_count": 5,
     "metadata": {},
     "output_type": "execute_result"
    }
   ],
   "source": [
    "metadata.response.from_cache"
   ]
  },
  {
   "cell_type": "code",
   "execution_count": 6,
   "metadata": {},
   "outputs": [
    {
     "data": {
      "text/plain": [
       "<pandasdmx.StructureMessage>\n",
       "  <Header>\n",
       "    id: 'IREF042403'\n",
       "    prepared: '2022-02-11T18:30:48+00:00'\n",
       "    receiver: <Agency not_supplied>\n",
       "    sender: <Agency UNICEF>\n",
       "    source: \n",
       "    test: False\n",
       "  response: <Response [200]>\n",
       "  Codelist (37): CL_INDICATORS_TRANSMONEE CL_CONF_STATUS CL_DECIMALS CL...\n",
       "  ConceptScheme (3): CROSS_DOMAIN_CONCEPTS CS_SDG UNICEF_CONCEPTS\n",
       "  DataflowDefinition (1): TRANSMONEE\n",
       "  DataStructureDefinition (1): DSD_ECARO_TRANSMONEE\n",
       "  AgencyScheme (2): AGENCIES DATA_PROVIDERS\n",
       "  ProvisionAgreement (1): TRANSMONEE_ECARO_ECARO"
      ]
     },
     "execution_count": 6,
     "metadata": {},
     "output_type": "execute_result"
    }
   ],
   "source": [
    "metadata"
   ]
  },
  {
   "cell_type": "code",
   "execution_count": 7,
   "metadata": {},
   "outputs": [
    {
     "data": {
      "text/plain": [
       "'https://sdmx.data.unicef.org/ws/public/sdmxapi/rest/dataflow/ECARO/TRANSMONEE/1.0?references=all'"
      ]
     },
     "execution_count": 7,
     "metadata": {},
     "output_type": "execute_result"
    }
   ],
   "source": [
    "metadata.response.url"
   ]
  },
  {
   "cell_type": "code",
   "execution_count": 8,
   "metadata": {},
   "outputs": [
    {
     "data": {
      "text/plain": [
       "TRANSMONEE    ECARO for TransMonEE\n",
       "dtype: object"
      ]
     },
     "execution_count": 8,
     "metadata": {},
     "output_type": "execute_result"
    }
   ],
   "source": [
    "dataflows = sdmx.to_pandas(metadata.dataflow)\n",
    "dataflows"
   ]
  },
  {
   "cell_type": "code",
   "execution_count": 9,
   "metadata": {},
   "outputs": [],
   "source": [
    "dsd = metadata.structure['DSD_ECARO_TRANSMONEE']\n"
   ]
  },
  {
   "cell_type": "code",
   "execution_count": 10,
   "metadata": {},
   "outputs": [],
   "source": [
    "code = list(dsd.dimensions.get('INDICATOR').local_representation.enumerated)[0]"
   ]
  },
  {
   "cell_type": "code",
   "execution_count": 11,
   "metadata": {},
   "outputs": [
    {
     "data": {
      "text/plain": [
       "'Number of births (expressed in thousands)'"
      ]
     },
     "execution_count": 11,
     "metadata": {},
     "output_type": "execute_result"
    }
   ],
   "source": [
    "code.name.en\n"
   ]
  },
  {
   "cell_type": "code",
   "execution_count": 13,
   "metadata": {},
   "outputs": [
    {
     "data": {
      "text/plain": [
       "[<DataAttribute COVERAGE_TIME>,\n",
       " <DataAttribute UNIT_MEASURE>,\n",
       " <DataAttribute OBS_FOOTNOTE>,\n",
       " <DataAttribute FREQ>,\n",
       " <DataAttribute DATA_SOURCE>,\n",
       " <DataAttribute UNIT_MULTIPLIER>,\n",
       " <DataAttribute OBS_STATUS>]"
      ]
     },
     "execution_count": 13,
     "metadata": {},
     "output_type": "execute_result"
    }
   ],
   "source": [
    "dsd.attributes.components"
   ]
  },
  {
   "cell_type": "code",
   "execution_count": 14,
   "metadata": {},
   "outputs": [
    {
     "data": {
      "text/plain": [
       "[<PrimaryMeasure OBS_VALUE>]"
      ]
     },
     "execution_count": 14,
     "metadata": {},
     "output_type": "execute_result"
    }
   ],
   "source": [
    "dsd.measures.components"
   ]
  },
  {
   "cell_type": "code",
   "execution_count": 15,
   "metadata": {},
   "outputs": [],
   "source": [
    "keys = {'INDICATOR': [\"EDUNF_OFST_L1\",\"EDUNF_OFST_L2\",\"EDUNF_OFST_L3\"]}"
   ]
  },
  {
   "cell_type": "code",
   "execution_count": 16,
   "metadata": {},
   "outputs": [],
   "source": [
    "DEFAULT_DIMENSIONS = {\n",
    "    \"SEX\": [\"M\", \"F\"],\n",
    "    \"RESIDENCE\": [\"U\", \"R\"],\n",
    "    \"WEALTH_QUINTILE\": [\"Q1\", \"Q2\", \"Q3\", \"Q4\", \"Q5\"]\n",
    "}"
   ]
  },
  {
   "cell_type": "code",
   "execution_count": 17,
   "metadata": {},
   "outputs": [
    {
     "data": {
      "text/plain": [
       "{'INDICATOR': ['EDUNF_OFST_L1', 'EDUNF_OFST_L2', 'EDUNF_OFST_L3'],\n",
       " 'SEX': ['M', 'F'],\n",
       " 'RESIDENCE': ['_T'],\n",
       " 'WEALTH_QUINTILE': ['_T']}"
      ]
     },
     "execution_count": 17,
     "metadata": {},
     "output_type": "execute_result"
    }
   ],
   "source": [
    "dimensions = {\"SEX\": []}\n",
    "keys.update(dimensions)\n",
    "for key,value in DEFAULT_DIMENSIONS.items():\n",
    "    keys[key] = value if key in keys and not keys[key] else ['_T']\n",
    "    \n",
    "keys"
   ]
  },
  {
   "cell_type": "code",
   "execution_count": 21,
   "metadata": {},
   "outputs": [
    {
     "name": "stderr",
     "output_type": "stream",
     "text": [
      "/root/.local/lib/python3.9/site-packages/pandasdmx/api.py:260: UserWarning: 'provider' argument is redundant for <Resource.data: 'data'>\n",
      "  warn(f\"'provider' argument is redundant for {resource_type!r}\")\n"
     ]
    }
   ],
   "source": [
    "message = unicef.data(\"TRANSMONEE\", provider=\"ECARO\", key=keys, params = dict(startPeriod='2010', endPeriod='2021', lastNObservations=1, labels=True), dsd=dsd)"
   ]
  },
  {
   "cell_type": "code",
   "execution_count": 22,
   "metadata": {},
   "outputs": [
    {
     "data": {
      "text/plain": [
       "True"
      ]
     },
     "execution_count": 22,
     "metadata": {},
     "output_type": "execute_result"
    }
   ],
   "source": [
    "message.response.from_cache"
   ]
  },
  {
   "cell_type": "code",
   "execution_count": 225,
   "metadata": {},
   "outputs": [
    {
     "data": {
      "text/plain": [
       "'https://sdmx.data.unicef.org/ws/public/sdmxapi/rest/data/TRANSMONEE/.EDUNF_OFST_L1+EDUNF_OFST_L2+EDUNF_OFST_L3....?startPeriod=2010&endPeriod=2021&lastNObservations=1&labels=True'"
      ]
     },
     "execution_count": 225,
     "metadata": {},
     "output_type": "execute_result"
    }
   ],
   "source": [
    "message.response.url"
   ]
  },
  {
   "cell_type": "code",
   "execution_count": null,
   "metadata": {},
   "outputs": [],
   "source": [
    "https://sdmx.data.unicef.org/ws/public/sdmxapi/rest/data/TRANSMONEE/ALB+AND+ARM+AUT+AZE+BEL+BGR+BIH+BLR+CHE+CYP+CZE+DEU+DNK+ESP+EST+FIN+FRA+GBR+GEO+GRC+HRV+HUN+IRL+ISL+ITA+KAZ+KGZ+LIE+LTU+LUX+LVA+MCO+MDA+MKD+MLT+MNE+NLD+NOR+POL+PRT+ROU+RUS+SMR+SRB+SVK+SVN+SWE+TJK+TKM+TUR+UKR+UZB+VAT+XKX.EDUNF_OFST_L1+EDUNF_OFST_L2+EDUNF_OFST_L3._T._T._T._T?startPeriod=2010&endPeriod=2020&lastNObservations=1 "
   ]
  },
  {
   "cell_type": "code",
   "execution_count": 226,
   "metadata": {},
   "outputs": [],
   "source": [
    "df = message.to_pandas(attributes=\"o\", rtype=\"rows\")"
   ]
  },
  {
   "cell_type": "code",
   "execution_count": 227,
   "metadata": {},
   "outputs": [],
   "source": [
    "df.reset_index(inplace=True)"
   ]
  },
  {
   "cell_type": "code",
   "execution_count": 126,
   "metadata": {},
   "outputs": [
    {
     "data": {
      "text/plain": [
       "FrozenList(['REF_AREA', 'INDICATOR', 'SEX', 'AGE', 'RESIDENCE', 'WEALTH_QUINTILE'])"
      ]
     },
     "execution_count": 126,
     "metadata": {},
     "output_type": "execute_result"
    }
   ],
   "source": [
    "df.columns.names"
   ]
  },
  {
   "cell_type": "code",
   "execution_count": 201,
   "metadata": {},
   "outputs": [
    {
     "data": {
      "text/plain": [
       "FrozenList([['ALB', 'AND', 'ARM', 'AUT', 'AZE', 'BEL', 'BGR', 'BIH', 'BLR', 'CHE', 'CYP', 'CZE', 'DEU', 'DNK', 'ESP', 'EST', 'FIN', 'FRA', 'GBR', 'GEO', 'GRC', 'HRV', 'HUN', 'IRL', 'ISL', 'ITA', 'KAZ', 'KGZ', 'LIE', 'LTU', 'LUX', 'LVA', 'MCO', 'MDA', 'MKD', 'MLT', 'MNE', 'NLD', 'NOR', 'POL', 'PRT', 'ROU', 'RUS', 'SMR', 'SRB', 'SVK', 'SVN', 'SWE', 'TJK', 'TUR', 'UKR', 'UZB', 'VAT'], ['EDUNF_STU_L01_TOT'], ['F', 'M'], ['_T'], ['_T'], ['_T']])"
      ]
     },
     "execution_count": 201,
     "metadata": {},
     "output_type": "execute_result"
    }
   ],
   "source": [
    "df.columns.levels"
   ]
  },
  {
   "cell_type": "code",
   "execution_count": 107,
   "metadata": {},
   "outputs": [
    {
     "data": {
      "text/plain": [
       "DatetimeIndex(['2010-01-01', '2011-01-01'], dtype='datetime64[ns]', name='TIME_PERIOD', freq=None)"
      ]
     },
     "execution_count": 107,
     "metadata": {},
     "output_type": "execute_result"
    }
   ],
   "source": [
    "df.index"
   ]
  },
  {
   "cell_type": "code",
   "execution_count": 109,
   "metadata": {},
   "outputs": [
    {
     "data": {
      "text/plain": [
       "6"
      ]
     },
     "execution_count": 109,
     "metadata": {},
     "output_type": "execute_result"
    }
   ],
   "source": [
    "len(df.columns.levels)"
   ]
  },
  {
   "cell_type": "code",
   "execution_count": 114,
   "metadata": {},
   "outputs": [],
   "source": [
    "df.columns = df.columns.droplevel(-1)"
   ]
  },
  {
   "cell_type": "code",
   "execution_count": 228,
   "metadata": {},
   "outputs": [
    {
     "data": {
      "text/html": [
       "<div>\n",
       "<style scoped>\n",
       "    .dataframe tbody tr th:only-of-type {\n",
       "        vertical-align: middle;\n",
       "    }\n",
       "\n",
       "    .dataframe tbody tr th {\n",
       "        vertical-align: top;\n",
       "    }\n",
       "\n",
       "    .dataframe thead th {\n",
       "        text-align: right;\n",
       "    }\n",
       "</style>\n",
       "<table border=\"1\" class=\"dataframe\">\n",
       "  <thead>\n",
       "    <tr style=\"text-align: right;\">\n",
       "      <th></th>\n",
       "      <th>REF_AREA</th>\n",
       "      <th>INDICATOR</th>\n",
       "      <th>SEX</th>\n",
       "      <th>AGE</th>\n",
       "      <th>RESIDENCE</th>\n",
       "      <th>WEALTH_QUINTILE</th>\n",
       "      <th>TIME_PERIOD</th>\n",
       "      <th>value</th>\n",
       "      <th>UNIT_MEASURE</th>\n",
       "      <th>FREQ</th>\n",
       "      <th>DATA_SOURCE</th>\n",
       "      <th>UNIT_MULTIPLIER</th>\n",
       "      <th>OBS_STATUS</th>\n",
       "    </tr>\n",
       "  </thead>\n",
       "  <tbody>\n",
       "    <tr>\n",
       "      <th>0</th>\n",
       "      <td>ALB</td>\n",
       "      <td>EDUNF_OFST_L1</td>\n",
       "      <td>_T</td>\n",
       "      <td>SCHOOL_AGE</td>\n",
       "      <td>_T</td>\n",
       "      <td>_T</td>\n",
       "      <td>2018</td>\n",
       "      <td>4085.0</td>\n",
       "      <td>PS</td>\n",
       "      <td>1</td>\n",
       "      <td>UNESCO</td>\n",
       "      <td>0</td>\n",
       "      <td>A</td>\n",
       "    </tr>\n",
       "    <tr>\n",
       "      <th>1</th>\n",
       "      <td>ARM</td>\n",
       "      <td>EDUNF_OFST_L1</td>\n",
       "      <td>_T</td>\n",
       "      <td>SCHOOL_AGE</td>\n",
       "      <td>_T</td>\n",
       "      <td>_T</td>\n",
       "      <td>2018</td>\n",
       "      <td>11426.0</td>\n",
       "      <td>PS</td>\n",
       "      <td>1</td>\n",
       "      <td>UNESCO</td>\n",
       "      <td>0</td>\n",
       "      <td>A</td>\n",
       "    </tr>\n",
       "    <tr>\n",
       "      <th>2</th>\n",
       "      <td>AUT</td>\n",
       "      <td>EDUNF_OFST_L1</td>\n",
       "      <td>_T</td>\n",
       "      <td>SCHOOL_AGE</td>\n",
       "      <td>_T</td>\n",
       "      <td>_T</td>\n",
       "      <td>2017</td>\n",
       "      <td>149.0</td>\n",
       "      <td>PS</td>\n",
       "      <td>1</td>\n",
       "      <td>UNESCO</td>\n",
       "      <td>0</td>\n",
       "      <td>A</td>\n",
       "    </tr>\n",
       "    <tr>\n",
       "      <th>3</th>\n",
       "      <td>AZE</td>\n",
       "      <td>EDUNF_OFST_L1</td>\n",
       "      <td>_T</td>\n",
       "      <td>SCHOOL_AGE</td>\n",
       "      <td>_T</td>\n",
       "      <td>_T</td>\n",
       "      <td>2018</td>\n",
       "      <td>24803.0</td>\n",
       "      <td>PS</td>\n",
       "      <td>1</td>\n",
       "      <td>UNESCO</td>\n",
       "      <td>0</td>\n",
       "      <td>E</td>\n",
       "    </tr>\n",
       "    <tr>\n",
       "      <th>4</th>\n",
       "      <td>BEL</td>\n",
       "      <td>EDUNF_OFST_L1</td>\n",
       "      <td>_T</td>\n",
       "      <td>SCHOOL_AGE</td>\n",
       "      <td>_T</td>\n",
       "      <td>_T</td>\n",
       "      <td>2017</td>\n",
       "      <td>2164.0</td>\n",
       "      <td>PS</td>\n",
       "      <td>1</td>\n",
       "      <td>UNESCO</td>\n",
       "      <td>0</td>\n",
       "      <td>A</td>\n",
       "    </tr>\n",
       "    <tr>\n",
       "      <th>...</th>\n",
       "      <td>...</td>\n",
       "      <td>...</td>\n",
       "      <td>...</td>\n",
       "      <td>...</td>\n",
       "      <td>...</td>\n",
       "      <td>...</td>\n",
       "      <td>...</td>\n",
       "      <td>...</td>\n",
       "      <td>...</td>\n",
       "      <td>...</td>\n",
       "      <td>...</td>\n",
       "      <td>...</td>\n",
       "      <td>...</td>\n",
       "    </tr>\n",
       "    <tr>\n",
       "      <th>418</th>\n",
       "      <td>TJK</td>\n",
       "      <td>EDUNF_OFST_L3</td>\n",
       "      <td>M</td>\n",
       "      <td>SCHOOL_AGE</td>\n",
       "      <td>_T</td>\n",
       "      <td>_T</td>\n",
       "      <td>2011</td>\n",
       "      <td>53100.0</td>\n",
       "      <td>PS</td>\n",
       "      <td>1</td>\n",
       "      <td>UNESCO</td>\n",
       "      <td>0</td>\n",
       "      <td>A</td>\n",
       "    </tr>\n",
       "    <tr>\n",
       "      <th>419</th>\n",
       "      <td>TUR</td>\n",
       "      <td>EDUNF_OFST_L3</td>\n",
       "      <td>M</td>\n",
       "      <td>SCHOOL_AGE</td>\n",
       "      <td>_T</td>\n",
       "      <td>_T</td>\n",
       "      <td>2017</td>\n",
       "      <td>356792.0</td>\n",
       "      <td>PS</td>\n",
       "      <td>1</td>\n",
       "      <td>UNESCO</td>\n",
       "      <td>0</td>\n",
       "      <td>A</td>\n",
       "    </tr>\n",
       "    <tr>\n",
       "      <th>420</th>\n",
       "      <td>UKR</td>\n",
       "      <td>EDUNF_OFST_L3</td>\n",
       "      <td>M</td>\n",
       "      <td>SCHOOL_AGE</td>\n",
       "      <td>_T</td>\n",
       "      <td>_T</td>\n",
       "      <td>2014</td>\n",
       "      <td>32722.0</td>\n",
       "      <td>PS</td>\n",
       "      <td>1</td>\n",
       "      <td>UNESCO</td>\n",
       "      <td>0</td>\n",
       "      <td>E</td>\n",
       "    </tr>\n",
       "    <tr>\n",
       "      <th>421</th>\n",
       "      <td>UZB</td>\n",
       "      <td>EDUNF_OFST_L3</td>\n",
       "      <td>M</td>\n",
       "      <td>SCHOOL_AGE</td>\n",
       "      <td>_T</td>\n",
       "      <td>_T</td>\n",
       "      <td>2017</td>\n",
       "      <td>129074.0</td>\n",
       "      <td>PS</td>\n",
       "      <td>1</td>\n",
       "      <td>UNESCO</td>\n",
       "      <td>0</td>\n",
       "      <td>A</td>\n",
       "    </tr>\n",
       "    <tr>\n",
       "      <th>422</th>\n",
       "      <td>VAT</td>\n",
       "      <td>EDUNF_OFST_L3</td>\n",
       "      <td>M</td>\n",
       "      <td>SCHOOL_AGE</td>\n",
       "      <td>_T</td>\n",
       "      <td>_T</td>\n",
       "      <td>2019</td>\n",
       "      <td>0.0</td>\n",
       "      <td>PS</td>\n",
       "      <td>1</td>\n",
       "      <td>UNESCO</td>\n",
       "      <td>0</td>\n",
       "      <td>NaN</td>\n",
       "    </tr>\n",
       "  </tbody>\n",
       "</table>\n",
       "<p>423 rows × 13 columns</p>\n",
       "</div>"
      ],
      "text/plain": [
       "    REF_AREA      INDICATOR SEX         AGE RESIDENCE WEALTH_QUINTILE  \\\n",
       "0        ALB  EDUNF_OFST_L1  _T  SCHOOL_AGE        _T              _T   \n",
       "1        ARM  EDUNF_OFST_L1  _T  SCHOOL_AGE        _T              _T   \n",
       "2        AUT  EDUNF_OFST_L1  _T  SCHOOL_AGE        _T              _T   \n",
       "3        AZE  EDUNF_OFST_L1  _T  SCHOOL_AGE        _T              _T   \n",
       "4        BEL  EDUNF_OFST_L1  _T  SCHOOL_AGE        _T              _T   \n",
       "..       ...            ...  ..         ...       ...             ...   \n",
       "418      TJK  EDUNF_OFST_L3   M  SCHOOL_AGE        _T              _T   \n",
       "419      TUR  EDUNF_OFST_L3   M  SCHOOL_AGE        _T              _T   \n",
       "420      UKR  EDUNF_OFST_L3   M  SCHOOL_AGE        _T              _T   \n",
       "421      UZB  EDUNF_OFST_L3   M  SCHOOL_AGE        _T              _T   \n",
       "422      VAT  EDUNF_OFST_L3   M  SCHOOL_AGE        _T              _T   \n",
       "\n",
       "    TIME_PERIOD     value UNIT_MEASURE FREQ DATA_SOURCE UNIT_MULTIPLIER  \\\n",
       "0          2018    4085.0           PS    1      UNESCO               0   \n",
       "1          2018   11426.0           PS    1      UNESCO               0   \n",
       "2          2017     149.0           PS    1      UNESCO               0   \n",
       "3          2018   24803.0           PS    1      UNESCO               0   \n",
       "4          2017    2164.0           PS    1      UNESCO               0   \n",
       "..          ...       ...          ...  ...         ...             ...   \n",
       "418        2011   53100.0           PS    1      UNESCO               0   \n",
       "419        2017  356792.0           PS    1      UNESCO               0   \n",
       "420        2014   32722.0           PS    1      UNESCO               0   \n",
       "421        2017  129074.0           PS    1      UNESCO               0   \n",
       "422        2019       0.0           PS    1      UNESCO               0   \n",
       "\n",
       "    OBS_STATUS  \n",
       "0            A  \n",
       "1            A  \n",
       "2            A  \n",
       "3            E  \n",
       "4            A  \n",
       "..         ...  \n",
       "418          A  \n",
       "419          A  \n",
       "420          E  \n",
       "421          A  \n",
       "422        NaN  \n",
       "\n",
       "[423 rows x 13 columns]"
      ]
     },
     "execution_count": 228,
     "metadata": {},
     "output_type": "execute_result"
    }
   ],
   "source": [
    "df"
   ]
  },
  {
   "cell_type": "code",
   "execution_count": 236,
   "metadata": {},
   "outputs": [
    {
     "data": {
      "text/plain": [
       "1"
      ]
     },
     "execution_count": 236,
     "metadata": {},
     "output_type": "execute_result"
    }
   ],
   "source": [
    "len(df[df[\"INDICATOR\"] == \"EDUNF_OFST_L1\"][\"UNIT_MEASURE\"].astype(str).unique())\n"
   ]
  },
  {
   "cell_type": "code",
   "execution_count": 132,
   "metadata": {},
   "outputs": [
    {
     "data": {
      "text/html": [
       "<div>\n",
       "<style scoped>\n",
       "    .dataframe tbody tr th:only-of-type {\n",
       "        vertical-align: middle;\n",
       "    }\n",
       "\n",
       "    .dataframe tbody tr th {\n",
       "        vertical-align: top;\n",
       "    }\n",
       "\n",
       "    .dataframe thead tr th {\n",
       "        text-align: left;\n",
       "    }\n",
       "\n",
       "    .dataframe thead tr:last-of-type th {\n",
       "        text-align: right;\n",
       "    }\n",
       "</style>\n",
       "<table border=\"1\" class=\"dataframe\">\n",
       "  <thead>\n",
       "    <tr>\n",
       "      <th>REF_AREA</th>\n",
       "      <th colspan=\"10\" halign=\"left\">AUT</th>\n",
       "      <th>...</th>\n",
       "      <th colspan=\"10\" halign=\"left\">TUR</th>\n",
       "    </tr>\n",
       "    <tr>\n",
       "      <th>INDICATOR</th>\n",
       "      <th colspan=\"10\" halign=\"left\">HT_ADOL_UNMETMED_NOUNMET</th>\n",
       "      <th>...</th>\n",
       "      <th colspan=\"10\" halign=\"left\">HT_ADOL_UNMETMED_NOUNMET</th>\n",
       "    </tr>\n",
       "    <tr>\n",
       "      <th>SEX</th>\n",
       "      <th colspan=\"10\" halign=\"left\">_T</th>\n",
       "      <th>...</th>\n",
       "      <th colspan=\"10\" halign=\"left\">_T</th>\n",
       "    </tr>\n",
       "    <tr>\n",
       "      <th>AGE</th>\n",
       "      <th>Y16T19</th>\n",
       "      <th>Y16T24</th>\n",
       "      <th>Y16T29</th>\n",
       "      <th>Y16T44</th>\n",
       "      <th>Y16T64</th>\n",
       "      <th>Y18T44</th>\n",
       "      <th>Y20T24</th>\n",
       "      <th>Y20T29</th>\n",
       "      <th>Y25T29</th>\n",
       "      <th>Y25T34</th>\n",
       "      <th>...</th>\n",
       "      <th>Y35T44</th>\n",
       "      <th>Y45T54</th>\n",
       "      <th>Y45T64</th>\n",
       "      <th>Y55T64</th>\n",
       "      <th>Y65T74</th>\n",
       "      <th>Y75T84</th>\n",
       "      <th>Y_GE16</th>\n",
       "      <th>Y_GE65</th>\n",
       "      <th>Y_GE75</th>\n",
       "      <th>Y_GE85</th>\n",
       "    </tr>\n",
       "    <tr>\n",
       "      <th>RESIDENCE</th>\n",
       "      <th>_T</th>\n",
       "      <th>_T</th>\n",
       "      <th>_T</th>\n",
       "      <th>_T</th>\n",
       "      <th>_T</th>\n",
       "      <th>_T</th>\n",
       "      <th>_T</th>\n",
       "      <th>_T</th>\n",
       "      <th>_T</th>\n",
       "      <th>_T</th>\n",
       "      <th>...</th>\n",
       "      <th>_T</th>\n",
       "      <th>_T</th>\n",
       "      <th>_T</th>\n",
       "      <th>_T</th>\n",
       "      <th>_T</th>\n",
       "      <th>_T</th>\n",
       "      <th>_T</th>\n",
       "      <th>_T</th>\n",
       "      <th>_T</th>\n",
       "      <th>_T</th>\n",
       "    </tr>\n",
       "    <tr>\n",
       "      <th>WEALTH_QUINTILE</th>\n",
       "      <th>_T</th>\n",
       "      <th>_T</th>\n",
       "      <th>_T</th>\n",
       "      <th>_T</th>\n",
       "      <th>_T</th>\n",
       "      <th>_T</th>\n",
       "      <th>_T</th>\n",
       "      <th>_T</th>\n",
       "      <th>_T</th>\n",
       "      <th>_T</th>\n",
       "      <th>...</th>\n",
       "      <th>_T</th>\n",
       "      <th>_T</th>\n",
       "      <th>_T</th>\n",
       "      <th>_T</th>\n",
       "      <th>_T</th>\n",
       "      <th>_T</th>\n",
       "      <th>_T</th>\n",
       "      <th>_T</th>\n",
       "      <th>_T</th>\n",
       "      <th>_T</th>\n",
       "    </tr>\n",
       "    <tr>\n",
       "      <th>TIME_PERIOD</th>\n",
       "      <th></th>\n",
       "      <th></th>\n",
       "      <th></th>\n",
       "      <th></th>\n",
       "      <th></th>\n",
       "      <th></th>\n",
       "      <th></th>\n",
       "      <th></th>\n",
       "      <th></th>\n",
       "      <th></th>\n",
       "      <th></th>\n",
       "      <th></th>\n",
       "      <th></th>\n",
       "      <th></th>\n",
       "      <th></th>\n",
       "      <th></th>\n",
       "      <th></th>\n",
       "      <th></th>\n",
       "      <th></th>\n",
       "      <th></th>\n",
       "      <th></th>\n",
       "    </tr>\n",
       "  </thead>\n",
       "  <tbody>\n",
       "    <tr>\n",
       "      <th>2010-01-01</th>\n",
       "      <td>96.3</td>\n",
       "      <td>97.0</td>\n",
       "      <td>97.2</td>\n",
       "      <td>97.2</td>\n",
       "      <td>97.4</td>\n",
       "      <td>97.1</td>\n",
       "      <td>97.4</td>\n",
       "      <td>97.6</td>\n",
       "      <td>97.7</td>\n",
       "      <td>97.6</td>\n",
       "      <td>...</td>\n",
       "      <td>72.9</td>\n",
       "      <td>74.4</td>\n",
       "      <td>75.9</td>\n",
       "      <td>78.1</td>\n",
       "      <td>77.5</td>\n",
       "      <td>79.2</td>\n",
       "      <td>78.3</td>\n",
       "      <td>77.7</td>\n",
       "      <td>78.1</td>\n",
       "      <td>68.6</td>\n",
       "    </tr>\n",
       "    <tr>\n",
       "      <th>2011-01-01</th>\n",
       "      <td>98.3</td>\n",
       "      <td>98.4</td>\n",
       "      <td>98.4</td>\n",
       "      <td>97.9</td>\n",
       "      <td>97.9</td>\n",
       "      <td>97.9</td>\n",
       "      <td>98.4</td>\n",
       "      <td>98.4</td>\n",
       "      <td>98.4</td>\n",
       "      <td>97.7</td>\n",
       "      <td>...</td>\n",
       "      <td>77.9</td>\n",
       "      <td>80.5</td>\n",
       "      <td>81.3</td>\n",
       "      <td>82.6</td>\n",
       "      <td>80.9</td>\n",
       "      <td>80.2</td>\n",
       "      <td>82.9</td>\n",
       "      <td>80.4</td>\n",
       "      <td>79.6</td>\n",
       "      <td>75.8</td>\n",
       "    </tr>\n",
       "  </tbody>\n",
       "</table>\n",
       "<p>2 rows × 658 columns</p>\n",
       "</div>"
      ],
      "text/plain": [
       "REF_AREA                             AUT                                     \\\n",
       "INDICATOR       HT_ADOL_UNMETMED_NOUNMET                                      \n",
       "SEX                                   _T                                      \n",
       "AGE                               Y16T19 Y16T24 Y16T29 Y16T44 Y16T64 Y18T44   \n",
       "RESIDENCE                             _T     _T     _T     _T     _T     _T   \n",
       "WEALTH_QUINTILE                       _T     _T     _T     _T     _T     _T   \n",
       "TIME_PERIOD                                                                   \n",
       "2010-01-01                          96.3   97.0   97.2   97.2   97.4   97.1   \n",
       "2011-01-01                          98.3   98.4   98.4   97.9   97.9   97.9   \n",
       "\n",
       "REF_AREA                                     ...                      TUR  \\\n",
       "INDICATOR                                    ... HT_ADOL_UNMETMED_NOUNMET   \n",
       "SEX                                          ...                       _T   \n",
       "AGE             Y20T24 Y20T29 Y25T29 Y25T34  ...                   Y35T44   \n",
       "RESIDENCE           _T     _T     _T     _T  ...                       _T   \n",
       "WEALTH_QUINTILE     _T     _T     _T     _T  ...                       _T   \n",
       "TIME_PERIOD                                  ...                            \n",
       "2010-01-01        97.4   97.6   97.7   97.6  ...                     72.9   \n",
       "2011-01-01        98.4   98.4   98.4   97.7  ...                     77.9   \n",
       "\n",
       "REF_AREA                                                                        \n",
       "INDICATOR                                                                       \n",
       "SEX                                                                             \n",
       "AGE             Y45T54 Y45T64 Y55T64 Y65T74 Y75T84 Y_GE16 Y_GE65 Y_GE75 Y_GE85  \n",
       "RESIDENCE           _T     _T     _T     _T     _T     _T     _T     _T     _T  \n",
       "WEALTH_QUINTILE     _T     _T     _T     _T     _T     _T     _T     _T     _T  \n",
       "TIME_PERIOD                                                                     \n",
       "2010-01-01        74.4   75.9   78.1   77.5   79.2   78.3   77.7   78.1   68.6  \n",
       "2011-01-01        80.5   81.3   82.6   80.9   80.2   82.9   80.4   79.6   75.8  \n",
       "\n",
       "[2 rows x 658 columns]"
      ]
     },
     "execution_count": 132,
     "metadata": {},
     "output_type": "execute_result"
    }
   ],
   "source": [
    "df.xs(('_T', '_T'), level=('SEX', 'RESIDENCE'), axis=1, drop_level=False)"
   ]
  },
  {
   "cell_type": "code",
   "execution_count": 134,
   "metadata": {},
   "outputs": [],
   "source": [
    "df.columns = df.columns.droplevel(-1)"
   ]
  },
  {
   "cell_type": "code",
   "execution_count": 135,
   "metadata": {},
   "outputs": [
    {
     "data": {
      "text/html": [
       "<div>\n",
       "<style scoped>\n",
       "    .dataframe tbody tr th:only-of-type {\n",
       "        vertical-align: middle;\n",
       "    }\n",
       "\n",
       "    .dataframe tbody tr th {\n",
       "        vertical-align: top;\n",
       "    }\n",
       "\n",
       "    .dataframe thead tr th {\n",
       "        text-align: left;\n",
       "    }\n",
       "\n",
       "    .dataframe thead tr:last-of-type th {\n",
       "        text-align: right;\n",
       "    }\n",
       "</style>\n",
       "<table border=\"1\" class=\"dataframe\">\n",
       "  <thead>\n",
       "    <tr>\n",
       "      <th>REF_AREA</th>\n",
       "      <th colspan=\"10\" halign=\"left\">AUT</th>\n",
       "      <th>...</th>\n",
       "      <th colspan=\"10\" halign=\"left\">TUR</th>\n",
       "    </tr>\n",
       "    <tr>\n",
       "      <th>INDICATOR</th>\n",
       "      <th colspan=\"10\" halign=\"left\">HT_ADOL_UNMETMED_NOUNMET</th>\n",
       "      <th>...</th>\n",
       "      <th colspan=\"10\" halign=\"left\">HT_ADOL_UNMETMED_NOUNMET</th>\n",
       "    </tr>\n",
       "    <tr>\n",
       "      <th>SEX</th>\n",
       "      <th colspan=\"10\" halign=\"left\">_T</th>\n",
       "      <th>...</th>\n",
       "      <th colspan=\"10\" halign=\"left\">_T</th>\n",
       "    </tr>\n",
       "    <tr>\n",
       "      <th>AGE</th>\n",
       "      <th>Y16T19</th>\n",
       "      <th>Y16T24</th>\n",
       "      <th>Y16T29</th>\n",
       "      <th>Y16T44</th>\n",
       "      <th>Y16T64</th>\n",
       "      <th>Y18T44</th>\n",
       "      <th>Y20T24</th>\n",
       "      <th>Y20T29</th>\n",
       "      <th>Y25T29</th>\n",
       "      <th>Y25T34</th>\n",
       "      <th>...</th>\n",
       "      <th>Y35T44</th>\n",
       "      <th>Y45T54</th>\n",
       "      <th>Y45T64</th>\n",
       "      <th>Y55T64</th>\n",
       "      <th>Y65T74</th>\n",
       "      <th>Y75T84</th>\n",
       "      <th>Y_GE16</th>\n",
       "      <th>Y_GE65</th>\n",
       "      <th>Y_GE75</th>\n",
       "      <th>Y_GE85</th>\n",
       "    </tr>\n",
       "    <tr>\n",
       "      <th>RESIDENCE</th>\n",
       "      <th>_T</th>\n",
       "      <th>_T</th>\n",
       "      <th>_T</th>\n",
       "      <th>_T</th>\n",
       "      <th>_T</th>\n",
       "      <th>_T</th>\n",
       "      <th>_T</th>\n",
       "      <th>_T</th>\n",
       "      <th>_T</th>\n",
       "      <th>_T</th>\n",
       "      <th>...</th>\n",
       "      <th>_T</th>\n",
       "      <th>_T</th>\n",
       "      <th>_T</th>\n",
       "      <th>_T</th>\n",
       "      <th>_T</th>\n",
       "      <th>_T</th>\n",
       "      <th>_T</th>\n",
       "      <th>_T</th>\n",
       "      <th>_T</th>\n",
       "      <th>_T</th>\n",
       "    </tr>\n",
       "    <tr>\n",
       "      <th>TIME_PERIOD</th>\n",
       "      <th></th>\n",
       "      <th></th>\n",
       "      <th></th>\n",
       "      <th></th>\n",
       "      <th></th>\n",
       "      <th></th>\n",
       "      <th></th>\n",
       "      <th></th>\n",
       "      <th></th>\n",
       "      <th></th>\n",
       "      <th></th>\n",
       "      <th></th>\n",
       "      <th></th>\n",
       "      <th></th>\n",
       "      <th></th>\n",
       "      <th></th>\n",
       "      <th></th>\n",
       "      <th></th>\n",
       "      <th></th>\n",
       "      <th></th>\n",
       "      <th></th>\n",
       "    </tr>\n",
       "  </thead>\n",
       "  <tbody>\n",
       "    <tr>\n",
       "      <th>2010-01-01</th>\n",
       "      <td>96.3</td>\n",
       "      <td>97.0</td>\n",
       "      <td>97.2</td>\n",
       "      <td>97.2</td>\n",
       "      <td>97.4</td>\n",
       "      <td>97.1</td>\n",
       "      <td>97.4</td>\n",
       "      <td>97.6</td>\n",
       "      <td>97.7</td>\n",
       "      <td>97.6</td>\n",
       "      <td>...</td>\n",
       "      <td>72.9</td>\n",
       "      <td>74.4</td>\n",
       "      <td>75.9</td>\n",
       "      <td>78.1</td>\n",
       "      <td>77.5</td>\n",
       "      <td>79.2</td>\n",
       "      <td>78.3</td>\n",
       "      <td>77.7</td>\n",
       "      <td>78.1</td>\n",
       "      <td>68.6</td>\n",
       "    </tr>\n",
       "    <tr>\n",
       "      <th>2011-01-01</th>\n",
       "      <td>98.3</td>\n",
       "      <td>98.4</td>\n",
       "      <td>98.4</td>\n",
       "      <td>97.9</td>\n",
       "      <td>97.9</td>\n",
       "      <td>97.9</td>\n",
       "      <td>98.4</td>\n",
       "      <td>98.4</td>\n",
       "      <td>98.4</td>\n",
       "      <td>97.7</td>\n",
       "      <td>...</td>\n",
       "      <td>77.9</td>\n",
       "      <td>80.5</td>\n",
       "      <td>81.3</td>\n",
       "      <td>82.6</td>\n",
       "      <td>80.9</td>\n",
       "      <td>80.2</td>\n",
       "      <td>82.9</td>\n",
       "      <td>80.4</td>\n",
       "      <td>79.6</td>\n",
       "      <td>75.8</td>\n",
       "    </tr>\n",
       "  </tbody>\n",
       "</table>\n",
       "<p>2 rows × 658 columns</p>\n",
       "</div>"
      ],
      "text/plain": [
       "REF_AREA                         AUT                                     \\\n",
       "INDICATOR   HT_ADOL_UNMETMED_NOUNMET                                      \n",
       "SEX                               _T                                      \n",
       "AGE                           Y16T19 Y16T24 Y16T29 Y16T44 Y16T64 Y18T44   \n",
       "RESIDENCE                         _T     _T     _T     _T     _T     _T   \n",
       "TIME_PERIOD                                                               \n",
       "2010-01-01                      96.3   97.0   97.2   97.2   97.4   97.1   \n",
       "2011-01-01                      98.3   98.4   98.4   97.9   97.9   97.9   \n",
       "\n",
       "REF_AREA                                 ...                      TUR         \\\n",
       "INDICATOR                                ... HT_ADOL_UNMETMED_NOUNMET          \n",
       "SEX                                      ...                       _T          \n",
       "AGE         Y20T24 Y20T29 Y25T29 Y25T34  ...                   Y35T44 Y45T54   \n",
       "RESIDENCE       _T     _T     _T     _T  ...                       _T     _T   \n",
       "TIME_PERIOD                              ...                                   \n",
       "2010-01-01    97.4   97.6   97.7   97.6  ...                     72.9   74.4   \n",
       "2011-01-01    98.4   98.4   98.4   97.7  ...                     77.9   80.5   \n",
       "\n",
       "REF_AREA                                                             \n",
       "INDICATOR                                                            \n",
       "SEX                                                                  \n",
       "AGE         Y45T64 Y55T64 Y65T74 Y75T84 Y_GE16 Y_GE65 Y_GE75 Y_GE85  \n",
       "RESIDENCE       _T     _T     _T     _T     _T     _T     _T     _T  \n",
       "TIME_PERIOD                                                          \n",
       "2010-01-01    75.9   78.1   77.5   79.2   78.3   77.7   78.1   68.6  \n",
       "2011-01-01    81.3   82.6   80.9   80.2   82.9   80.4   79.6   75.8  \n",
       "\n",
       "[2 rows x 658 columns]"
      ]
     },
     "execution_count": 135,
     "metadata": {},
     "output_type": "execute_result"
    }
   ],
   "source": [
    "df"
   ]
  },
  {
   "cell_type": "code",
   "execution_count": 194,
   "metadata": {},
   "outputs": [
    {
     "name": "stderr",
     "output_type": "stream",
     "text": [
      "/opt/homebrew/Caskroom/miniforge/base/envs/dash/lib/python3.9/site-packages/jupyter_dash/jupyter_app.py:139: UserWarning:\n",
      "\n",
      "The 'environ['werkzeug.server.shutdown']' function is deprecated and will be removed in Werkzeug 2.1.\n",
      "\n"
     ]
    },
    {
     "data": {
      "text/html": [
       "\n",
       "        <iframe\n",
       "            width=\"100%\"\n",
       "            height=\"650\"\n",
       "            src=\"http://127.0.0.1:8050/\"\n",
       "            frameborder=\"0\"\n",
       "            allowfullscreen\n",
       "            \n",
       "        ></iframe>\n",
       "        "
      ],
      "text/plain": [
       "<IPython.lib.display.IFrame at 0x1568c9ee0>"
      ]
     },
     "metadata": {},
     "output_type": "display_data"
    }
   ],
   "source": [
    "# Build App\n",
    "app = JupyterDash(__name__)\n",
    "app.layout = html.Div([\n",
    "    dcc.Graph(id='graph', figure=px.bar(df, x='REF_AREA', y='value', color='SEX', barmode='group', title='Indicator')),\n",
    "    \n",
    "])\n",
    "# # Define callback to update graph\n",
    "# @app.callback(\n",
    "#     Output('graph', 'figure'),\n",
    "#     [Input(\"colorscale-dropdown\", \"value\")]\n",
    "# )\n",
    "# def update_figure(colorscale):\n",
    "#     return px.scatter(\n",
    "#         df, x=\"total_bill\", y=\"tip\", color=\"size\",\n",
    "#         color_continuous_scale=colorscale,\n",
    "#         render_mode=\"webgl\", title=\"Tips\"\n",
    "#     )\n",
    "# Run app and display result inline in the notebook\n",
    "del app.config._read_only[\"requests_pathname_prefix\"]\n",
    "app.run_server(mode='inline')"
   ]
  }
 ],
 "metadata": {
  "interpreter": {
   "hash": "0aa7b01207476ce8330e11dbd19b34c75771f5f59308d9cb7bdeaaa98916ea6b"
  },
  "kernelspec": {
   "display_name": "Python 3.9.7 ('azure')",
   "language": "python",
   "name": "python3"
  },
  "language_info": {
   "codemirror_mode": {
    "name": "ipython",
    "version": 3
   },
   "file_extension": ".py",
   "mimetype": "text/x-python",
   "name": "python",
   "nbconvert_exporter": "python",
   "pygments_lexer": "ipython3",
   "version": "3.9.10"
  },
  "orig_nbformat": 4
 },
 "nbformat": 4,
 "nbformat_minor": 2
}
