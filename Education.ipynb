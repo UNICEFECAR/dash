{
 "cells": [
  {
   "cell_type": "code",
   "execution_count": 3,
   "metadata": {},
   "outputs": [],
   "source": [
    "# Import required libraries\n",
    "import pickle\n",
    "import copy\n",
    "import pathlib\n",
    "import dash\n",
    "import math\n",
    "import datetime as dt\n",
    "import pandas as pd\n",
    "from dash.dependencies import Input, Output, State, ClientsideFunction\n",
    "import dash_core_components as dcc\n",
    "import dash_html_components as html\n",
    "import plotly.graph_objects as go\n",
    "\n"
   ]
  },
  {
   "cell_type": "code",
   "execution_count": 4,
   "metadata": {},
   "outputs": [],
   "source": [
    "from mapbox import Geocoder\n",
    "mapbox_access_token = \"pk.eyJ1IjoiamNyYW53ZWxsd2FyZCIsImEiOiJja2NkMW02aXcwYTl5MnFwbjdtdDB0M3oyIn0.zkIzPc4NSjLZvrY-DWrlZg\"\n",
    "\n",
    "geocoder = Geocoder(access_token=mapbox_access_token)\n",
    "\n",
    "def geocode_address(address):\n",
    "    \"\"\"Geocode street address into lat/long.\"\"\"\n",
    "    response = geocoder.forward(address)\n",
    "    coords = response.json()[\"features\"][0][\"center\"]\n",
    "    longitude = coords[0]\n",
    "    latitude = coords[1]\n",
    "    return dict(longitude=longitude, latitude=latitude)"
   ]
  },
  {
   "cell_type": "code",
   "execution_count": 5,
   "metadata": {},
   "outputs": [],
   "source": [
    "sdmx_url = 'https://sdmx.data.unicef.org/ws/public/sdmxapi/rest/data/ECARO,TRANSMONEE,1.0/.{}....?format=csv'"
   ]
  },
  {
   "cell_type": "code",
   "execution_count": 15,
   "metadata": {},
   "outputs": [],
   "source": [
    "codes = [\n",
    "    \"EDU_SDG_STU_L2_GLAST_MAT\",\n",
    "    \"EDU_SDG_STU_L2_GLAST_REA\",\n",
    "    \"EDU_SDG_STU_L1_GLAST_MAT\",\n",
    "    \"EDU_SDG_STU_L1_G2OR3_MAT\",\n",
    "    \"EDU_SDG_STU_L1_GLAST_REA\",\n",
    "    \"EDU_SDG_STU_L1_G2OR3_REA\",\n",
    "    \"EDU_SDG_GER_L01\",\n",
    "    \"EDUNF_PRP_L02\",\n",
    "    \"EDUNF_ROFST_L2\",\n",
    "    \"EDU_SDG_QUTP_L02\",\n",
    "    \"EDU_SDG_QUTP_L1\",\n",
    "    \"EDU_SDG_QUTP_L2\",\n",
    "    \"EDU_SDG_QUTP_L3\",\n",
    "    \"EDU_SDG_TRTP_L02\",\n",
    "    \"EDU_SDG_TRTP_L1\",\n",
    "    \"EDU_SDG_TRTP_L2\",\n",
    "    \"EDU_SDG_TRTP_L3\",\n",
    "    \"EDUNF_ROFST_L1\",\n",
    "    \"EDUNF_ROFST_L2\",\n",
    "    \"EDUNF_ROFST_L3\",\n",
    "    \"EDUNF_OFST_L1\",\n",
    "    \"EDUNF_OFST_L2\",\n",
    "    \"EDUNF_OFST_L3\",\n",
    "    \"EDUNF_NIR_L1_ENTRYAGE\",\n",
    "    \"EDUNF_CR_L3\",\n",
    "    \"EDUNF_NER_L02\",\n",
    "    \"EDUNF_NERA_L1_UNDER1\",\n",
    "    \"EDUNF_NERA_L1\",\n",
    "    \"EDUNF_NERA_L2\",\n",
    "    \"EDUNF_GER_L1\",\n",
    "    \"EDUNF_GER_L2\",\n",
    "    \"EDUNF_GER_L3\",\n",
    "    \"EDUNF_NIR_L1_ENTRYAGE\",\n",
    "    \"EDUNF_STU_L1_TOT\",\n",
    "    \"EDUNF_STU_L2_TOT\",\n",
    "    \"EDUNF_STU_L3_TOT\",\n",
    "    \"EDU_SDG_SCH_L1\",\n",
    "    \"EDU_SDG_SCH_L2\",\n",
    "    \"EDU_SDG_SCH_L3\",\n",
    "    \"EDUNF_PRP_L02\",\n",
    "    \"EDUNF_OFST_L1T3\",\n",
    "    \"EDUNF_SAP_L1T3\",\n",
    "    \"EDUNF_SAP_L02\"\n",
    "]\n",
    "df = pd.DataFrame()\n",
    "inds = set(codes)\n",
    "for ind in inds:\n",
    "    sdmx = pd.read_csv(sdmx_url.format(ind))\n",
    "    sdmx[\"CODE\"] = ind\n",
    "    df = df.append(sdmx)"
   ]
  },
  {
   "cell_type": "code",
   "execution_count": 7,
   "metadata": {},
   "outputs": [],
   "source": [
    "countries = df[\"Geographic area\"].unique()"
   ]
  },
  {
   "cell_type": "code",
   "execution_count": 8,
   "metadata": {},
   "outputs": [],
   "source": [
    "df = df.merge(\n",
    "    right=pd.DataFrame(\n",
    "        [dict(country=country, **geocode_address(country)) for country in countries]\n",
    "    ),\n",
    "    left_on='Geographic area',\n",
    "    right_on='country'\n",
    ")"
   ]
  },
  {
   "cell_type": "code",
   "execution_count": 41,
   "metadata": {},
   "outputs": [
    {
     "output_type": "execute_result",
     "data": {
      "text/plain": [
       "    REF_AREA Geographic area                 INDICATOR  \\\n",
       "0        ALB         Albania           EDU_SDG_TRTP_L1   \n",
       "1        ARM         Armenia           EDU_SDG_TRTP_L1   \n",
       "2        ARM         Armenia           EDU_SDG_TRTP_L1   \n",
       "3        ARM         Armenia           EDU_SDG_TRTP_L1   \n",
       "4        AZE      Azerbaijan           EDU_SDG_TRTP_L1   \n",
       "..       ...             ...                       ...   \n",
       "127      SVK        Slovakia  EDU_SDG_STU_L1_GLAST_REA   \n",
       "128      SVK        Slovakia  EDU_SDG_STU_L1_GLAST_REA   \n",
       "129      SVK        Slovakia  EDU_SDG_STU_L1_GLAST_REA   \n",
       "130      SVK        Slovakia  EDU_SDG_STU_L1_GLAST_REA   \n",
       "131      TUR          Turkey  EDU_SDG_STU_L1_GLAST_REA   \n",
       "\n",
       "                                             Indicator SEX    Sex AGE    Age  \\\n",
       "0    Percentage of trained teachers in primary educ...  _T  Total  _T  Total   \n",
       "1    Percentage of trained teachers in primary educ...  _T  Total  _T  Total   \n",
       "2    Percentage of trained teachers in primary educ...  _T  Total  _T  Total   \n",
       "3    Percentage of trained teachers in primary educ...  _T  Total  _T  Total   \n",
       "4    Percentage of trained teachers in primary educ...  _T  Total  _T  Total   \n",
       "..                                                 ...  ..    ...  ..    ...   \n",
       "127  Proportion of children at the end of primary e...   M   Male  _T  Total   \n",
       "128  Proportion of children at the end of primary e...   M   Male  _T  Total   \n",
       "129  Proportion of children at the end of primary e...   M   Male  _T  Total   \n",
       "130  Proportion of children at the end of primary e...   M   Male  _T  Total   \n",
       "131  Proportion of children at the end of primary e...   M   Male  _T  Total   \n",
       "\n",
       "    RESIDENCE Residence  ... Unit of measure OBS_FOOTNOTE  FREQ  Frequency  \\\n",
       "0          _T     Total  ...               %          NaN     1   One year   \n",
       "1          _T     Total  ...               %          NaN     1   One year   \n",
       "2          _T     Total  ...               %          NaN     1   One year   \n",
       "3          _T     Total  ...               %          NaN     1   One year   \n",
       "4          _T     Total  ...               %          NaN     1   One year   \n",
       "..        ...       ...  ...             ...          ...   ...        ...   \n",
       "127        _T     Total  ...               %          NaN     1   One year   \n",
       "128        _T     Total  ...               %          NaN     1   One year   \n",
       "129        _T     Total  ...               %          NaN     1   One year   \n",
       "130        _T     Total  ...               %          NaN     1   One year   \n",
       "131        _T     Total  ...               %          NaN     1   One year   \n",
       "\n",
       "                       DATA_SOURCE UNIT_MULTIPLIER Unit multiplier  \\\n",
       "0             UIS: EDU_SDG_TRTP_L1               0           Units   \n",
       "1             UIS: EDU_SDG_TRTP_L1               0           Units   \n",
       "2             UIS: EDU_SDG_TRTP_L1               0           Units   \n",
       "3             UIS: EDU_SDG_TRTP_L1               0           Units   \n",
       "4             UIS: EDU_SDG_TRTP_L1               0           Units   \n",
       "..                             ...             ...             ...   \n",
       "127  UIS: EDU_SDG_STU_L1_GLAST_REA               0           Units   \n",
       "128  UIS: EDU_SDG_STU_L1_GLAST_REA               0           Units   \n",
       "129  UIS: EDU_SDG_STU_L1_GLAST_REA               0           Units   \n",
       "130  UIS: EDU_SDG_STU_L1_GLAST_REA               0           Units   \n",
       "131  UIS: EDU_SDG_STU_L1_GLAST_REA               0           Units   \n",
       "\n",
       "     OBS_STATUS  Observation Status                      CODE  \n",
       "0             A        Normal value           EDU_SDG_TRTP_L1  \n",
       "1             A        Normal value           EDU_SDG_TRTP_L1  \n",
       "2             A        Normal value           EDU_SDG_TRTP_L1  \n",
       "3             A        Normal value           EDU_SDG_TRTP_L1  \n",
       "4             A        Normal value           EDU_SDG_TRTP_L1  \n",
       "..          ...                 ...                       ...  \n",
       "127           A        Normal value  EDU_SDG_STU_L1_GLAST_REA  \n",
       "128           A        Normal value  EDU_SDG_STU_L1_GLAST_REA  \n",
       "129           A        Normal value  EDU_SDG_STU_L1_GLAST_REA  \n",
       "130           A        Normal value  EDU_SDG_STU_L1_GLAST_REA  \n",
       "131           A        Normal value  EDU_SDG_STU_L1_GLAST_REA  \n",
       "\n",
       "[41634 rows x 26 columns]"
      ],
      "text/html": "<div>\n<style scoped>\n    .dataframe tbody tr th:only-of-type {\n        vertical-align: middle;\n    }\n\n    .dataframe tbody tr th {\n        vertical-align: top;\n    }\n\n    .dataframe thead th {\n        text-align: right;\n    }\n</style>\n<table border=\"1\" class=\"dataframe\">\n  <thead>\n    <tr style=\"text-align: right;\">\n      <th></th>\n      <th>REF_AREA</th>\n      <th>Geographic area</th>\n      <th>INDICATOR</th>\n      <th>Indicator</th>\n      <th>SEX</th>\n      <th>Sex</th>\n      <th>AGE</th>\n      <th>Age</th>\n      <th>RESIDENCE</th>\n      <th>Residence</th>\n      <th>...</th>\n      <th>Unit of measure</th>\n      <th>OBS_FOOTNOTE</th>\n      <th>FREQ</th>\n      <th>Frequency</th>\n      <th>DATA_SOURCE</th>\n      <th>UNIT_MULTIPLIER</th>\n      <th>Unit multiplier</th>\n      <th>OBS_STATUS</th>\n      <th>Observation Status</th>\n      <th>CODE</th>\n    </tr>\n  </thead>\n  <tbody>\n    <tr>\n      <th>0</th>\n      <td>ALB</td>\n      <td>Albania</td>\n      <td>EDU_SDG_TRTP_L1</td>\n      <td>Percentage of trained teachers in primary educ...</td>\n      <td>_T</td>\n      <td>Total</td>\n      <td>_T</td>\n      <td>Total</td>\n      <td>_T</td>\n      <td>Total</td>\n      <td>...</td>\n      <td>%</td>\n      <td>NaN</td>\n      <td>1</td>\n      <td>One year</td>\n      <td>UIS: EDU_SDG_TRTP_L1</td>\n      <td>0</td>\n      <td>Units</td>\n      <td>A</td>\n      <td>Normal value</td>\n      <td>EDU_SDG_TRTP_L1</td>\n    </tr>\n    <tr>\n      <th>1</th>\n      <td>ARM</td>\n      <td>Armenia</td>\n      <td>EDU_SDG_TRTP_L1</td>\n      <td>Percentage of trained teachers in primary educ...</td>\n      <td>_T</td>\n      <td>Total</td>\n      <td>_T</td>\n      <td>Total</td>\n      <td>_T</td>\n      <td>Total</td>\n      <td>...</td>\n      <td>%</td>\n      <td>NaN</td>\n      <td>1</td>\n      <td>One year</td>\n      <td>UIS: EDU_SDG_TRTP_L1</td>\n      <td>0</td>\n      <td>Units</td>\n      <td>A</td>\n      <td>Normal value</td>\n      <td>EDU_SDG_TRTP_L1</td>\n    </tr>\n    <tr>\n      <th>2</th>\n      <td>ARM</td>\n      <td>Armenia</td>\n      <td>EDU_SDG_TRTP_L1</td>\n      <td>Percentage of trained teachers in primary educ...</td>\n      <td>_T</td>\n      <td>Total</td>\n      <td>_T</td>\n      <td>Total</td>\n      <td>_T</td>\n      <td>Total</td>\n      <td>...</td>\n      <td>%</td>\n      <td>NaN</td>\n      <td>1</td>\n      <td>One year</td>\n      <td>UIS: EDU_SDG_TRTP_L1</td>\n      <td>0</td>\n      <td>Units</td>\n      <td>A</td>\n      <td>Normal value</td>\n      <td>EDU_SDG_TRTP_L1</td>\n    </tr>\n    <tr>\n      <th>3</th>\n      <td>ARM</td>\n      <td>Armenia</td>\n      <td>EDU_SDG_TRTP_L1</td>\n      <td>Percentage of trained teachers in primary educ...</td>\n      <td>_T</td>\n      <td>Total</td>\n      <td>_T</td>\n      <td>Total</td>\n      <td>_T</td>\n      <td>Total</td>\n      <td>...</td>\n      <td>%</td>\n      <td>NaN</td>\n      <td>1</td>\n      <td>One year</td>\n      <td>UIS: EDU_SDG_TRTP_L1</td>\n      <td>0</td>\n      <td>Units</td>\n      <td>A</td>\n      <td>Normal value</td>\n      <td>EDU_SDG_TRTP_L1</td>\n    </tr>\n    <tr>\n      <th>4</th>\n      <td>AZE</td>\n      <td>Azerbaijan</td>\n      <td>EDU_SDG_TRTP_L1</td>\n      <td>Percentage of trained teachers in primary educ...</td>\n      <td>_T</td>\n      <td>Total</td>\n      <td>_T</td>\n      <td>Total</td>\n      <td>_T</td>\n      <td>Total</td>\n      <td>...</td>\n      <td>%</td>\n      <td>NaN</td>\n      <td>1</td>\n      <td>One year</td>\n      <td>UIS: EDU_SDG_TRTP_L1</td>\n      <td>0</td>\n      <td>Units</td>\n      <td>A</td>\n      <td>Normal value</td>\n      <td>EDU_SDG_TRTP_L1</td>\n    </tr>\n    <tr>\n      <th>...</th>\n      <td>...</td>\n      <td>...</td>\n      <td>...</td>\n      <td>...</td>\n      <td>...</td>\n      <td>...</td>\n      <td>...</td>\n      <td>...</td>\n      <td>...</td>\n      <td>...</td>\n      <td>...</td>\n      <td>...</td>\n      <td>...</td>\n      <td>...</td>\n      <td>...</td>\n      <td>...</td>\n      <td>...</td>\n      <td>...</td>\n      <td>...</td>\n      <td>...</td>\n      <td>...</td>\n    </tr>\n    <tr>\n      <th>127</th>\n      <td>SVK</td>\n      <td>Slovakia</td>\n      <td>EDU_SDG_STU_L1_GLAST_REA</td>\n      <td>Proportion of children at the end of primary e...</td>\n      <td>M</td>\n      <td>Male</td>\n      <td>_T</td>\n      <td>Total</td>\n      <td>_T</td>\n      <td>Total</td>\n      <td>...</td>\n      <td>%</td>\n      <td>NaN</td>\n      <td>1</td>\n      <td>One year</td>\n      <td>UIS: EDU_SDG_STU_L1_GLAST_REA</td>\n      <td>0</td>\n      <td>Units</td>\n      <td>A</td>\n      <td>Normal value</td>\n      <td>EDU_SDG_STU_L1_GLAST_REA</td>\n    </tr>\n    <tr>\n      <th>128</th>\n      <td>SVK</td>\n      <td>Slovakia</td>\n      <td>EDU_SDG_STU_L1_GLAST_REA</td>\n      <td>Proportion of children at the end of primary e...</td>\n      <td>M</td>\n      <td>Male</td>\n      <td>_T</td>\n      <td>Total</td>\n      <td>_T</td>\n      <td>Total</td>\n      <td>...</td>\n      <td>%</td>\n      <td>NaN</td>\n      <td>1</td>\n      <td>One year</td>\n      <td>UIS: EDU_SDG_STU_L1_GLAST_REA</td>\n      <td>0</td>\n      <td>Units</td>\n      <td>A</td>\n      <td>Normal value</td>\n      <td>EDU_SDG_STU_L1_GLAST_REA</td>\n    </tr>\n    <tr>\n      <th>129</th>\n      <td>SVK</td>\n      <td>Slovakia</td>\n      <td>EDU_SDG_STU_L1_GLAST_REA</td>\n      <td>Proportion of children at the end of primary e...</td>\n      <td>M</td>\n      <td>Male</td>\n      <td>_T</td>\n      <td>Total</td>\n      <td>_T</td>\n      <td>Total</td>\n      <td>...</td>\n      <td>%</td>\n      <td>NaN</td>\n      <td>1</td>\n      <td>One year</td>\n      <td>UIS: EDU_SDG_STU_L1_GLAST_REA</td>\n      <td>0</td>\n      <td>Units</td>\n      <td>A</td>\n      <td>Normal value</td>\n      <td>EDU_SDG_STU_L1_GLAST_REA</td>\n    </tr>\n    <tr>\n      <th>130</th>\n      <td>SVK</td>\n      <td>Slovakia</td>\n      <td>EDU_SDG_STU_L1_GLAST_REA</td>\n      <td>Proportion of children at the end of primary e...</td>\n      <td>M</td>\n      <td>Male</td>\n      <td>_T</td>\n      <td>Total</td>\n      <td>_T</td>\n      <td>Total</td>\n      <td>...</td>\n      <td>%</td>\n      <td>NaN</td>\n      <td>1</td>\n      <td>One year</td>\n      <td>UIS: EDU_SDG_STU_L1_GLAST_REA</td>\n      <td>0</td>\n      <td>Units</td>\n      <td>A</td>\n      <td>Normal value</td>\n      <td>EDU_SDG_STU_L1_GLAST_REA</td>\n    </tr>\n    <tr>\n      <th>131</th>\n      <td>TUR</td>\n      <td>Turkey</td>\n      <td>EDU_SDG_STU_L1_GLAST_REA</td>\n      <td>Proportion of children at the end of primary e...</td>\n      <td>M</td>\n      <td>Male</td>\n      <td>_T</td>\n      <td>Total</td>\n      <td>_T</td>\n      <td>Total</td>\n      <td>...</td>\n      <td>%</td>\n      <td>NaN</td>\n      <td>1</td>\n      <td>One year</td>\n      <td>UIS: EDU_SDG_STU_L1_GLAST_REA</td>\n      <td>0</td>\n      <td>Units</td>\n      <td>A</td>\n      <td>Normal value</td>\n      <td>EDU_SDG_STU_L1_GLAST_REA</td>\n    </tr>\n  </tbody>\n</table>\n<p>41634 rows × 26 columns</p>\n</div>"
     },
     "metadata": {},
     "execution_count": 41
    }
   ],
   "source": [
    "df"
   ]
  },
  {
   "cell_type": "code",
   "execution_count": 23,
   "metadata": {},
   "outputs": [
    {
     "output_type": "execute_result",
     "data": {
      "text/plain": [
       "                CODE                                          Indicator  \\\n",
       "0      EDUNF_OFST_L1  Number of out of school children of primary sc...   \n",
       "1      EDUNF_OFST_L1  Number of out of school children of primary sc...   \n",
       "2      EDUNF_OFST_L1  Number of out of school children of primary sc...   \n",
       "3      EDUNF_OFST_L1  Number of out of school children of primary sc...   \n",
       "4      EDUNF_OFST_L1  Number of out of school children of primary sc...   \n",
       "...              ...                                                ...   \n",
       "2419  EDUNF_ROFST_L3  Out of school children rate: Upper secondary e...   \n",
       "2420  EDUNF_ROFST_L3  Out of school children rate: Upper secondary e...   \n",
       "2421  EDUNF_ROFST_L3  Out of school children rate: Upper secondary e...   \n",
       "2422  EDUNF_ROFST_L3  Out of school children rate: Upper secondary e...   \n",
       "2423  EDUNF_ROFST_L3  Out of school children rate: Upper secondary e...   \n",
       "\n",
       "     Geographic area  TIME_PERIOD     OBS_VALUE        name  longitude  \\\n",
       "0            Albania         1999  19659.000000     Albania  20.156691   \n",
       "1            Albania         2000  21103.000000     Albania  20.156691   \n",
       "2            Albania         2001  21787.500000     Albania  20.156691   \n",
       "3            Albania         2003  21092.000000     Albania  20.156691   \n",
       "4            Albania         2004  22114.500000     Albania  20.156691   \n",
       "...              ...          ...           ...         ...        ...   \n",
       "2419      Uzbekistan         2013     14.460020  Uzbekistan  63.169372   \n",
       "2420      Uzbekistan         2014     17.612487  Uzbekistan  63.169372   \n",
       "2421      Uzbekistan         2015     16.168617  Uzbekistan  63.169372   \n",
       "2422      Uzbekistan         2016     16.463327  Uzbekistan  63.169372   \n",
       "2423      Uzbekistan         2017     16.041150  Uzbekistan  63.169372   \n",
       "\n",
       "       latitude  \n",
       "0     40.641090  \n",
       "1     40.641090  \n",
       "2     40.641090  \n",
       "3     40.641090  \n",
       "4     40.641090  \n",
       "...         ...  \n",
       "2419  41.750437  \n",
       "2420  41.750437  \n",
       "2421  41.750437  \n",
       "2422  41.750437  \n",
       "2423  41.750437  \n",
       "\n",
       "[2424 rows x 8 columns]"
      ],
      "text/html": "<div>\n<style scoped>\n    .dataframe tbody tr th:only-of-type {\n        vertical-align: middle;\n    }\n\n    .dataframe tbody tr th {\n        vertical-align: top;\n    }\n\n    .dataframe thead th {\n        text-align: right;\n    }\n</style>\n<table border=\"1\" class=\"dataframe\">\n  <thead>\n    <tr style=\"text-align: right;\">\n      <th></th>\n      <th>CODE</th>\n      <th>Indicator</th>\n      <th>Geographic area</th>\n      <th>TIME_PERIOD</th>\n      <th>OBS_VALUE</th>\n      <th>name</th>\n      <th>longitude</th>\n      <th>latitude</th>\n    </tr>\n  </thead>\n  <tbody>\n    <tr>\n      <th>0</th>\n      <td>EDUNF_OFST_L1</td>\n      <td>Number of out of school children of primary sc...</td>\n      <td>Albania</td>\n      <td>1999</td>\n      <td>19659.000000</td>\n      <td>Albania</td>\n      <td>20.156691</td>\n      <td>40.641090</td>\n    </tr>\n    <tr>\n      <th>1</th>\n      <td>EDUNF_OFST_L1</td>\n      <td>Number of out of school children of primary sc...</td>\n      <td>Albania</td>\n      <td>2000</td>\n      <td>21103.000000</td>\n      <td>Albania</td>\n      <td>20.156691</td>\n      <td>40.641090</td>\n    </tr>\n    <tr>\n      <th>2</th>\n      <td>EDUNF_OFST_L1</td>\n      <td>Number of out of school children of primary sc...</td>\n      <td>Albania</td>\n      <td>2001</td>\n      <td>21787.500000</td>\n      <td>Albania</td>\n      <td>20.156691</td>\n      <td>40.641090</td>\n    </tr>\n    <tr>\n      <th>3</th>\n      <td>EDUNF_OFST_L1</td>\n      <td>Number of out of school children of primary sc...</td>\n      <td>Albania</td>\n      <td>2003</td>\n      <td>21092.000000</td>\n      <td>Albania</td>\n      <td>20.156691</td>\n      <td>40.641090</td>\n    </tr>\n    <tr>\n      <th>4</th>\n      <td>EDUNF_OFST_L1</td>\n      <td>Number of out of school children of primary sc...</td>\n      <td>Albania</td>\n      <td>2004</td>\n      <td>22114.500000</td>\n      <td>Albania</td>\n      <td>20.156691</td>\n      <td>40.641090</td>\n    </tr>\n    <tr>\n      <th>...</th>\n      <td>...</td>\n      <td>...</td>\n      <td>...</td>\n      <td>...</td>\n      <td>...</td>\n      <td>...</td>\n      <td>...</td>\n      <td>...</td>\n    </tr>\n    <tr>\n      <th>2419</th>\n      <td>EDUNF_ROFST_L3</td>\n      <td>Out of school children rate: Upper secondary e...</td>\n      <td>Uzbekistan</td>\n      <td>2013</td>\n      <td>14.460020</td>\n      <td>Uzbekistan</td>\n      <td>63.169372</td>\n      <td>41.750437</td>\n    </tr>\n    <tr>\n      <th>2420</th>\n      <td>EDUNF_ROFST_L3</td>\n      <td>Out of school children rate: Upper secondary e...</td>\n      <td>Uzbekistan</td>\n      <td>2014</td>\n      <td>17.612487</td>\n      <td>Uzbekistan</td>\n      <td>63.169372</td>\n      <td>41.750437</td>\n    </tr>\n    <tr>\n      <th>2421</th>\n      <td>EDUNF_ROFST_L3</td>\n      <td>Out of school children rate: Upper secondary e...</td>\n      <td>Uzbekistan</td>\n      <td>2015</td>\n      <td>16.168617</td>\n      <td>Uzbekistan</td>\n      <td>63.169372</td>\n      <td>41.750437</td>\n    </tr>\n    <tr>\n      <th>2422</th>\n      <td>EDUNF_ROFST_L3</td>\n      <td>Out of school children rate: Upper secondary e...</td>\n      <td>Uzbekistan</td>\n      <td>2016</td>\n      <td>16.463327</td>\n      <td>Uzbekistan</td>\n      <td>63.169372</td>\n      <td>41.750437</td>\n    </tr>\n    <tr>\n      <th>2423</th>\n      <td>EDUNF_ROFST_L3</td>\n      <td>Out of school children rate: Upper secondary e...</td>\n      <td>Uzbekistan</td>\n      <td>2017</td>\n      <td>16.041150</td>\n      <td>Uzbekistan</td>\n      <td>63.169372</td>\n      <td>41.750437</td>\n    </tr>\n  </tbody>\n</table>\n<p>2424 rows × 8 columns</p>\n</div>"
     },
     "metadata": {},
     "execution_count": 23
    }
   ],
   "source": [
    "data.merge(\n",
    "    right=countries,\n",
    "    left_on='Geographic area',\n",
    "    right_on='name'\n",
    ")"
   ]
  },
  {
   "cell_type": "code",
   "execution_count": 10,
   "metadata": {},
   "outputs": [],
   "source": [
    "# Create controls\n",
    "county_options = [\n",
    "    {\"label\": str(country), \"value\": str(country)} for country in data['Geographic area'].unique()\n",
    "]"
   ]
  },
  {
   "cell_type": "code",
   "execution_count": 11,
   "metadata": {},
   "outputs": [
    {
     "output_type": "execute_result",
     "data": {
      "text/plain": "[{'label': 'Albania', 'value': 'Albania'},\n {'label': 'Armenia', 'value': 'Armenia'},\n {'label': 'Azerbaijan', 'value': 'Azerbaijan'},\n {'label': 'Bosnia and Herzegovina', 'value': 'Bosnia and Herzegovina'},\n {'label': 'Bulgaria', 'value': 'Bulgaria'},\n {'label': 'Belarus', 'value': 'Belarus'},\n {'label': 'Czechia', 'value': 'Czechia'},\n {'label': 'Estonia', 'value': 'Estonia'},\n {'label': 'Georgia', 'value': 'Georgia'},\n {'label': 'Croatia', 'value': 'Croatia'},\n {'label': 'Hungary', 'value': 'Hungary'},\n {'label': 'Kyrgyzstan', 'value': 'Kyrgyzstan'},\n {'label': 'Kazakhstan', 'value': 'Kazakhstan'},\n {'label': 'Lithuania', 'value': 'Lithuania'},\n {'label': 'Latvia', 'value': 'Latvia'},\n {'label': 'Republic of Moldova', 'value': 'Republic of Moldova'},\n {'label': 'Montenegro', 'value': 'Montenegro'},\n {'label': 'North Macedonia', 'value': 'North Macedonia'},\n {'label': 'Poland', 'value': 'Poland'},\n {'label': 'Romania', 'value': 'Romania'},\n {'label': 'Serbia', 'value': 'Serbia'},\n {'label': 'Russian Federation', 'value': 'Russian Federation'},\n {'label': 'Slovenia', 'value': 'Slovenia'},\n {'label': 'Slovakia', 'value': 'Slovakia'},\n {'label': 'Turkey', 'value': 'Turkey'},\n {'label': 'Ukraine', 'value': 'Ukraine'},\n {'label': 'Tajikistan', 'value': 'Tajikistan'},\n {'label': 'Uzbekistan', 'value': 'Uzbekistan'},\n {'label': 'Turkmenistan', 'value': 'Turkmenistan'}]"
     },
     "metadata": {},
     "execution_count": 11
    }
   ],
   "source": [
    "county_options"
   ]
  },
  {
   "cell_type": "code",
   "execution_count": 11,
   "metadata": {},
   "outputs": [
    {
     "output_type": "execute_result",
     "data": {
      "text/plain": [
       "{0: '2010',\n",
       " 1: '2011',\n",
       " 2: '2012',\n",
       " 3: '2013',\n",
       " 4: '2014',\n",
       " 5: '2015',\n",
       " 6: '2016',\n",
       " 7: '2017',\n",
       " 8: '2018',\n",
       " 9: '2019'}"
      ]
     },
     "metadata": {},
     "execution_count": 11
    }
   ],
   "source": [
    "years =[i for i in range(2010, 2020)]\n",
    "\n",
    "indicators = df['Indicator'].unique()\n",
    "\n",
    "{index: str(year) for index,year in enumerate(years)}"
   ]
  },
  {
   "cell_type": "code",
   "execution_count": 14,
   "metadata": {},
   "outputs": [],
   "source": [
    "countries = df[\"Geographic area\"].unique()\n"
   ]
  },
  {
   "cell_type": "code",
   "execution_count": 101,
   "metadata": {},
   "outputs": [],
   "source": [
    "numerator = \"EDUNF_OFST_L1,EDUNF_OFST_L2,EDUNF_OFST_L3\"\n",
    "denominator = \"EDUNF_SAP_L1T3\"\n",
    "absolute=True"
   ]
  },
  {
   "cell_type": "code",
   "execution_count": 102,
   "metadata": {},
   "outputs": [],
   "source": [
    "query = (\n",
    "    \"CODE in @indicator & TIME_PERIOD in @years & `Geographic area` in @countries\"\n",
    ")\n",
    "numors = numerator.split(\",\")\n",
    "indicator = numors\n",
    "# select last value for each country\n",
    "indicator_values = (\n",
    "    df.query(query)\n",
    "    .groupby(\n",
    "        [\n",
    "            \"CODE\",\n",
    "            \"Indicator\",\n",
    "            \"Geographic area\",\n",
    "            \"UNIT_MEASURE\",\n",
    "        ]\n",
    "    )\n",
    "    .agg({\"TIME_PERIOD\": \"last\", \"OBS_VALUE\": \"last\"})\n",
    "    .reset_index()\n",
    "    .set_index([\"Geographic area\", \"TIME_PERIOD\"])\n",
    ")\n",
    "# select the avalible denominators for countiries in selected years\n",
    "indicator = [denominator]\n",
    "denominator_values = (\n",
    "    df.query(query)\n",
    "    .groupby(\n",
    "        [\n",
    "            \"CODE\",\n",
    "            \"Indicator\",\n",
    "            \"Geographic area\",\n",
    "            \"UNIT_MEASURE\",\n",
    "        ]\n",
    "    )\n",
    "    .agg({\"TIME_PERIOD\": \"last\", \"OBS_VALUE\": \"last\"})\n",
    "    .reset_index()\n",
    "    .set_index([\"Geographic area\", \"TIME_PERIOD\"])\n",
    ")\n",
    "# select only those denominators that match avalible indicators\n",
    "denominators = denominator_values[\n",
    "    denominator_values.index.isin(indicator_values.index)\n",
    "][\"OBS_VALUE\"]\n",
    "\n",
    "denominator_sum = denominators.to_numpy().sum()\n",
    "\n",
    "indicator_sum = (\n",
    "    indicator_values[\"OBS_VALUE\"] * denominator_sum\n",
    "    if absolute\n",
    "    else (denominators / denominator_sum)\n",
    ").dropna()  # will drop missing countires\n",
    "\n",
    "sources = indicator_sum.index.tolist()\n"
   ]
  },
  {
   "cell_type": "code",
   "execution_count": 103,
   "metadata": {},
   "outputs": [
    {
     "output_type": "execute_result",
     "data": {
      "text/plain": [
       "                                      CODE  \\\n",
       "Geographic area TIME_PERIOD                  \n",
       "Albania         2013         EDUNF_OFST_L1   \n",
       "Armenia         2018         EDUNF_OFST_L1   \n",
       "Azerbaijan      2018         EDUNF_OFST_L1   \n",
       "Belarus         2018         EDUNF_OFST_L1   \n",
       "Bulgaria        2017         EDUNF_OFST_L1   \n",
       "...                                    ...   \n",
       "Slovenia        2017         EDUNF_OFST_L3   \n",
       "Tajikistan      2011         EDUNF_OFST_L3   \n",
       "Turkey          2017         EDUNF_OFST_L3   \n",
       "Ukraine         2014         EDUNF_OFST_L3   \n",
       "Uzbekistan      2017         EDUNF_OFST_L3   \n",
       "\n",
       "                                                                     Indicator  \\\n",
       "Geographic area TIME_PERIOD                                                      \n",
       "Albania         2013         Number of out-of-school children of primary sc...   \n",
       "Armenia         2018         Number of out-of-school children of primary sc...   \n",
       "Azerbaijan      2018         Number of out-of-school children of primary sc...   \n",
       "Belarus         2018         Number of out-of-school children of primary sc...   \n",
       "Bulgaria        2017         Number of out-of-school children of primary sc...   \n",
       "...                                                                        ...   \n",
       "Slovenia        2017         Number of out-of-school youth of upper seconda...   \n",
       "Tajikistan      2011         Number of out-of-school youth of upper seconda...   \n",
       "Turkey          2017         Number of out-of-school youth of upper seconda...   \n",
       "Ukraine         2014         Number of out-of-school youth of upper seconda...   \n",
       "Uzbekistan      2017         Number of out-of-school youth of upper seconda...   \n",
       "\n",
       "                            UNIT_MEASURE  OBS_VALUE  \n",
       "Geographic area TIME_PERIOD                          \n",
       "Albania         2013                  PS     6487.0  \n",
       "Armenia         2018                  PS     6050.0  \n",
       "Azerbaijan      2018                  PS    12763.0  \n",
       "Belarus         2018                  PS     1198.0  \n",
       "Bulgaria        2017                  PS    17828.0  \n",
       "...                                  ...        ...  \n",
       "Slovenia        2017                  PS     1687.0  \n",
       "Tajikistan      2011                  PS    53100.0  \n",
       "Turkey          2017                  PS   356792.0  \n",
       "Ukraine         2014                  PS    32722.0  \n",
       "Uzbekistan      2017                  PS   129074.0  \n",
       "\n",
       "[79 rows x 4 columns]"
      ],
      "text/html": "<div>\n<style scoped>\n    .dataframe tbody tr th:only-of-type {\n        vertical-align: middle;\n    }\n\n    .dataframe tbody tr th {\n        vertical-align: top;\n    }\n\n    .dataframe thead th {\n        text-align: right;\n    }\n</style>\n<table border=\"1\" class=\"dataframe\">\n  <thead>\n    <tr style=\"text-align: right;\">\n      <th></th>\n      <th></th>\n      <th>CODE</th>\n      <th>Indicator</th>\n      <th>UNIT_MEASURE</th>\n      <th>OBS_VALUE</th>\n    </tr>\n    <tr>\n      <th>Geographic area</th>\n      <th>TIME_PERIOD</th>\n      <th></th>\n      <th></th>\n      <th></th>\n      <th></th>\n    </tr>\n  </thead>\n  <tbody>\n    <tr>\n      <th>Albania</th>\n      <th>2013</th>\n      <td>EDUNF_OFST_L1</td>\n      <td>Number of out-of-school children of primary sc...</td>\n      <td>PS</td>\n      <td>6487.0</td>\n    </tr>\n    <tr>\n      <th>Armenia</th>\n      <th>2018</th>\n      <td>EDUNF_OFST_L1</td>\n      <td>Number of out-of-school children of primary sc...</td>\n      <td>PS</td>\n      <td>6050.0</td>\n    </tr>\n    <tr>\n      <th>Azerbaijan</th>\n      <th>2018</th>\n      <td>EDUNF_OFST_L1</td>\n      <td>Number of out-of-school children of primary sc...</td>\n      <td>PS</td>\n      <td>12763.0</td>\n    </tr>\n    <tr>\n      <th>Belarus</th>\n      <th>2018</th>\n      <td>EDUNF_OFST_L1</td>\n      <td>Number of out-of-school children of primary sc...</td>\n      <td>PS</td>\n      <td>1198.0</td>\n    </tr>\n    <tr>\n      <th>Bulgaria</th>\n      <th>2017</th>\n      <td>EDUNF_OFST_L1</td>\n      <td>Number of out-of-school children of primary sc...</td>\n      <td>PS</td>\n      <td>17828.0</td>\n    </tr>\n    <tr>\n      <th>...</th>\n      <th>...</th>\n      <td>...</td>\n      <td>...</td>\n      <td>...</td>\n      <td>...</td>\n    </tr>\n    <tr>\n      <th>Slovenia</th>\n      <th>2017</th>\n      <td>EDUNF_OFST_L3</td>\n      <td>Number of out-of-school youth of upper seconda...</td>\n      <td>PS</td>\n      <td>1687.0</td>\n    </tr>\n    <tr>\n      <th>Tajikistan</th>\n      <th>2011</th>\n      <td>EDUNF_OFST_L3</td>\n      <td>Number of out-of-school youth of upper seconda...</td>\n      <td>PS</td>\n      <td>53100.0</td>\n    </tr>\n    <tr>\n      <th>Turkey</th>\n      <th>2017</th>\n      <td>EDUNF_OFST_L3</td>\n      <td>Number of out-of-school youth of upper seconda...</td>\n      <td>PS</td>\n      <td>356792.0</td>\n    </tr>\n    <tr>\n      <th>Ukraine</th>\n      <th>2014</th>\n      <td>EDUNF_OFST_L3</td>\n      <td>Number of out-of-school youth of upper seconda...</td>\n      <td>PS</td>\n      <td>32722.0</td>\n    </tr>\n    <tr>\n      <th>Uzbekistan</th>\n      <th>2017</th>\n      <td>EDUNF_OFST_L3</td>\n      <td>Number of out-of-school youth of upper seconda...</td>\n      <td>PS</td>\n      <td>129074.0</td>\n    </tr>\n  </tbody>\n</table>\n<p>79 rows × 4 columns</p>\n</div>"
     },
     "metadata": {},
     "execution_count": 103
    }
   ],
   "source": [
    "indicator_values"
   ]
  },
  {
   "cell_type": "code",
   "execution_count": 91,
   "metadata": {},
   "outputs": [
    {
     "output_type": "execute_result",
     "data": {
      "text/plain": [
       "                                           CODE  \\\n",
       "Geographic area     TIME_PERIOD                   \n",
       "Albania             2019         EDUNF_SAP_L1T3   \n",
       "Armenia             2019         EDUNF_SAP_L1T3   \n",
       "Azerbaijan          2018         EDUNF_SAP_L1T3   \n",
       "Belarus             2019         EDUNF_SAP_L1T3   \n",
       "Bulgaria            2019         EDUNF_SAP_L1T3   \n",
       "Croatia             2019         EDUNF_SAP_L1T3   \n",
       "Czechia             2019         EDUNF_SAP_L1T3   \n",
       "Estonia             2019         EDUNF_SAP_L1T3   \n",
       "Georgia             2019         EDUNF_SAP_L1T3   \n",
       "Hungary             2019         EDUNF_SAP_L1T3   \n",
       "Kazakhstan          2019         EDUNF_SAP_L1T3   \n",
       "Kyrgyzstan          2019         EDUNF_SAP_L1T3   \n",
       "Latvia              2018         EDUNF_SAP_L1T3   \n",
       "Lithuania           2018         EDUNF_SAP_L1T3   \n",
       "Montenegro          2019         EDUNF_SAP_L1T3   \n",
       "North Macedonia     2019         EDUNF_SAP_L1T3   \n",
       "Poland              2019         EDUNF_SAP_L1T3   \n",
       "Republic of Moldova 2018         EDUNF_SAP_L1T3   \n",
       "Romania             2019         EDUNF_SAP_L1T3   \n",
       "Russian Federation  2019         EDUNF_SAP_L1T3   \n",
       "Serbia              2018         EDUNF_SAP_L1T3   \n",
       "Slovakia            2019         EDUNF_SAP_L1T3   \n",
       "Slovenia            2019         EDUNF_SAP_L1T3   \n",
       "Tajikistan          2019         EDUNF_SAP_L1T3   \n",
       "Turkey              2019         EDUNF_SAP_L1T3   \n",
       "Turkmenistan        2019         EDUNF_SAP_L1T3   \n",
       "Ukraine             2014         EDUNF_SAP_L1T3   \n",
       "Uzbekistan          2019         EDUNF_SAP_L1T3   \n",
       "\n",
       "                                                                         Indicator  \\\n",
       "Geographic area     TIME_PERIOD                                                      \n",
       "Albania             2019         Population of the official age for primary and...   \n",
       "Armenia             2019         Population of the official age for primary and...   \n",
       "Azerbaijan          2018         Population of the official age for primary and...   \n",
       "Belarus             2019         Population of the official age for primary and...   \n",
       "Bulgaria            2019         Population of the official age for primary and...   \n",
       "Croatia             2019         Population of the official age for primary and...   \n",
       "Czechia             2019         Population of the official age for primary and...   \n",
       "Estonia             2019         Population of the official age for primary and...   \n",
       "Georgia             2019         Population of the official age for primary and...   \n",
       "Hungary             2019         Population of the official age for primary and...   \n",
       "Kazakhstan          2019         Population of the official age for primary and...   \n",
       "Kyrgyzstan          2019         Population of the official age for primary and...   \n",
       "Latvia              2018         Population of the official age for primary and...   \n",
       "Lithuania           2018         Population of the official age for primary and...   \n",
       "Montenegro          2019         Population of the official age for primary and...   \n",
       "North Macedonia     2019         Population of the official age for primary and...   \n",
       "Poland              2019         Population of the official age for primary and...   \n",
       "Republic of Moldova 2018         Population of the official age for primary and...   \n",
       "Romania             2019         Population of the official age for primary and...   \n",
       "Russian Federation  2019         Population of the official age for primary and...   \n",
       "Serbia              2018         Population of the official age for primary and...   \n",
       "Slovakia            2019         Population of the official age for primary and...   \n",
       "Slovenia            2019         Population of the official age for primary and...   \n",
       "Tajikistan          2019         Population of the official age for primary and...   \n",
       "Turkey              2019         Population of the official age for primary and...   \n",
       "Turkmenistan        2019         Population of the official age for primary and...   \n",
       "Ukraine             2014         Population of the official age for primary and...   \n",
       "Uzbekistan          2019         Population of the official age for primary and...   \n",
       "\n",
       "                                UNIT_MEASURE  OBS_VALUE  \n",
       "Geographic area     TIME_PERIOD                          \n",
       "Albania             2019                  PS   228553.0  \n",
       "Armenia             2019                  PS   243667.0  \n",
       "Azerbaijan          2018                  PS   875972.0  \n",
       "Belarus             2019                  PS   557932.0  \n",
       "Bulgaria            2019                  PS   421698.0  \n",
       "Croatia             2019                  PS   254948.0  \n",
       "Czechia             2019                  PS   706562.0  \n",
       "Estonia             2019                  PS    85295.0  \n",
       "Georgia             2019                  PS   308217.0  \n",
       "Hungary             2019                  PS   595141.0  \n",
       "Kazakhstan          2019                  PS  1593803.0  \n",
       "Kyrgyzstan          2019                  PS   634499.0  \n",
       "Latvia              2018                  PS   117661.0  \n",
       "Lithuania           2018                  PS   167592.0  \n",
       "Montenegro          2019                  PS    53378.0  \n",
       "North Macedonia     2019                  PS   156949.0  \n",
       "Poland              2019                  PS  2297606.0  \n",
       "Republic of Moldova 2018                  PS   213915.0  \n",
       "Romania             2019                  PS  1388991.0  \n",
       "Russian Federation  2019                  PS  8709482.0  \n",
       "Serbia              2018                  PS   425846.0  \n",
       "Slovakia            2019                  PS   366294.0  \n",
       "Slovenia            2019                  PS   133207.0  \n",
       "Tajikistan          2019                  PS  1037284.0  \n",
       "Turkey              2019                  PS  8307366.0  \n",
       "Turkmenistan        2019                  PS   637980.0  \n",
       "Ukraine             2014                  PS  2326355.0  \n",
       "Uzbekistan          2019                  PS  3397363.0  "
      ],
      "text/html": "<div>\n<style scoped>\n    .dataframe tbody tr th:only-of-type {\n        vertical-align: middle;\n    }\n\n    .dataframe tbody tr th {\n        vertical-align: top;\n    }\n\n    .dataframe thead th {\n        text-align: right;\n    }\n</style>\n<table border=\"1\" class=\"dataframe\">\n  <thead>\n    <tr style=\"text-align: right;\">\n      <th></th>\n      <th></th>\n      <th>CODE</th>\n      <th>Indicator</th>\n      <th>UNIT_MEASURE</th>\n      <th>OBS_VALUE</th>\n    </tr>\n    <tr>\n      <th>Geographic area</th>\n      <th>TIME_PERIOD</th>\n      <th></th>\n      <th></th>\n      <th></th>\n      <th></th>\n    </tr>\n  </thead>\n  <tbody>\n    <tr>\n      <th>Albania</th>\n      <th>2019</th>\n      <td>EDUNF_SAP_L1T3</td>\n      <td>Population of the official age for primary and...</td>\n      <td>PS</td>\n      <td>228553.0</td>\n    </tr>\n    <tr>\n      <th>Armenia</th>\n      <th>2019</th>\n      <td>EDUNF_SAP_L1T3</td>\n      <td>Population of the official age for primary and...</td>\n      <td>PS</td>\n      <td>243667.0</td>\n    </tr>\n    <tr>\n      <th>Azerbaijan</th>\n      <th>2018</th>\n      <td>EDUNF_SAP_L1T3</td>\n      <td>Population of the official age for primary and...</td>\n      <td>PS</td>\n      <td>875972.0</td>\n    </tr>\n    <tr>\n      <th>Belarus</th>\n      <th>2019</th>\n      <td>EDUNF_SAP_L1T3</td>\n      <td>Population of the official age for primary and...</td>\n      <td>PS</td>\n      <td>557932.0</td>\n    </tr>\n    <tr>\n      <th>Bulgaria</th>\n      <th>2019</th>\n      <td>EDUNF_SAP_L1T3</td>\n      <td>Population of the official age for primary and...</td>\n      <td>PS</td>\n      <td>421698.0</td>\n    </tr>\n    <tr>\n      <th>Croatia</th>\n      <th>2019</th>\n      <td>EDUNF_SAP_L1T3</td>\n      <td>Population of the official age for primary and...</td>\n      <td>PS</td>\n      <td>254948.0</td>\n    </tr>\n    <tr>\n      <th>Czechia</th>\n      <th>2019</th>\n      <td>EDUNF_SAP_L1T3</td>\n      <td>Population of the official age for primary and...</td>\n      <td>PS</td>\n      <td>706562.0</td>\n    </tr>\n    <tr>\n      <th>Estonia</th>\n      <th>2019</th>\n      <td>EDUNF_SAP_L1T3</td>\n      <td>Population of the official age for primary and...</td>\n      <td>PS</td>\n      <td>85295.0</td>\n    </tr>\n    <tr>\n      <th>Georgia</th>\n      <th>2019</th>\n      <td>EDUNF_SAP_L1T3</td>\n      <td>Population of the official age for primary and...</td>\n      <td>PS</td>\n      <td>308217.0</td>\n    </tr>\n    <tr>\n      <th>Hungary</th>\n      <th>2019</th>\n      <td>EDUNF_SAP_L1T3</td>\n      <td>Population of the official age for primary and...</td>\n      <td>PS</td>\n      <td>595141.0</td>\n    </tr>\n    <tr>\n      <th>Kazakhstan</th>\n      <th>2019</th>\n      <td>EDUNF_SAP_L1T3</td>\n      <td>Population of the official age for primary and...</td>\n      <td>PS</td>\n      <td>1593803.0</td>\n    </tr>\n    <tr>\n      <th>Kyrgyzstan</th>\n      <th>2019</th>\n      <td>EDUNF_SAP_L1T3</td>\n      <td>Population of the official age for primary and...</td>\n      <td>PS</td>\n      <td>634499.0</td>\n    </tr>\n    <tr>\n      <th>Latvia</th>\n      <th>2018</th>\n      <td>EDUNF_SAP_L1T3</td>\n      <td>Population of the official age for primary and...</td>\n      <td>PS</td>\n      <td>117661.0</td>\n    </tr>\n    <tr>\n      <th>Lithuania</th>\n      <th>2018</th>\n      <td>EDUNF_SAP_L1T3</td>\n      <td>Population of the official age for primary and...</td>\n      <td>PS</td>\n      <td>167592.0</td>\n    </tr>\n    <tr>\n      <th>Montenegro</th>\n      <th>2019</th>\n      <td>EDUNF_SAP_L1T3</td>\n      <td>Population of the official age for primary and...</td>\n      <td>PS</td>\n      <td>53378.0</td>\n    </tr>\n    <tr>\n      <th>North Macedonia</th>\n      <th>2019</th>\n      <td>EDUNF_SAP_L1T3</td>\n      <td>Population of the official age for primary and...</td>\n      <td>PS</td>\n      <td>156949.0</td>\n    </tr>\n    <tr>\n      <th>Poland</th>\n      <th>2019</th>\n      <td>EDUNF_SAP_L1T3</td>\n      <td>Population of the official age for primary and...</td>\n      <td>PS</td>\n      <td>2297606.0</td>\n    </tr>\n    <tr>\n      <th>Republic of Moldova</th>\n      <th>2018</th>\n      <td>EDUNF_SAP_L1T3</td>\n      <td>Population of the official age for primary and...</td>\n      <td>PS</td>\n      <td>213915.0</td>\n    </tr>\n    <tr>\n      <th>Romania</th>\n      <th>2019</th>\n      <td>EDUNF_SAP_L1T3</td>\n      <td>Population of the official age for primary and...</td>\n      <td>PS</td>\n      <td>1388991.0</td>\n    </tr>\n    <tr>\n      <th>Russian Federation</th>\n      <th>2019</th>\n      <td>EDUNF_SAP_L1T3</td>\n      <td>Population of the official age for primary and...</td>\n      <td>PS</td>\n      <td>8709482.0</td>\n    </tr>\n    <tr>\n      <th>Serbia</th>\n      <th>2018</th>\n      <td>EDUNF_SAP_L1T3</td>\n      <td>Population of the official age for primary and...</td>\n      <td>PS</td>\n      <td>425846.0</td>\n    </tr>\n    <tr>\n      <th>Slovakia</th>\n      <th>2019</th>\n      <td>EDUNF_SAP_L1T3</td>\n      <td>Population of the official age for primary and...</td>\n      <td>PS</td>\n      <td>366294.0</td>\n    </tr>\n    <tr>\n      <th>Slovenia</th>\n      <th>2019</th>\n      <td>EDUNF_SAP_L1T3</td>\n      <td>Population of the official age for primary and...</td>\n      <td>PS</td>\n      <td>133207.0</td>\n    </tr>\n    <tr>\n      <th>Tajikistan</th>\n      <th>2019</th>\n      <td>EDUNF_SAP_L1T3</td>\n      <td>Population of the official age for primary and...</td>\n      <td>PS</td>\n      <td>1037284.0</td>\n    </tr>\n    <tr>\n      <th>Turkey</th>\n      <th>2019</th>\n      <td>EDUNF_SAP_L1T3</td>\n      <td>Population of the official age for primary and...</td>\n      <td>PS</td>\n      <td>8307366.0</td>\n    </tr>\n    <tr>\n      <th>Turkmenistan</th>\n      <th>2019</th>\n      <td>EDUNF_SAP_L1T3</td>\n      <td>Population of the official age for primary and...</td>\n      <td>PS</td>\n      <td>637980.0</td>\n    </tr>\n    <tr>\n      <th>Ukraine</th>\n      <th>2014</th>\n      <td>EDUNF_SAP_L1T3</td>\n      <td>Population of the official age for primary and...</td>\n      <td>PS</td>\n      <td>2326355.0</td>\n    </tr>\n    <tr>\n      <th>Uzbekistan</th>\n      <th>2019</th>\n      <td>EDUNF_SAP_L1T3</td>\n      <td>Population of the official age for primary and...</td>\n      <td>PS</td>\n      <td>3397363.0</td>\n    </tr>\n  </tbody>\n</table>\n</div>"
     },
     "metadata": {},
     "execution_count": 91
    }
   ],
   "source": [
    "denominator_values"
   ]
  },
  {
   "cell_type": "code",
   "execution_count": 104,
   "metadata": {},
   "outputs": [
    {
     "output_type": "execute_result",
     "data": {
      "text/plain": [
       "Geographic area  TIME_PERIOD\n",
       "Albania          2013           3.526262e+10\n",
       "Armenia          2018           3.288714e+10\n",
       "Azerbaijan       2018           6.937828e+10\n",
       "Belarus          2018           6.512197e+09\n",
       "Bulgaria         2017           9.691106e+10\n",
       "                                    ...     \n",
       "Slovenia         2017           9.170348e+09\n",
       "Tajikistan       2011           2.886458e+11\n",
       "Turkey           2017           1.939482e+12\n",
       "Ukraine          2014           1.778732e+11\n",
       "Uzbekistan       2017           7.016322e+11\n",
       "Name: OBS_VALUE, Length: 79, dtype: float64"
      ]
     },
     "metadata": {},
     "execution_count": 104
    }
   ],
   "source": [
    "indicator_sum"
   ]
  },
  {
   "cell_type": "code",
   "execution_count": 105,
   "metadata": {},
   "outputs": [
    {
     "output_type": "execute_result",
     "data": {
      "text/plain": [
       "[('Albania', 2013),\n",
       " ('Armenia', 2018),\n",
       " ('Azerbaijan', 2018),\n",
       " ('Belarus', 2018),\n",
       " ('Bulgaria', 2017),\n",
       " ('Croatia', 2011),\n",
       " ('Czechia', 2014),\n",
       " ('Estonia', 2017),\n",
       " ('Georgia', 2016),\n",
       " ('Hungary', 2017),\n",
       " ('Kazakhstan', 2019),\n",
       " ('Kyrgyzstan', 2012),\n",
       " ('Latvia', 2017),\n",
       " ('Lithuania', 2017),\n",
       " ('Montenegro', 2017),\n",
       " ('North Macedonia', 2017),\n",
       " ('Poland', 2017),\n",
       " ('Republic of Moldova', 2018),\n",
       " ('Romania', 2017),\n",
       " ('Russian Federation', 2016),\n",
       " ('Serbia', 2018),\n",
       " ('Slovakia', 2017),\n",
       " ('Slovenia', 2014),\n",
       " ('Tajikistan', 2016),\n",
       " ('Turkey', 2017),\n",
       " ('Ukraine', 2014),\n",
       " ('Uzbekistan', 2014),\n",
       " ('Albania', 2018),\n",
       " ('Armenia', 2018),\n",
       " ('Azerbaijan', 2018),\n",
       " ('Belarus', 2018),\n",
       " ('Bulgaria', 2017),\n",
       " ('Croatia', 2013),\n",
       " ('Czechia', 2017),\n",
       " ('Estonia', 2017),\n",
       " ('Georgia', 2014),\n",
       " ('Hungary', 2017),\n",
       " ('Kazakhstan', 2013),\n",
       " ('Kyrgyzstan', 2018),\n",
       " ('Latvia', 2017),\n",
       " ('Lithuania', 2012),\n",
       " ('Montenegro', 2018),\n",
       " ('Poland', 2017),\n",
       " ('Republic of Moldova', 2018),\n",
       " ('Romania', 2017),\n",
       " ('Russian Federation', 2014),\n",
       " ('Serbia', 2018),\n",
       " ('Slovakia', 2017),\n",
       " ('Slovenia', 2017),\n",
       " ('Tajikistan', 2011),\n",
       " ('Turkey', 2017),\n",
       " ('Ukraine', 2014),\n",
       " ('Uzbekistan', 2018),\n",
       " ('Albania', 2018),\n",
       " ('Armenia', 2011),\n",
       " ('Azerbaijan', 2018),\n",
       " ('Belarus', 2014),\n",
       " ('Bulgaria', 2017),\n",
       " ('Croatia', 2017),\n",
       " ('Czechia', 2017),\n",
       " ('Estonia', 2017),\n",
       " ('Georgia', 2018),\n",
       " ('Hungary', 2017),\n",
       " ('Kazakhstan', 2018),\n",
       " ('Kyrgyzstan', 2018),\n",
       " ('Latvia', 2017),\n",
       " ('Lithuania', 2017),\n",
       " ('Montenegro', 2018),\n",
       " ('Poland', 2017),\n",
       " ('Republic of Moldova', 2018),\n",
       " ('Romania', 2017),\n",
       " ('Russian Federation', 2017),\n",
       " ('Serbia', 2018),\n",
       " ('Slovakia', 2017),\n",
       " ('Slovenia', 2017),\n",
       " ('Tajikistan', 2011),\n",
       " ('Turkey', 2017),\n",
       " ('Ukraine', 2014),\n",
       " ('Uzbekistan', 2017)]"
      ]
     },
     "metadata": {},
     "execution_count": 105
    }
   ],
   "source": [
    "sources"
   ]
  },
  {
   "cell_type": "code",
   "execution_count": 106,
   "metadata": {},
   "outputs": [
    {
     "output_type": "execute_result",
     "data": {
      "text/plain": [
       "10217045236723.0"
      ]
     },
     "metadata": {},
     "execution_count": 106
    }
   ],
   "source": [
    "indicator_sum.to_numpy().sum()"
   ]
  },
  {
   "cell_type": "code",
   "execution_count": 107,
   "metadata": {},
   "outputs": [
    {
     "output_type": "execute_result",
     "data": {
      "text/plain": [
       "                                      CODE  \\\n",
       "Geographic area TIME_PERIOD                  \n",
       "Albania         2013         EDUNF_OFST_L1   \n",
       "Armenia         2018         EDUNF_OFST_L1   \n",
       "Azerbaijan      2018         EDUNF_OFST_L1   \n",
       "Belarus         2018         EDUNF_OFST_L1   \n",
       "Bulgaria        2017         EDUNF_OFST_L1   \n",
       "\n",
       "                                                                     Indicator  \\\n",
       "Geographic area TIME_PERIOD                                                      \n",
       "Albania         2013         Number of out-of-school children of primary sc...   \n",
       "Armenia         2018         Number of out-of-school children of primary sc...   \n",
       "Azerbaijan      2018         Number of out-of-school children of primary sc...   \n",
       "Belarus         2018         Number of out-of-school children of primary sc...   \n",
       "Bulgaria        2017         Number of out-of-school children of primary sc...   \n",
       "\n",
       "                            UNIT_MEASURE  OBS_VALUE  \n",
       "Geographic area TIME_PERIOD                          \n",
       "Albania         2013                  PS     6487.0  \n",
       "Armenia         2018                  PS     6050.0  \n",
       "Azerbaijan      2018                  PS    12763.0  \n",
       "Belarus         2018                  PS     1198.0  \n",
       "Bulgaria        2017                  PS    17828.0  "
      ],
      "text/html": "<div>\n<style scoped>\n    .dataframe tbody tr th:only-of-type {\n        vertical-align: middle;\n    }\n\n    .dataframe tbody tr th {\n        vertical-align: top;\n    }\n\n    .dataframe thead th {\n        text-align: right;\n    }\n</style>\n<table border=\"1\" class=\"dataframe\">\n  <thead>\n    <tr style=\"text-align: right;\">\n      <th></th>\n      <th></th>\n      <th>CODE</th>\n      <th>Indicator</th>\n      <th>UNIT_MEASURE</th>\n      <th>OBS_VALUE</th>\n    </tr>\n    <tr>\n      <th>Geographic area</th>\n      <th>TIME_PERIOD</th>\n      <th></th>\n      <th></th>\n      <th></th>\n      <th></th>\n    </tr>\n  </thead>\n  <tbody>\n    <tr>\n      <th>Albania</th>\n      <th>2013</th>\n      <td>EDUNF_OFST_L1</td>\n      <td>Number of out-of-school children of primary sc...</td>\n      <td>PS</td>\n      <td>6487.0</td>\n    </tr>\n    <tr>\n      <th>Armenia</th>\n      <th>2018</th>\n      <td>EDUNF_OFST_L1</td>\n      <td>Number of out-of-school children of primary sc...</td>\n      <td>PS</td>\n      <td>6050.0</td>\n    </tr>\n    <tr>\n      <th>Azerbaijan</th>\n      <th>2018</th>\n      <td>EDUNF_OFST_L1</td>\n      <td>Number of out-of-school children of primary sc...</td>\n      <td>PS</td>\n      <td>12763.0</td>\n    </tr>\n    <tr>\n      <th>Belarus</th>\n      <th>2018</th>\n      <td>EDUNF_OFST_L1</td>\n      <td>Number of out-of-school children of primary sc...</td>\n      <td>PS</td>\n      <td>1198.0</td>\n    </tr>\n    <tr>\n      <th>Bulgaria</th>\n      <th>2017</th>\n      <td>EDUNF_OFST_L1</td>\n      <td>Number of out-of-school children of primary sc...</td>\n      <td>PS</td>\n      <td>17828.0</td>\n    </tr>\n  </tbody>\n</table>\n</div>"
     },
     "metadata": {},
     "execution_count": 107
    }
   ],
   "source": [
    "indicator_values.head()"
   ]
  },
  {
   "cell_type": "code",
   "execution_count": 51,
   "metadata": {},
   "outputs": [
    {
     "output_type": "execute_result",
     "data": {
      "text/plain": [
       "                                             CODE  \\\n",
       "Geographic area        TIME_PERIOD                  \n",
       "Albania                2018         EDUNF_SAP_L02   \n",
       "Armenia                2018         EDUNF_SAP_L02   \n",
       "Azerbaijan             2018         EDUNF_SAP_L02   \n",
       "Belarus                2018         EDUNF_SAP_L02   \n",
       "Bosnia and Herzegovina 2019         EDUNF_SAP_L02   \n",
       "Bulgaria               2018         EDUNF_SAP_L02   \n",
       "Croatia                2018         EDUNF_SAP_L02   \n",
       "Czechia                2018         EDUNF_SAP_L02   \n",
       "Estonia                2018         EDUNF_SAP_L02   \n",
       "Georgia                2018         EDUNF_SAP_L02   \n",
       "Hungary                2018         EDUNF_SAP_L02   \n",
       "Kazakhstan             2019         EDUNF_SAP_L02   \n",
       "Kyrgyzstan             2018         EDUNF_SAP_L02   \n",
       "Latvia                 2018         EDUNF_SAP_L02   \n",
       "Lithuania              2018         EDUNF_SAP_L02   \n",
       "Montenegro             2018         EDUNF_SAP_L02   \n",
       "North Macedonia        2018         EDUNF_SAP_L02   \n",
       "Poland                 2018         EDUNF_SAP_L02   \n",
       "Republic of Moldova    2018         EDUNF_SAP_L02   \n",
       "Romania                2019         EDUNF_SAP_L02   \n",
       "Russian Federation     2018         EDUNF_SAP_L02   \n",
       "Serbia                 2018         EDUNF_SAP_L02   \n",
       "Slovakia               2019         EDUNF_SAP_L02   \n",
       "Slovenia               2018         EDUNF_SAP_L02   \n",
       "Tajikistan             2018         EDUNF_SAP_L02   \n",
       "Turkey                 2018         EDUNF_SAP_L02   \n",
       "Turkmenistan           2018         EDUNF_SAP_L02   \n",
       "Ukraine                2014         EDUNF_SAP_L02   \n",
       "Uzbekistan             2018         EDUNF_SAP_L02   \n",
       "\n",
       "                                                                            Indicator  \\\n",
       "Geographic area        TIME_PERIOD                                                      \n",
       "Albania                2018         Population of the official age for pre-primary...   \n",
       "Armenia                2018         Population of the official age for pre-primary...   \n",
       "Azerbaijan             2018         Population of the official age for pre-primary...   \n",
       "Belarus                2018         Population of the official age for pre-primary...   \n",
       "Bosnia and Herzegovina 2019         Population of the official age for pre-primary...   \n",
       "Bulgaria               2018         Population of the official age for pre-primary...   \n",
       "Croatia                2018         Population of the official age for pre-primary...   \n",
       "Czechia                2018         Population of the official age for pre-primary...   \n",
       "Estonia                2018         Population of the official age for pre-primary...   \n",
       "Georgia                2018         Population of the official age for pre-primary...   \n",
       "Hungary                2018         Population of the official age for pre-primary...   \n",
       "Kazakhstan             2019         Population of the official age for pre-primary...   \n",
       "Kyrgyzstan             2018         Population of the official age for pre-primary...   \n",
       "Latvia                 2018         Population of the official age for pre-primary...   \n",
       "Lithuania              2018         Population of the official age for pre-primary...   \n",
       "Montenegro             2018         Population of the official age for pre-primary...   \n",
       "North Macedonia        2018         Population of the official age for pre-primary...   \n",
       "Poland                 2018         Population of the official age for pre-primary...   \n",
       "Republic of Moldova    2018         Population of the official age for pre-primary...   \n",
       "Romania                2019         Population of the official age for pre-primary...   \n",
       "Russian Federation     2018         Population of the official age for pre-primary...   \n",
       "Serbia                 2018         Population of the official age for pre-primary...   \n",
       "Slovakia               2019         Population of the official age for pre-primary...   \n",
       "Slovenia               2018         Population of the official age for pre-primary...   \n",
       "Tajikistan             2018         Population of the official age for pre-primary...   \n",
       "Turkey                 2018         Population of the official age for pre-primary...   \n",
       "Turkmenistan           2018         Population of the official age for pre-primary...   \n",
       "Ukraine                2014         Population of the official age for pre-primary...   \n",
       "Uzbekistan             2018         Population of the official age for pre-primary...   \n",
       "\n",
       "                                   UNIT_MEASURE Unit of measure  OBS_VALUE  \n",
       "Geographic area        TIME_PERIOD                                          \n",
       "Albania                2018                  PS         Persons    52740.0  \n",
       "Armenia                2018                  PS         Persons    68787.0  \n",
       "Azerbaijan             2018                  PS         Persons   273802.0  \n",
       "Belarus                2018                  PS         Persons   182111.0  \n",
       "Bosnia and Herzegovina 2019                  PS         Persons    47710.0  \n",
       "Bulgaria               2018                  PS         Persons   143007.0  \n",
       "Croatia                2018                  PS         Persons    85284.0  \n",
       "Czechia                2018                  PS         Persons   171650.0  \n",
       "Estonia                2018                  PS         Persons    30532.0  \n",
       "Georgia                2018                  PS         Persons    89465.0  \n",
       "Hungary                2018                  PS         Persons   185844.0  \n",
       "Kazakhstan             2019                  PS         Persons   810903.0  \n",
       "Kyrgyzstan             2018                  PS         Persons   308881.0  \n",
       "Latvia                 2018                  PS         Persons    41992.0  \n",
       "Lithuania              2018                  PS         Persons    59987.0  \n",
       "Montenegro             2018                  PS         Persons    11620.0  \n",
       "North Macedonia        2018                  PS         Persons    35932.0  \n",
       "Poland                 2018                  PS         Persons   795509.0  \n",
       "Republic of Moldova    2018                  PS         Persons    78599.0  \n",
       "Romania                2019                  PS         Persons   288322.0  \n",
       "Russian Federation     2018                  PS         Persons  3797175.0  \n",
       "Serbia                 2018                  PS         Persons   135563.0  \n",
       "Slovakia               2019                  PS         Persons    86122.0  \n",
       "Slovenia               2018                  PS         Persons    33815.0  \n",
       "Tajikistan             2018                  PS         Persons   492868.0  \n",
       "Turkey                 2018                  PS         Persons  2093853.0  \n",
       "Turkmenistan           2018                  PS         Persons   204676.0  \n",
       "Ukraine                2014                  PS         Persons   774611.0  \n",
       "Uzbekistan             2018                  PS         Persons  1345738.0  "
      ],
      "text/html": "<div>\n<style scoped>\n    .dataframe tbody tr th:only-of-type {\n        vertical-align: middle;\n    }\n\n    .dataframe tbody tr th {\n        vertical-align: top;\n    }\n\n    .dataframe thead th {\n        text-align: right;\n    }\n</style>\n<table border=\"1\" class=\"dataframe\">\n  <thead>\n    <tr style=\"text-align: right;\">\n      <th></th>\n      <th></th>\n      <th>CODE</th>\n      <th>Indicator</th>\n      <th>UNIT_MEASURE</th>\n      <th>Unit of measure</th>\n      <th>OBS_VALUE</th>\n    </tr>\n    <tr>\n      <th>Geographic area</th>\n      <th>TIME_PERIOD</th>\n      <th></th>\n      <th></th>\n      <th></th>\n      <th></th>\n      <th></th>\n    </tr>\n  </thead>\n  <tbody>\n    <tr>\n      <th>Albania</th>\n      <th>2018</th>\n      <td>EDUNF_SAP_L02</td>\n      <td>Population of the official age for pre-primary...</td>\n      <td>PS</td>\n      <td>Persons</td>\n      <td>52740.0</td>\n    </tr>\n    <tr>\n      <th>Armenia</th>\n      <th>2018</th>\n      <td>EDUNF_SAP_L02</td>\n      <td>Population of the official age for pre-primary...</td>\n      <td>PS</td>\n      <td>Persons</td>\n      <td>68787.0</td>\n    </tr>\n    <tr>\n      <th>Azerbaijan</th>\n      <th>2018</th>\n      <td>EDUNF_SAP_L02</td>\n      <td>Population of the official age for pre-primary...</td>\n      <td>PS</td>\n      <td>Persons</td>\n      <td>273802.0</td>\n    </tr>\n    <tr>\n      <th>Belarus</th>\n      <th>2018</th>\n      <td>EDUNF_SAP_L02</td>\n      <td>Population of the official age for pre-primary...</td>\n      <td>PS</td>\n      <td>Persons</td>\n      <td>182111.0</td>\n    </tr>\n    <tr>\n      <th>Bosnia and Herzegovina</th>\n      <th>2019</th>\n      <td>EDUNF_SAP_L02</td>\n      <td>Population of the official age for pre-primary...</td>\n      <td>PS</td>\n      <td>Persons</td>\n      <td>47710.0</td>\n    </tr>\n    <tr>\n      <th>Bulgaria</th>\n      <th>2018</th>\n      <td>EDUNF_SAP_L02</td>\n      <td>Population of the official age for pre-primary...</td>\n      <td>PS</td>\n      <td>Persons</td>\n      <td>143007.0</td>\n    </tr>\n    <tr>\n      <th>Croatia</th>\n      <th>2018</th>\n      <td>EDUNF_SAP_L02</td>\n      <td>Population of the official age for pre-primary...</td>\n      <td>PS</td>\n      <td>Persons</td>\n      <td>85284.0</td>\n    </tr>\n    <tr>\n      <th>Czechia</th>\n      <th>2018</th>\n      <td>EDUNF_SAP_L02</td>\n      <td>Population of the official age for pre-primary...</td>\n      <td>PS</td>\n      <td>Persons</td>\n      <td>171650.0</td>\n    </tr>\n    <tr>\n      <th>Estonia</th>\n      <th>2018</th>\n      <td>EDUNF_SAP_L02</td>\n      <td>Population of the official age for pre-primary...</td>\n      <td>PS</td>\n      <td>Persons</td>\n      <td>30532.0</td>\n    </tr>\n    <tr>\n      <th>Georgia</th>\n      <th>2018</th>\n      <td>EDUNF_SAP_L02</td>\n      <td>Population of the official age for pre-primary...</td>\n      <td>PS</td>\n      <td>Persons</td>\n      <td>89465.0</td>\n    </tr>\n    <tr>\n      <th>Hungary</th>\n      <th>2018</th>\n      <td>EDUNF_SAP_L02</td>\n      <td>Population of the official age for pre-primary...</td>\n      <td>PS</td>\n      <td>Persons</td>\n      <td>185844.0</td>\n    </tr>\n    <tr>\n      <th>Kazakhstan</th>\n      <th>2019</th>\n      <td>EDUNF_SAP_L02</td>\n      <td>Population of the official age for pre-primary...</td>\n      <td>PS</td>\n      <td>Persons</td>\n      <td>810903.0</td>\n    </tr>\n    <tr>\n      <th>Kyrgyzstan</th>\n      <th>2018</th>\n      <td>EDUNF_SAP_L02</td>\n      <td>Population of the official age for pre-primary...</td>\n      <td>PS</td>\n      <td>Persons</td>\n      <td>308881.0</td>\n    </tr>\n    <tr>\n      <th>Latvia</th>\n      <th>2018</th>\n      <td>EDUNF_SAP_L02</td>\n      <td>Population of the official age for pre-primary...</td>\n      <td>PS</td>\n      <td>Persons</td>\n      <td>41992.0</td>\n    </tr>\n    <tr>\n      <th>Lithuania</th>\n      <th>2018</th>\n      <td>EDUNF_SAP_L02</td>\n      <td>Population of the official age for pre-primary...</td>\n      <td>PS</td>\n      <td>Persons</td>\n      <td>59987.0</td>\n    </tr>\n    <tr>\n      <th>Montenegro</th>\n      <th>2018</th>\n      <td>EDUNF_SAP_L02</td>\n      <td>Population of the official age for pre-primary...</td>\n      <td>PS</td>\n      <td>Persons</td>\n      <td>11620.0</td>\n    </tr>\n    <tr>\n      <th>North Macedonia</th>\n      <th>2018</th>\n      <td>EDUNF_SAP_L02</td>\n      <td>Population of the official age for pre-primary...</td>\n      <td>PS</td>\n      <td>Persons</td>\n      <td>35932.0</td>\n    </tr>\n    <tr>\n      <th>Poland</th>\n      <th>2018</th>\n      <td>EDUNF_SAP_L02</td>\n      <td>Population of the official age for pre-primary...</td>\n      <td>PS</td>\n      <td>Persons</td>\n      <td>795509.0</td>\n    </tr>\n    <tr>\n      <th>Republic of Moldova</th>\n      <th>2018</th>\n      <td>EDUNF_SAP_L02</td>\n      <td>Population of the official age for pre-primary...</td>\n      <td>PS</td>\n      <td>Persons</td>\n      <td>78599.0</td>\n    </tr>\n    <tr>\n      <th>Romania</th>\n      <th>2019</th>\n      <td>EDUNF_SAP_L02</td>\n      <td>Population of the official age for pre-primary...</td>\n      <td>PS</td>\n      <td>Persons</td>\n      <td>288322.0</td>\n    </tr>\n    <tr>\n      <th>Russian Federation</th>\n      <th>2018</th>\n      <td>EDUNF_SAP_L02</td>\n      <td>Population of the official age for pre-primary...</td>\n      <td>PS</td>\n      <td>Persons</td>\n      <td>3797175.0</td>\n    </tr>\n    <tr>\n      <th>Serbia</th>\n      <th>2018</th>\n      <td>EDUNF_SAP_L02</td>\n      <td>Population of the official age for pre-primary...</td>\n      <td>PS</td>\n      <td>Persons</td>\n      <td>135563.0</td>\n    </tr>\n    <tr>\n      <th>Slovakia</th>\n      <th>2019</th>\n      <td>EDUNF_SAP_L02</td>\n      <td>Population of the official age for pre-primary...</td>\n      <td>PS</td>\n      <td>Persons</td>\n      <td>86122.0</td>\n    </tr>\n    <tr>\n      <th>Slovenia</th>\n      <th>2018</th>\n      <td>EDUNF_SAP_L02</td>\n      <td>Population of the official age for pre-primary...</td>\n      <td>PS</td>\n      <td>Persons</td>\n      <td>33815.0</td>\n    </tr>\n    <tr>\n      <th>Tajikistan</th>\n      <th>2018</th>\n      <td>EDUNF_SAP_L02</td>\n      <td>Population of the official age for pre-primary...</td>\n      <td>PS</td>\n      <td>Persons</td>\n      <td>492868.0</td>\n    </tr>\n    <tr>\n      <th>Turkey</th>\n      <th>2018</th>\n      <td>EDUNF_SAP_L02</td>\n      <td>Population of the official age for pre-primary...</td>\n      <td>PS</td>\n      <td>Persons</td>\n      <td>2093853.0</td>\n    </tr>\n    <tr>\n      <th>Turkmenistan</th>\n      <th>2018</th>\n      <td>EDUNF_SAP_L02</td>\n      <td>Population of the official age for pre-primary...</td>\n      <td>PS</td>\n      <td>Persons</td>\n      <td>204676.0</td>\n    </tr>\n    <tr>\n      <th>Ukraine</th>\n      <th>2014</th>\n      <td>EDUNF_SAP_L02</td>\n      <td>Population of the official age for pre-primary...</td>\n      <td>PS</td>\n      <td>Persons</td>\n      <td>774611.0</td>\n    </tr>\n    <tr>\n      <th>Uzbekistan</th>\n      <th>2018</th>\n      <td>EDUNF_SAP_L02</td>\n      <td>Population of the official age for pre-primary...</td>\n      <td>PS</td>\n      <td>Persons</td>\n      <td>1345738.0</td>\n    </tr>\n  </tbody>\n</table>\n</div>"
     },
     "metadata": {},
     "execution_count": 51
    }
   ],
   "source": [
    "# select the avalible denominators for countiries in selected years\n",
    "indicator = [denominator]\n",
    "denominator_values = (\n",
    "    df.query(query)\n",
    "    .groupby([\"CODE\", \"Indicator\", \"Geographic area\", \"UNIT_MEASURE\", \"Unit of measure\"])\n",
    "    .agg({\"TIME_PERIOD\": \"last\", \"OBS_VALUE\": \"last\"})\n",
    "    .reset_index()\n",
    "    .set_index([\"Geographic area\", \"TIME_PERIOD\"])\n",
    ")\n",
    "denominator_values"
   ]
  },
  {
   "cell_type": "code",
   "execution_count": 58,
   "metadata": {},
   "outputs": [
    {
     "output_type": "execute_result",
     "data": {
      "text/plain": [
       "[('Albania', 2018),\n",
       " ('Azerbaijan', 2018),\n",
       " ('Belarus', 2018),\n",
       " ('Georgia', 2018),\n",
       " ('Kyrgyzstan', 2018),\n",
       " ('Montenegro', 2018),\n",
       " ('Republic of Moldova', 2018),\n",
       " ('Serbia', 2018),\n",
       " ('Ukraine', 2014)]"
      ]
     },
     "metadata": {},
     "execution_count": 58
    }
   ],
   "source": [
    "# select only those denominators that match avalible indicators\n",
    "denominators = denominator_values[\n",
    "    denominator_values.index.isin(indicator_values.index)\n",
    "][\"OBS_VALUE\"]\n",
    "denominators.index.tolist()\n"
   ]
  },
  {
   "cell_type": "code",
   "execution_count": 53,
   "metadata": {},
   "outputs": [
    {
     "output_type": "execute_result",
     "data": {
      "text/plain": [
       "Geographic area      TIME_PERIOD\n",
       "Albania              2018           0.016135\n",
       "Armenia              2018           0.021044\n",
       "Azerbaijan           2018           0.083764\n",
       "Belarus              2018           0.055713\n",
       "Kazakhstan           2019           0.248078\n",
       "Kyrgyzstan           2018           0.094495\n",
       "Montenegro           2018           0.003555\n",
       "Republic of Moldova  2018           0.024046\n",
       "Serbia               2018           0.041473\n",
       "Uzbekistan           2018           0.411699\n",
       "Name: OBS_VALUE, dtype: float64"
      ]
     },
     "metadata": {},
     "execution_count": 53
    }
   ],
   "source": [
    "(indicator_values[\"OBS_VALUE\"] * (denominators / denominator_sum))"
   ]
  },
  {
   "cell_type": "code",
   "execution_count": 37,
   "metadata": {},
   "outputs": [],
   "source": [
    "\n",
    "indicator_sum = (indicator_values[\"OBS_VALUE\"] * (denominators / denominators.to_numpy().sum())).dropna().to_numpy().sum()\n"
   ]
  },
  {
   "cell_type": "code",
   "execution_count": 38,
   "metadata": {},
   "outputs": [
    {
     "output_type": "execute_result",
     "data": {
      "text/plain": [
       "44.437160891981755"
      ]
     },
     "metadata": {},
     "execution_count": 38
    }
   ],
   "source": [
    "indicator_sum"
   ]
  },
  {
   "cell_type": "code",
   "execution_count": null,
   "metadata": {},
   "outputs": [],
   "source": []
  }
 ],
 "metadata": {
  "kernelspec": {
   "display_name": "Python 3",
   "language": "python",
   "name": "python3"
  },
  "language_info": {
   "codemirror_mode": {
    "name": "ipython",
    "version": 3
   },
   "file_extension": ".py",
   "mimetype": "text/x-python",
   "name": "python",
   "nbconvert_exporter": "python",
   "pygments_lexer": "ipython3",
   "version": "3.8.7-final"
  }
 },
 "nbformat": 4,
 "nbformat_minor": 4
}