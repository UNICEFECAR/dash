{
 "cells": [
  {
   "cell_type": "code",
   "execution_count": 1,
   "metadata": {},
   "outputs": [],
   "source": [
    "# Import required libraries\n",
    "import pickle\n",
    "import copy\n",
    "import pathlib\n",
    "import dash\n",
    "import math\n",
    "import datetime as dt\n",
    "import pandas as pd\n",
    "from dash.dependencies import Input, Output, State, ClientsideFunction\n",
    "import dash_core_components as dcc\n",
    "import dash_html_components as html\n",
    "import plotly.graph_objects as go\n",
    "\n"
   ]
  },
  {
   "cell_type": "code",
   "execution_count": null,
   "metadata": {},
   "outputs": [],
   "source": [
    "from mapbox import Geocoder\n",
    "mapbox_access_token = \"pk.eyJ1IjoiamNyYW53ZWxsd2FyZCIsImEiOiJja2NkMW02aXcwYTl5MnFwbjdtdDB0M3oyIn0.zkIzPc4NSjLZvrY-DWrlZg\"\n",
    "\n",
    "geocoder = Geocoder(access_token=mapbox_access_token)\n",
    "\n",
    "def geocode_address(address):\n",
    "    \"\"\"Geocode street address into lat/long.\"\"\"\n",
    "    response = geocoder.forward(address)\n",
    "    coords = response.json()[\"features\"][0][\"center\"]\n",
    "    longitude = coords[0]\n",
    "    latitude = coords[1]\n",
    "    return dict(longitude=longitude, latitude=latitude)"
   ]
  },
  {
   "cell_type": "code",
   "execution_count": null,
   "metadata": {},
   "outputs": [],
   "source": [
    "sdmx_url = 'https://sdmx.data.unicef.org/ws/public/sdmxapi/rest/data/ECARO,TRANSMONEE,1.0/.{}....?format=csv'"
   ]
  },
  {
   "cell_type": "code",
   "execution_count": null,
   "metadata": {},
   "outputs": [],
   "source": [
    "codes = [\n",
    "    \"EDU_SDG_STU_L2_GLAST_MAT\",\n",
    "    \"EDU_SDG_STU_L2_GLAST_REA\",\n",
    "    \"EDU_SDG_STU_L1_GLAST_MAT\",\n",
    "    \"EDU_SDG_STU_L1_G2OR3_MAT\",\n",
    "    \"EDU_SDG_STU_L1_GLAST_REA\",\n",
    "    \"EDU_SDG_STU_L1_G2OR3_REA\",\n",
    "    \"EDU_SDG_GER_L01\",\n",
    "    \"EDUNF_PRP_L02\",\n",
    "    \"EDUNF_ROFST_L2\",\n",
    "    \"EDU_SDG_QUTP_L02\",\n",
    "    \"EDU_SDG_QUTP_L1\",\n",
    "    \"EDU_SDG_QUTP_L2\",\n",
    "    \"EDU_SDG_QUTP_L3\",\n",
    "    \"EDU_SDG_TRTP_L02\",\n",
    "    \"EDU_SDG_TRTP_L1\",\n",
    "    \"EDU_SDG_TRTP_L2\",\n",
    "    \"EDU_SDG_TRTP_L3\",\n",
    "    \"EDUNF_ROFST_L1\",\n",
    "    \"EDUNF_ROFST_L2\",\n",
    "    \"EDUNF_ROFST_L3\",\n",
    "    \"EDUNF_OFST_L1\",\n",
    "    \"EDUNF_OFST_L2\",\n",
    "    \"EDUNF_OFST_L3\",\n",
    "    \"EDUNF_NIR_L1_ENTRYAGE\",\n",
    "    \"EDUNF_CR_L3\",\n",
    "    \"EDUNF_NER_L02\",\n",
    "    \"EDUNF_NERA_L1_UNDER1\",\n",
    "    \"EDUNF_NERA_L1\",\n",
    "    \"EDUNF_NERA_L2\",\n",
    "    \"EDUNF_GER_L1\",\n",
    "    \"EDUNF_GER_L2\",\n",
    "    \"EDUNF_GER_L3\",\n",
    "    \"EDUNF_NIR_L1_ENTRYAGE\",\n",
    "    \"EDUNF_STU_L1_TOT\",\n",
    "    \"EDUNF_STU_L2_TOT\",\n",
    "    \"EDUNF_STU_L3_TOT\",\n",
    "    \"EDU_SDG_SCH_L1\",\n",
    "    \"EDU_SDG_SCH_L2\",\n",
    "    \"EDU_SDG_SCH_L3\",\n",
    "    \"EDUNF_PRP_L02\",\n",
    "    \"EDUNF_OFST_L1T3\",\n",
    "    \"EDUNF_SAP_L1T3\",\n",
    "    \"EDUNF_SAP_L02\"\n",
    "]\n",
    "df = pd.DataFrame()\n",
    "inds = set(codes)\n",
    "for ind in inds:\n",
    "    sdmx = pd.read_csv(sdmx_url.format(ind))\n",
    "    sdmx[\"CODE\"] = ind\n",
    "    df = df.append(sdmx)"
   ]
  },
  {
   "cell_type": "code",
   "execution_count": null,
   "metadata": {},
   "outputs": [],
   "source": [
    "countries = df[\"Geographic area\"].unique()"
   ]
  },
  {
   "cell_type": "code",
   "execution_count": null,
   "metadata": {},
   "outputs": [],
   "source": [
    "df = df.merge(\n",
    "    right=pd.DataFrame(\n",
    "        [dict(country=country, **geocode_address(country)) for country in countries]\n",
    "    ),\n",
    "    left_on='Geographic area',\n",
    "    right_on='country'\n",
    ")"
   ]
  },
  {
   "cell_type": "code",
   "execution_count": null,
   "metadata": {},
   "outputs": [],
   "source": [
    "df.columns"
   ]
  },
  {
   "cell_type": "code",
   "execution_count": null,
   "metadata": {},
   "outputs": [],
   "source": [
    "data.merge(\n",
    "    right=countries,\n",
    "    left_on='Geographic area',\n",
    "    right_on='name'\n",
    ")"
   ]
  },
  {
   "cell_type": "code",
   "execution_count": null,
   "metadata": {},
   "outputs": [],
   "source": [
    "# Create controls\n",
    "county_options = [\n",
    "    {\"label\": str(country), \"value\": str(country)} for country in data['Geographic area'].unique()\n",
    "]"
   ]
  },
  {
   "cell_type": "code",
   "execution_count": null,
   "metadata": {},
   "outputs": [],
   "source": [
    "county_options"
   ]
  },
  {
   "cell_type": "code",
   "execution_count": null,
   "metadata": {},
   "outputs": [],
   "source": [
    "years =[i for i in range(2010, 2020)]\n",
    "\n",
    "indicators = df['Indicator'].unique()\n",
    "\n",
    "{index: str(year) for index,year in enumerate(years)}"
   ]
  },
  {
   "cell_type": "code",
   "execution_count": null,
   "metadata": {},
   "outputs": [],
   "source": [
    "countries = df[\"Geographic area\"].unique()\n"
   ]
  },
  {
   "cell_type": "code",
   "execution_count": null,
   "metadata": {},
   "outputs": [],
   "source": [
    "numerator = \"EDUNF_OFST_L1,EDUNF_OFST_L2,EDUNF_OFST_L3\"\n",
    "denominator = \"EDUNF_SAP_L1T3\"\n",
    "absolute=True"
   ]
  },
  {
   "cell_type": "code",
   "execution_count": null,
   "metadata": {},
   "outputs": [],
   "source": [
    "query = (\n",
    "    \"CODE in @indicator & TIME_PERIOD in @years & `Geographic area` in @countries\"\n",
    ")\n",
    "numors = numerator.split(\",\")\n",
    "indicator = numors\n",
    "# select last value for each country\n",
    "indicator_values = (\n",
    "    df.query(query)\n",
    "    .groupby(\n",
    "        [\n",
    "            \"CODE\",\n",
    "            \"Indicator\",\n",
    "            \"Geographic area\",\n",
    "            \"UNIT_MEASURE\",\n",
    "        ]\n",
    "    )\n",
    "    .agg({\"TIME_PERIOD\": \"last\", \"OBS_VALUE\": \"last\"})\n",
    "    .reset_index()\n",
    "    .set_index([\"Geographic area\", \"TIME_PERIOD\"])\n",
    ")\n",
    "# select the avalible denominators for countiries in selected years\n",
    "indicator = [denominator]\n",
    "denominator_values = (\n",
    "    df.query(query)\n",
    "    .groupby(\n",
    "        [\n",
    "            \"CODE\",\n",
    "            \"Indicator\",\n",
    "            \"Geographic area\",\n",
    "            \"UNIT_MEASURE\",\n",
    "        ]\n",
    "    )\n",
    "    .agg({\"TIME_PERIOD\": \"last\", \"OBS_VALUE\": \"last\"})\n",
    "    .reset_index()\n",
    "    .set_index([\"Geographic area\", \"TIME_PERIOD\"])\n",
    ")\n",
    "# select only those denominators that match avalible indicators\n",
    "denominators = denominator_values[\n",
    "    denominator_values.index.isin(indicator_values.index)\n",
    "][\"OBS_VALUE\"]\n",
    "\n",
    "denominator_sum = denominators.to_numpy().sum()\n",
    "\n",
    "indicator_sum = (\n",
    "    indicator_values[\"OBS_VALUE\"] * denominator_sum\n",
    "    if absolute\n",
    "    else (denominators / denominator_sum)\n",
    ").dropna()  # will drop missing countires\n",
    "\n",
    "sources = indicator_sum.index.tolist()\n"
   ]
  },
  {
   "cell_type": "code",
   "execution_count": null,
   "metadata": {},
   "outputs": [],
   "source": [
    "indicator_values"
   ]
  },
  {
   "cell_type": "code",
   "execution_count": null,
   "metadata": {},
   "outputs": [],
   "source": [
    "denominator_values"
   ]
  },
  {
   "cell_type": "code",
   "execution_count": null,
   "metadata": {},
   "outputs": [],
   "source": [
    "indicator_sum"
   ]
  },
  {
   "cell_type": "code",
   "execution_count": null,
   "metadata": {},
   "outputs": [],
   "source": [
    "sources"
   ]
  },
  {
   "cell_type": "code",
   "execution_count": null,
   "metadata": {},
   "outputs": [],
   "source": [
    "indicator_sum.to_numpy().sum()"
   ]
  },
  {
   "cell_type": "code",
   "execution_count": null,
   "metadata": {},
   "outputs": [],
   "source": [
    "indicator_values.head()"
   ]
  },
  {
   "cell_type": "code",
   "execution_count": null,
   "metadata": {},
   "outputs": [],
   "source": [
    "# select the avalible denominators for countiries in selected years\n",
    "indicator = [denominator]\n",
    "denominator_values = (\n",
    "    df.query(query)\n",
    "    .groupby([\"CODE\", \"Indicator\", \"Geographic area\", \"UNIT_MEASURE\", \"Unit of measure\"])\n",
    "    .agg({\"TIME_PERIOD\": \"last\", \"OBS_VALUE\": \"last\"})\n",
    "    .reset_index()\n",
    "    .set_index([\"Geographic area\", \"TIME_PERIOD\"])\n",
    ")\n",
    "denominator_values"
   ]
  },
  {
   "cell_type": "code",
   "execution_count": null,
   "metadata": {},
   "outputs": [],
   "source": [
    "# select only those denominators that match avalible indicators\n",
    "denominators = denominator_values[\n",
    "    denominator_values.index.isin(indicator_values.index)\n",
    "][\"OBS_VALUE\"]\n",
    "denominators.index.tolist()\n"
   ]
  },
  {
   "cell_type": "code",
   "execution_count": null,
   "metadata": {},
   "outputs": [],
   "source": [
    "(indicator_values[\"OBS_VALUE\"] * (denominators / denominator_sum))"
   ]
  },
  {
   "cell_type": "code",
   "execution_count": null,
   "metadata": {},
   "outputs": [],
   "source": [
    "\n",
    "indicator_sum = (indicator_values[\"OBS_VALUE\"] * (denominators / denominators.to_numpy().sum())).dropna().to_numpy().sum()\n"
   ]
  },
  {
   "cell_type": "code",
   "execution_count": null,
   "metadata": {},
   "outputs": [],
   "source": [
    "indicator_sum"
   ]
  },
  {
   "cell_type": "code",
   "execution_count": null,
   "metadata": {},
   "outputs": [],
   "source": []
  }
 ],
 "metadata": {
  "kernelspec": {
   "display_name": "Python 3",
   "language": "python",
   "name": "python3"
  },
  "language_info": {
   "codemirror_mode": {
    "name": "ipython",
    "version": 3
   },
   "file_extension": ".py",
   "mimetype": "text/x-python",
   "name": "python",
   "nbconvert_exporter": "python",
   "pygments_lexer": "ipython3",
   "version": "3.9.1"
  }
 },
 "nbformat": 4,
 "nbformat_minor": 4
}