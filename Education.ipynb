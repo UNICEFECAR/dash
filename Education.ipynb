{
 "cells": [
  {
   "cell_type": "code",
   "execution_count": 11,
   "metadata": {},
   "outputs": [],
   "source": [
    "import pandas as pd\n",
    "import plotly.express as px\n",
    "from jupyter_dash import JupyterDash\n",
    "import dash_core_components as dcc\n",
    "import dash_html_components as html\n",
    "from dash.dependencies import Input, Output"
   ]
  },
  {
   "cell_type": "code",
   "execution_count": 12,
   "metadata": {},
   "outputs": [],
   "source": [
    "data = pd.read_csv('https://sdmx.data.unicef.org/ws/public/sdmxapi/rest/data/ECARO,TRANSMONEE,1.0/.EDUNF_STU_L2_TOT+EDUNF_STU_L2_TOT+EDUNF_STU_L3_TOT....?format=csv')"
   ]
  },
  {
   "cell_type": "code",
   "execution_count": 10,
   "metadata": {},
   "outputs": [
    {
     "output_type": "execute_result",
     "data": {
      "text/plain": "     Geographic area                                          Indicator  \\\n0            Albania  Lower Secondary education (ISCED 2) enrolments...   \n1            Albania  Lower Secondary education (ISCED 2) enrolments...   \n2            Albania  Lower Secondary education (ISCED 2) enrolments...   \n3            Albania  Lower Secondary education (ISCED 2) enrolments...   \n4            Albania  Lower Secondary education (ISCED 2) enrolments...   \n...              ...                                                ...   \n3336      Uzbekistan  Upper secondary education (ISCED 3) enrolment ...   \n3337      Uzbekistan  Upper secondary education (ISCED 3) enrolment ...   \n3338      Uzbekistan  Upper secondary education (ISCED 3) enrolment ...   \n3339      Uzbekistan  Upper secondary education (ISCED 3) enrolment ...   \n3340      Uzbekistan  Upper secondary education (ISCED 3) enrolment ...   \n\n        Sex    Age Residence Wealth Quintile  TIME_PERIOD  OBS_VALUE  \\\n0     Total  Total     Total           Total         1998   260160.0   \n1     Total  Total     Total           Total         1999   261341.0   \n2     Total  Total     Total           Total         2000   260718.0   \n3     Total  Total     Total           Total         2001   266940.0   \n4     Total  Total     Total           Total         2002   259650.0   \n...     ...    ...       ...             ...          ...        ...   \n3336   Male  Total     Total           Total         2013   869167.0   \n3337   Male  Total     Total           Total         2014   834877.0   \n3338   Male  Total     Total           Total         2015   800425.0   \n3339   Male  Total     Total           Total         2016   768232.0   \n3340   Male  Total     Total           Total         2017   749143.0   \n\n     Unit of measure  OBS_FOOTNOTE Frequency DATA_SOURCE Unit multiplier  \\\n0            Persons           NaN    Annual         UIS           Units   \n1            Persons           NaN    Annual         UIS           Units   \n2            Persons           NaN    Annual         UIS           Units   \n3            Persons           NaN    Annual         UIS           Units   \n4            Persons           NaN    Annual         UIS           Units   \n...              ...           ...       ...         ...             ...   \n3336         Persons           NaN    Annual         UIS           Units   \n3337         Persons           NaN    Annual         UIS           Units   \n3338         Persons           NaN    Annual         UIS           Units   \n3339         Persons           NaN    Annual         UIS           Units   \n3340         Persons           NaN    Annual         UIS           Units   \n\n     OBS_STATUS  \n0             A  \n1             A  \n2             A  \n3             A  \n4             A  \n...         ...  \n3336          A  \n3337          A  \n3338          A  \n3339          A  \n3340          A  \n\n[3341 rows x 14 columns]",
      "text/html": "<div>\n<style scoped>\n    .dataframe tbody tr th:only-of-type {\n        vertical-align: middle;\n    }\n\n    .dataframe tbody tr th {\n        vertical-align: top;\n    }\n\n    .dataframe thead th {\n        text-align: right;\n    }\n</style>\n<table border=\"1\" class=\"dataframe\">\n  <thead>\n    <tr style=\"text-align: right;\">\n      <th></th>\n      <th>Geographic area</th>\n      <th>Indicator</th>\n      <th>Sex</th>\n      <th>Age</th>\n      <th>Residence</th>\n      <th>Wealth Quintile</th>\n      <th>TIME_PERIOD</th>\n      <th>OBS_VALUE</th>\n      <th>Unit of measure</th>\n      <th>OBS_FOOTNOTE</th>\n      <th>Frequency</th>\n      <th>DATA_SOURCE</th>\n      <th>Unit multiplier</th>\n      <th>OBS_STATUS</th>\n    </tr>\n  </thead>\n  <tbody>\n    <tr>\n      <th>0</th>\n      <td>Albania</td>\n      <td>Lower Secondary education (ISCED 2) enrolments...</td>\n      <td>Total</td>\n      <td>Total</td>\n      <td>Total</td>\n      <td>Total</td>\n      <td>1998</td>\n      <td>260160.0</td>\n      <td>Persons</td>\n      <td>NaN</td>\n      <td>Annual</td>\n      <td>UIS</td>\n      <td>Units</td>\n      <td>A</td>\n    </tr>\n    <tr>\n      <th>1</th>\n      <td>Albania</td>\n      <td>Lower Secondary education (ISCED 2) enrolments...</td>\n      <td>Total</td>\n      <td>Total</td>\n      <td>Total</td>\n      <td>Total</td>\n      <td>1999</td>\n      <td>261341.0</td>\n      <td>Persons</td>\n      <td>NaN</td>\n      <td>Annual</td>\n      <td>UIS</td>\n      <td>Units</td>\n      <td>A</td>\n    </tr>\n    <tr>\n      <th>2</th>\n      <td>Albania</td>\n      <td>Lower Secondary education (ISCED 2) enrolments...</td>\n      <td>Total</td>\n      <td>Total</td>\n      <td>Total</td>\n      <td>Total</td>\n      <td>2000</td>\n      <td>260718.0</td>\n      <td>Persons</td>\n      <td>NaN</td>\n      <td>Annual</td>\n      <td>UIS</td>\n      <td>Units</td>\n      <td>A</td>\n    </tr>\n    <tr>\n      <th>3</th>\n      <td>Albania</td>\n      <td>Lower Secondary education (ISCED 2) enrolments...</td>\n      <td>Total</td>\n      <td>Total</td>\n      <td>Total</td>\n      <td>Total</td>\n      <td>2001</td>\n      <td>266940.0</td>\n      <td>Persons</td>\n      <td>NaN</td>\n      <td>Annual</td>\n      <td>UIS</td>\n      <td>Units</td>\n      <td>A</td>\n    </tr>\n    <tr>\n      <th>4</th>\n      <td>Albania</td>\n      <td>Lower Secondary education (ISCED 2) enrolments...</td>\n      <td>Total</td>\n      <td>Total</td>\n      <td>Total</td>\n      <td>Total</td>\n      <td>2002</td>\n      <td>259650.0</td>\n      <td>Persons</td>\n      <td>NaN</td>\n      <td>Annual</td>\n      <td>UIS</td>\n      <td>Units</td>\n      <td>A</td>\n    </tr>\n    <tr>\n      <th>...</th>\n      <td>...</td>\n      <td>...</td>\n      <td>...</td>\n      <td>...</td>\n      <td>...</td>\n      <td>...</td>\n      <td>...</td>\n      <td>...</td>\n      <td>...</td>\n      <td>...</td>\n      <td>...</td>\n      <td>...</td>\n      <td>...</td>\n      <td>...</td>\n    </tr>\n    <tr>\n      <th>3336</th>\n      <td>Uzbekistan</td>\n      <td>Upper secondary education (ISCED 3) enrolment ...</td>\n      <td>Male</td>\n      <td>Total</td>\n      <td>Total</td>\n      <td>Total</td>\n      <td>2013</td>\n      <td>869167.0</td>\n      <td>Persons</td>\n      <td>NaN</td>\n      <td>Annual</td>\n      <td>UIS</td>\n      <td>Units</td>\n      <td>A</td>\n    </tr>\n    <tr>\n      <th>3337</th>\n      <td>Uzbekistan</td>\n      <td>Upper secondary education (ISCED 3) enrolment ...</td>\n      <td>Male</td>\n      <td>Total</td>\n      <td>Total</td>\n      <td>Total</td>\n      <td>2014</td>\n      <td>834877.0</td>\n      <td>Persons</td>\n      <td>NaN</td>\n      <td>Annual</td>\n      <td>UIS</td>\n      <td>Units</td>\n      <td>A</td>\n    </tr>\n    <tr>\n      <th>3338</th>\n      <td>Uzbekistan</td>\n      <td>Upper secondary education (ISCED 3) enrolment ...</td>\n      <td>Male</td>\n      <td>Total</td>\n      <td>Total</td>\n      <td>Total</td>\n      <td>2015</td>\n      <td>800425.0</td>\n      <td>Persons</td>\n      <td>NaN</td>\n      <td>Annual</td>\n      <td>UIS</td>\n      <td>Units</td>\n      <td>A</td>\n    </tr>\n    <tr>\n      <th>3339</th>\n      <td>Uzbekistan</td>\n      <td>Upper secondary education (ISCED 3) enrolment ...</td>\n      <td>Male</td>\n      <td>Total</td>\n      <td>Total</td>\n      <td>Total</td>\n      <td>2016</td>\n      <td>768232.0</td>\n      <td>Persons</td>\n      <td>NaN</td>\n      <td>Annual</td>\n      <td>UIS</td>\n      <td>Units</td>\n      <td>A</td>\n    </tr>\n    <tr>\n      <th>3340</th>\n      <td>Uzbekistan</td>\n      <td>Upper secondary education (ISCED 3) enrolment ...</td>\n      <td>Male</td>\n      <td>Total</td>\n      <td>Total</td>\n      <td>Total</td>\n      <td>2017</td>\n      <td>749143.0</td>\n      <td>Persons</td>\n      <td>NaN</td>\n      <td>Annual</td>\n      <td>UIS</td>\n      <td>Units</td>\n      <td>A</td>\n    </tr>\n  </tbody>\n</table>\n<p>3341 rows × 14 columns</p>\n</div>"
     },
     "metadata": {},
     "execution_count": 10
    }
   ],
   "source": [
    "data"
   ]
  },
  {
   "cell_type": "code",
   "execution_count": 13,
   "metadata": {
    "tags": []
   },
   "outputs": [
    {
     "output_type": "stream",
     "name": "stdout",
     "text": "<class 'pandas.core.frame.DataFrame'>\nRangeIndex: 3341 entries, 0 to 3340\nData columns (total 14 columns):\n #   Column           Non-Null Count  Dtype  \n---  ------           --------------  -----  \n 0   Geographic area  3341 non-null   object \n 1   Indicator        3341 non-null   object \n 2   Sex              3341 non-null   object \n 3   Age              3341 non-null   object \n 4   Residence        3341 non-null   object \n 5   Wealth Quintile  3341 non-null   object \n 6   TIME_PERIOD      3341 non-null   int64  \n 7   OBS_VALUE        3341 non-null   float64\n 8   Unit of measure  3341 non-null   object \n 9   OBS_FOOTNOTE     0 non-null      float64\n 10  Frequency        3341 non-null   object \n 11  DATA_SOURCE      3341 non-null   object \n 12  Unit multiplier  3341 non-null   object \n 13  OBS_STATUS       3341 non-null   object \ndtypes: float64(2), int64(1), object(11)\nmemory usage: 365.5+ KB\n"
    }
   ],
   "source": [
    "data.info()"
   ]
  },
  {
   "cell_type": "code",
   "execution_count": 19,
   "metadata": {},
   "outputs": [
    {
     "output_type": "execute_result",
     "data": {
      "text/plain": "                                                                            Indicator  \\\nGeographic area TIME_PERIOD Sex                                                         \nAlbania         1998        Female  Lower Secondary education (ISCED 2) enrolments...   \n                            Male    Lower Secondary education (ISCED 2) enrolments...   \n                            Total   Upper secondary education (ISCED 3) enrolment ...   \n                1999        Female  Upper secondary education (ISCED 3) enrolment ...   \n                            Male    Upper secondary education (ISCED 3) enrolment ...   \n...                                                                               ...   \nUzbekistan      2017        Male    Upper secondary education (ISCED 3) enrolment ...   \n                            Total   Upper secondary education (ISCED 3) enrolment ...   \n                2018        Female  Lower Secondary education (ISCED 2) enrolments...   \n                            Male    Lower Secondary education (ISCED 2) enrolments...   \n                            Total   Lower Secondary education (ISCED 2) enrolments...   \n\n                                      Age Residence Wealth Quintile  \\\nGeographic area TIME_PERIOD Sex                                       \nAlbania         1998        Female  Total     Total           Total   \n                            Male    Total     Total           Total   \n                            Total   Total     Total           Total   \n                1999        Female  Total     Total           Total   \n                            Male    Total     Total           Total   \n...                                   ...       ...             ...   \nUzbekistan      2017        Male    Total     Total           Total   \n                            Total   Total     Total           Total   \n                2018        Female  Total     Total           Total   \n                            Male    Total     Total           Total   \n                            Total   Total     Total           Total   \n\n                                    OBS_VALUE Unit of measure  OBS_FOOTNOTE  \\\nGeographic area TIME_PERIOD Sex                                               \nAlbania         1998        Female   126246.0         Persons           NaN   \n                            Male     133914.0         Persons           NaN   \n                            Total    260160.0         Persons           NaN   \n                1999        Female   127030.0         Persons           NaN   \n                            Male     134311.0         Persons           NaN   \n...                                       ...             ...           ...   \nUzbekistan      2017        Male    1253030.0         Persons           NaN   \n                            Total   2433485.0         Persons           NaN   \n                2018        Female  1210843.0         Persons           NaN   \n                            Male    1286207.0         Persons           NaN   \n                            Total   2497050.0         Persons           NaN   \n\n                                   Frequency DATA_SOURCE Unit multiplier  \\\nGeographic area TIME_PERIOD Sex                                            \nAlbania         1998        Female    Annual         UIS           Units   \n                            Male      Annual         UIS           Units   \n                            Total     Annual         UIS           Units   \n                1999        Female    Annual         UIS           Units   \n                            Male      Annual         UIS           Units   \n...                                      ...         ...             ...   \nUzbekistan      2017        Male      Annual         UIS           Units   \n                            Total     Annual         UIS           Units   \n                2018        Female    Annual         UIS           Units   \n                            Male      Annual         UIS           Units   \n                            Total     Annual         UIS           Units   \n\n                                   OBS_STATUS  \nGeographic area TIME_PERIOD Sex                \nAlbania         1998        Female          A  \n                            Male            A  \n                            Total           A  \n                1999        Female          A  \n                            Male            A  \n...                                       ...  \nUzbekistan      2017        Male            A  \n                            Total           A  \n                2018        Female          A  \n                            Male            A  \n                            Total           A  \n\n[1794 rows x 11 columns]",
      "text/html": "<div>\n<style scoped>\n    .dataframe tbody tr th:only-of-type {\n        vertical-align: middle;\n    }\n\n    .dataframe tbody tr th {\n        vertical-align: top;\n    }\n\n    .dataframe thead th {\n        text-align: right;\n    }\n</style>\n<table border=\"1\" class=\"dataframe\">\n  <thead>\n    <tr style=\"text-align: right;\">\n      <th></th>\n      <th></th>\n      <th></th>\n      <th>Indicator</th>\n      <th>Age</th>\n      <th>Residence</th>\n      <th>Wealth Quintile</th>\n      <th>OBS_VALUE</th>\n      <th>Unit of measure</th>\n      <th>OBS_FOOTNOTE</th>\n      <th>Frequency</th>\n      <th>DATA_SOURCE</th>\n      <th>Unit multiplier</th>\n      <th>OBS_STATUS</th>\n    </tr>\n    <tr>\n      <th>Geographic area</th>\n      <th>TIME_PERIOD</th>\n      <th>Sex</th>\n      <th></th>\n      <th></th>\n      <th></th>\n      <th></th>\n      <th></th>\n      <th></th>\n      <th></th>\n      <th></th>\n      <th></th>\n      <th></th>\n      <th></th>\n    </tr>\n  </thead>\n  <tbody>\n    <tr>\n      <th rowspan=\"5\" valign=\"top\">Albania</th>\n      <th rowspan=\"3\" valign=\"top\">1998</th>\n      <th>Female</th>\n      <td>Lower Secondary education (ISCED 2) enrolments...</td>\n      <td>Total</td>\n      <td>Total</td>\n      <td>Total</td>\n      <td>126246.0</td>\n      <td>Persons</td>\n      <td>NaN</td>\n      <td>Annual</td>\n      <td>UIS</td>\n      <td>Units</td>\n      <td>A</td>\n    </tr>\n    <tr>\n      <th>Male</th>\n      <td>Lower Secondary education (ISCED 2) enrolments...</td>\n      <td>Total</td>\n      <td>Total</td>\n      <td>Total</td>\n      <td>133914.0</td>\n      <td>Persons</td>\n      <td>NaN</td>\n      <td>Annual</td>\n      <td>UIS</td>\n      <td>Units</td>\n      <td>A</td>\n    </tr>\n    <tr>\n      <th>Total</th>\n      <td>Upper secondary education (ISCED 3) enrolment ...</td>\n      <td>Total</td>\n      <td>Total</td>\n      <td>Total</td>\n      <td>260160.0</td>\n      <td>Persons</td>\n      <td>NaN</td>\n      <td>Annual</td>\n      <td>UIS</td>\n      <td>Units</td>\n      <td>A</td>\n    </tr>\n    <tr>\n      <th rowspan=\"2\" valign=\"top\">1999</th>\n      <th>Female</th>\n      <td>Upper secondary education (ISCED 3) enrolment ...</td>\n      <td>Total</td>\n      <td>Total</td>\n      <td>Total</td>\n      <td>127030.0</td>\n      <td>Persons</td>\n      <td>NaN</td>\n      <td>Annual</td>\n      <td>UIS</td>\n      <td>Units</td>\n      <td>A</td>\n    </tr>\n    <tr>\n      <th>Male</th>\n      <td>Upper secondary education (ISCED 3) enrolment ...</td>\n      <td>Total</td>\n      <td>Total</td>\n      <td>Total</td>\n      <td>134311.0</td>\n      <td>Persons</td>\n      <td>NaN</td>\n      <td>Annual</td>\n      <td>UIS</td>\n      <td>Units</td>\n      <td>A</td>\n    </tr>\n    <tr>\n      <th>...</th>\n      <th>...</th>\n      <th>...</th>\n      <td>...</td>\n      <td>...</td>\n      <td>...</td>\n      <td>...</td>\n      <td>...</td>\n      <td>...</td>\n      <td>...</td>\n      <td>...</td>\n      <td>...</td>\n      <td>...</td>\n      <td>...</td>\n    </tr>\n    <tr>\n      <th rowspan=\"5\" valign=\"top\">Uzbekistan</th>\n      <th rowspan=\"2\" valign=\"top\">2017</th>\n      <th>Male</th>\n      <td>Upper secondary education (ISCED 3) enrolment ...</td>\n      <td>Total</td>\n      <td>Total</td>\n      <td>Total</td>\n      <td>1253030.0</td>\n      <td>Persons</td>\n      <td>NaN</td>\n      <td>Annual</td>\n      <td>UIS</td>\n      <td>Units</td>\n      <td>A</td>\n    </tr>\n    <tr>\n      <th>Total</th>\n      <td>Upper secondary education (ISCED 3) enrolment ...</td>\n      <td>Total</td>\n      <td>Total</td>\n      <td>Total</td>\n      <td>2433485.0</td>\n      <td>Persons</td>\n      <td>NaN</td>\n      <td>Annual</td>\n      <td>UIS</td>\n      <td>Units</td>\n      <td>A</td>\n    </tr>\n    <tr>\n      <th rowspan=\"3\" valign=\"top\">2018</th>\n      <th>Female</th>\n      <td>Lower Secondary education (ISCED 2) enrolments...</td>\n      <td>Total</td>\n      <td>Total</td>\n      <td>Total</td>\n      <td>1210843.0</td>\n      <td>Persons</td>\n      <td>NaN</td>\n      <td>Annual</td>\n      <td>UIS</td>\n      <td>Units</td>\n      <td>A</td>\n    </tr>\n    <tr>\n      <th>Male</th>\n      <td>Lower Secondary education (ISCED 2) enrolments...</td>\n      <td>Total</td>\n      <td>Total</td>\n      <td>Total</td>\n      <td>1286207.0</td>\n      <td>Persons</td>\n      <td>NaN</td>\n      <td>Annual</td>\n      <td>UIS</td>\n      <td>Units</td>\n      <td>A</td>\n    </tr>\n    <tr>\n      <th>Total</th>\n      <td>Lower Secondary education (ISCED 2) enrolments...</td>\n      <td>Total</td>\n      <td>Total</td>\n      <td>Total</td>\n      <td>2497050.0</td>\n      <td>Persons</td>\n      <td>NaN</td>\n      <td>Annual</td>\n      <td>UIS</td>\n      <td>Units</td>\n      <td>A</td>\n    </tr>\n  </tbody>\n</table>\n<p>1794 rows × 11 columns</p>\n</div>"
     },
     "metadata": {},
     "execution_count": 19
    }
   ],
   "source": [
    "data.groupby(['Geographic area', 'TIME_PERIOD', 'Sex']).max()"
   ]
  },
  {
   "cell_type": "code",
   "execution_count": null,
   "metadata": {},
   "outputs": [],
   "source": [
    "fig = px.bar(data, x=\"TIME_PERIOD\", y=\"OBS_VALUE\", color=\"Indicator\", template='plotly_dark')\n",
    "fig.show()"
   ]
  },
  {
   "cell_type": "code",
   "execution_count": null,
   "metadata": {},
   "outputs": [],
   "source": []
  }
 ],
 "metadata": {
  "kernelspec": {
   "display_name": "Python 3",
   "language": "python",
   "name": "python3"
  },
  "language_info": {
   "codemirror_mode": {
    "name": "ipython",
    "version": 3
   },
   "file_extension": ".py",
   "mimetype": "text/x-python",
   "name": "python",
   "nbconvert_exporter": "python",
   "pygments_lexer": "ipython3",
   "version": "3.8.3-final"
  }
 },
 "nbformat": 4,
 "nbformat_minor": 4
}