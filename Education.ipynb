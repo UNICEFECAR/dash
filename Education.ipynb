{
 "cells": [
  {
   "cell_type": "code",
   "execution_count": 4,
   "metadata": {},
   "outputs": [],
   "source": [
    "# Import required libraries\n",
    "import pickle\n",
    "import copy\n",
    "import pathlib\n",
    "import dash\n",
    "import math\n",
    "import datetime as dt\n",
    "import pandas as pd\n",
    "from dash.dependencies import Input, Output, State, ClientsideFunction\n",
    "import dash_core_components as dcc\n",
    "import dash_html_components as html\n",
    "import plotly.graph_objects as go\n",
    "\n"
   ]
  },
  {
   "cell_type": "code",
   "execution_count": 3,
   "metadata": {},
   "outputs": [],
   "source": [
    "from mapbox import Geocoder\n",
    "mapbox_access_token = \"pk.eyJ1IjoiamNyYW53ZWxsd2FyZCIsImEiOiJja2NkMW02aXcwYTl5MnFwbjdtdDB0M3oyIn0.zkIzPc4NSjLZvrY-DWrlZg\"\n",
    "\n",
    "geocoder = Geocoder(access_token=mapbox_access_token)\n",
    "\n",
    "def geocode_address(address):\n",
    "    \"\"\"Geocode street address into lat/long.\"\"\"\n",
    "    response = geocoder.forward(address)\n",
    "    coords = response.json()[\"features\"][0][\"center\"]\n",
    "    longitude = coords[0]\n",
    "    latitude = coords[1]\n",
    "    return dict(longitude=longitude, latitude=latitude)"
   ]
  },
  {
   "cell_type": "code",
   "execution_count": 5,
   "metadata": {},
   "outputs": [],
   "source": [
    "sdmx_url = 'https://sdmx.data.unicef.org/ws/public/sdmxapi/rest/data/ECARO,TRANSMONEE,1.0/.{}....?format=csv'"
   ]
  },
  {
   "cell_type": "code",
   "execution_count": 6,
   "metadata": {},
   "outputs": [
    {
     "output_type": "error",
     "ename": "HTTPError",
     "evalue": "HTTP Error 404: 404",
     "traceback": [
      "\u001b[0;31m---------------------------------------------------------------------------\u001b[0m",
      "\u001b[0;31mHTTPError\u001b[0m                                 Traceback (most recent call last)",
      "\u001b[0;32m<ipython-input-6-db426b3d808b>\u001b[0m in \u001b[0;36m<module>\u001b[0;34m\u001b[0m\n\u001b[1;32m     46\u001b[0m \u001b[0minds\u001b[0m \u001b[0;34m=\u001b[0m \u001b[0mset\u001b[0m\u001b[0;34m(\u001b[0m\u001b[0mcodes\u001b[0m\u001b[0;34m)\u001b[0m\u001b[0;34m\u001b[0m\u001b[0;34m\u001b[0m\u001b[0m\n\u001b[1;32m     47\u001b[0m \u001b[0;32mfor\u001b[0m \u001b[0mind\u001b[0m \u001b[0;32min\u001b[0m \u001b[0minds\u001b[0m\u001b[0;34m:\u001b[0m\u001b[0;34m\u001b[0m\u001b[0;34m\u001b[0m\u001b[0m\n\u001b[0;32m---> 48\u001b[0;31m     \u001b[0msdmx\u001b[0m \u001b[0;34m=\u001b[0m \u001b[0mpd\u001b[0m\u001b[0;34m.\u001b[0m\u001b[0mread_csv\u001b[0m\u001b[0;34m(\u001b[0m\u001b[0msdmx_url\u001b[0m\u001b[0;34m.\u001b[0m\u001b[0mformat\u001b[0m\u001b[0;34m(\u001b[0m\u001b[0mind\u001b[0m\u001b[0;34m)\u001b[0m\u001b[0;34m)\u001b[0m\u001b[0;34m\u001b[0m\u001b[0;34m\u001b[0m\u001b[0m\n\u001b[0m\u001b[1;32m     49\u001b[0m     \u001b[0msdmx\u001b[0m\u001b[0;34m[\u001b[0m\u001b[0;34m\"CODE\"\u001b[0m\u001b[0;34m]\u001b[0m \u001b[0;34m=\u001b[0m \u001b[0mind\u001b[0m\u001b[0;34m\u001b[0m\u001b[0;34m\u001b[0m\u001b[0m\n\u001b[1;32m     50\u001b[0m     \u001b[0mdf\u001b[0m \u001b[0;34m=\u001b[0m \u001b[0mdf\u001b[0m\u001b[0;34m.\u001b[0m\u001b[0mappend\u001b[0m\u001b[0;34m(\u001b[0m\u001b[0msdmx\u001b[0m\u001b[0;34m)\u001b[0m\u001b[0;34m\u001b[0m\u001b[0;34m\u001b[0m\u001b[0m\n",
      "\u001b[0;32m~/.local/lib/python3.9/site-packages/pandas/io/parsers.py\u001b[0m in \u001b[0;36mread_csv\u001b[0;34m(filepath_or_buffer, sep, delimiter, header, names, index_col, usecols, squeeze, prefix, mangle_dupe_cols, dtype, engine, converters, true_values, false_values, skipinitialspace, skiprows, skipfooter, nrows, na_values, keep_default_na, na_filter, verbose, skip_blank_lines, parse_dates, infer_datetime_format, keep_date_col, date_parser, dayfirst, cache_dates, iterator, chunksize, compression, thousands, decimal, lineterminator, quotechar, quoting, doublequote, escapechar, comment, encoding, dialect, error_bad_lines, warn_bad_lines, delim_whitespace, low_memory, memory_map, float_precision, storage_options)\u001b[0m\n\u001b[1;32m    608\u001b[0m     \u001b[0mkwds\u001b[0m\u001b[0;34m.\u001b[0m\u001b[0mupdate\u001b[0m\u001b[0;34m(\u001b[0m\u001b[0mkwds_defaults\u001b[0m\u001b[0;34m)\u001b[0m\u001b[0;34m\u001b[0m\u001b[0;34m\u001b[0m\u001b[0m\n\u001b[1;32m    609\u001b[0m \u001b[0;34m\u001b[0m\u001b[0m\n\u001b[0;32m--> 610\u001b[0;31m     \u001b[0;32mreturn\u001b[0m \u001b[0m_read\u001b[0m\u001b[0;34m(\u001b[0m\u001b[0mfilepath_or_buffer\u001b[0m\u001b[0;34m,\u001b[0m \u001b[0mkwds\u001b[0m\u001b[0;34m)\u001b[0m\u001b[0;34m\u001b[0m\u001b[0;34m\u001b[0m\u001b[0m\n\u001b[0m\u001b[1;32m    611\u001b[0m \u001b[0;34m\u001b[0m\u001b[0m\n\u001b[1;32m    612\u001b[0m \u001b[0;34m\u001b[0m\u001b[0m\n",
      "\u001b[0;32m~/.local/lib/python3.9/site-packages/pandas/io/parsers.py\u001b[0m in \u001b[0;36m_read\u001b[0;34m(filepath_or_buffer, kwds)\u001b[0m\n\u001b[1;32m    460\u001b[0m \u001b[0;34m\u001b[0m\u001b[0m\n\u001b[1;32m    461\u001b[0m     \u001b[0;31m# Create the parser.\u001b[0m\u001b[0;34m\u001b[0m\u001b[0;34m\u001b[0m\u001b[0;34m\u001b[0m\u001b[0m\n\u001b[0;32m--> 462\u001b[0;31m     \u001b[0mparser\u001b[0m \u001b[0;34m=\u001b[0m \u001b[0mTextFileReader\u001b[0m\u001b[0;34m(\u001b[0m\u001b[0mfilepath_or_buffer\u001b[0m\u001b[0;34m,\u001b[0m \u001b[0;34m**\u001b[0m\u001b[0mkwds\u001b[0m\u001b[0;34m)\u001b[0m\u001b[0;34m\u001b[0m\u001b[0;34m\u001b[0m\u001b[0m\n\u001b[0m\u001b[1;32m    463\u001b[0m \u001b[0;34m\u001b[0m\u001b[0m\n\u001b[1;32m    464\u001b[0m     \u001b[0;32mif\u001b[0m \u001b[0mchunksize\u001b[0m \u001b[0;32mor\u001b[0m \u001b[0miterator\u001b[0m\u001b[0;34m:\u001b[0m\u001b[0;34m\u001b[0m\u001b[0;34m\u001b[0m\u001b[0m\n",
      "\u001b[0;32m~/.local/lib/python3.9/site-packages/pandas/io/parsers.py\u001b[0m in \u001b[0;36m__init__\u001b[0;34m(self, f, engine, **kwds)\u001b[0m\n\u001b[1;32m    817\u001b[0m             \u001b[0mself\u001b[0m\u001b[0;34m.\u001b[0m\u001b[0moptions\u001b[0m\u001b[0;34m[\u001b[0m\u001b[0;34m\"has_index_names\"\u001b[0m\u001b[0;34m]\u001b[0m \u001b[0;34m=\u001b[0m \u001b[0mkwds\u001b[0m\u001b[0;34m[\u001b[0m\u001b[0;34m\"has_index_names\"\u001b[0m\u001b[0;34m]\u001b[0m\u001b[0;34m\u001b[0m\u001b[0;34m\u001b[0m\u001b[0m\n\u001b[1;32m    818\u001b[0m \u001b[0;34m\u001b[0m\u001b[0m\n\u001b[0;32m--> 819\u001b[0;31m         \u001b[0mself\u001b[0m\u001b[0;34m.\u001b[0m\u001b[0m_engine\u001b[0m \u001b[0;34m=\u001b[0m \u001b[0mself\u001b[0m\u001b[0;34m.\u001b[0m\u001b[0m_make_engine\u001b[0m\u001b[0;34m(\u001b[0m\u001b[0mself\u001b[0m\u001b[0;34m.\u001b[0m\u001b[0mengine\u001b[0m\u001b[0;34m)\u001b[0m\u001b[0;34m\u001b[0m\u001b[0;34m\u001b[0m\u001b[0m\n\u001b[0m\u001b[1;32m    820\u001b[0m \u001b[0;34m\u001b[0m\u001b[0m\n\u001b[1;32m    821\u001b[0m     \u001b[0;32mdef\u001b[0m \u001b[0mclose\u001b[0m\u001b[0;34m(\u001b[0m\u001b[0mself\u001b[0m\u001b[0;34m)\u001b[0m\u001b[0;34m:\u001b[0m\u001b[0;34m\u001b[0m\u001b[0;34m\u001b[0m\u001b[0m\n",
      "\u001b[0;32m~/.local/lib/python3.9/site-packages/pandas/io/parsers.py\u001b[0m in \u001b[0;36m_make_engine\u001b[0;34m(self, engine)\u001b[0m\n\u001b[1;32m   1048\u001b[0m             )\n\u001b[1;32m   1049\u001b[0m         \u001b[0;31m# error: Too many arguments for \"ParserBase\"\u001b[0m\u001b[0;34m\u001b[0m\u001b[0;34m\u001b[0m\u001b[0;34m\u001b[0m\u001b[0m\n\u001b[0;32m-> 1050\u001b[0;31m         \u001b[0;32mreturn\u001b[0m \u001b[0mmapping\u001b[0m\u001b[0;34m[\u001b[0m\u001b[0mengine\u001b[0m\u001b[0;34m]\u001b[0m\u001b[0;34m(\u001b[0m\u001b[0mself\u001b[0m\u001b[0;34m.\u001b[0m\u001b[0mf\u001b[0m\u001b[0;34m,\u001b[0m \u001b[0;34m**\u001b[0m\u001b[0mself\u001b[0m\u001b[0;34m.\u001b[0m\u001b[0moptions\u001b[0m\u001b[0;34m)\u001b[0m  \u001b[0;31m# type: ignore[call-arg]\u001b[0m\u001b[0;34m\u001b[0m\u001b[0;34m\u001b[0m\u001b[0m\n\u001b[0m\u001b[1;32m   1051\u001b[0m \u001b[0;34m\u001b[0m\u001b[0m\n\u001b[1;32m   1052\u001b[0m     \u001b[0;32mdef\u001b[0m \u001b[0m_failover_to_python\u001b[0m\u001b[0;34m(\u001b[0m\u001b[0mself\u001b[0m\u001b[0;34m)\u001b[0m\u001b[0;34m:\u001b[0m\u001b[0;34m\u001b[0m\u001b[0;34m\u001b[0m\u001b[0m\n",
      "\u001b[0;32m~/.local/lib/python3.9/site-packages/pandas/io/parsers.py\u001b[0m in \u001b[0;36m__init__\u001b[0;34m(self, src, **kwds)\u001b[0m\n\u001b[1;32m   1865\u001b[0m \u001b[0;34m\u001b[0m\u001b[0m\n\u001b[1;32m   1866\u001b[0m         \u001b[0;31m# open handles\u001b[0m\u001b[0;34m\u001b[0m\u001b[0;34m\u001b[0m\u001b[0;34m\u001b[0m\u001b[0m\n\u001b[0;32m-> 1867\u001b[0;31m         \u001b[0mself\u001b[0m\u001b[0;34m.\u001b[0m\u001b[0m_open_handles\u001b[0m\u001b[0;34m(\u001b[0m\u001b[0msrc\u001b[0m\u001b[0;34m,\u001b[0m \u001b[0mkwds\u001b[0m\u001b[0;34m)\u001b[0m\u001b[0;34m\u001b[0m\u001b[0;34m\u001b[0m\u001b[0m\n\u001b[0m\u001b[1;32m   1868\u001b[0m         \u001b[0;32massert\u001b[0m \u001b[0mself\u001b[0m\u001b[0;34m.\u001b[0m\u001b[0mhandles\u001b[0m \u001b[0;32mis\u001b[0m \u001b[0;32mnot\u001b[0m \u001b[0;32mNone\u001b[0m\u001b[0;34m\u001b[0m\u001b[0;34m\u001b[0m\u001b[0m\n\u001b[1;32m   1869\u001b[0m         \u001b[0;32mfor\u001b[0m \u001b[0mkey\u001b[0m \u001b[0;32min\u001b[0m \u001b[0;34m(\u001b[0m\u001b[0;34m\"storage_options\"\u001b[0m\u001b[0;34m,\u001b[0m \u001b[0;34m\"encoding\"\u001b[0m\u001b[0;34m,\u001b[0m \u001b[0;34m\"memory_map\"\u001b[0m\u001b[0;34m,\u001b[0m \u001b[0;34m\"compression\"\u001b[0m\u001b[0;34m)\u001b[0m\u001b[0;34m:\u001b[0m\u001b[0;34m\u001b[0m\u001b[0;34m\u001b[0m\u001b[0m\n",
      "\u001b[0;32m~/.local/lib/python3.9/site-packages/pandas/io/parsers.py\u001b[0m in \u001b[0;36m_open_handles\u001b[0;34m(self, src, kwds)\u001b[0m\n\u001b[1;32m   1360\u001b[0m         \u001b[0mLet\u001b[0m \u001b[0mthe\u001b[0m \u001b[0mreaders\u001b[0m \u001b[0mopen\u001b[0m \u001b[0mIOHanldes\u001b[0m \u001b[0mafter\u001b[0m \u001b[0mthey\u001b[0m \u001b[0mare\u001b[0m \u001b[0mdone\u001b[0m \u001b[0;32mwith\u001b[0m \u001b[0mtheir\u001b[0m \u001b[0mpotential\u001b[0m \u001b[0mraises\u001b[0m\u001b[0;34m.\u001b[0m\u001b[0;34m\u001b[0m\u001b[0;34m\u001b[0m\u001b[0m\n\u001b[1;32m   1361\u001b[0m         \"\"\"\n\u001b[0;32m-> 1362\u001b[0;31m         self.handles = get_handle(\n\u001b[0m\u001b[1;32m   1363\u001b[0m             \u001b[0msrc\u001b[0m\u001b[0;34m,\u001b[0m\u001b[0;34m\u001b[0m\u001b[0;34m\u001b[0m\u001b[0m\n\u001b[1;32m   1364\u001b[0m             \u001b[0;34m\"r\"\u001b[0m\u001b[0;34m,\u001b[0m\u001b[0;34m\u001b[0m\u001b[0;34m\u001b[0m\u001b[0m\n",
      "\u001b[0;32m~/.local/lib/python3.9/site-packages/pandas/io/common.py\u001b[0m in \u001b[0;36mget_handle\u001b[0;34m(path_or_buf, mode, encoding, compression, memory_map, is_text, errors, storage_options)\u001b[0m\n\u001b[1;32m    556\u001b[0m \u001b[0;34m\u001b[0m\u001b[0m\n\u001b[1;32m    557\u001b[0m     \u001b[0;31m# open URLs\u001b[0m\u001b[0;34m\u001b[0m\u001b[0;34m\u001b[0m\u001b[0;34m\u001b[0m\u001b[0m\n\u001b[0;32m--> 558\u001b[0;31m     ioargs = _get_filepath_or_buffer(\n\u001b[0m\u001b[1;32m    559\u001b[0m         \u001b[0mpath_or_buf\u001b[0m\u001b[0;34m,\u001b[0m\u001b[0;34m\u001b[0m\u001b[0;34m\u001b[0m\u001b[0m\n\u001b[1;32m    560\u001b[0m         \u001b[0mencoding\u001b[0m\u001b[0;34m=\u001b[0m\u001b[0mencoding\u001b[0m\u001b[0;34m,\u001b[0m\u001b[0;34m\u001b[0m\u001b[0;34m\u001b[0m\u001b[0m\n",
      "\u001b[0;32m~/.local/lib/python3.9/site-packages/pandas/io/common.py\u001b[0m in \u001b[0;36m_get_filepath_or_buffer\u001b[0;34m(filepath_or_buffer, encoding, compression, mode, storage_options)\u001b[0m\n\u001b[1;32m    287\u001b[0m                 \u001b[0;34m\"storage_options passed with file object or non-fsspec file path\"\u001b[0m\u001b[0;34m\u001b[0m\u001b[0;34m\u001b[0m\u001b[0m\n\u001b[1;32m    288\u001b[0m             )\n\u001b[0;32m--> 289\u001b[0;31m         \u001b[0mreq\u001b[0m \u001b[0;34m=\u001b[0m \u001b[0murlopen\u001b[0m\u001b[0;34m(\u001b[0m\u001b[0mfilepath_or_buffer\u001b[0m\u001b[0;34m)\u001b[0m\u001b[0;34m\u001b[0m\u001b[0;34m\u001b[0m\u001b[0m\n\u001b[0m\u001b[1;32m    290\u001b[0m         \u001b[0mcontent_encoding\u001b[0m \u001b[0;34m=\u001b[0m \u001b[0mreq\u001b[0m\u001b[0;34m.\u001b[0m\u001b[0mheaders\u001b[0m\u001b[0;34m.\u001b[0m\u001b[0mget\u001b[0m\u001b[0;34m(\u001b[0m\u001b[0;34m\"Content-Encoding\"\u001b[0m\u001b[0;34m,\u001b[0m \u001b[0;32mNone\u001b[0m\u001b[0;34m)\u001b[0m\u001b[0;34m\u001b[0m\u001b[0;34m\u001b[0m\u001b[0m\n\u001b[1;32m    291\u001b[0m         \u001b[0;32mif\u001b[0m \u001b[0mcontent_encoding\u001b[0m \u001b[0;34m==\u001b[0m \u001b[0;34m\"gzip\"\u001b[0m\u001b[0;34m:\u001b[0m\u001b[0;34m\u001b[0m\u001b[0;34m\u001b[0m\u001b[0m\n",
      "\u001b[0;32m~/.local/lib/python3.9/site-packages/pandas/io/common.py\u001b[0m in \u001b[0;36murlopen\u001b[0;34m(*args, **kwargs)\u001b[0m\n\u001b[1;32m    193\u001b[0m     \u001b[0;32mimport\u001b[0m \u001b[0murllib\u001b[0m\u001b[0;34m.\u001b[0m\u001b[0mrequest\u001b[0m\u001b[0;34m\u001b[0m\u001b[0;34m\u001b[0m\u001b[0m\n\u001b[1;32m    194\u001b[0m \u001b[0;34m\u001b[0m\u001b[0m\n\u001b[0;32m--> 195\u001b[0;31m     \u001b[0;32mreturn\u001b[0m \u001b[0murllib\u001b[0m\u001b[0;34m.\u001b[0m\u001b[0mrequest\u001b[0m\u001b[0;34m.\u001b[0m\u001b[0murlopen\u001b[0m\u001b[0;34m(\u001b[0m\u001b[0;34m*\u001b[0m\u001b[0margs\u001b[0m\u001b[0;34m,\u001b[0m \u001b[0;34m**\u001b[0m\u001b[0mkwargs\u001b[0m\u001b[0;34m)\u001b[0m\u001b[0;34m\u001b[0m\u001b[0;34m\u001b[0m\u001b[0m\n\u001b[0m\u001b[1;32m    196\u001b[0m \u001b[0;34m\u001b[0m\u001b[0m\n\u001b[1;32m    197\u001b[0m \u001b[0;34m\u001b[0m\u001b[0m\n",
      "\u001b[0;32m/usr/local/lib/python3.9/urllib/request.py\u001b[0m in \u001b[0;36murlopen\u001b[0;34m(url, data, timeout, cafile, capath, cadefault, context)\u001b[0m\n\u001b[1;32m    212\u001b[0m     \u001b[0;32melse\u001b[0m\u001b[0;34m:\u001b[0m\u001b[0;34m\u001b[0m\u001b[0;34m\u001b[0m\u001b[0m\n\u001b[1;32m    213\u001b[0m         \u001b[0mopener\u001b[0m \u001b[0;34m=\u001b[0m \u001b[0m_opener\u001b[0m\u001b[0;34m\u001b[0m\u001b[0;34m\u001b[0m\u001b[0m\n\u001b[0;32m--> 214\u001b[0;31m     \u001b[0;32mreturn\u001b[0m \u001b[0mopener\u001b[0m\u001b[0;34m.\u001b[0m\u001b[0mopen\u001b[0m\u001b[0;34m(\u001b[0m\u001b[0murl\u001b[0m\u001b[0;34m,\u001b[0m \u001b[0mdata\u001b[0m\u001b[0;34m,\u001b[0m \u001b[0mtimeout\u001b[0m\u001b[0;34m)\u001b[0m\u001b[0;34m\u001b[0m\u001b[0;34m\u001b[0m\u001b[0m\n\u001b[0m\u001b[1;32m    215\u001b[0m \u001b[0;34m\u001b[0m\u001b[0m\n\u001b[1;32m    216\u001b[0m \u001b[0;32mdef\u001b[0m \u001b[0minstall_opener\u001b[0m\u001b[0;34m(\u001b[0m\u001b[0mopener\u001b[0m\u001b[0;34m)\u001b[0m\u001b[0;34m:\u001b[0m\u001b[0;34m\u001b[0m\u001b[0;34m\u001b[0m\u001b[0m\n",
      "\u001b[0;32m/usr/local/lib/python3.9/urllib/request.py\u001b[0m in \u001b[0;36mopen\u001b[0;34m(self, fullurl, data, timeout)\u001b[0m\n\u001b[1;32m    521\u001b[0m         \u001b[0;32mfor\u001b[0m \u001b[0mprocessor\u001b[0m \u001b[0;32min\u001b[0m \u001b[0mself\u001b[0m\u001b[0;34m.\u001b[0m\u001b[0mprocess_response\u001b[0m\u001b[0;34m.\u001b[0m\u001b[0mget\u001b[0m\u001b[0;34m(\u001b[0m\u001b[0mprotocol\u001b[0m\u001b[0;34m,\u001b[0m \u001b[0;34m[\u001b[0m\u001b[0;34m]\u001b[0m\u001b[0;34m)\u001b[0m\u001b[0;34m:\u001b[0m\u001b[0;34m\u001b[0m\u001b[0;34m\u001b[0m\u001b[0m\n\u001b[1;32m    522\u001b[0m             \u001b[0mmeth\u001b[0m \u001b[0;34m=\u001b[0m \u001b[0mgetattr\u001b[0m\u001b[0;34m(\u001b[0m\u001b[0mprocessor\u001b[0m\u001b[0;34m,\u001b[0m \u001b[0mmeth_name\u001b[0m\u001b[0;34m)\u001b[0m\u001b[0;34m\u001b[0m\u001b[0;34m\u001b[0m\u001b[0m\n\u001b[0;32m--> 523\u001b[0;31m             \u001b[0mresponse\u001b[0m \u001b[0;34m=\u001b[0m \u001b[0mmeth\u001b[0m\u001b[0;34m(\u001b[0m\u001b[0mreq\u001b[0m\u001b[0;34m,\u001b[0m \u001b[0mresponse\u001b[0m\u001b[0;34m)\u001b[0m\u001b[0;34m\u001b[0m\u001b[0;34m\u001b[0m\u001b[0m\n\u001b[0m\u001b[1;32m    524\u001b[0m \u001b[0;34m\u001b[0m\u001b[0m\n\u001b[1;32m    525\u001b[0m         \u001b[0;32mreturn\u001b[0m \u001b[0mresponse\u001b[0m\u001b[0;34m\u001b[0m\u001b[0;34m\u001b[0m\u001b[0m\n",
      "\u001b[0;32m/usr/local/lib/python3.9/urllib/request.py\u001b[0m in \u001b[0;36mhttp_response\u001b[0;34m(self, request, response)\u001b[0m\n\u001b[1;32m    630\u001b[0m         \u001b[0;31m# request was successfully received, understood, and accepted.\u001b[0m\u001b[0;34m\u001b[0m\u001b[0;34m\u001b[0m\u001b[0;34m\u001b[0m\u001b[0m\n\u001b[1;32m    631\u001b[0m         \u001b[0;32mif\u001b[0m \u001b[0;32mnot\u001b[0m \u001b[0;34m(\u001b[0m\u001b[0;36m200\u001b[0m \u001b[0;34m<=\u001b[0m \u001b[0mcode\u001b[0m \u001b[0;34m<\u001b[0m \u001b[0;36m300\u001b[0m\u001b[0;34m)\u001b[0m\u001b[0;34m:\u001b[0m\u001b[0;34m\u001b[0m\u001b[0;34m\u001b[0m\u001b[0m\n\u001b[0;32m--> 632\u001b[0;31m             response = self.parent.error(\n\u001b[0m\u001b[1;32m    633\u001b[0m                 'http', request, response, code, msg, hdrs)\n\u001b[1;32m    634\u001b[0m \u001b[0;34m\u001b[0m\u001b[0m\n",
      "\u001b[0;32m/usr/local/lib/python3.9/urllib/request.py\u001b[0m in \u001b[0;36merror\u001b[0;34m(self, proto, *args)\u001b[0m\n\u001b[1;32m    559\u001b[0m         \u001b[0;32mif\u001b[0m \u001b[0mhttp_err\u001b[0m\u001b[0;34m:\u001b[0m\u001b[0;34m\u001b[0m\u001b[0;34m\u001b[0m\u001b[0m\n\u001b[1;32m    560\u001b[0m             \u001b[0margs\u001b[0m \u001b[0;34m=\u001b[0m \u001b[0;34m(\u001b[0m\u001b[0mdict\u001b[0m\u001b[0;34m,\u001b[0m \u001b[0;34m'default'\u001b[0m\u001b[0;34m,\u001b[0m \u001b[0;34m'http_error_default'\u001b[0m\u001b[0;34m)\u001b[0m \u001b[0;34m+\u001b[0m \u001b[0morig_args\u001b[0m\u001b[0;34m\u001b[0m\u001b[0;34m\u001b[0m\u001b[0m\n\u001b[0;32m--> 561\u001b[0;31m             \u001b[0;32mreturn\u001b[0m \u001b[0mself\u001b[0m\u001b[0;34m.\u001b[0m\u001b[0m_call_chain\u001b[0m\u001b[0;34m(\u001b[0m\u001b[0;34m*\u001b[0m\u001b[0margs\u001b[0m\u001b[0;34m)\u001b[0m\u001b[0;34m\u001b[0m\u001b[0;34m\u001b[0m\u001b[0m\n\u001b[0m\u001b[1;32m    562\u001b[0m \u001b[0;34m\u001b[0m\u001b[0m\n\u001b[1;32m    563\u001b[0m \u001b[0;31m# XXX probably also want an abstract factory that knows when it makes\u001b[0m\u001b[0;34m\u001b[0m\u001b[0;34m\u001b[0m\u001b[0;34m\u001b[0m\u001b[0m\n",
      "\u001b[0;32m/usr/local/lib/python3.9/urllib/request.py\u001b[0m in \u001b[0;36m_call_chain\u001b[0;34m(self, chain, kind, meth_name, *args)\u001b[0m\n\u001b[1;32m    492\u001b[0m         \u001b[0;32mfor\u001b[0m \u001b[0mhandler\u001b[0m \u001b[0;32min\u001b[0m \u001b[0mhandlers\u001b[0m\u001b[0;34m:\u001b[0m\u001b[0;34m\u001b[0m\u001b[0;34m\u001b[0m\u001b[0m\n\u001b[1;32m    493\u001b[0m             \u001b[0mfunc\u001b[0m \u001b[0;34m=\u001b[0m \u001b[0mgetattr\u001b[0m\u001b[0;34m(\u001b[0m\u001b[0mhandler\u001b[0m\u001b[0;34m,\u001b[0m \u001b[0mmeth_name\u001b[0m\u001b[0;34m)\u001b[0m\u001b[0;34m\u001b[0m\u001b[0;34m\u001b[0m\u001b[0m\n\u001b[0;32m--> 494\u001b[0;31m             \u001b[0mresult\u001b[0m \u001b[0;34m=\u001b[0m \u001b[0mfunc\u001b[0m\u001b[0;34m(\u001b[0m\u001b[0;34m*\u001b[0m\u001b[0margs\u001b[0m\u001b[0;34m)\u001b[0m\u001b[0;34m\u001b[0m\u001b[0;34m\u001b[0m\u001b[0m\n\u001b[0m\u001b[1;32m    495\u001b[0m             \u001b[0;32mif\u001b[0m \u001b[0mresult\u001b[0m \u001b[0;32mis\u001b[0m \u001b[0;32mnot\u001b[0m \u001b[0;32mNone\u001b[0m\u001b[0;34m:\u001b[0m\u001b[0;34m\u001b[0m\u001b[0;34m\u001b[0m\u001b[0m\n\u001b[1;32m    496\u001b[0m                 \u001b[0;32mreturn\u001b[0m \u001b[0mresult\u001b[0m\u001b[0;34m\u001b[0m\u001b[0;34m\u001b[0m\u001b[0m\n",
      "\u001b[0;32m/usr/local/lib/python3.9/urllib/request.py\u001b[0m in \u001b[0;36mhttp_error_default\u001b[0;34m(self, req, fp, code, msg, hdrs)\u001b[0m\n\u001b[1;32m    639\u001b[0m \u001b[0;32mclass\u001b[0m \u001b[0mHTTPDefaultErrorHandler\u001b[0m\u001b[0;34m(\u001b[0m\u001b[0mBaseHandler\u001b[0m\u001b[0;34m)\u001b[0m\u001b[0;34m:\u001b[0m\u001b[0;34m\u001b[0m\u001b[0;34m\u001b[0m\u001b[0m\n\u001b[1;32m    640\u001b[0m     \u001b[0;32mdef\u001b[0m \u001b[0mhttp_error_default\u001b[0m\u001b[0;34m(\u001b[0m\u001b[0mself\u001b[0m\u001b[0;34m,\u001b[0m \u001b[0mreq\u001b[0m\u001b[0;34m,\u001b[0m \u001b[0mfp\u001b[0m\u001b[0;34m,\u001b[0m \u001b[0mcode\u001b[0m\u001b[0;34m,\u001b[0m \u001b[0mmsg\u001b[0m\u001b[0;34m,\u001b[0m \u001b[0mhdrs\u001b[0m\u001b[0;34m)\u001b[0m\u001b[0;34m:\u001b[0m\u001b[0;34m\u001b[0m\u001b[0;34m\u001b[0m\u001b[0m\n\u001b[0;32m--> 641\u001b[0;31m         \u001b[0;32mraise\u001b[0m \u001b[0mHTTPError\u001b[0m\u001b[0;34m(\u001b[0m\u001b[0mreq\u001b[0m\u001b[0;34m.\u001b[0m\u001b[0mfull_url\u001b[0m\u001b[0;34m,\u001b[0m \u001b[0mcode\u001b[0m\u001b[0;34m,\u001b[0m \u001b[0mmsg\u001b[0m\u001b[0;34m,\u001b[0m \u001b[0mhdrs\u001b[0m\u001b[0;34m,\u001b[0m \u001b[0mfp\u001b[0m\u001b[0;34m)\u001b[0m\u001b[0;34m\u001b[0m\u001b[0;34m\u001b[0m\u001b[0m\n\u001b[0m\u001b[1;32m    642\u001b[0m \u001b[0;34m\u001b[0m\u001b[0m\n\u001b[1;32m    643\u001b[0m \u001b[0;32mclass\u001b[0m \u001b[0mHTTPRedirectHandler\u001b[0m\u001b[0;34m(\u001b[0m\u001b[0mBaseHandler\u001b[0m\u001b[0;34m)\u001b[0m\u001b[0;34m:\u001b[0m\u001b[0;34m\u001b[0m\u001b[0;34m\u001b[0m\u001b[0m\n",
      "\u001b[0;31mHTTPError\u001b[0m: HTTP Error 404: 404"
     ]
    }
   ],
   "source": [
    "codes = [\n",
    "    \"EDU_SDG_STU_L2_MATH\",\n",
    "    \"EDU_SDG_STU_L2_READING\",\n",
    "    \"EDU_SDG_STU_L1_GLAST_MATH\",\n",
    "    \"EDU_SDG_STU_L1_G2OR3_MATH\",\n",
    "    \"EDU_SDG_STU_L1_GLAST_READING\",\n",
    "    \"EDU_SDG_STU_L1_G2OR3_READING\",\n",
    "    \"EDUNF_NERA_L2\",\n",
    "    \"EDUNF_NERA_L1_PT\",\n",
    "    \"EDU_SDG_GER_L01\",\n",
    "    \"EDUNF_LR_L02\",\n",
    "    \"EDUNF_ROFST_L2\",\n",
    "    \"EDU_SDG_QUTP_L02\",\n",
    "    \"EDU_SDG_QUTP_L1\",\n",
    "    \"EDU_SDG_QUTP_L2\",\n",
    "    \"EDU_SDG_QUTP_L3\",\n",
    "    \"EDU_SDG_TRTP_L02\",\n",
    "    \"EDU_SDG_TRTP_L1\",\n",
    "    \"EDU_SDG_TRTP_L2\",\n",
    "    \"EDU_SDG_TRTP_L3\",\n",
    "    \"EDUNF_ROFST_L1\", \n",
    "    \"EDUNF_ROFST_L2\", \n",
    "    \"EDUNF_ROFST_L3\", \n",
    "    \"EDUNF_OFST_L1\", \n",
    "    \"EDUNF_OFST_L2\", \n",
    "    \"EDUNF_OFST_L3\",\n",
    "    \"EDUNF_NERA_L1_GPIA\",\n",
    "    \"EDUNF_NIR_L1_ENTRYAGE\",\n",
    "    \"EDUNF_CR_L3\",\n",
    "    \"EDUNF_NER_L02\",\n",
    "    \"EDUNF_NERA_L1_GPIA\",\n",
    "    \"EDUNF_NERA_L1_PT\",\n",
    "    \"EDUNF_GER_L1\",\n",
    "    \"EDUNF_GER_L2\",\n",
    "    \"EDUNF_GER_L3_T\",\n",
    "    \"EDUNF_NIR_L1_ENTRYAGE\",\n",
    "    \"EDUNF_STU_L1_TOT\",\n",
    "    \"EDUNF_STU_L2_TOT\",\n",
    "    \"EDUNF_STU_L3_TOT\",\n",
    "    \"EDU_SDG_SCH_L1\",\n",
    "    \"EDU_SDG_SCH_L2\",\n",
    "    \"EDU_SDG_SCH_L3\",\n",
    "]\n",
    "\n",
    "df = pd.DataFrame()\n",
    "inds = set(codes)\n",
    "for ind in inds:\n",
    "    sdmx = pd.read_csv(sdmx_url.format(ind))\n",
    "    sdmx[\"CODE\"] = ind\n",
    "    df = df.append(sdmx)"
   ]
  },
  {
   "cell_type": "code",
   "execution_count": 6,
   "metadata": {},
   "outputs": [],
   "source": [
    "countries = df[\"Geographic area\"].unique()"
   ]
  },
  {
   "cell_type": "code",
   "execution_count": 7,
   "metadata": {},
   "outputs": [],
   "source": [
    "df = df.merge(\n",
    "    right=pd.DataFrame(\n",
    "        [dict(country=country, **geocode_address(country)) for country in countries]\n",
    "    ),\n",
    "    left_on='Geographic area',\n",
    "    right_on='country'\n",
    ")"
   ]
  },
  {
   "cell_type": "code",
   "execution_count": 10,
   "metadata": {},
   "outputs": [
    {
     "output_type": "error",
     "ename": "SyntaxError",
     "evalue": "invalid syntax (<ipython-input-10-84f235a233ff>, line 5)",
     "traceback": [
      "\u001b[0;36m  File \u001b[0;32m\"<ipython-input-10-84f235a233ff>\"\u001b[0;36m, line \u001b[0;32m5\u001b[0m\n\u001b[0;31m    .groupby([\"CODE\", \"Indicator\", \"Geographic area\", \"Sex\"])\u001b[0m\n\u001b[0m    ^\u001b[0m\n\u001b[0;31mSyntaxError\u001b[0m\u001b[0;31m:\u001b[0m invalid syntax\n"
     ]
    }
   ],
   "source": [
    "        data[\n",
    "            (data[\"CODE\"] == \"EDU_SDG_SCH_L1\")\n",
    "            & (data[\"Sex\"] != \"Total\")\n",
    "        ]\n",
    "        .groupby([\"CODE\", \"Indicator\", \"Geographic area\", \"Sex\"])\n",
    "        .agg({\"TIME_PERIOD\": \"last\", \"OBS_VALUE\": \"last\"})\n",
    "        .reset_index()\n",
    "\n",
    "\n"
   ]
  },
  {
   "cell_type": "code",
   "execution_count": 28,
   "metadata": {},
   "outputs": [
    {
     "output_type": "execute_result",
     "data": {
      "text/plain": [
       "                CODE                                          Indicator  \\\n",
       "0      EDUNF_OFST_L1  Number of out of school children of primary sc...   \n",
       "1      EDUNF_OFST_L1  Number of out of school children of primary sc...   \n",
       "2      EDUNF_OFST_L1  Number of out of school children of primary sc...   \n",
       "3      EDUNF_OFST_L1  Number of out of school children of primary sc...   \n",
       "4      EDUNF_OFST_L1  Number of out of school children of primary sc...   \n",
       "...              ...                                                ...   \n",
       "2419  EDUNF_ROFST_L3  Out of school children rate: Upper secondary e...   \n",
       "2420  EDUNF_ROFST_L3  Out of school children rate: Upper secondary e...   \n",
       "2421  EDUNF_ROFST_L3  Out of school children rate: Upper secondary e...   \n",
       "2422  EDUNF_ROFST_L3  Out of school children rate: Upper secondary e...   \n",
       "2423  EDUNF_ROFST_L3  Out of school children rate: Upper secondary e...   \n",
       "\n",
       "     Geographic area  TIME_PERIOD    OBS_VALUE  \n",
       "0            Albania         1999  30461.00000  \n",
       "1            Albania         2000  29656.00000  \n",
       "2            Albania         2001  27237.00000  \n",
       "3            Albania         2003  21197.00000  \n",
       "4            Albania         2004  21996.00000  \n",
       "...              ...          ...          ...  \n",
       "2419      Uzbekistan         2013     13.82519  \n",
       "2420      Uzbekistan         2014     17.76465  \n",
       "2421      Uzbekistan         2015     15.83454  \n",
       "2422      Uzbekistan         2016     15.69751  \n",
       "2423      Uzbekistan         2017     15.54653  \n",
       "\n",
       "[2424 rows x 5 columns]"
      ],
      "text/html": "<div>\n<style scoped>\n    .dataframe tbody tr th:only-of-type {\n        vertical-align: middle;\n    }\n\n    .dataframe tbody tr th {\n        vertical-align: top;\n    }\n\n    .dataframe thead th {\n        text-align: right;\n    }\n</style>\n<table border=\"1\" class=\"dataframe\">\n  <thead>\n    <tr style=\"text-align: right;\">\n      <th></th>\n      <th>CODE</th>\n      <th>Indicator</th>\n      <th>Geographic area</th>\n      <th>TIME_PERIOD</th>\n      <th>OBS_VALUE</th>\n    </tr>\n  </thead>\n  <tbody>\n    <tr>\n      <th>0</th>\n      <td>EDUNF_OFST_L1</td>\n      <td>Number of out of school children of primary sc...</td>\n      <td>Albania</td>\n      <td>1999</td>\n      <td>30461.00000</td>\n    </tr>\n    <tr>\n      <th>1</th>\n      <td>EDUNF_OFST_L1</td>\n      <td>Number of out of school children of primary sc...</td>\n      <td>Albania</td>\n      <td>2000</td>\n      <td>29656.00000</td>\n    </tr>\n    <tr>\n      <th>2</th>\n      <td>EDUNF_OFST_L1</td>\n      <td>Number of out of school children of primary sc...</td>\n      <td>Albania</td>\n      <td>2001</td>\n      <td>27237.00000</td>\n    </tr>\n    <tr>\n      <th>3</th>\n      <td>EDUNF_OFST_L1</td>\n      <td>Number of out of school children of primary sc...</td>\n      <td>Albania</td>\n      <td>2003</td>\n      <td>21197.00000</td>\n    </tr>\n    <tr>\n      <th>4</th>\n      <td>EDUNF_OFST_L1</td>\n      <td>Number of out of school children of primary sc...</td>\n      <td>Albania</td>\n      <td>2004</td>\n      <td>21996.00000</td>\n    </tr>\n    <tr>\n      <th>...</th>\n      <td>...</td>\n      <td>...</td>\n      <td>...</td>\n      <td>...</td>\n      <td>...</td>\n    </tr>\n    <tr>\n      <th>2419</th>\n      <td>EDUNF_ROFST_L3</td>\n      <td>Out of school children rate: Upper secondary e...</td>\n      <td>Uzbekistan</td>\n      <td>2013</td>\n      <td>13.82519</td>\n    </tr>\n    <tr>\n      <th>2420</th>\n      <td>EDUNF_ROFST_L3</td>\n      <td>Out of school children rate: Upper secondary e...</td>\n      <td>Uzbekistan</td>\n      <td>2014</td>\n      <td>17.76465</td>\n    </tr>\n    <tr>\n      <th>2421</th>\n      <td>EDUNF_ROFST_L3</td>\n      <td>Out of school children rate: Upper secondary e...</td>\n      <td>Uzbekistan</td>\n      <td>2015</td>\n      <td>15.83454</td>\n    </tr>\n    <tr>\n      <th>2422</th>\n      <td>EDUNF_ROFST_L3</td>\n      <td>Out of school children rate: Upper secondary e...</td>\n      <td>Uzbekistan</td>\n      <td>2016</td>\n      <td>15.69751</td>\n    </tr>\n    <tr>\n      <th>2423</th>\n      <td>EDUNF_ROFST_L3</td>\n      <td>Out of school children rate: Upper secondary e...</td>\n      <td>Uzbekistan</td>\n      <td>2017</td>\n      <td>15.54653</td>\n    </tr>\n  </tbody>\n</table>\n<p>2424 rows × 5 columns</p>\n</div>"
     },
     "metadata": {},
     "execution_count": 28
    }
   ],
   "source": [
    "data"
   ]
  },
  {
   "cell_type": "code",
   "execution_count": 18,
   "metadata": {},
   "outputs": [],
   "source": [
    "countries = pd.DataFrame([dict(name=country, **geocode_address(country)) for country in df[\"Geographic area\"].unique()])"
   ]
  },
  {
   "cell_type": "code",
   "execution_count": 19,
   "metadata": {},
   "outputs": [
    {
     "output_type": "execute_result",
     "data": {
      "text/plain": [
       "                      name  longitude   latitude\n",
       "0                  Albania  20.156691  40.641090\n",
       "1                  Armenia  44.660395  40.605656\n",
       "2               Azerbaijan  47.720341  40.418260\n",
       "3                  Belarus  28.046788  53.539998\n",
       "4                  Georgia -83.257256  32.330571\n",
       "5                  Croatia  16.679107  45.664952\n",
       "6               Kyrgyzstan  74.555596  41.465054\n",
       "7               Kazakhstan  67.301774  48.160088\n",
       "8      Republic of Moldova  32.720174  39.823928\n",
       "9                   Serbia  20.795300  44.226737\n",
       "10              Tajikistan  71.042004  38.838508\n",
       "11              Uzbekistan  63.169372  41.750437\n",
       "12                Bulgaria  25.231507  42.761377\n",
       "13                 Czechia  11.539358  42.730665\n",
       "14                 Estonia  25.761527  58.778397\n",
       "15                 Hungary  19.499349  47.060267\n",
       "16               Lithuania  23.931538  55.487413\n",
       "17                  Latvia  24.862593  56.959065\n",
       "18              Montenegro  19.250734  42.790443\n",
       "19         North Macedonia  21.697476  41.599683\n",
       "20                  Poland  19.300636  52.124610\n",
       "21                 Romania  24.969258  45.843615\n",
       "22      Russian Federation   4.286814  52.086441\n",
       "23                Slovenia  14.694076  46.169458\n",
       "24                Slovakia  19.491651  48.707531\n",
       "25                  Turkey  35.179593  39.060481\n",
       "26                 Ukraine  31.320283  49.322794\n",
       "27  Bosnia and Herzegovina  17.786531  44.168115\n",
       "28            Turkmenistan  59.384377  39.122285"
      ],
      "text/html": "<div>\n<style scoped>\n    .dataframe tbody tr th:only-of-type {\n        vertical-align: middle;\n    }\n\n    .dataframe tbody tr th {\n        vertical-align: top;\n    }\n\n    .dataframe thead th {\n        text-align: right;\n    }\n</style>\n<table border=\"1\" class=\"dataframe\">\n  <thead>\n    <tr style=\"text-align: right;\">\n      <th></th>\n      <th>name</th>\n      <th>longitude</th>\n      <th>latitude</th>\n    </tr>\n  </thead>\n  <tbody>\n    <tr>\n      <th>0</th>\n      <td>Albania</td>\n      <td>20.156691</td>\n      <td>40.641090</td>\n    </tr>\n    <tr>\n      <th>1</th>\n      <td>Armenia</td>\n      <td>44.660395</td>\n      <td>40.605656</td>\n    </tr>\n    <tr>\n      <th>2</th>\n      <td>Azerbaijan</td>\n      <td>47.720341</td>\n      <td>40.418260</td>\n    </tr>\n    <tr>\n      <th>3</th>\n      <td>Belarus</td>\n      <td>28.046788</td>\n      <td>53.539998</td>\n    </tr>\n    <tr>\n      <th>4</th>\n      <td>Georgia</td>\n      <td>-83.257256</td>\n      <td>32.330571</td>\n    </tr>\n    <tr>\n      <th>5</th>\n      <td>Croatia</td>\n      <td>16.679107</td>\n      <td>45.664952</td>\n    </tr>\n    <tr>\n      <th>6</th>\n      <td>Kyrgyzstan</td>\n      <td>74.555596</td>\n      <td>41.465054</td>\n    </tr>\n    <tr>\n      <th>7</th>\n      <td>Kazakhstan</td>\n      <td>67.301774</td>\n      <td>48.160088</td>\n    </tr>\n    <tr>\n      <th>8</th>\n      <td>Republic of Moldova</td>\n      <td>32.720174</td>\n      <td>39.823928</td>\n    </tr>\n    <tr>\n      <th>9</th>\n      <td>Serbia</td>\n      <td>20.795300</td>\n      <td>44.226737</td>\n    </tr>\n    <tr>\n      <th>10</th>\n      <td>Tajikistan</td>\n      <td>71.042004</td>\n      <td>38.838508</td>\n    </tr>\n    <tr>\n      <th>11</th>\n      <td>Uzbekistan</td>\n      <td>63.169372</td>\n      <td>41.750437</td>\n    </tr>\n    <tr>\n      <th>12</th>\n      <td>Bulgaria</td>\n      <td>25.231507</td>\n      <td>42.761377</td>\n    </tr>\n    <tr>\n      <th>13</th>\n      <td>Czechia</td>\n      <td>11.539358</td>\n      <td>42.730665</td>\n    </tr>\n    <tr>\n      <th>14</th>\n      <td>Estonia</td>\n      <td>25.761527</td>\n      <td>58.778397</td>\n    </tr>\n    <tr>\n      <th>15</th>\n      <td>Hungary</td>\n      <td>19.499349</td>\n      <td>47.060267</td>\n    </tr>\n    <tr>\n      <th>16</th>\n      <td>Lithuania</td>\n      <td>23.931538</td>\n      <td>55.487413</td>\n    </tr>\n    <tr>\n      <th>17</th>\n      <td>Latvia</td>\n      <td>24.862593</td>\n      <td>56.959065</td>\n    </tr>\n    <tr>\n      <th>18</th>\n      <td>Montenegro</td>\n      <td>19.250734</td>\n      <td>42.790443</td>\n    </tr>\n    <tr>\n      <th>19</th>\n      <td>North Macedonia</td>\n      <td>21.697476</td>\n      <td>41.599683</td>\n    </tr>\n    <tr>\n      <th>20</th>\n      <td>Poland</td>\n      <td>19.300636</td>\n      <td>52.124610</td>\n    </tr>\n    <tr>\n      <th>21</th>\n      <td>Romania</td>\n      <td>24.969258</td>\n      <td>45.843615</td>\n    </tr>\n    <tr>\n      <th>22</th>\n      <td>Russian Federation</td>\n      <td>4.286814</td>\n      <td>52.086441</td>\n    </tr>\n    <tr>\n      <th>23</th>\n      <td>Slovenia</td>\n      <td>14.694076</td>\n      <td>46.169458</td>\n    </tr>\n    <tr>\n      <th>24</th>\n      <td>Slovakia</td>\n      <td>19.491651</td>\n      <td>48.707531</td>\n    </tr>\n    <tr>\n      <th>25</th>\n      <td>Turkey</td>\n      <td>35.179593</td>\n      <td>39.060481</td>\n    </tr>\n    <tr>\n      <th>26</th>\n      <td>Ukraine</td>\n      <td>31.320283</td>\n      <td>49.322794</td>\n    </tr>\n    <tr>\n      <th>27</th>\n      <td>Bosnia and Herzegovina</td>\n      <td>17.786531</td>\n      <td>44.168115</td>\n    </tr>\n    <tr>\n      <th>28</th>\n      <td>Turkmenistan</td>\n      <td>59.384377</td>\n      <td>39.122285</td>\n    </tr>\n  </tbody>\n</table>\n</div>"
     },
     "metadata": {},
     "execution_count": 19
    }
   ],
   "source": [
    "countries"
   ]
  },
  {
   "cell_type": "code",
   "execution_count": 23,
   "metadata": {},
   "outputs": [
    {
     "output_type": "execute_result",
     "data": {
      "text/plain": [
       "                CODE                                          Indicator  \\\n",
       "0      EDUNF_OFST_L1  Number of out of school children of primary sc...   \n",
       "1      EDUNF_OFST_L1  Number of out of school children of primary sc...   \n",
       "2      EDUNF_OFST_L1  Number of out of school children of primary sc...   \n",
       "3      EDUNF_OFST_L1  Number of out of school children of primary sc...   \n",
       "4      EDUNF_OFST_L1  Number of out of school children of primary sc...   \n",
       "...              ...                                                ...   \n",
       "2419  EDUNF_ROFST_L3  Out of school children rate: Upper secondary e...   \n",
       "2420  EDUNF_ROFST_L3  Out of school children rate: Upper secondary e...   \n",
       "2421  EDUNF_ROFST_L3  Out of school children rate: Upper secondary e...   \n",
       "2422  EDUNF_ROFST_L3  Out of school children rate: Upper secondary e...   \n",
       "2423  EDUNF_ROFST_L3  Out of school children rate: Upper secondary e...   \n",
       "\n",
       "     Geographic area  TIME_PERIOD     OBS_VALUE        name  longitude  \\\n",
       "0            Albania         1999  19659.000000     Albania  20.156691   \n",
       "1            Albania         2000  21103.000000     Albania  20.156691   \n",
       "2            Albania         2001  21787.500000     Albania  20.156691   \n",
       "3            Albania         2003  21092.000000     Albania  20.156691   \n",
       "4            Albania         2004  22114.500000     Albania  20.156691   \n",
       "...              ...          ...           ...         ...        ...   \n",
       "2419      Uzbekistan         2013     14.460020  Uzbekistan  63.169372   \n",
       "2420      Uzbekistan         2014     17.612487  Uzbekistan  63.169372   \n",
       "2421      Uzbekistan         2015     16.168617  Uzbekistan  63.169372   \n",
       "2422      Uzbekistan         2016     16.463327  Uzbekistan  63.169372   \n",
       "2423      Uzbekistan         2017     16.041150  Uzbekistan  63.169372   \n",
       "\n",
       "       latitude  \n",
       "0     40.641090  \n",
       "1     40.641090  \n",
       "2     40.641090  \n",
       "3     40.641090  \n",
       "4     40.641090  \n",
       "...         ...  \n",
       "2419  41.750437  \n",
       "2420  41.750437  \n",
       "2421  41.750437  \n",
       "2422  41.750437  \n",
       "2423  41.750437  \n",
       "\n",
       "[2424 rows x 8 columns]"
      ],
      "text/html": "<div>\n<style scoped>\n    .dataframe tbody tr th:only-of-type {\n        vertical-align: middle;\n    }\n\n    .dataframe tbody tr th {\n        vertical-align: top;\n    }\n\n    .dataframe thead th {\n        text-align: right;\n    }\n</style>\n<table border=\"1\" class=\"dataframe\">\n  <thead>\n    <tr style=\"text-align: right;\">\n      <th></th>\n      <th>CODE</th>\n      <th>Indicator</th>\n      <th>Geographic area</th>\n      <th>TIME_PERIOD</th>\n      <th>OBS_VALUE</th>\n      <th>name</th>\n      <th>longitude</th>\n      <th>latitude</th>\n    </tr>\n  </thead>\n  <tbody>\n    <tr>\n      <th>0</th>\n      <td>EDUNF_OFST_L1</td>\n      <td>Number of out of school children of primary sc...</td>\n      <td>Albania</td>\n      <td>1999</td>\n      <td>19659.000000</td>\n      <td>Albania</td>\n      <td>20.156691</td>\n      <td>40.641090</td>\n    </tr>\n    <tr>\n      <th>1</th>\n      <td>EDUNF_OFST_L1</td>\n      <td>Number of out of school children of primary sc...</td>\n      <td>Albania</td>\n      <td>2000</td>\n      <td>21103.000000</td>\n      <td>Albania</td>\n      <td>20.156691</td>\n      <td>40.641090</td>\n    </tr>\n    <tr>\n      <th>2</th>\n      <td>EDUNF_OFST_L1</td>\n      <td>Number of out of school children of primary sc...</td>\n      <td>Albania</td>\n      <td>2001</td>\n      <td>21787.500000</td>\n      <td>Albania</td>\n      <td>20.156691</td>\n      <td>40.641090</td>\n    </tr>\n    <tr>\n      <th>3</th>\n      <td>EDUNF_OFST_L1</td>\n      <td>Number of out of school children of primary sc...</td>\n      <td>Albania</td>\n      <td>2003</td>\n      <td>21092.000000</td>\n      <td>Albania</td>\n      <td>20.156691</td>\n      <td>40.641090</td>\n    </tr>\n    <tr>\n      <th>4</th>\n      <td>EDUNF_OFST_L1</td>\n      <td>Number of out of school children of primary sc...</td>\n      <td>Albania</td>\n      <td>2004</td>\n      <td>22114.500000</td>\n      <td>Albania</td>\n      <td>20.156691</td>\n      <td>40.641090</td>\n    </tr>\n    <tr>\n      <th>...</th>\n      <td>...</td>\n      <td>...</td>\n      <td>...</td>\n      <td>...</td>\n      <td>...</td>\n      <td>...</td>\n      <td>...</td>\n      <td>...</td>\n    </tr>\n    <tr>\n      <th>2419</th>\n      <td>EDUNF_ROFST_L3</td>\n      <td>Out of school children rate: Upper secondary e...</td>\n      <td>Uzbekistan</td>\n      <td>2013</td>\n      <td>14.460020</td>\n      <td>Uzbekistan</td>\n      <td>63.169372</td>\n      <td>41.750437</td>\n    </tr>\n    <tr>\n      <th>2420</th>\n      <td>EDUNF_ROFST_L3</td>\n      <td>Out of school children rate: Upper secondary e...</td>\n      <td>Uzbekistan</td>\n      <td>2014</td>\n      <td>17.612487</td>\n      <td>Uzbekistan</td>\n      <td>63.169372</td>\n      <td>41.750437</td>\n    </tr>\n    <tr>\n      <th>2421</th>\n      <td>EDUNF_ROFST_L3</td>\n      <td>Out of school children rate: Upper secondary e...</td>\n      <td>Uzbekistan</td>\n      <td>2015</td>\n      <td>16.168617</td>\n      <td>Uzbekistan</td>\n      <td>63.169372</td>\n      <td>41.750437</td>\n    </tr>\n    <tr>\n      <th>2422</th>\n      <td>EDUNF_ROFST_L3</td>\n      <td>Out of school children rate: Upper secondary e...</td>\n      <td>Uzbekistan</td>\n      <td>2016</td>\n      <td>16.463327</td>\n      <td>Uzbekistan</td>\n      <td>63.169372</td>\n      <td>41.750437</td>\n    </tr>\n    <tr>\n      <th>2423</th>\n      <td>EDUNF_ROFST_L3</td>\n      <td>Out of school children rate: Upper secondary e...</td>\n      <td>Uzbekistan</td>\n      <td>2017</td>\n      <td>16.041150</td>\n      <td>Uzbekistan</td>\n      <td>63.169372</td>\n      <td>41.750437</td>\n    </tr>\n  </tbody>\n</table>\n<p>2424 rows × 8 columns</p>\n</div>"
     },
     "metadata": {},
     "execution_count": 23
    }
   ],
   "source": [
    "data.merge(\n",
    "    right=countries,\n",
    "    left_on='Geographic area',\n",
    "    right_on='name'\n",
    ")"
   ]
  },
  {
   "cell_type": "code",
   "execution_count": 10,
   "metadata": {},
   "outputs": [],
   "source": [
    "# Create controls\n",
    "county_options = [\n",
    "    {\"label\": str(country), \"value\": str(country)} for country in data['Geographic area'].unique()\n",
    "]"
   ]
  },
  {
   "cell_type": "code",
   "execution_count": 11,
   "metadata": {},
   "outputs": [
    {
     "output_type": "execute_result",
     "data": {
      "text/plain": "[{'label': 'Albania', 'value': 'Albania'},\n {'label': 'Armenia', 'value': 'Armenia'},\n {'label': 'Azerbaijan', 'value': 'Azerbaijan'},\n {'label': 'Bosnia and Herzegovina', 'value': 'Bosnia and Herzegovina'},\n {'label': 'Bulgaria', 'value': 'Bulgaria'},\n {'label': 'Belarus', 'value': 'Belarus'},\n {'label': 'Czechia', 'value': 'Czechia'},\n {'label': 'Estonia', 'value': 'Estonia'},\n {'label': 'Georgia', 'value': 'Georgia'},\n {'label': 'Croatia', 'value': 'Croatia'},\n {'label': 'Hungary', 'value': 'Hungary'},\n {'label': 'Kyrgyzstan', 'value': 'Kyrgyzstan'},\n {'label': 'Kazakhstan', 'value': 'Kazakhstan'},\n {'label': 'Lithuania', 'value': 'Lithuania'},\n {'label': 'Latvia', 'value': 'Latvia'},\n {'label': 'Republic of Moldova', 'value': 'Republic of Moldova'},\n {'label': 'Montenegro', 'value': 'Montenegro'},\n {'label': 'North Macedonia', 'value': 'North Macedonia'},\n {'label': 'Poland', 'value': 'Poland'},\n {'label': 'Romania', 'value': 'Romania'},\n {'label': 'Serbia', 'value': 'Serbia'},\n {'label': 'Russian Federation', 'value': 'Russian Federation'},\n {'label': 'Slovenia', 'value': 'Slovenia'},\n {'label': 'Slovakia', 'value': 'Slovakia'},\n {'label': 'Turkey', 'value': 'Turkey'},\n {'label': 'Ukraine', 'value': 'Ukraine'},\n {'label': 'Tajikistan', 'value': 'Tajikistan'},\n {'label': 'Uzbekistan', 'value': 'Uzbekistan'},\n {'label': 'Turkmenistan', 'value': 'Turkmenistan'}]"
     },
     "metadata": {},
     "execution_count": 11
    }
   ],
   "source": [
    "county_options"
   ]
  },
  {
   "cell_type": "code",
   "execution_count": 12,
   "metadata": {},
   "outputs": [
    {
     "output_type": "execute_result",
     "data": {
      "text/plain": "{0: '2010',\n 1: '2011',\n 2: '2012',\n 3: '2013',\n 4: '2014',\n 5: '2015',\n 6: '2016',\n 7: '2017',\n 8: '2018',\n 9: '2019'}"
     },
     "metadata": {},
     "execution_count": 12
    }
   ],
   "source": [
    "years =[i for i in range(2010, 2020)]\n",
    "\n",
    "indicators = data['Indicator'].unique()\n",
    "\n",
    "{index: str(year) for index,year in enumerate(years)}"
   ]
  },
  {
   "cell_type": "code",
   "execution_count": 44,
   "metadata": {
    "tags": []
   },
   "outputs": [
    {
     "output_type": "execute_result",
     "data": {
      "text/plain": "                 Geographic area   OBS_VALUE  \\\nTIME_PERIOD                                    \n1999                  Kyrgyzstan   47.733180   \n2000                  Kyrgyzstan   46.349310   \n2001                  Kyrgyzstan   48.432090   \n2002                  Kyrgyzstan   49.257690   \n2012                  Uzbekistan   96.968067   \n...                          ...         ...   \n2018                  Kazakhstan  100.000000   \n2018         Republic of Moldova   97.356703   \n2018                     Ukraine   87.300540   \n2018                  Uzbekistan   94.675852   \n2019                  Kazakhstan  100.000000   \n\n                                                     Indicator  \nTIME_PERIOD                                                     \n1999         Proportion of teachers qualified according to ...  \n2000         Proportion of teachers qualified according to ...  \n2001         Proportion of teachers qualified according to ...  \n2002         Proportion of teachers qualified according to ...  \n2012         Proportion of teachers qualified according to ...  \n...                                                        ...  \n2018         Proportion of teachers who have received at le...  \n2018         Proportion of teachers who have received at le...  \n2018         Proportion of teachers who have received at le...  \n2018         Proportion of teachers who have received at le...  \n2019         Proportion of teachers who have received at le...  \n\n[197 rows x 3 columns]",
      "text/html": "<div>\n<style scoped>\n    .dataframe tbody tr th:only-of-type {\n        vertical-align: middle;\n    }\n\n    .dataframe tbody tr th {\n        vertical-align: top;\n    }\n\n    .dataframe thead th {\n        text-align: right;\n    }\n</style>\n<table border=\"1\" class=\"dataframe\">\n  <thead>\n    <tr style=\"text-align: right;\">\n      <th></th>\n      <th>Geographic area</th>\n      <th>OBS_VALUE</th>\n      <th>Indicator</th>\n    </tr>\n    <tr>\n      <th>TIME_PERIOD</th>\n      <th></th>\n      <th></th>\n      <th></th>\n    </tr>\n  </thead>\n  <tbody>\n    <tr>\n      <th>1999</th>\n      <td>Kyrgyzstan</td>\n      <td>47.733180</td>\n      <td>Proportion of teachers qualified according to ...</td>\n    </tr>\n    <tr>\n      <th>2000</th>\n      <td>Kyrgyzstan</td>\n      <td>46.349310</td>\n      <td>Proportion of teachers qualified according to ...</td>\n    </tr>\n    <tr>\n      <th>2001</th>\n      <td>Kyrgyzstan</td>\n      <td>48.432090</td>\n      <td>Proportion of teachers qualified according to ...</td>\n    </tr>\n    <tr>\n      <th>2002</th>\n      <td>Kyrgyzstan</td>\n      <td>49.257690</td>\n      <td>Proportion of teachers qualified according to ...</td>\n    </tr>\n    <tr>\n      <th>2012</th>\n      <td>Uzbekistan</td>\n      <td>96.968067</td>\n      <td>Proportion of teachers qualified according to ...</td>\n    </tr>\n    <tr>\n      <th>...</th>\n      <td>...</td>\n      <td>...</td>\n      <td>...</td>\n    </tr>\n    <tr>\n      <th>2018</th>\n      <td>Kazakhstan</td>\n      <td>100.000000</td>\n      <td>Proportion of teachers who have received at le...</td>\n    </tr>\n    <tr>\n      <th>2018</th>\n      <td>Republic of Moldova</td>\n      <td>97.356703</td>\n      <td>Proportion of teachers who have received at le...</td>\n    </tr>\n    <tr>\n      <th>2018</th>\n      <td>Ukraine</td>\n      <td>87.300540</td>\n      <td>Proportion of teachers who have received at le...</td>\n    </tr>\n    <tr>\n      <th>2018</th>\n      <td>Uzbekistan</td>\n      <td>94.675852</td>\n      <td>Proportion of teachers who have received at le...</td>\n    </tr>\n    <tr>\n      <th>2019</th>\n      <td>Kazakhstan</td>\n      <td>100.000000</td>\n      <td>Proportion of teachers who have received at le...</td>\n    </tr>\n  </tbody>\n</table>\n<p>197 rows × 3 columns</p>\n</div>"
     },
     "metadata": {},
     "execution_count": 44
    }
   ],
   "source": [
    "\n",
    "qutp = data[\n",
    "    data[\"CODE\"].isin([\n",
    "            \"EDU_SDG_QUTP_L02\",\n",
    "            \"EDU_SDG_QUTP_L1\",\n",
    "            \"EDU_SDG_QUTP_L2\",\n",
    "            \"EDU_SDG_QUTP_L3\",\n",
    "        ])\n",
    "    ].groupby([\"TIME_PERIOD\", \"Geographic area\"]\n",
    "    ).agg({\"OBS_VALUE\": \"mean\"}\n",
    "    ).reset_index()\n",
    "qutp['Indicator'] = 'Proportion of teachers qualified according to national standards'\n",
    "\n",
    "trtp = data[\n",
    "        data[\"CODE\"].isin([\n",
    "                \"EDU_SDG_TRTP_L02\",\n",
    "                \"EDU_SDG_TRTP_L1\",\n",
    "                \"EDU_SDG_TRTP_L2\",\n",
    "                \"EDU_SDG_TRTP_L3\",\n",
    "            ])\n",
    "    ].groupby([\"TIME_PERIOD\", \"Geographic area\"]\n",
    "    ).agg({\"OBS_VALUE\": \"mean\"}\n",
    "    ).reset_index()\n",
    "trtp['Indicator'] = 'Proportion of teachers who have received at least the minimum organized teacher training'\n",
    "\n",
    "df = qutp.append(trtp)\n",
    "df.sort_values('TIME_PERIOD')\n",
    "df.set_index('TIME_PERIOD')\n",
    "\n",
    "# from mapbox import Geocoder\n",
    "\n",
    "# mapbox_access_token = \"pk.eyJ1IjoiamNyYW53ZWxsd2FyZCIsImEiOiJja2NkMW02aXcwYTl5MnFwbjdtdDB0M3oyIn0.zkIzPc4NSjLZvrY-DWrlZg\"\n",
    "\n",
    "# geocoder = Geocoder(access_token=mapbox_access_token)\n",
    "# def geocode_address(address):\n",
    "#     \"\"\"Geocode street address into lat/long.\"\"\"\n",
    "#     response = geocoder.forward(address)\n",
    "#     coords = response.json()['features'][0]['center']\n",
    "#     # coords = coords.replace(']', '')\n",
    "#     # coords = coords.replace('[', '')\n",
    "#     coords\n",
    "\n",
    "# data.apply(lambda row: pd.Series(geocode_address(row['Geographic area'])), axis=1)\n"
   ]
  },
  {
   "cell_type": "code",
   "execution_count": null,
   "metadata": {},
   "outputs": [],
   "source": []
  }
 ],
 "metadata": {
  "kernelspec": {
   "display_name": "Python 3",
   "language": "python",
   "name": "python3"
  },
  "language_info": {
   "codemirror_mode": {
    "name": "ipython",
    "version": 3
   },
   "file_extension": ".py",
   "mimetype": "text/x-python",
   "name": "python",
   "nbconvert_exporter": "python",
   "pygments_lexer": "ipython3",
   "version": "3.9.1-final"
  }
 },
 "nbformat": 4,
 "nbformat_minor": 4
}