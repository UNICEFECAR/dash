{
 "cells": [
  {
   "cell_type": "code",
   "execution_count": 13,
   "metadata": {},
   "outputs": [],
   "source": [
    "# Import required libraries\n",
    "import pickle\n",
    "import copy\n",
    "import pathlib\n",
    "import dash\n",
    "import math\n",
    "import datetime as dt\n",
    "import pandas as pd\n",
    "from dash.dependencies import Input, Output, State, ClientsideFunction\n",
    "import dash_core_components as dcc\n",
    "import dash_html_components as html\n",
    "import plotly.graph_objects as go\n",
    "\n",
    "from jupyter_dash import JupyterDash"
   ]
  },
  {
   "cell_type": "code",
   "execution_count": 14,
   "metadata": {},
   "outputs": [],
   "source": [
    "sdmx_url = 'https://sdmx.data.unicef.org/ws/public/sdmxapi/rest/data/ECARO,TRANSMONEE,1.0/.{}....?format=csv'"
   ]
  },
  {
   "cell_type": "code",
   "execution_count": 15,
   "metadata": {},
   "outputs": [],
   "source": [
    "indicators_dict = {\n",
    "    'EDU_SDG_STU_L2_MATH': {\n",
    "        'name': 'Proportion of children at the end of lower secondary education reaching minimum proficiency in math', \n",
    "        'compare': ['EDU_SDG_STU_L2_READING', 'EDU_SDG_STU_L1_GLAST_MATH', 'EDU_SDG_STU_L1_G2OR3_MATH', 'EDUNF_NERA_L2',]\n",
    "    },\n",
    "    'EDU_SDG_STU_L2_READING': {\n",
    "        'name': 'Proportion of children at the end of lower secondary education reaching minimum proficiency in reading', \n",
    "        'compare': ['EDUNF_ROFST_L2', 'EDU_SDG_STU_L2_MATH', 'EDU_SDG_STU_L1_GLAST_READING', 'EDU_SDG_STU_L1_G2OR3_READING', 'EDUNF_NERA_L2']\n",
    "    },\n",
    "    'EDU_SDG_STU_L1_GLAST_MATH': {\n",
    "        'name': 'Proportion of children at the end of primary education reaching minimum proficiency in math',\n",
    "        'compare': ['EDU_SDG_STU_L1_GLAST_READING', 'EDUNF_NERA_L1_PT']\n",
    "    }\n",
    "}\n",
    "data = pd.DataFrame()\n",
    "inds = set()\n",
    "for key,value in indicators_dict.items():\n",
    "    inds.add(key)\n",
    "    inds.update(value['compare'])\n",
    "    \n",
    "\n",
    "for ind in inds:\n",
    "    sdmx = pd.read_csv(sdmx_url.format(ind))\n",
    "    sdmx['CODE'] = ind        \n",
    "    data = data.append(sdmx)"
   ]
  },
  {
   "cell_type": "code",
   "execution_count": 6,
   "metadata": {},
   "outputs": [],
   "source": [
    "# Create controls\n",
    "county_options = [\n",
    "    {\"label\": str(country), \"value\": str(country)} for country in data['Geographic area'].unique()\n",
    "]"
   ]
  },
  {
   "cell_type": "code",
   "execution_count": 16,
   "metadata": {},
   "outputs": [
    {
     "output_type": "execute_result",
     "data": {
      "text/plain": "[{'label': 'Azerbaijan', 'value': 'Azerbaijan'},\n {'label': 'Bulgaria', 'value': 'Bulgaria'},\n {'label': 'Croatia', 'value': 'Croatia'},\n {'label': 'Hungary', 'value': 'Hungary'},\n {'label': 'Kyrgyzstan', 'value': 'Kyrgyzstan'},\n {'label': 'Kazakhstan', 'value': 'Kazakhstan'},\n {'label': 'Lithuania', 'value': 'Lithuania'},\n {'label': 'Republic of Moldova', 'value': 'Republic of Moldova'},\n {'label': 'Russian Federation', 'value': 'Russian Federation'},\n {'label': 'Slovakia', 'value': 'Slovakia'},\n {'label': 'Turkey', 'value': 'Turkey'},\n {'label': 'Czechia', 'value': 'Czechia'},\n {'label': 'Georgia', 'value': 'Georgia'},\n {'label': 'Latvia', 'value': 'Latvia'},\n {'label': 'Poland', 'value': 'Poland'},\n {'label': 'Romania', 'value': 'Romania'},\n {'label': 'Slovenia', 'value': 'Slovenia'},\n {'label': 'Albania', 'value': 'Albania'},\n {'label': 'Bosnia and Herzegovina', 'value': 'Bosnia and Herzegovina'},\n {'label': 'Belarus', 'value': 'Belarus'},\n {'label': 'Estonia', 'value': 'Estonia'},\n {'label': 'Montenegro', 'value': 'Montenegro'},\n {'label': 'North Macedonia', 'value': 'North Macedonia'},\n {'label': 'Serbia', 'value': 'Serbia'},\n {'label': 'Ukraine', 'value': 'Ukraine'},\n {'label': 'Armenia', 'value': 'Armenia'},\n {'label': 'Tajikistan', 'value': 'Tajikistan'},\n {'label': 'Uzbekistan', 'value': 'Uzbekistan'}]"
     },
     "metadata": {},
     "execution_count": 16
    }
   ],
   "source": [
    "county_options"
   ]
  },
  {
   "cell_type": "code",
   "execution_count": 17,
   "metadata": {},
   "outputs": [
    {
     "output_type": "execute_result",
     "data": {
      "text/plain": "{0: '2010',\n 1: '2011',\n 2: '2012',\n 3: '2013',\n 4: '2014',\n 5: '2015',\n 6: '2016',\n 7: '2017',\n 8: '2018',\n 9: '2019'}"
     },
     "metadata": {},
     "execution_count": 17
    }
   ],
   "source": [
    "years =[i for i in range(2010, 2020)]\n",
    "\n",
    "indicators = data['Indicator'].unique()\n",
    "\n",
    "{index: str(year) for index,year in enumerate(years)}"
   ]
  },
  {
   "cell_type": "code",
   "execution_count": 22,
   "metadata": {
    "tags": []
   },
   "outputs": [
    {
     "output_type": "execute_result",
     "data": {
      "text/plain": "    Geographic area                                          Indicator    Sex  \\\n0           Albania  Proportion of children at the end of lower sec...  Total   \n1           Albania  Proportion of children at the end of lower sec...  Total   \n2           Albania  Proportion of children at the end of lower sec...  Total   \n3           Albania  Proportion of children at the end of lower sec...  Total   \n4           Albania  Proportion of children at the end of lower sec...  Total   \n..              ...                                                ...    ...   \n318          Turkey  Proportion of children at the end of lower sec...   Male   \n319          Turkey  Proportion of children at the end of lower sec...   Male   \n320          Turkey  Proportion of children at the end of lower sec...   Male   \n321          Turkey  Proportion of children at the end of lower sec...   Male   \n322         Ukraine  Proportion of children at the end of lower sec...   Male   \n\n       Age Residence Wealth Quintile  TIME_PERIOD  OBS_VALUE Unit of measure  \\\n0    Total     Total           Total         2000   29.64437               %   \n1    Total     Total           Total         2009   43.33176               %   \n2    Total     Total           Total         2012   47.66456               %   \n3    Total     Total           Total         2015   49.72273               %   \n4    Total     Total           Total         2018   47.76432               %   \n..     ...       ...             ...          ...        ...             ...   \n318  Total     Total           Total         2009   66.56000               %   \n319  Total     Total           Total         2012   69.10000               %   \n320  Total     Total           Total         2015   53.92574               %   \n321  Total     Total           Total         2018   68.42978               %   \n322  Total     Total           Total         2018   67.75424               %   \n\n     OBS_FOOTNOTE Frequency DATA_SOURCE Unit multiplier OBS_STATUS  \\\n0             NaN    Annual         UIS           Units          A   \n1             NaN    Annual         UIS           Units          A   \n2             NaN    Annual         UIS           Units          A   \n3             NaN    Annual         UIS           Units          A   \n4             NaN    Annual         UIS           Units          A   \n..            ...       ...         ...             ...        ...   \n318           NaN    Annual         UIS           Units          A   \n319           NaN    Annual         UIS           Units          A   \n320           NaN    Annual         UIS           Units          A   \n321           NaN    Annual         UIS           Units          A   \n322           NaN    Annual         UIS           Units          A   \n\n                       CODE  \n0    EDU_SDG_STU_L2_READING  \n1    EDU_SDG_STU_L2_READING  \n2    EDU_SDG_STU_L2_READING  \n3    EDU_SDG_STU_L2_READING  \n4    EDU_SDG_STU_L2_READING  \n..                      ...  \n318  EDU_SDG_STU_L2_READING  \n319  EDU_SDG_STU_L2_READING  \n320  EDU_SDG_STU_L2_READING  \n321  EDU_SDG_STU_L2_READING  \n322  EDU_SDG_STU_L2_READING  \n\n[323 rows x 15 columns]",
      "text/html": "<div>\n<style scoped>\n    .dataframe tbody tr th:only-of-type {\n        vertical-align: middle;\n    }\n\n    .dataframe tbody tr th {\n        vertical-align: top;\n    }\n\n    .dataframe thead th {\n        text-align: right;\n    }\n</style>\n<table border=\"1\" class=\"dataframe\">\n  <thead>\n    <tr style=\"text-align: right;\">\n      <th></th>\n      <th>Geographic area</th>\n      <th>Indicator</th>\n      <th>Sex</th>\n      <th>Age</th>\n      <th>Residence</th>\n      <th>Wealth Quintile</th>\n      <th>TIME_PERIOD</th>\n      <th>OBS_VALUE</th>\n      <th>Unit of measure</th>\n      <th>OBS_FOOTNOTE</th>\n      <th>Frequency</th>\n      <th>DATA_SOURCE</th>\n      <th>Unit multiplier</th>\n      <th>OBS_STATUS</th>\n      <th>CODE</th>\n    </tr>\n  </thead>\n  <tbody>\n    <tr>\n      <th>0</th>\n      <td>Albania</td>\n      <td>Proportion of children at the end of lower sec...</td>\n      <td>Total</td>\n      <td>Total</td>\n      <td>Total</td>\n      <td>Total</td>\n      <td>2000</td>\n      <td>29.64437</td>\n      <td>%</td>\n      <td>NaN</td>\n      <td>Annual</td>\n      <td>UIS</td>\n      <td>Units</td>\n      <td>A</td>\n      <td>EDU_SDG_STU_L2_READING</td>\n    </tr>\n    <tr>\n      <th>1</th>\n      <td>Albania</td>\n      <td>Proportion of children at the end of lower sec...</td>\n      <td>Total</td>\n      <td>Total</td>\n      <td>Total</td>\n      <td>Total</td>\n      <td>2009</td>\n      <td>43.33176</td>\n      <td>%</td>\n      <td>NaN</td>\n      <td>Annual</td>\n      <td>UIS</td>\n      <td>Units</td>\n      <td>A</td>\n      <td>EDU_SDG_STU_L2_READING</td>\n    </tr>\n    <tr>\n      <th>2</th>\n      <td>Albania</td>\n      <td>Proportion of children at the end of lower sec...</td>\n      <td>Total</td>\n      <td>Total</td>\n      <td>Total</td>\n      <td>Total</td>\n      <td>2012</td>\n      <td>47.66456</td>\n      <td>%</td>\n      <td>NaN</td>\n      <td>Annual</td>\n      <td>UIS</td>\n      <td>Units</td>\n      <td>A</td>\n      <td>EDU_SDG_STU_L2_READING</td>\n    </tr>\n    <tr>\n      <th>3</th>\n      <td>Albania</td>\n      <td>Proportion of children at the end of lower sec...</td>\n      <td>Total</td>\n      <td>Total</td>\n      <td>Total</td>\n      <td>Total</td>\n      <td>2015</td>\n      <td>49.72273</td>\n      <td>%</td>\n      <td>NaN</td>\n      <td>Annual</td>\n      <td>UIS</td>\n      <td>Units</td>\n      <td>A</td>\n      <td>EDU_SDG_STU_L2_READING</td>\n    </tr>\n    <tr>\n      <th>4</th>\n      <td>Albania</td>\n      <td>Proportion of children at the end of lower sec...</td>\n      <td>Total</td>\n      <td>Total</td>\n      <td>Total</td>\n      <td>Total</td>\n      <td>2018</td>\n      <td>47.76432</td>\n      <td>%</td>\n      <td>NaN</td>\n      <td>Annual</td>\n      <td>UIS</td>\n      <td>Units</td>\n      <td>A</td>\n      <td>EDU_SDG_STU_L2_READING</td>\n    </tr>\n    <tr>\n      <th>...</th>\n      <td>...</td>\n      <td>...</td>\n      <td>...</td>\n      <td>...</td>\n      <td>...</td>\n      <td>...</td>\n      <td>...</td>\n      <td>...</td>\n      <td>...</td>\n      <td>...</td>\n      <td>...</td>\n      <td>...</td>\n      <td>...</td>\n      <td>...</td>\n      <td>...</td>\n    </tr>\n    <tr>\n      <th>318</th>\n      <td>Turkey</td>\n      <td>Proportion of children at the end of lower sec...</td>\n      <td>Male</td>\n      <td>Total</td>\n      <td>Total</td>\n      <td>Total</td>\n      <td>2009</td>\n      <td>66.56000</td>\n      <td>%</td>\n      <td>NaN</td>\n      <td>Annual</td>\n      <td>UIS</td>\n      <td>Units</td>\n      <td>A</td>\n      <td>EDU_SDG_STU_L2_READING</td>\n    </tr>\n    <tr>\n      <th>319</th>\n      <td>Turkey</td>\n      <td>Proportion of children at the end of lower sec...</td>\n      <td>Male</td>\n      <td>Total</td>\n      <td>Total</td>\n      <td>Total</td>\n      <td>2012</td>\n      <td>69.10000</td>\n      <td>%</td>\n      <td>NaN</td>\n      <td>Annual</td>\n      <td>UIS</td>\n      <td>Units</td>\n      <td>A</td>\n      <td>EDU_SDG_STU_L2_READING</td>\n    </tr>\n    <tr>\n      <th>320</th>\n      <td>Turkey</td>\n      <td>Proportion of children at the end of lower sec...</td>\n      <td>Male</td>\n      <td>Total</td>\n      <td>Total</td>\n      <td>Total</td>\n      <td>2015</td>\n      <td>53.92574</td>\n      <td>%</td>\n      <td>NaN</td>\n      <td>Annual</td>\n      <td>UIS</td>\n      <td>Units</td>\n      <td>A</td>\n      <td>EDU_SDG_STU_L2_READING</td>\n    </tr>\n    <tr>\n      <th>321</th>\n      <td>Turkey</td>\n      <td>Proportion of children at the end of lower sec...</td>\n      <td>Male</td>\n      <td>Total</td>\n      <td>Total</td>\n      <td>Total</td>\n      <td>2018</td>\n      <td>68.42978</td>\n      <td>%</td>\n      <td>NaN</td>\n      <td>Annual</td>\n      <td>UIS</td>\n      <td>Units</td>\n      <td>A</td>\n      <td>EDU_SDG_STU_L2_READING</td>\n    </tr>\n    <tr>\n      <th>322</th>\n      <td>Ukraine</td>\n      <td>Proportion of children at the end of lower sec...</td>\n      <td>Male</td>\n      <td>Total</td>\n      <td>Total</td>\n      <td>Total</td>\n      <td>2018</td>\n      <td>67.75424</td>\n      <td>%</td>\n      <td>NaN</td>\n      <td>Annual</td>\n      <td>UIS</td>\n      <td>Units</td>\n      <td>A</td>\n      <td>EDU_SDG_STU_L2_READING</td>\n    </tr>\n  </tbody>\n</table>\n<p>323 rows × 15 columns</p>\n</div>"
     },
     "metadata": {},
     "execution_count": 22
    }
   ],
   "source": [
    "data[data['CODE'] == 'EDU_SDG_STU_L2_READING']\n",
    "\n",
    "# from mapbox import Geocoder\n",
    "\n",
    "# mapbox_access_token = \"pk.eyJ1IjoiamNyYW53ZWxsd2FyZCIsImEiOiJja2NkMW02aXcwYTl5MnFwbjdtdDB0M3oyIn0.zkIzPc4NSjLZvrY-DWrlZg\"\n",
    "\n",
    "# geocoder = Geocoder(access_token=mapbox_access_token)\n",
    "# def geocode_address(address):\n",
    "#     \"\"\"Geocode street address into lat/long.\"\"\"\n",
    "#     response = geocoder.forward(address)\n",
    "#     coords = response.json()['features'][0]['center']\n",
    "#     # coords = coords.replace(']', '')\n",
    "#     # coords = coords.replace('[', '')\n",
    "#     coords\n",
    "\n",
    "# data.apply(lambda row: pd.Series(geocode_address(row['Geographic area'])), axis=1)\n"
   ]
  },
  {
   "cell_type": "code",
   "execution_count": null,
   "metadata": {},
   "outputs": [],
   "source": []
  }
 ],
 "metadata": {
  "kernelspec": {
   "display_name": "Python 3",
   "language": "python",
   "name": "python3"
  },
  "language_info": {
   "codemirror_mode": {
    "name": "ipython",
    "version": 3
   },
   "file_extension": ".py",
   "mimetype": "text/x-python",
   "name": "python",
   "nbconvert_exporter": "python",
   "pygments_lexer": "ipython3",
   "version": "3.6.9"
  }
 },
 "nbformat": 4,
 "nbformat_minor": 4
}