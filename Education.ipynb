{
 "cells": [
  {
   "cell_type": "code",
   "execution_count": 1,
   "metadata": {},
   "outputs": [],
   "source": [
    "# Import required libraries\n",
    "import pickle\n",
    "import copy\n",
    "import pathlib\n",
    "import dash\n",
    "import math\n",
    "import datetime as dt\n",
    "import pandas as pd\n",
    "from dash.dependencies import Input, Output, State, ClientsideFunction\n",
    "import dash_core_components as dcc\n",
    "import dash_html_components as html\n",
    "import plotly.graph_objects as go\n",
    "\n",
    "from jupyter_dash import JupyterDash"
   ]
  },
  {
   "cell_type": "code",
   "execution_count": 2,
   "metadata": {},
   "outputs": [],
   "source": [
    "sdmx_url = 'https://sdmx.data.unicef.org/ws/public/sdmxapi/rest/data/ECARO,TRANSMONEE,1.0/.{}....?format=csv'"
   ]
  },
  {
   "cell_type": "code",
   "execution_count": 9,
   "metadata": {},
   "outputs": [],
   "source": [
    "codes = [\n",
    "    \"EDU_SDG_STU_L2_MATH\",\n",
    "    \"EDU_SDG_STU_L2_READING\",\n",
    "    \"EDU_SDG_STU_L1_GLAST_MATH\",\n",
    "    \"EDU_SDG_STU_L1_G2OR3_MATH\",\n",
    "    \"EDU_SDG_STU_L1_GLAST_READING\",\n",
    "    \"EDU_SDG_STU_L1_G2OR3_READING\",\n",
    "    \"EDUNF_NERA_L2\",\n",
    "    \"EDUNF_NERA_L1_PT\",\n",
    "    \"EDU_SDG_GER_L01\",\n",
    "    \"EDUNF_LR_L02\",\n",
    "    \"EDUNF_ROFST_L2\",\n",
    "    \"EDU_SDG_QUTP_L02\",\n",
    "    \"EDU_SDG_QUTP_L1\",\n",
    "    \"EDU_SDG_QUTP_L2\",\n",
    "    \"EDU_SDG_QUTP_L3\",\n",
    "    \"EDU_SDG_TRTP_L02\",\n",
    "    \"EDU_SDG_TRTP_L1\",\n",
    "    \"EDU_SDG_TRTP_L2\",\n",
    "    \"EDU_SDG_TRTP_L3\",\n",
    "]\n",
    "\n",
    "data = pd.DataFrame()\n",
    "inds = set()\n",
    "for ind in codes:\n",
    "    sdmx = pd.read_csv(sdmx_url.format(ind))\n",
    "    sdmx[\"CODE\"] = ind\n",
    "    data = data.append(sdmx)"
   ]
  },
  {
   "cell_type": "code",
   "execution_count": 10,
   "metadata": {},
   "outputs": [],
   "source": [
    "# Create controls\n",
    "county_options = [\n",
    "    {\"label\": str(country), \"value\": str(country)} for country in data['Geographic area'].unique()\n",
    "]"
   ]
  },
  {
   "cell_type": "code",
   "execution_count": 11,
   "metadata": {},
   "outputs": [
    {
     "output_type": "execute_result",
     "data": {
      "text/plain": "[{'label': 'Albania', 'value': 'Albania'},\n {'label': 'Armenia', 'value': 'Armenia'},\n {'label': 'Azerbaijan', 'value': 'Azerbaijan'},\n {'label': 'Bosnia and Herzegovina', 'value': 'Bosnia and Herzegovina'},\n {'label': 'Bulgaria', 'value': 'Bulgaria'},\n {'label': 'Belarus', 'value': 'Belarus'},\n {'label': 'Czechia', 'value': 'Czechia'},\n {'label': 'Estonia', 'value': 'Estonia'},\n {'label': 'Georgia', 'value': 'Georgia'},\n {'label': 'Croatia', 'value': 'Croatia'},\n {'label': 'Hungary', 'value': 'Hungary'},\n {'label': 'Kyrgyzstan', 'value': 'Kyrgyzstan'},\n {'label': 'Kazakhstan', 'value': 'Kazakhstan'},\n {'label': 'Lithuania', 'value': 'Lithuania'},\n {'label': 'Latvia', 'value': 'Latvia'},\n {'label': 'Republic of Moldova', 'value': 'Republic of Moldova'},\n {'label': 'Montenegro', 'value': 'Montenegro'},\n {'label': 'North Macedonia', 'value': 'North Macedonia'},\n {'label': 'Poland', 'value': 'Poland'},\n {'label': 'Romania', 'value': 'Romania'},\n {'label': 'Serbia', 'value': 'Serbia'},\n {'label': 'Russian Federation', 'value': 'Russian Federation'},\n {'label': 'Slovenia', 'value': 'Slovenia'},\n {'label': 'Slovakia', 'value': 'Slovakia'},\n {'label': 'Turkey', 'value': 'Turkey'},\n {'label': 'Ukraine', 'value': 'Ukraine'},\n {'label': 'Tajikistan', 'value': 'Tajikistan'},\n {'label': 'Uzbekistan', 'value': 'Uzbekistan'},\n {'label': 'Turkmenistan', 'value': 'Turkmenistan'}]"
     },
     "metadata": {},
     "execution_count": 11
    }
   ],
   "source": [
    "county_options"
   ]
  },
  {
   "cell_type": "code",
   "execution_count": 12,
   "metadata": {},
   "outputs": [
    {
     "output_type": "execute_result",
     "data": {
      "text/plain": "{0: '2010',\n 1: '2011',\n 2: '2012',\n 3: '2013',\n 4: '2014',\n 5: '2015',\n 6: '2016',\n 7: '2017',\n 8: '2018',\n 9: '2019'}"
     },
     "metadata": {},
     "execution_count": 12
    }
   ],
   "source": [
    "years =[i for i in range(2010, 2020)]\n",
    "\n",
    "indicators = data['Indicator'].unique()\n",
    "\n",
    "{index: str(year) for index,year in enumerate(years)}"
   ]
  },
  {
   "cell_type": "code",
   "execution_count": 37,
   "metadata": {
    "tags": []
   },
   "outputs": [
    {
     "output_type": "execute_result",
     "data": {
      "text/plain": "    Geographic area  TIME_PERIOD   OBS_VALUE  \\\n0           Albania         2013   80.115055   \n1           Albania         2014   83.318565   \n2           Albania         2015   85.794593   \n3           Albania         2016   88.401573   \n4           Albania         2017   90.533308   \n..              ...          ...         ...   \n145      Uzbekistan         2009  100.000000   \n146      Uzbekistan         2010  100.000000   \n147      Uzbekistan         2011  100.000000   \n148      Uzbekistan         2017   96.103695   \n149      Uzbekistan         2018   94.675852   \n\n                                             Indicator  \n0    Proportion of teachers qualified according to ...  \n1    Proportion of teachers qualified according to ...  \n2    Proportion of teachers qualified according to ...  \n3    Proportion of teachers qualified according to ...  \n4    Proportion of teachers qualified according to ...  \n..                                                 ...  \n145  Proportion of teachers who have received at le...  \n146  Proportion of teachers who have received at le...  \n147  Proportion of teachers who have received at le...  \n148  Proportion of teachers who have received at le...  \n149  Proportion of teachers who have received at le...  \n\n[197 rows x 4 columns]",
      "text/html": "<div>\n<style scoped>\n    .dataframe tbody tr th:only-of-type {\n        vertical-align: middle;\n    }\n\n    .dataframe tbody tr th {\n        vertical-align: top;\n    }\n\n    .dataframe thead th {\n        text-align: right;\n    }\n</style>\n<table border=\"1\" class=\"dataframe\">\n  <thead>\n    <tr style=\"text-align: right;\">\n      <th></th>\n      <th>Geographic area</th>\n      <th>TIME_PERIOD</th>\n      <th>OBS_VALUE</th>\n      <th>Indicator</th>\n    </tr>\n  </thead>\n  <tbody>\n    <tr>\n      <th>0</th>\n      <td>Albania</td>\n      <td>2013</td>\n      <td>80.115055</td>\n      <td>Proportion of teachers qualified according to ...</td>\n    </tr>\n    <tr>\n      <th>1</th>\n      <td>Albania</td>\n      <td>2014</td>\n      <td>83.318565</td>\n      <td>Proportion of teachers qualified according to ...</td>\n    </tr>\n    <tr>\n      <th>2</th>\n      <td>Albania</td>\n      <td>2015</td>\n      <td>85.794593</td>\n      <td>Proportion of teachers qualified according to ...</td>\n    </tr>\n    <tr>\n      <th>3</th>\n      <td>Albania</td>\n      <td>2016</td>\n      <td>88.401573</td>\n      <td>Proportion of teachers qualified according to ...</td>\n    </tr>\n    <tr>\n      <th>4</th>\n      <td>Albania</td>\n      <td>2017</td>\n      <td>90.533308</td>\n      <td>Proportion of teachers qualified according to ...</td>\n    </tr>\n    <tr>\n      <th>...</th>\n      <td>...</td>\n      <td>...</td>\n      <td>...</td>\n      <td>...</td>\n    </tr>\n    <tr>\n      <th>145</th>\n      <td>Uzbekistan</td>\n      <td>2009</td>\n      <td>100.000000</td>\n      <td>Proportion of teachers who have received at le...</td>\n    </tr>\n    <tr>\n      <th>146</th>\n      <td>Uzbekistan</td>\n      <td>2010</td>\n      <td>100.000000</td>\n      <td>Proportion of teachers who have received at le...</td>\n    </tr>\n    <tr>\n      <th>147</th>\n      <td>Uzbekistan</td>\n      <td>2011</td>\n      <td>100.000000</td>\n      <td>Proportion of teachers who have received at le...</td>\n    </tr>\n    <tr>\n      <th>148</th>\n      <td>Uzbekistan</td>\n      <td>2017</td>\n      <td>96.103695</td>\n      <td>Proportion of teachers who have received at le...</td>\n    </tr>\n    <tr>\n      <th>149</th>\n      <td>Uzbekistan</td>\n      <td>2018</td>\n      <td>94.675852</td>\n      <td>Proportion of teachers who have received at le...</td>\n    </tr>\n  </tbody>\n</table>\n<p>197 rows × 4 columns</p>\n</div>"
     },
     "metadata": {},
     "execution_count": 37
    }
   ],
   "source": [
    "qutp = data[\n",
    "    data[\"CODE\"].isin([\n",
    "            \"EDU_SDG_QUTP_L02\",\n",
    "            \"EDU_SDG_QUTP_L1\",\n",
    "            \"EDU_SDG_QUTP_L2\",\n",
    "            \"EDU_SDG_QUTP_L3\",\n",
    "        ])\n",
    "].groupby([\"Geographic area\", \"TIME_PERIOD\"], sorted=True\n",
    ").agg({\"OBS_VALUE\": \"mean\"}\n",
    ").reset_index()\n",
    "qutp['Indicator'] = 'Proportion of teachers qualified according to national standards'\n",
    "\n",
    "trtp = data[\n",
    "    data[\"CODE\"].isin([\n",
    "            \"EDU_SDG_TRTP_L02\",\n",
    "            \"EDU_SDG_TRTP_L1\",\n",
    "            \"EDU_SDG_TRTP_L2\",\n",
    "            \"EDU_SDG_TRTP_L3\",\n",
    "        ])\n",
    "].groupby([\"Geographic area\", \"TIME_PERIOD\"], sorted=True\n",
    ").agg({\"OBS_VALUE\": \"mean\"}\n",
    ").reset_index()\n",
    "trtp['Indicator'] = 'Proportion of teachers who have received at least the minimum organized teacher training'\n",
    "\n",
    "df = qutp.append(trtp)\n",
    "df\n",
    "# from mapbox import Geocoder\n",
    "\n",
    "# mapbox_access_token = \"pk.eyJ1IjoiamNyYW53ZWxsd2FyZCIsImEiOiJja2NkMW02aXcwYTl5MnFwbjdtdDB0M3oyIn0.zkIzPc4NSjLZvrY-DWrlZg\"\n",
    "\n",
    "# geocoder = Geocoder(access_token=mapbox_access_token)\n",
    "# def geocode_address(address):\n",
    "#     \"\"\"Geocode street address into lat/long.\"\"\"\n",
    "#     response = geocoder.forward(address)\n",
    "#     coords = response.json()['features'][0]['center']\n",
    "#     # coords = coords.replace(']', '')\n",
    "#     # coords = coords.replace('[', '')\n",
    "#     coords\n",
    "\n",
    "# data.apply(lambda row: pd.Series(geocode_address(row['Geographic area'])), axis=1)\n"
   ]
  },
  {
   "cell_type": "code",
   "execution_count": null,
   "metadata": {},
   "outputs": [],
   "source": []
  }
 ],
 "metadata": {
  "kernelspec": {
   "display_name": "Python 3",
   "language": "python",
   "name": "python3"
  },
  "language_info": {
   "codemirror_mode": {
    "name": "ipython",
    "version": 3
   },
   "file_extension": ".py",
   "mimetype": "text/x-python",
   "name": "python",
   "nbconvert_exporter": "python",
   "pygments_lexer": "ipython3",
   "version": "3.6.9"
  }
 },
 "nbformat": 4,
 "nbformat_minor": 4
}