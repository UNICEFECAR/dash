{
 "cells": [
  {
   "cell_type": "code",
   "execution_count": 1,
   "metadata": {},
   "outputs": [],
   "source": [
    "# Import required libraries\n",
    "import pickle\n",
    "import copy\n",
    "import pathlib\n",
    "import dash\n",
    "import math\n",
    "import datetime as dt\n",
    "import pandas as pd\n",
    "from dash.dependencies import Input, Output, State, ClientsideFunction\n",
    "import dash_core_components as dcc\n",
    "import dash_html_components as html\n",
    "import plotly.graph_objects as go\n",
    "\n",
    "from jupyter_dash import JupyterDash"
   ]
  },
  {
   "cell_type": "code",
   "execution_count": 17,
   "metadata": {},
   "outputs": [],
   "source": [
    "from mapbox import Geocoder\n",
    "mapbox_access_token = \"pk.eyJ1IjoiamNyYW53ZWxsd2FyZCIsImEiOiJja2NkMW02aXcwYTl5MnFwbjdtdDB0M3oyIn0.zkIzPc4NSjLZvrY-DWrlZg\"\n",
    "\n",
    "geocoder = Geocoder(access_token=mapbox_access_token)\n",
    "\n",
    "def geocode_address(address):\n",
    "    \"\"\"Geocode street address into lat/long.\"\"\"\n",
    "    response = geocoder.forward(address)\n",
    "    coords = response.json()[\"features\"][0][\"center\"]\n",
    "    longitude = coords[0]\n",
    "    latitude = coords[1]\n",
    "    return dict(longitude=longitude, latitude=latitude)"
   ]
  },
  {
   "cell_type": "code",
   "execution_count": 2,
   "metadata": {},
   "outputs": [],
   "source": [
    "sdmx_url = 'https://sdmx.data.unicef.org/ws/public/sdmxapi/rest/data/ECARO,TRANSMONEE,1.0/.{}....?format=csv'"
   ]
  },
  {
   "cell_type": "code",
   "execution_count": 3,
   "metadata": {},
   "outputs": [],
   "source": [
    "codes = [\n",
    "    \"EDU_SDG_STU_L2_MATH\",\n",
    "    \"EDU_SDG_STU_L2_READING\",\n",
    "    \"EDU_SDG_STU_L1_GLAST_MATH\",\n",
    "    \"EDU_SDG_STU_L1_G2OR3_MATH\",\n",
    "    \"EDU_SDG_STU_L1_GLAST_READING\",\n",
    "    \"EDU_SDG_STU_L1_G2OR3_READING\",\n",
    "    \"EDUNF_NERA_L2\",\n",
    "    \"EDUNF_NERA_L1_PT\",\n",
    "    \"EDU_SDG_GER_L01\",\n",
    "    \"EDUNF_LR_L02\",\n",
    "    \"EDUNF_ROFST_L2\",\n",
    "    \"EDU_SDG_QUTP_L02\",\n",
    "    \"EDU_SDG_QUTP_L1\",\n",
    "    \"EDU_SDG_QUTP_L2\",\n",
    "    \"EDU_SDG_QUTP_L3\",\n",
    "    \"EDU_SDG_TRTP_L02\",\n",
    "    \"EDU_SDG_TRTP_L1\",\n",
    "    \"EDU_SDG_TRTP_L2\",\n",
    "    \"EDU_SDG_TRTP_L3\",\n",
    "    \"EDUNF_ROFST_L1\", \n",
    "    \"EDUNF_ROFST_L2\", \n",
    "    \"EDUNF_ROFST_L3\", \n",
    "    \"EDUNF_OFST_L1\", \n",
    "    \"EDUNF_OFST_L2\", \n",
    "    \"EDUNF_OFST_L3\",\n",
    "    \"EDUNF_NERA_L1_GPIA\",\n",
    "    \"EDUNF_NIR_L1_ENTRYAGE\",\n",
    "    \"EDUNF_CR_L3\",\n",
    "    \"EDUNF_NER_L02\",\n",
    "    \"EDUNF_NERA_L1_GPIA\",\n",
    "    \"EDUNF_NERA_L1_PT\",\n",
    "    \"EDUNF_GER_L1\",\n",
    "    \"EDUNF_GER_L2\",\n",
    "    \"EDUNF_GER_L3_T\",\n",
    "    \"EDUNF_NIR_L1_ENTRYAGE\",\n",
    "    \"EDUNF_STU_L1_TOT\",\n",
    "    \"EDUNF_STU_L2_TOT\",\n",
    "    \"EDUNF_STU_L3_TOT\"\n",
    "]\n",
    "\n",
    "df = pd.DataFrame()\n",
    "inds = set(codes)\n",
    "for ind in inds:\n",
    "    sdmx = pd.read_csv(sdmx_url.format(ind))\n",
    "    sdmx[\"CODE\"] = ind\n",
    "    df = df.append(sdmx)"
   ]
  },
  {
   "cell_type": "code",
   "execution_count": 5,
   "metadata": {},
   "outputs": [],
   "source": [
    "countries = df[\"Geographic area\"].unique()"
   ]
  },
  {
   "cell_type": "code",
   "execution_count": 6,
   "metadata": {},
   "outputs": [
    {
     "output_type": "error",
     "ename": "NameError",
     "evalue": "name 'geocode_address' is not defined",
     "traceback": [
      "\u001b[0;31m---------------------------------------------------------------------------\u001b[0m",
      "\u001b[0;31mNameError\u001b[0m                                 Traceback (most recent call last)",
      "\u001b[0;32m<ipython-input-6-661f56cdac7b>\u001b[0m in \u001b[0;36m<module>\u001b[0;34m\u001b[0m\n\u001b[1;32m      1\u001b[0m df = df.merge(\n\u001b[1;32m      2\u001b[0m     right=pd.DataFrame(\n\u001b[0;32m----> 3\u001b[0;31m         \u001b[0;34m[\u001b[0m\u001b[0mdict\u001b[0m\u001b[0;34m(\u001b[0m\u001b[0mcountry\u001b[0m\u001b[0;34m=\u001b[0m\u001b[0mcountry\u001b[0m\u001b[0;34m,\u001b[0m \u001b[0;34m**\u001b[0m\u001b[0mgeocode_address\u001b[0m\u001b[0;34m(\u001b[0m\u001b[0mcountry\u001b[0m\u001b[0;34m)\u001b[0m\u001b[0;34m)\u001b[0m \u001b[0;32mfor\u001b[0m \u001b[0mcountry\u001b[0m \u001b[0;32min\u001b[0m \u001b[0mcountries\u001b[0m\u001b[0;34m]\u001b[0m\u001b[0;34m\u001b[0m\u001b[0;34m\u001b[0m\u001b[0m\n\u001b[0m\u001b[1;32m      4\u001b[0m     ),\n\u001b[1;32m      5\u001b[0m     \u001b[0mleft_on\u001b[0m\u001b[0;34m=\u001b[0m\u001b[0;34m'Geographic area'\u001b[0m\u001b[0;34m,\u001b[0m\u001b[0;34m\u001b[0m\u001b[0;34m\u001b[0m\u001b[0m\n",
      "\u001b[0;32m<ipython-input-6-661f56cdac7b>\u001b[0m in \u001b[0;36m<listcomp>\u001b[0;34m(.0)\u001b[0m\n\u001b[1;32m      1\u001b[0m df = df.merge(\n\u001b[1;32m      2\u001b[0m     right=pd.DataFrame(\n\u001b[0;32m----> 3\u001b[0;31m         \u001b[0;34m[\u001b[0m\u001b[0mdict\u001b[0m\u001b[0;34m(\u001b[0m\u001b[0mcountry\u001b[0m\u001b[0;34m=\u001b[0m\u001b[0mcountry\u001b[0m\u001b[0;34m,\u001b[0m \u001b[0;34m**\u001b[0m\u001b[0mgeocode_address\u001b[0m\u001b[0;34m(\u001b[0m\u001b[0mcountry\u001b[0m\u001b[0;34m)\u001b[0m\u001b[0;34m)\u001b[0m \u001b[0;32mfor\u001b[0m \u001b[0mcountry\u001b[0m \u001b[0;32min\u001b[0m \u001b[0mcountries\u001b[0m\u001b[0;34m]\u001b[0m\u001b[0;34m\u001b[0m\u001b[0;34m\u001b[0m\u001b[0m\n\u001b[0m\u001b[1;32m      4\u001b[0m     ),\n\u001b[1;32m      5\u001b[0m     \u001b[0mleft_on\u001b[0m\u001b[0;34m=\u001b[0m\u001b[0;34m'Geographic area'\u001b[0m\u001b[0;34m,\u001b[0m\u001b[0;34m\u001b[0m\u001b[0;34m\u001b[0m\u001b[0m\n",
      "\u001b[0;31mNameError\u001b[0m: name 'geocode_address' is not defined"
     ]
    }
   ],
   "source": [
    "df = df.merge(\n",
    "    right=pd.DataFrame(\n",
    "        [dict(country=country, **geocode_address(country)) for country in countries]\n",
    "    ),\n",
    "    left_on='Geographic area',\n",
    "    right_on='country'\n",
    ")"
   ]
  },
  {
   "cell_type": "code",
   "execution_count": 7,
   "metadata": {},
   "outputs": [
    {
     "output_type": "execute_result",
     "data": {
      "text/plain": [
       "              CODE                                          Indicator  \\\n",
       "0    EDUNF_NER_L02  Enrolment in pre-primary  (ISCED 02) education...   \n",
       "1    EDUNF_NER_L02  Enrolment in pre-primary  (ISCED 02) education...   \n",
       "2    EDUNF_NER_L02  Enrolment in pre-primary  (ISCED 02) education...   \n",
       "3    EDUNF_NER_L02  Enrolment in pre-primary  (ISCED 02) education...   \n",
       "4    EDUNF_NER_L02  Enrolment in pre-primary  (ISCED 02) education...   \n",
       "..             ...                                                ...   \n",
       "411  EDUNF_NER_L02  Enrolment in pre-primary  (ISCED 02) education...   \n",
       "412  EDUNF_NER_L02  Enrolment in pre-primary  (ISCED 02) education...   \n",
       "413  EDUNF_NER_L02  Enrolment in pre-primary  (ISCED 02) education...   \n",
       "414  EDUNF_NER_L02  Enrolment in pre-primary  (ISCED 02) education...   \n",
       "415  EDUNF_NER_L02  Enrolment in pre-primary  (ISCED 02) education...   \n",
       "\n",
       "    Geographic area  TIME_PERIOD  OBS_VALUE  \n",
       "0           Albania         1999   42.31086  \n",
       "1           Albania         2000   42.77841  \n",
       "2           Albania         2001   45.23442  \n",
       "3           Albania         2003   48.33761  \n",
       "4           Albania         2004   47.08262  \n",
       "..              ...          ...        ...  \n",
       "411      Uzbekistan         2014   19.34971  \n",
       "412      Uzbekistan         2015   20.40027  \n",
       "413      Uzbekistan         2016   20.39119  \n",
       "414      Uzbekistan         2017   22.91997  \n",
       "415      Uzbekistan         2018   24.69076  \n",
       "\n",
       "[416 rows x 5 columns]"
      ],
      "text/html": "<div>\n<style scoped>\n    .dataframe tbody tr th:only-of-type {\n        vertical-align: middle;\n    }\n\n    .dataframe tbody tr th {\n        vertical-align: top;\n    }\n\n    .dataframe thead th {\n        text-align: right;\n    }\n</style>\n<table border=\"1\" class=\"dataframe\">\n  <thead>\n    <tr style=\"text-align: right;\">\n      <th></th>\n      <th>CODE</th>\n      <th>Indicator</th>\n      <th>Geographic area</th>\n      <th>TIME_PERIOD</th>\n      <th>OBS_VALUE</th>\n    </tr>\n  </thead>\n  <tbody>\n    <tr>\n      <th>0</th>\n      <td>EDUNF_NER_L02</td>\n      <td>Enrolment in pre-primary  (ISCED 02) education...</td>\n      <td>Albania</td>\n      <td>1999</td>\n      <td>42.31086</td>\n    </tr>\n    <tr>\n      <th>1</th>\n      <td>EDUNF_NER_L02</td>\n      <td>Enrolment in pre-primary  (ISCED 02) education...</td>\n      <td>Albania</td>\n      <td>2000</td>\n      <td>42.77841</td>\n    </tr>\n    <tr>\n      <th>2</th>\n      <td>EDUNF_NER_L02</td>\n      <td>Enrolment in pre-primary  (ISCED 02) education...</td>\n      <td>Albania</td>\n      <td>2001</td>\n      <td>45.23442</td>\n    </tr>\n    <tr>\n      <th>3</th>\n      <td>EDUNF_NER_L02</td>\n      <td>Enrolment in pre-primary  (ISCED 02) education...</td>\n      <td>Albania</td>\n      <td>2003</td>\n      <td>48.33761</td>\n    </tr>\n    <tr>\n      <th>4</th>\n      <td>EDUNF_NER_L02</td>\n      <td>Enrolment in pre-primary  (ISCED 02) education...</td>\n      <td>Albania</td>\n      <td>2004</td>\n      <td>47.08262</td>\n    </tr>\n    <tr>\n      <th>...</th>\n      <td>...</td>\n      <td>...</td>\n      <td>...</td>\n      <td>...</td>\n      <td>...</td>\n    </tr>\n    <tr>\n      <th>411</th>\n      <td>EDUNF_NER_L02</td>\n      <td>Enrolment in pre-primary  (ISCED 02) education...</td>\n      <td>Uzbekistan</td>\n      <td>2014</td>\n      <td>19.34971</td>\n    </tr>\n    <tr>\n      <th>412</th>\n      <td>EDUNF_NER_L02</td>\n      <td>Enrolment in pre-primary  (ISCED 02) education...</td>\n      <td>Uzbekistan</td>\n      <td>2015</td>\n      <td>20.40027</td>\n    </tr>\n    <tr>\n      <th>413</th>\n      <td>EDUNF_NER_L02</td>\n      <td>Enrolment in pre-primary  (ISCED 02) education...</td>\n      <td>Uzbekistan</td>\n      <td>2016</td>\n      <td>20.39119</td>\n    </tr>\n    <tr>\n      <th>414</th>\n      <td>EDUNF_NER_L02</td>\n      <td>Enrolment in pre-primary  (ISCED 02) education...</td>\n      <td>Uzbekistan</td>\n      <td>2017</td>\n      <td>22.91997</td>\n    </tr>\n    <tr>\n      <th>415</th>\n      <td>EDUNF_NER_L02</td>\n      <td>Enrolment in pre-primary  (ISCED 02) education...</td>\n      <td>Uzbekistan</td>\n      <td>2018</td>\n      <td>24.69076</td>\n    </tr>\n  </tbody>\n</table>\n<p>416 rows × 5 columns</p>\n</div>"
     },
     "metadata": {},
     "execution_count": 7
    }
   ],
   "source": [
    "df[df[\"CODE\"].isin([\"EDUNF_NER_L02\"]\n",
    "            )].groupby([\"CODE\", \"Indicator\", \"Geographic area\", \"TIME_PERIOD\"]\n",
    "            ).agg({\"OBS_VALUE\": \"last\"}\n",
    "            ).reset_index()\n",
    "\n"
   ]
  },
  {
   "cell_type": "code",
   "execution_count": 28,
   "metadata": {},
   "outputs": [
    {
     "output_type": "execute_result",
     "data": {
      "text/plain": [
       "                CODE                                          Indicator  \\\n",
       "0      EDUNF_OFST_L1  Number of out of school children of primary sc...   \n",
       "1      EDUNF_OFST_L1  Number of out of school children of primary sc...   \n",
       "2      EDUNF_OFST_L1  Number of out of school children of primary sc...   \n",
       "3      EDUNF_OFST_L1  Number of out of school children of primary sc...   \n",
       "4      EDUNF_OFST_L1  Number of out of school children of primary sc...   \n",
       "...              ...                                                ...   \n",
       "2419  EDUNF_ROFST_L3  Out of school children rate: Upper secondary e...   \n",
       "2420  EDUNF_ROFST_L3  Out of school children rate: Upper secondary e...   \n",
       "2421  EDUNF_ROFST_L3  Out of school children rate: Upper secondary e...   \n",
       "2422  EDUNF_ROFST_L3  Out of school children rate: Upper secondary e...   \n",
       "2423  EDUNF_ROFST_L3  Out of school children rate: Upper secondary e...   \n",
       "\n",
       "     Geographic area  TIME_PERIOD    OBS_VALUE  \n",
       "0            Albania         1999  30461.00000  \n",
       "1            Albania         2000  29656.00000  \n",
       "2            Albania         2001  27237.00000  \n",
       "3            Albania         2003  21197.00000  \n",
       "4            Albania         2004  21996.00000  \n",
       "...              ...          ...          ...  \n",
       "2419      Uzbekistan         2013     13.82519  \n",
       "2420      Uzbekistan         2014     17.76465  \n",
       "2421      Uzbekistan         2015     15.83454  \n",
       "2422      Uzbekistan         2016     15.69751  \n",
       "2423      Uzbekistan         2017     15.54653  \n",
       "\n",
       "[2424 rows x 5 columns]"
      ],
      "text/html": "<div>\n<style scoped>\n    .dataframe tbody tr th:only-of-type {\n        vertical-align: middle;\n    }\n\n    .dataframe tbody tr th {\n        vertical-align: top;\n    }\n\n    .dataframe thead th {\n        text-align: right;\n    }\n</style>\n<table border=\"1\" class=\"dataframe\">\n  <thead>\n    <tr style=\"text-align: right;\">\n      <th></th>\n      <th>CODE</th>\n      <th>Indicator</th>\n      <th>Geographic area</th>\n      <th>TIME_PERIOD</th>\n      <th>OBS_VALUE</th>\n    </tr>\n  </thead>\n  <tbody>\n    <tr>\n      <th>0</th>\n      <td>EDUNF_OFST_L1</td>\n      <td>Number of out of school children of primary sc...</td>\n      <td>Albania</td>\n      <td>1999</td>\n      <td>30461.00000</td>\n    </tr>\n    <tr>\n      <th>1</th>\n      <td>EDUNF_OFST_L1</td>\n      <td>Number of out of school children of primary sc...</td>\n      <td>Albania</td>\n      <td>2000</td>\n      <td>29656.00000</td>\n    </tr>\n    <tr>\n      <th>2</th>\n      <td>EDUNF_OFST_L1</td>\n      <td>Number of out of school children of primary sc...</td>\n      <td>Albania</td>\n      <td>2001</td>\n      <td>27237.00000</td>\n    </tr>\n    <tr>\n      <th>3</th>\n      <td>EDUNF_OFST_L1</td>\n      <td>Number of out of school children of primary sc...</td>\n      <td>Albania</td>\n      <td>2003</td>\n      <td>21197.00000</td>\n    </tr>\n    <tr>\n      <th>4</th>\n      <td>EDUNF_OFST_L1</td>\n      <td>Number of out of school children of primary sc...</td>\n      <td>Albania</td>\n      <td>2004</td>\n      <td>21996.00000</td>\n    </tr>\n    <tr>\n      <th>...</th>\n      <td>...</td>\n      <td>...</td>\n      <td>...</td>\n      <td>...</td>\n      <td>...</td>\n    </tr>\n    <tr>\n      <th>2419</th>\n      <td>EDUNF_ROFST_L3</td>\n      <td>Out of school children rate: Upper secondary e...</td>\n      <td>Uzbekistan</td>\n      <td>2013</td>\n      <td>13.82519</td>\n    </tr>\n    <tr>\n      <th>2420</th>\n      <td>EDUNF_ROFST_L3</td>\n      <td>Out of school children rate: Upper secondary e...</td>\n      <td>Uzbekistan</td>\n      <td>2014</td>\n      <td>17.76465</td>\n    </tr>\n    <tr>\n      <th>2421</th>\n      <td>EDUNF_ROFST_L3</td>\n      <td>Out of school children rate: Upper secondary e...</td>\n      <td>Uzbekistan</td>\n      <td>2015</td>\n      <td>15.83454</td>\n    </tr>\n    <tr>\n      <th>2422</th>\n      <td>EDUNF_ROFST_L3</td>\n      <td>Out of school children rate: Upper secondary e...</td>\n      <td>Uzbekistan</td>\n      <td>2016</td>\n      <td>15.69751</td>\n    </tr>\n    <tr>\n      <th>2423</th>\n      <td>EDUNF_ROFST_L3</td>\n      <td>Out of school children rate: Upper secondary e...</td>\n      <td>Uzbekistan</td>\n      <td>2017</td>\n      <td>15.54653</td>\n    </tr>\n  </tbody>\n</table>\n<p>2424 rows × 5 columns</p>\n</div>"
     },
     "metadata": {},
     "execution_count": 28
    }
   ],
   "source": [
    "data"
   ]
  },
  {
   "cell_type": "code",
   "execution_count": 18,
   "metadata": {},
   "outputs": [],
   "source": [
    "countries = pd.DataFrame([dict(name=country, **geocode_address(country)) for country in df[\"Geographic area\"].unique()])"
   ]
  },
  {
   "cell_type": "code",
   "execution_count": 19,
   "metadata": {},
   "outputs": [
    {
     "output_type": "execute_result",
     "data": {
      "text/plain": [
       "                      name  longitude   latitude\n",
       "0                  Albania  20.156691  40.641090\n",
       "1                  Armenia  44.660395  40.605656\n",
       "2               Azerbaijan  47.720341  40.418260\n",
       "3                  Belarus  28.046788  53.539998\n",
       "4                  Georgia -83.257256  32.330571\n",
       "5                  Croatia  16.679107  45.664952\n",
       "6               Kyrgyzstan  74.555596  41.465054\n",
       "7               Kazakhstan  67.301774  48.160088\n",
       "8      Republic of Moldova  32.720174  39.823928\n",
       "9                   Serbia  20.795300  44.226737\n",
       "10              Tajikistan  71.042004  38.838508\n",
       "11              Uzbekistan  63.169372  41.750437\n",
       "12                Bulgaria  25.231507  42.761377\n",
       "13                 Czechia  11.539358  42.730665\n",
       "14                 Estonia  25.761527  58.778397\n",
       "15                 Hungary  19.499349  47.060267\n",
       "16               Lithuania  23.931538  55.487413\n",
       "17                  Latvia  24.862593  56.959065\n",
       "18              Montenegro  19.250734  42.790443\n",
       "19         North Macedonia  21.697476  41.599683\n",
       "20                  Poland  19.300636  52.124610\n",
       "21                 Romania  24.969258  45.843615\n",
       "22      Russian Federation   4.286814  52.086441\n",
       "23                Slovenia  14.694076  46.169458\n",
       "24                Slovakia  19.491651  48.707531\n",
       "25                  Turkey  35.179593  39.060481\n",
       "26                 Ukraine  31.320283  49.322794\n",
       "27  Bosnia and Herzegovina  17.786531  44.168115\n",
       "28            Turkmenistan  59.384377  39.122285"
      ],
      "text/html": "<div>\n<style scoped>\n    .dataframe tbody tr th:only-of-type {\n        vertical-align: middle;\n    }\n\n    .dataframe tbody tr th {\n        vertical-align: top;\n    }\n\n    .dataframe thead th {\n        text-align: right;\n    }\n</style>\n<table border=\"1\" class=\"dataframe\">\n  <thead>\n    <tr style=\"text-align: right;\">\n      <th></th>\n      <th>name</th>\n      <th>longitude</th>\n      <th>latitude</th>\n    </tr>\n  </thead>\n  <tbody>\n    <tr>\n      <th>0</th>\n      <td>Albania</td>\n      <td>20.156691</td>\n      <td>40.641090</td>\n    </tr>\n    <tr>\n      <th>1</th>\n      <td>Armenia</td>\n      <td>44.660395</td>\n      <td>40.605656</td>\n    </tr>\n    <tr>\n      <th>2</th>\n      <td>Azerbaijan</td>\n      <td>47.720341</td>\n      <td>40.418260</td>\n    </tr>\n    <tr>\n      <th>3</th>\n      <td>Belarus</td>\n      <td>28.046788</td>\n      <td>53.539998</td>\n    </tr>\n    <tr>\n      <th>4</th>\n      <td>Georgia</td>\n      <td>-83.257256</td>\n      <td>32.330571</td>\n    </tr>\n    <tr>\n      <th>5</th>\n      <td>Croatia</td>\n      <td>16.679107</td>\n      <td>45.664952</td>\n    </tr>\n    <tr>\n      <th>6</th>\n      <td>Kyrgyzstan</td>\n      <td>74.555596</td>\n      <td>41.465054</td>\n    </tr>\n    <tr>\n      <th>7</th>\n      <td>Kazakhstan</td>\n      <td>67.301774</td>\n      <td>48.160088</td>\n    </tr>\n    <tr>\n      <th>8</th>\n      <td>Republic of Moldova</td>\n      <td>32.720174</td>\n      <td>39.823928</td>\n    </tr>\n    <tr>\n      <th>9</th>\n      <td>Serbia</td>\n      <td>20.795300</td>\n      <td>44.226737</td>\n    </tr>\n    <tr>\n      <th>10</th>\n      <td>Tajikistan</td>\n      <td>71.042004</td>\n      <td>38.838508</td>\n    </tr>\n    <tr>\n      <th>11</th>\n      <td>Uzbekistan</td>\n      <td>63.169372</td>\n      <td>41.750437</td>\n    </tr>\n    <tr>\n      <th>12</th>\n      <td>Bulgaria</td>\n      <td>25.231507</td>\n      <td>42.761377</td>\n    </tr>\n    <tr>\n      <th>13</th>\n      <td>Czechia</td>\n      <td>11.539358</td>\n      <td>42.730665</td>\n    </tr>\n    <tr>\n      <th>14</th>\n      <td>Estonia</td>\n      <td>25.761527</td>\n      <td>58.778397</td>\n    </tr>\n    <tr>\n      <th>15</th>\n      <td>Hungary</td>\n      <td>19.499349</td>\n      <td>47.060267</td>\n    </tr>\n    <tr>\n      <th>16</th>\n      <td>Lithuania</td>\n      <td>23.931538</td>\n      <td>55.487413</td>\n    </tr>\n    <tr>\n      <th>17</th>\n      <td>Latvia</td>\n      <td>24.862593</td>\n      <td>56.959065</td>\n    </tr>\n    <tr>\n      <th>18</th>\n      <td>Montenegro</td>\n      <td>19.250734</td>\n      <td>42.790443</td>\n    </tr>\n    <tr>\n      <th>19</th>\n      <td>North Macedonia</td>\n      <td>21.697476</td>\n      <td>41.599683</td>\n    </tr>\n    <tr>\n      <th>20</th>\n      <td>Poland</td>\n      <td>19.300636</td>\n      <td>52.124610</td>\n    </tr>\n    <tr>\n      <th>21</th>\n      <td>Romania</td>\n      <td>24.969258</td>\n      <td>45.843615</td>\n    </tr>\n    <tr>\n      <th>22</th>\n      <td>Russian Federation</td>\n      <td>4.286814</td>\n      <td>52.086441</td>\n    </tr>\n    <tr>\n      <th>23</th>\n      <td>Slovenia</td>\n      <td>14.694076</td>\n      <td>46.169458</td>\n    </tr>\n    <tr>\n      <th>24</th>\n      <td>Slovakia</td>\n      <td>19.491651</td>\n      <td>48.707531</td>\n    </tr>\n    <tr>\n      <th>25</th>\n      <td>Turkey</td>\n      <td>35.179593</td>\n      <td>39.060481</td>\n    </tr>\n    <tr>\n      <th>26</th>\n      <td>Ukraine</td>\n      <td>31.320283</td>\n      <td>49.322794</td>\n    </tr>\n    <tr>\n      <th>27</th>\n      <td>Bosnia and Herzegovina</td>\n      <td>17.786531</td>\n      <td>44.168115</td>\n    </tr>\n    <tr>\n      <th>28</th>\n      <td>Turkmenistan</td>\n      <td>59.384377</td>\n      <td>39.122285</td>\n    </tr>\n  </tbody>\n</table>\n</div>"
     },
     "metadata": {},
     "execution_count": 19
    }
   ],
   "source": [
    "countries"
   ]
  },
  {
   "cell_type": "code",
   "execution_count": 23,
   "metadata": {},
   "outputs": [
    {
     "output_type": "execute_result",
     "data": {
      "text/plain": [
       "                CODE                                          Indicator  \\\n",
       "0      EDUNF_OFST_L1  Number of out of school children of primary sc...   \n",
       "1      EDUNF_OFST_L1  Number of out of school children of primary sc...   \n",
       "2      EDUNF_OFST_L1  Number of out of school children of primary sc...   \n",
       "3      EDUNF_OFST_L1  Number of out of school children of primary sc...   \n",
       "4      EDUNF_OFST_L1  Number of out of school children of primary sc...   \n",
       "...              ...                                                ...   \n",
       "2419  EDUNF_ROFST_L3  Out of school children rate: Upper secondary e...   \n",
       "2420  EDUNF_ROFST_L3  Out of school children rate: Upper secondary e...   \n",
       "2421  EDUNF_ROFST_L3  Out of school children rate: Upper secondary e...   \n",
       "2422  EDUNF_ROFST_L3  Out of school children rate: Upper secondary e...   \n",
       "2423  EDUNF_ROFST_L3  Out of school children rate: Upper secondary e...   \n",
       "\n",
       "     Geographic area  TIME_PERIOD     OBS_VALUE        name  longitude  \\\n",
       "0            Albania         1999  19659.000000     Albania  20.156691   \n",
       "1            Albania         2000  21103.000000     Albania  20.156691   \n",
       "2            Albania         2001  21787.500000     Albania  20.156691   \n",
       "3            Albania         2003  21092.000000     Albania  20.156691   \n",
       "4            Albania         2004  22114.500000     Albania  20.156691   \n",
       "...              ...          ...           ...         ...        ...   \n",
       "2419      Uzbekistan         2013     14.460020  Uzbekistan  63.169372   \n",
       "2420      Uzbekistan         2014     17.612487  Uzbekistan  63.169372   \n",
       "2421      Uzbekistan         2015     16.168617  Uzbekistan  63.169372   \n",
       "2422      Uzbekistan         2016     16.463327  Uzbekistan  63.169372   \n",
       "2423      Uzbekistan         2017     16.041150  Uzbekistan  63.169372   \n",
       "\n",
       "       latitude  \n",
       "0     40.641090  \n",
       "1     40.641090  \n",
       "2     40.641090  \n",
       "3     40.641090  \n",
       "4     40.641090  \n",
       "...         ...  \n",
       "2419  41.750437  \n",
       "2420  41.750437  \n",
       "2421  41.750437  \n",
       "2422  41.750437  \n",
       "2423  41.750437  \n",
       "\n",
       "[2424 rows x 8 columns]"
      ],
      "text/html": "<div>\n<style scoped>\n    .dataframe tbody tr th:only-of-type {\n        vertical-align: middle;\n    }\n\n    .dataframe tbody tr th {\n        vertical-align: top;\n    }\n\n    .dataframe thead th {\n        text-align: right;\n    }\n</style>\n<table border=\"1\" class=\"dataframe\">\n  <thead>\n    <tr style=\"text-align: right;\">\n      <th></th>\n      <th>CODE</th>\n      <th>Indicator</th>\n      <th>Geographic area</th>\n      <th>TIME_PERIOD</th>\n      <th>OBS_VALUE</th>\n      <th>name</th>\n      <th>longitude</th>\n      <th>latitude</th>\n    </tr>\n  </thead>\n  <tbody>\n    <tr>\n      <th>0</th>\n      <td>EDUNF_OFST_L1</td>\n      <td>Number of out of school children of primary sc...</td>\n      <td>Albania</td>\n      <td>1999</td>\n      <td>19659.000000</td>\n      <td>Albania</td>\n      <td>20.156691</td>\n      <td>40.641090</td>\n    </tr>\n    <tr>\n      <th>1</th>\n      <td>EDUNF_OFST_L1</td>\n      <td>Number of out of school children of primary sc...</td>\n      <td>Albania</td>\n      <td>2000</td>\n      <td>21103.000000</td>\n      <td>Albania</td>\n      <td>20.156691</td>\n      <td>40.641090</td>\n    </tr>\n    <tr>\n      <th>2</th>\n      <td>EDUNF_OFST_L1</td>\n      <td>Number of out of school children of primary sc...</td>\n      <td>Albania</td>\n      <td>2001</td>\n      <td>21787.500000</td>\n      <td>Albania</td>\n      <td>20.156691</td>\n      <td>40.641090</td>\n    </tr>\n    <tr>\n      <th>3</th>\n      <td>EDUNF_OFST_L1</td>\n      <td>Number of out of school children of primary sc...</td>\n      <td>Albania</td>\n      <td>2003</td>\n      <td>21092.000000</td>\n      <td>Albania</td>\n      <td>20.156691</td>\n      <td>40.641090</td>\n    </tr>\n    <tr>\n      <th>4</th>\n      <td>EDUNF_OFST_L1</td>\n      <td>Number of out of school children of primary sc...</td>\n      <td>Albania</td>\n      <td>2004</td>\n      <td>22114.500000</td>\n      <td>Albania</td>\n      <td>20.156691</td>\n      <td>40.641090</td>\n    </tr>\n    <tr>\n      <th>...</th>\n      <td>...</td>\n      <td>...</td>\n      <td>...</td>\n      <td>...</td>\n      <td>...</td>\n      <td>...</td>\n      <td>...</td>\n      <td>...</td>\n    </tr>\n    <tr>\n      <th>2419</th>\n      <td>EDUNF_ROFST_L3</td>\n      <td>Out of school children rate: Upper secondary e...</td>\n      <td>Uzbekistan</td>\n      <td>2013</td>\n      <td>14.460020</td>\n      <td>Uzbekistan</td>\n      <td>63.169372</td>\n      <td>41.750437</td>\n    </tr>\n    <tr>\n      <th>2420</th>\n      <td>EDUNF_ROFST_L3</td>\n      <td>Out of school children rate: Upper secondary e...</td>\n      <td>Uzbekistan</td>\n      <td>2014</td>\n      <td>17.612487</td>\n      <td>Uzbekistan</td>\n      <td>63.169372</td>\n      <td>41.750437</td>\n    </tr>\n    <tr>\n      <th>2421</th>\n      <td>EDUNF_ROFST_L3</td>\n      <td>Out of school children rate: Upper secondary e...</td>\n      <td>Uzbekistan</td>\n      <td>2015</td>\n      <td>16.168617</td>\n      <td>Uzbekistan</td>\n      <td>63.169372</td>\n      <td>41.750437</td>\n    </tr>\n    <tr>\n      <th>2422</th>\n      <td>EDUNF_ROFST_L3</td>\n      <td>Out of school children rate: Upper secondary e...</td>\n      <td>Uzbekistan</td>\n      <td>2016</td>\n      <td>16.463327</td>\n      <td>Uzbekistan</td>\n      <td>63.169372</td>\n      <td>41.750437</td>\n    </tr>\n    <tr>\n      <th>2423</th>\n      <td>EDUNF_ROFST_L3</td>\n      <td>Out of school children rate: Upper secondary e...</td>\n      <td>Uzbekistan</td>\n      <td>2017</td>\n      <td>16.041150</td>\n      <td>Uzbekistan</td>\n      <td>63.169372</td>\n      <td>41.750437</td>\n    </tr>\n  </tbody>\n</table>\n<p>2424 rows × 8 columns</p>\n</div>"
     },
     "metadata": {},
     "execution_count": 23
    }
   ],
   "source": [
    "data.merge(\n",
    "    right=countries,\n",
    "    left_on='Geographic area',\n",
    "    right_on='name'\n",
    ")"
   ]
  },
  {
   "cell_type": "code",
   "execution_count": 10,
   "metadata": {},
   "outputs": [],
   "source": [
    "# Create controls\n",
    "county_options = [\n",
    "    {\"label\": str(country), \"value\": str(country)} for country in data['Geographic area'].unique()\n",
    "]"
   ]
  },
  {
   "cell_type": "code",
   "execution_count": 11,
   "metadata": {},
   "outputs": [
    {
     "output_type": "execute_result",
     "data": {
      "text/plain": "[{'label': 'Albania', 'value': 'Albania'},\n {'label': 'Armenia', 'value': 'Armenia'},\n {'label': 'Azerbaijan', 'value': 'Azerbaijan'},\n {'label': 'Bosnia and Herzegovina', 'value': 'Bosnia and Herzegovina'},\n {'label': 'Bulgaria', 'value': 'Bulgaria'},\n {'label': 'Belarus', 'value': 'Belarus'},\n {'label': 'Czechia', 'value': 'Czechia'},\n {'label': 'Estonia', 'value': 'Estonia'},\n {'label': 'Georgia', 'value': 'Georgia'},\n {'label': 'Croatia', 'value': 'Croatia'},\n {'label': 'Hungary', 'value': 'Hungary'},\n {'label': 'Kyrgyzstan', 'value': 'Kyrgyzstan'},\n {'label': 'Kazakhstan', 'value': 'Kazakhstan'},\n {'label': 'Lithuania', 'value': 'Lithuania'},\n {'label': 'Latvia', 'value': 'Latvia'},\n {'label': 'Republic of Moldova', 'value': 'Republic of Moldova'},\n {'label': 'Montenegro', 'value': 'Montenegro'},\n {'label': 'North Macedonia', 'value': 'North Macedonia'},\n {'label': 'Poland', 'value': 'Poland'},\n {'label': 'Romania', 'value': 'Romania'},\n {'label': 'Serbia', 'value': 'Serbia'},\n {'label': 'Russian Federation', 'value': 'Russian Federation'},\n {'label': 'Slovenia', 'value': 'Slovenia'},\n {'label': 'Slovakia', 'value': 'Slovakia'},\n {'label': 'Turkey', 'value': 'Turkey'},\n {'label': 'Ukraine', 'value': 'Ukraine'},\n {'label': 'Tajikistan', 'value': 'Tajikistan'},\n {'label': 'Uzbekistan', 'value': 'Uzbekistan'},\n {'label': 'Turkmenistan', 'value': 'Turkmenistan'}]"
     },
     "metadata": {},
     "execution_count": 11
    }
   ],
   "source": [
    "county_options"
   ]
  },
  {
   "cell_type": "code",
   "execution_count": 12,
   "metadata": {},
   "outputs": [
    {
     "output_type": "execute_result",
     "data": {
      "text/plain": "{0: '2010',\n 1: '2011',\n 2: '2012',\n 3: '2013',\n 4: '2014',\n 5: '2015',\n 6: '2016',\n 7: '2017',\n 8: '2018',\n 9: '2019'}"
     },
     "metadata": {},
     "execution_count": 12
    }
   ],
   "source": [
    "years =[i for i in range(2010, 2020)]\n",
    "\n",
    "indicators = data['Indicator'].unique()\n",
    "\n",
    "{index: str(year) for index,year in enumerate(years)}"
   ]
  },
  {
   "cell_type": "code",
   "execution_count": 44,
   "metadata": {
    "tags": []
   },
   "outputs": [
    {
     "output_type": "execute_result",
     "data": {
      "text/plain": "                 Geographic area   OBS_VALUE  \\\nTIME_PERIOD                                    \n1999                  Kyrgyzstan   47.733180   \n2000                  Kyrgyzstan   46.349310   \n2001                  Kyrgyzstan   48.432090   \n2002                  Kyrgyzstan   49.257690   \n2012                  Uzbekistan   96.968067   \n...                          ...         ...   \n2018                  Kazakhstan  100.000000   \n2018         Republic of Moldova   97.356703   \n2018                     Ukraine   87.300540   \n2018                  Uzbekistan   94.675852   \n2019                  Kazakhstan  100.000000   \n\n                                                     Indicator  \nTIME_PERIOD                                                     \n1999         Proportion of teachers qualified according to ...  \n2000         Proportion of teachers qualified according to ...  \n2001         Proportion of teachers qualified according to ...  \n2002         Proportion of teachers qualified according to ...  \n2012         Proportion of teachers qualified according to ...  \n...                                                        ...  \n2018         Proportion of teachers who have received at le...  \n2018         Proportion of teachers who have received at le...  \n2018         Proportion of teachers who have received at le...  \n2018         Proportion of teachers who have received at le...  \n2019         Proportion of teachers who have received at le...  \n\n[197 rows x 3 columns]",
      "text/html": "<div>\n<style scoped>\n    .dataframe tbody tr th:only-of-type {\n        vertical-align: middle;\n    }\n\n    .dataframe tbody tr th {\n        vertical-align: top;\n    }\n\n    .dataframe thead th {\n        text-align: right;\n    }\n</style>\n<table border=\"1\" class=\"dataframe\">\n  <thead>\n    <tr style=\"text-align: right;\">\n      <th></th>\n      <th>Geographic area</th>\n      <th>OBS_VALUE</th>\n      <th>Indicator</th>\n    </tr>\n    <tr>\n      <th>TIME_PERIOD</th>\n      <th></th>\n      <th></th>\n      <th></th>\n    </tr>\n  </thead>\n  <tbody>\n    <tr>\n      <th>1999</th>\n      <td>Kyrgyzstan</td>\n      <td>47.733180</td>\n      <td>Proportion of teachers qualified according to ...</td>\n    </tr>\n    <tr>\n      <th>2000</th>\n      <td>Kyrgyzstan</td>\n      <td>46.349310</td>\n      <td>Proportion of teachers qualified according to ...</td>\n    </tr>\n    <tr>\n      <th>2001</th>\n      <td>Kyrgyzstan</td>\n      <td>48.432090</td>\n      <td>Proportion of teachers qualified according to ...</td>\n    </tr>\n    <tr>\n      <th>2002</th>\n      <td>Kyrgyzstan</td>\n      <td>49.257690</td>\n      <td>Proportion of teachers qualified according to ...</td>\n    </tr>\n    <tr>\n      <th>2012</th>\n      <td>Uzbekistan</td>\n      <td>96.968067</td>\n      <td>Proportion of teachers qualified according to ...</td>\n    </tr>\n    <tr>\n      <th>...</th>\n      <td>...</td>\n      <td>...</td>\n      <td>...</td>\n    </tr>\n    <tr>\n      <th>2018</th>\n      <td>Kazakhstan</td>\n      <td>100.000000</td>\n      <td>Proportion of teachers who have received at le...</td>\n    </tr>\n    <tr>\n      <th>2018</th>\n      <td>Republic of Moldova</td>\n      <td>97.356703</td>\n      <td>Proportion of teachers who have received at le...</td>\n    </tr>\n    <tr>\n      <th>2018</th>\n      <td>Ukraine</td>\n      <td>87.300540</td>\n      <td>Proportion of teachers who have received at le...</td>\n    </tr>\n    <tr>\n      <th>2018</th>\n      <td>Uzbekistan</td>\n      <td>94.675852</td>\n      <td>Proportion of teachers who have received at le...</td>\n    </tr>\n    <tr>\n      <th>2019</th>\n      <td>Kazakhstan</td>\n      <td>100.000000</td>\n      <td>Proportion of teachers who have received at le...</td>\n    </tr>\n  </tbody>\n</table>\n<p>197 rows × 3 columns</p>\n</div>"
     },
     "metadata": {},
     "execution_count": 44
    }
   ],
   "source": [
    "\n",
    "qutp = data[\n",
    "    data[\"CODE\"].isin([\n",
    "            \"EDU_SDG_QUTP_L02\",\n",
    "            \"EDU_SDG_QUTP_L1\",\n",
    "            \"EDU_SDG_QUTP_L2\",\n",
    "            \"EDU_SDG_QUTP_L3\",\n",
    "        ])\n",
    "    ].groupby([\"TIME_PERIOD\", \"Geographic area\"]\n",
    "    ).agg({\"OBS_VALUE\": \"mean\"}\n",
    "    ).reset_index()\n",
    "qutp['Indicator'] = 'Proportion of teachers qualified according to national standards'\n",
    "\n",
    "trtp = data[\n",
    "        data[\"CODE\"].isin([\n",
    "                \"EDU_SDG_TRTP_L02\",\n",
    "                \"EDU_SDG_TRTP_L1\",\n",
    "                \"EDU_SDG_TRTP_L2\",\n",
    "                \"EDU_SDG_TRTP_L3\",\n",
    "            ])\n",
    "    ].groupby([\"TIME_PERIOD\", \"Geographic area\"]\n",
    "    ).agg({\"OBS_VALUE\": \"mean\"}\n",
    "    ).reset_index()\n",
    "trtp['Indicator'] = 'Proportion of teachers who have received at least the minimum organized teacher training'\n",
    "\n",
    "df = qutp.append(trtp)\n",
    "df.sort_values('TIME_PERIOD')\n",
    "df.set_index('TIME_PERIOD')\n",
    "\n",
    "# from mapbox import Geocoder\n",
    "\n",
    "# mapbox_access_token = \"pk.eyJ1IjoiamNyYW53ZWxsd2FyZCIsImEiOiJja2NkMW02aXcwYTl5MnFwbjdtdDB0M3oyIn0.zkIzPc4NSjLZvrY-DWrlZg\"\n",
    "\n",
    "# geocoder = Geocoder(access_token=mapbox_access_token)\n",
    "# def geocode_address(address):\n",
    "#     \"\"\"Geocode street address into lat/long.\"\"\"\n",
    "#     response = geocoder.forward(address)\n",
    "#     coords = response.json()['features'][0]['center']\n",
    "#     # coords = coords.replace(']', '')\n",
    "#     # coords = coords.replace('[', '')\n",
    "#     coords\n",
    "\n",
    "# data.apply(lambda row: pd.Series(geocode_address(row['Geographic area'])), axis=1)\n"
   ]
  },
  {
   "cell_type": "code",
   "execution_count": null,
   "metadata": {},
   "outputs": [],
   "source": []
  }
 ],
 "metadata": {
  "kernelspec": {
   "display_name": "Python 3",
   "language": "python",
   "name": "python3"
  },
  "language_info": {
   "codemirror_mode": {
    "name": "ipython",
    "version": 3
   },
   "file_extension": ".py",
   "mimetype": "text/x-python",
   "name": "python",
   "nbconvert_exporter": "python",
   "pygments_lexer": "ipython3",
   "version": "3.8.3-final"
  }
 },
 "nbformat": 4,
 "nbformat_minor": 4
}